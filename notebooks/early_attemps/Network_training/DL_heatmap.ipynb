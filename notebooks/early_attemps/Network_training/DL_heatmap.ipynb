{
 "cells": [
  {
   "cell_type": "markdown",
   "metadata": {},
   "source": [
    "This code reads in the Deep Learning network created by running on nutau and nue samples from Dasha.\n",
    "It is supposed to then create heat maps but I haven't been able to finish that.\n",
    "\n",
    "This code runs in a python 3.7 conda environment constructed as follows:\n",
    "- conda create --name tf-gpu tensorflow-gpu keras scikit-learn matplotlib ipykernel nb_conda_kernels [Pillow]\n",
    "- conda activate tf-gpu\n",
    "(Pillow is for image manipulation for making heat maps, but I haven't got it to work yet.)"
   ]
  },
  {
   "cell_type": "code",
   "execution_count": 4,
   "metadata": {},
   "outputs": [],
   "source": [
    "from __future__ import division\n",
    "import matplotlib as mpl\n",
    "import matplotlib.pyplot as plt\n",
    "from matplotlib.colors import rgb_to_hsv\n",
    "import numpy as np\n",
    "import pickle\n",
    "import tensorflow as tf\n",
    "from tensorflow.keras.models import load_model\n",
    "from tensorflow.keras import backend as K"
   ]
  },
  {
   "cell_type": "code",
   "execution_count": 5,
   "metadata": {},
   "outputs": [
    {
     "name": "stdout",
     "output_type": "stream",
     "text": [
      "Model: \"model\"\n",
      "__________________________________________________________________________________________________\n",
      "Layer (type)                    Output Shape         Param #     Connected to                     \n",
      "==================================================================================================\n",
      "input_1 (InputLayer)            [(None, 500, 60, 1)] 0                                            \n",
      "__________________________________________________________________________________________________\n",
      "input_2 (InputLayer)            [(None, 500, 60, 1)] 0                                            \n",
      "__________________________________________________________________________________________________\n",
      "input_3 (InputLayer)            [(None, 500, 60, 1)] 0                                            \n",
      "__________________________________________________________________________________________________\n",
      "convolutional_layers (Sequentia (None, 7680)         14713536    input_1[0][0]                    \n",
      "                                                                 input_2[0][0]                    \n",
      "                                                                 input_3[0][0]                    \n",
      "__________________________________________________________________________________________________\n",
      "concatenate (Concatenate)       (None, 23040)        0           convolutional_layers[1][0]       \n",
      "                                                                 convolutional_layers[2][0]       \n",
      "                                                                 convolutional_layers[3][0]       \n",
      "__________________________________________________________________________________________________\n",
      "dense_layers (Sequential)       (None, 1)            2957953     concatenate[0][0]                \n",
      "==================================================================================================\n",
      "Total params: 17,671,489\n",
      "Trainable params: 17,671,105\n",
      "Non-trainable params: 384\n",
      "__________________________________________________________________________________________________\n",
      "Model: \"model\"\n",
      "__________________________________________________________________________________________________\n",
      "Layer (type)                    Output Shape         Param #     Connected to                     \n",
      "==================================================================================================\n",
      "input_1 (InputLayer)            [(None, 500, 60, 1)] 0                                            \n",
      "__________________________________________________________________________________________________\n",
      "input_2 (InputLayer)            [(None, 500, 60, 1)] 0                                            \n",
      "__________________________________________________________________________________________________\n",
      "input_3 (InputLayer)            [(None, 500, 60, 1)] 0                                            \n",
      "__________________________________________________________________________________________________\n",
      "convolutional_layers (Sequentia (None, 7680)         14713536    input_1[0][0]                    \n",
      "                                                                 input_2[0][0]                    \n",
      "                                                                 input_3[0][0]                    \n",
      "__________________________________________________________________________________________________\n",
      "concatenate (Concatenate)       (None, 23040)        0           convolutional_layers[1][0]       \n",
      "                                                                 convolutional_layers[2][0]       \n",
      "                                                                 convolutional_layers[3][0]       \n",
      "__________________________________________________________________________________________________\n",
      "dense_layers (Sequential)       (None, 1)            2957953     concatenate[0][0]                \n",
      "==================================================================================================\n",
      "Total params: 17,671,489\n",
      "Trainable params: 17,671,105\n",
      "Non-trainable params: 384\n",
      "__________________________________________________________________________________________________\n"
     ]
    }
   ],
   "source": [
    "#Load model\n",
    "model_1 = load_model('/home/dup193/work/double_pulse/AC922/vgg16_200k_Qst_2000_2/vgg16_200k_QSt2000_dataset_norm_2.h5')\n",
    "model_2 = load_model('/home/dup193/work/double_pulse/AC922/vgg16_700k_Qst_2000_MuvsTau_3/vgg16_700k_QSt2000_dataset_norm_MuVsTau_3.h5')\n",
    "#mo\n",
    "model_1.summary()\n",
    "model_2.summary()"
   ]
  },
  {
   "cell_type": "code",
   "execution_count": 16,
   "metadata": {},
   "outputs": [],
   "source": [
    "data_t = np.load('/home/dup193/work/double_pulse/data/images_3str/Images_NuTau_1_1_3_data.npz',mmap_mode='r')['arr_0']"
   ]
  },
  {
   "cell_type": "code",
   "execution_count": 20,
   "metadata": {},
   "outputs": [],
   "source": [
    "def check(data):\n",
    "    #data = np.load(file_name, mmap_mode=\"r\")['arr_0']\n",
    "    fig = plt.figure(figsize=(15, 5))\n",
    "    ax1 = fig.add_subplot(131)\n",
    "    ax1.imshow(data['image'][0,:,:,0], interpolation='nearest', aspect='auto', cmap= 'gray')\n",
    "    ax2 = fig.add_subplot(132)\n",
    "    ax2.imshow(data['image'][0,:,:,1], interpolation='nearest', aspect='auto', cmap= 'gray')\n",
    "    ax3 = fig.add_subplot(133)\n",
    "    ax3.imshow(data['image'][0,:,:,2], interpolation='nearest', aspect='auto', cmap= 'gray')"
   ]
  },
  {
   "cell_type": "code",
   "execution_count": 40,
   "metadata": {},
   "outputs": [
    {
     "data": {
      "image/png": "[encoded data removed]",
      "text/plain": [
       "<Figure size 1080x360 with 3 Axes>"
      ]
     },
     "metadata": {
      "needs_background": "light"
     },
     "output_type": "display_data"
    }
   ],
   "source": [
    "check(data_t[30])"
   ]
  },
  {
   "cell_type": "code",
   "execution_count": 68,
   "metadata": {},
   "outputs": [
    {
     "name": "stdout",
     "output_type": "stream",
     "text": [
      "(1, 500, 60, 1)\n",
      "[[0.9999522]]\n"
     ]
    }
   ],
   "source": [
    "tensors = []\n",
    "decision = []\n",
    "mean = 0.0012322452384978533 \n",
    "std = 0.009694634936749935\n",
    "#for i in range(30,31):\n",
    "im = data_t[30]['image']\n",
    "im = (im-mean)/std\n",
    "tensors.append(im)\n",
    "print(im[:,:,:,:1].shape)\n",
    "pred_n1 = model_1.predict([im[:,:,:,:1],im[:,:,:,1:2],im[:,:,:,2:3]],batch_size =1)\n",
    "print(pred_n1)"
   ]
  },
  {
   "cell_type": "code",
   "execution_count": 76,
   "metadata": {},
   "outputs": [
    {
     "name": "stdout",
     "output_type": "stream",
     "text": [
      "Model: \"convolutional_layers\"\n",
      "_________________________________________________________________\n",
      "Layer (type)                 Output Shape              Param #   \n",
      "=================================================================\n",
      "zero_padding2d (ZeroPadding2 (None, 502, 62, 1)        0         \n",
      "_________________________________________________________________\n",
      "conv2d (Conv2D)              (None, 500, 60, 64)       640       \n",
      "_________________________________________________________________\n",
      "zero_padding2d_1 (ZeroPaddin (None, 502, 62, 64)       0         \n",
      "_________________________________________________________________\n",
      "conv2d_1 (Conv2D)            (None, 500, 60, 64)       36928     \n",
      "_________________________________________________________________\n",
      "max_pooling2d (MaxPooling2D) (None, 250, 30, 64)       0         \n",
      "_________________________________________________________________\n",
      "zero_padding2d_2 (ZeroPaddin (None, 252, 32, 64)       0         \n",
      "_________________________________________________________________\n",
      "conv2d_2 (Conv2D)            (None, 250, 30, 128)      73856     \n",
      "_________________________________________________________________\n",
      "zero_padding2d_3 (ZeroPaddin (None, 252, 32, 128)      0         \n",
      "_________________________________________________________________\n",
      "conv2d_3 (Conv2D)            (None, 250, 30, 128)      147584    \n",
      "_________________________________________________________________\n",
      "max_pooling2d_1 (MaxPooling2 (None, 125, 15, 128)      0         \n",
      "_________________________________________________________________\n",
      "zero_padding2d_4 (ZeroPaddin (None, 127, 17, 128)      0         \n",
      "_________________________________________________________________\n",
      "conv2d_4 (Conv2D)            (None, 125, 15, 256)      295168    \n",
      "_________________________________________________________________\n",
      "zero_padding2d_5 (ZeroPaddin (None, 127, 17, 256)      0         \n",
      "_________________________________________________________________\n",
      "conv2d_5 (Conv2D)            (None, 125, 15, 256)      590080    \n",
      "_________________________________________________________________\n",
      "zero_padding2d_6 (ZeroPaddin (None, 127, 17, 256)      0         \n",
      "_________________________________________________________________\n",
      "conv2d_6 (Conv2D)            (None, 125, 15, 256)      590080    \n",
      "_________________________________________________________________\n",
      "max_pooling2d_2 (MaxPooling2 (None, 62, 7, 256)        0         \n",
      "_________________________________________________________________\n",
      "zero_padding2d_7 (ZeroPaddin (None, 64, 9, 256)        0         \n",
      "_________________________________________________________________\n",
      "conv2d_7 (Conv2D)            (None, 62, 7, 512)        1180160   \n",
      "_________________________________________________________________\n",
      "zero_padding2d_8 (ZeroPaddin (None, 64, 9, 512)        0         \n",
      "_________________________________________________________________\n",
      "conv2d_8 (Conv2D)            (None, 62, 7, 512)        2359808   \n",
      "_________________________________________________________________\n",
      "zero_padding2d_9 (ZeroPaddin (None, 64, 9, 512)        0         \n",
      "_________________________________________________________________\n",
      "conv2d_9 (Conv2D)            (None, 62, 7, 512)        2359808   \n",
      "_________________________________________________________________\n",
      "max_pooling2d_3 (MaxPooling2 (None, 31, 3, 512)        0         \n",
      "_________________________________________________________________\n",
      "zero_padding2d_10 (ZeroPaddi (None, 33, 5, 512)        0         \n",
      "_________________________________________________________________\n",
      "conv2d_10 (Conv2D)           (None, 31, 3, 512)        2359808   \n",
      "_________________________________________________________________\n",
      "zero_padding2d_11 (ZeroPaddi (None, 33, 5, 512)        0         \n",
      "_________________________________________________________________\n",
      "conv2d_11 (Conv2D)           (None, 31, 3, 512)        2359808   \n",
      "_________________________________________________________________\n",
      "zero_padding2d_12 (ZeroPaddi (None, 33, 5, 512)        0         \n",
      "_________________________________________________________________\n",
      "conv2d_12 (Conv2D)           (None, 31, 3, 512)        2359808   \n",
      "_________________________________________________________________\n",
      "max_pooling2d_4 (MaxPooling2 (None, 15, 1, 512)        0         \n",
      "_________________________________________________________________\n",
      "flatten (Flatten)            (None, 7680)              0         \n",
      "=================================================================\n",
      "Total params: 14,713,536\n",
      "Trainable params: 14,713,536\n",
      "Non-trainable params: 0\n",
      "_________________________________________________________________\n"
     ]
    }
   ],
   "source": [
    "model_1.layers[3].summary()"
   ]
  },
  {
   "cell_type": "code",
   "execution_count": 69,
   "metadata": {},
   "outputs": [],
   "source": [
    "def MakeHeatmap(tensor, model, layer):\n",
    "    \n",
    "    double_pulse_output = model.output[:, 0]\n",
    "    last_conv_layer = model.get_layer(layer)\n",
    "    grads = K.gradients(double_pulse_output, last_conv_layer.output)[0]\n",
    "    print(grads)\n",
    "    pooled_grads = K.mean(grads, axis=(0, 1, 2))\n",
    "    print(pooled_grads)\n",
    "    iterate = K.function([model.input], [pooled_grads, last_conv_layer.output[0]])\n",
    "\n",
    "    pooled_grads_value, conv_layer_output_value = iterate([tensor])\n",
    "\n",
    "    for i in range(128):\n",
    "        conv_layer_output_value[:, :, i] *= pooled_grads_value[i]\n",
    "\n",
    "    heatmap = np.mean(conv_layer_output_value, axis=-1)\n",
    "    scale = max(heatmap.min(), heatmap.max(), key=abs)\n",
    "    heatmap = heatmap / scale \n",
    "    #heatmap[heatmap<0] = 0\n",
    "    \n",
    "    return heatmap    "
   ]
  },
  {
   "cell_type": "code",
   "execution_count": 70,
   "metadata": {},
   "outputs": [],
   "source": [
    "def Overlay(tensor, heatmap):\n",
    "    img = tensor.reshape(tensor.shape[1],tensor.shape[2])\n",
    "    img_max = np.max(img)\n",
    "    #img[img<0] = 0\n",
    "    img = img / img_max /1.1+ 0.04\n",
    "    img = 1 - img\n",
    "    \n",
    "    htm = cv2.resize(heatmap, (img.shape[1], img.shape[0]),interpolation = cv2.INTER_NEAREST)\n",
    "    cm = plt.get_cmap('inferno')\n",
    "    htm = cm(htm)\n",
    "    htm[:,:,3] = img\n",
    "    #htm = htm[:,:,:3]\n",
    "    #print(htm[:10])\n",
    "  \n",
    "    #hsv = mpl.colors.rgb_to_hsv(htm)\n",
    "    #print(hsv[:10])\n",
    "    #for i, row in enumerate(img):\n",
    "    #    for j, val in enumerate(row):\n",
    "    #        htm[i][j][1] = val\n",
    "            \n",
    "    return(htm)"
   ]
  },
  {
   "cell_type": "code",
   "execution_count": 80,
   "metadata": {},
   "outputs": [
    {
     "ename": "ValueError",
     "evalue": "No such layer: max_pooling2d_4",
     "output_type": "error",
     "traceback": [
      "\u001b[0;31m---------------------------------------------------------------------------\u001b[0m",
      "\u001b[0;31mValueError\u001b[0m                                Traceback (most recent call last)",
      "\u001b[0;32m<ipython-input-80-1ee3ab0e7766>\u001b[0m in \u001b[0;36m<module>\u001b[0;34m\u001b[0m\n\u001b[1;32m      1\u001b[0m grad_model = tf.keras.models.Model(\n\u001b[0;32m----> 2\u001b[0;31m         \u001b[0;34m[\u001b[0m\u001b[0mmodel_1\u001b[0m\u001b[0;34m.\u001b[0m\u001b[0minputs\u001b[0m\u001b[0;34m]\u001b[0m\u001b[0;34m,\u001b[0m \u001b[0;34m[\u001b[0m\u001b[0mmodel_1\u001b[0m\u001b[0;34m.\u001b[0m\u001b[0mget_layer\u001b[0m\u001b[0;34m(\u001b[0m\u001b[0;34m'max_pooling2d_4'\u001b[0m\u001b[0;34m)\u001b[0m\u001b[0;34m.\u001b[0m\u001b[0moutput\u001b[0m\u001b[0;34m,\u001b[0m \u001b[0mmodel\u001b[0m\u001b[0;34m.\u001b[0m\u001b[0moutput\u001b[0m\u001b[0;34m]\u001b[0m\u001b[0;34m\u001b[0m\u001b[0;34m\u001b[0m\u001b[0m\n\u001b[0m\u001b[1;32m      3\u001b[0m     )\n",
      "\u001b[0;32m~/anaconda3/lib/python3.7/site-packages/tensorflow/python/keras/engine/network.py\u001b[0m in \u001b[0;36mget_layer\u001b[0;34m(self, name, index)\u001b[0m\n\u001b[1;32m    561\u001b[0m       \u001b[0;32mif\u001b[0m \u001b[0mlayer\u001b[0m\u001b[0;34m.\u001b[0m\u001b[0mname\u001b[0m \u001b[0;34m==\u001b[0m \u001b[0mname\u001b[0m\u001b[0;34m:\u001b[0m\u001b[0;34m\u001b[0m\u001b[0;34m\u001b[0m\u001b[0m\n\u001b[1;32m    562\u001b[0m         \u001b[0;32mreturn\u001b[0m \u001b[0mlayer\u001b[0m\u001b[0;34m\u001b[0m\u001b[0;34m\u001b[0m\u001b[0m\n\u001b[0;32m--> 563\u001b[0;31m     \u001b[0;32mraise\u001b[0m \u001b[0mValueError\u001b[0m\u001b[0;34m(\u001b[0m\u001b[0;34m'No such layer: '\u001b[0m \u001b[0;34m+\u001b[0m \u001b[0mname\u001b[0m\u001b[0;34m)\u001b[0m\u001b[0;34m\u001b[0m\u001b[0;34m\u001b[0m\u001b[0m\n\u001b[0m\u001b[1;32m    564\u001b[0m \u001b[0;34m\u001b[0m\u001b[0m\n\u001b[1;32m    565\u001b[0m   \u001b[0;34m@\u001b[0m\u001b[0mproperty\u001b[0m\u001b[0;34m\u001b[0m\u001b[0;34m\u001b[0m\u001b[0m\n",
      "\u001b[0;31mValueError\u001b[0m: No such layer: max_pooling2d_4"
     ]
    }
   ],
   "source": [
    "grad_model = tf.keras.models.Model(\n",
    "        [model_1.inputs], [model_1.get_layer('max_pooling2d_4'),get_layer('max_pooling2d_4').output, model.output]\n",
    "    )\n"
   ]
  },
  {
   "cell_type": "code",
   "execution_count": null,
   "metadata": {},
   "outputs": [],
   "source": []
  },
  {
   "cell_type": "code",
   "execution_count": null,
   "metadata": {},
   "outputs": [],
   "source": []
  },
  {
   "cell_type": "code",
   "execution_count": null,
   "metadata": {},
   "outputs": [],
   "source": []
  }
 ],
 "metadata": {
  "kernelspec": {
   "display_name": "Python 3",
   "language": "python",
   "name": "python3"
  },
  "language_info": {
   "codemirror_mode": {
    "name": "ipython",
    "version": 3
   },
   "file_extension": ".py",
   "mimetype": "text/x-python",
   "name": "python",
   "nbconvert_exporter": "python",
   "pygments_lexer": "ipython3",
   "version": "3.7.7"
  }
 },
 "nbformat": 4,
 "nbformat_minor": 4
}
