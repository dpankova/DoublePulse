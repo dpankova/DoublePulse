{
 "cells": [
  {
   "cell_type": "code",
   "execution_count": 2,
   "metadata": {},
   "outputs": [],
   "source": [
    "from __future__ import division\n",
    "import matplotlib as mpl\n",
    "import matplotlib.pyplot as plt\n",
    "import numpy as np\n",
    "import pandas as pd"
   ]
  },
  {
   "cell_type": "code",
   "execution_count": 3,
   "metadata": {},
   "outputs": [],
   "source": [
    "data = np.load('/fastio2/dasha/double_pulse/data.npy', mmap_mode='r')"
   ]
  },
  {
   "cell_type": "code",
   "execution_count": 4,
   "metadata": {},
   "outputs": [],
   "source": [
    "data = data.reshape(data.shape[0])"
   ]
  },
  {
   "cell_type": "code",
   "execution_count": 5,
   "metadata": {},
   "outputs": [
    {
     "name": "stdout",
     "output_type": "stream",
     "text": [
      "(1476948,) [122.15231893  17.11962807  52.27534127   8.88416121  41.80016799]\n"
     ]
    }
   ],
   "source": [
    "dist2d = []\n",
    "for e in data:\n",
    "    d = np.sqrt((e['cog'][0]-e['st_pos'][0])**2+(e['cog'][1]-e['st_pos'][1])**2)\n",
    "    dist2d.append(d)\n",
    "dist2d = np.array(dist2d)\n",
    "print(dist2d.shape, dist2d[:5])"
   ]
  },
  {
   "cell_type": "code",
   "execution_count": 6,
   "metadata": {},
   "outputs": [
    {
     "data": {
      "image/png": "[encoded data removed]",
      "text/plain": [
       "<Figure size 1440x720 with 1 Axes>"
      ]
     },
     "metadata": {
      "needs_background": "light"
     },
     "output_type": "display_data"
    }
   ],
   "source": [
    "fig = plt.figure(figsize=(20, 10))\n",
    "ax = fig.add_subplot(111)\n",
    "plt.ticklabel_format(axis='both', style='sci', scilimits=(-5,5))\n",
    "ax.set_xscale('linear')\n",
    "ax.set_yscale('log')\n",
    "ax.set_title(\"Distance\", fontsize = 14)\n",
    "ax.text(0.5,0.95,'#Events '+str(len(data)), transform=ax.transAxes, color = \"black\",fontsize=12)\n",
    "ax.set_xlabel('m', fontsize = 14)                                                              \n",
    "ax.set_ylabel(\"FractionEvents\", fontsize = 14)                                                   \n",
    "ax.hist(data['distance'], bins =100, histtype = 'step', edgecolor ='b', lw =2, range = [0,10**3], label = \"3d\")  \n",
    "ax.hist(dist2d, bins =100, histtype = 'step', edgecolor ='r', lw =2, range = [0,10**3], label = \"2d\")  \n",
    "plt.legend()\n",
    "plt.show()"
   ]
  },
  {
   "cell_type": "code",
   "execution_count": 7,
   "metadata": {},
   "outputs": [
    {
     "name": "stdout",
     "output_type": "stream",
     "text": [
      "(1476948, 3)\n"
     ]
    }
   ],
   "source": [
    "sbang = []\n",
    "for i in data:\n",
    "    spos = np.zeros(3)\n",
    "    pos = i['meson']['position']\n",
    "    di = i['meson']['direction']\n",
    "    leng = i['meson']['length']\n",
    "    spos[0] = pos[0]+np.sin(di[0])*np.cos(di[1])*leng\n",
    "    spos[1] = pos[1]+np.sin(di[0])*np.sin(di[1])*leng\n",
    "    spos[2] = pos[2]+np.cos(di[0])*leng\n",
    "    sbang.append(spos)\n",
    "sbang = np.array(sbang)\n",
    "print(sbang.shape)"
   ]
  },
  {
   "cell_type": "code",
   "execution_count": 10,
   "metadata": {},
   "outputs": [
    {
     "name": "stdout",
     "output_type": "stream",
     "text": [
      "(1010725,) (1010725, 3) (1010725,)\n"
     ]
    }
   ],
   "source": [
    "c_data = []\n",
    "c_sbang = []\n",
    "c_dist2d = []\n",
    "\n",
    "for i,e in enumerate(data):\n",
    "    if np.all(e['meson']['position'] < 500, axis =0) & np.all(e['meson']['position'] > - 500, axis =0) & np.all(sbang[i] < 500, axis =0) & np.all(sbang[i] > - 500, axis =0):\n",
    "        c_data.append(e)\n",
    "        c_sbang.append(sbang[i])\n",
    "        c_dist2d.append(dist2d[i])\n",
    "c_data = np.array(c_data)\n",
    "c_sbang = np.array(c_sbang)\n",
    "c_dist2d = np.array(c_dist2d)\n",
    "print(c_data.shape,c_sbang.shape,c_dist2d.shape)"
   ]
  },
  {
   "cell_type": "code",
   "execution_count": 11,
   "metadata": {},
   "outputs": [],
   "source": [
    "w = np.ones(data.shape[0])/data.shape[0]\n",
    "wc = np.ones(c_data.shape[0])/c_data.shape[0]"
   ]
  },
  {
   "cell_type": "code",
   "execution_count": null,
   "metadata": {},
   "outputs": [],
   "source": [
    "fig = plt.figure(figsize=(20, 10))\n",
    "ax = fig.add_subplot(111)\n",
    "plt.ticklabel_format(axis='both', style='sci', scilimits=(-5,5))\n",
    "ax.set_xscale('linear')\n",
    "ax.set_yscale('log')\n",
    "ax.set_title(\"Distance\", fontsize = 14)\n",
    "ax.text(0.5,0.95,'#Events '+str(len(data)), transform=ax.transAxes, color = \"black\",fontsize=12)\n",
    "ax.set_xlabel('m', fontsize = 14)                                                              \n",
    "ax.set_ylabel(\"FractionEvents\", fontsize = 14)                                                   \n",
    "ax.hist(data['distance'], bins =100, histtype = 'step', weights = w, edgecolor ='b', lw =2, range = [0,10**3], label = \"3d\")  \n",
    "ax.hist(dist2d, bins =100, histtype = 'step',  weights = w, edgecolor ='r', lw =2, range = [0,10**3], label = \"2d\")  \n",
    "ax.hist(c_data['distance'], bins =100, histtype = 'step',  weights = wc, edgecolor ='b', ls = '--', lw =2, range = [0,10**3], label = \"3d_cont\")  \n",
    "ax.hist(c_dist2d, bins =100, histtype = 'step',  weights = wc, edgecolor ='r', lw =2, ls = '--', range = [0,10**3], label = \"2d_cont\")  \n",
    "\n",
    "plt.legend()\n",
    "plt.show()"
   ]
  },
  {
   "cell_type": "code",
   "execution_count": 22,
   "metadata": {},
   "outputs": [
    {
     "name": "stdout",
     "output_type": "stream",
     "text": [
      "(1476948,) (1010725,)\n",
      "0.4430081492374816 0.20826634346632367\n"
     ]
    }
   ],
   "source": [
    "print(data.shape, c_data.shape)\n",
    "l = data.shape[0]\n",
    "cl = c_data.shape[0]\n",
    "ld = len([i for i in dist2d if i >200])\n",
    "cld = len([i for i in c_dist2d if i >200])\n",
    "print(ld/l*100, cld/cl*100)"
   ]
  },
  {
   "cell_type": "code",
   "execution_count": 20,
   "metadata": {},
   "outputs": [
    {
     "name": "stdout",
     "output_type": "stream",
     "text": [
      "(2105, 10)\n",
      "[[ 6.01100000e+03  4.29496730e+09  2.66000000e+02  0.00000000e+00\n",
      "  -2.44320145e+02  4.73335991e+01 -5.59647484e+01 -4.37040009e+02\n",
      "   2.17800003e+02  5.89257889e+01]\n",
      " [ 6.01200000e+03  4.29496730e+09  3.76000000e+02  0.00000000e+00\n",
      "  -7.86952667e+01  2.92218445e+02 -4.01053070e+02 -2.68899994e+02\n",
      "   3.54239990e+02 -4.09092499e+02]\n",
      " [ 6.01400000e+03  4.29496730e+09  2.76000000e+02  0.00000000e+00\n",
      "   4.71461182e+01 -2.75403778e+02  2.44015778e+02 -2.56140015e+02\n",
      "  -5.21080017e+02  2.83270721e+02]\n",
      " [ 6.03300000e+03  4.29496730e+09  6.02000000e+02  0.00000000e+00\n",
      "   1.74864578e+02 -1.02683350e+02  1.87883621e+02 -4.32700005e+01\n",
      "  -2.67519989e+02  2.43917892e+02]\n",
      " [ 6.03700000e+03  4.29496730e+09  2.67000000e+02  0.00000000e+00\n",
      "  -5.28063126e+01 -1.74739273e+02 -1.41280060e+02 -3.24390015e+02\n",
      "  -9.34300003e+01 -3.23670013e+02]\n",
      " [ 6.03700000e+03  4.29496730e+09  6.21000000e+02  0.00000000e+00\n",
      "  -8.56135941e+01  2.66044434e+02 -2.27909302e+02 -2.68899994e+02\n",
      "   3.54239990e+02 -1.03991516e+02]\n",
      " [ 6.04500000e+03  4.29496730e+09  4.71000000e+02  0.00000000e+00\n",
      "  -2.17927055e+01  1.19861259e+01 -1.79291290e+02 -4.32700005e+01\n",
      "  -2.67519989e+02  1.10268097e+02]\n",
      " [ 6.05500000e+03  4.29496730e+09  2.73000000e+02  0.00000000e+00\n",
      "  -7.87491608e+01 -2.11121124e+02 -2.20603836e+02 -2.11350006e+02\n",
      "  -4.04480011e+02 -3.46903687e+01]\n",
      " [ 6.05500000e+03  4.29496730e+09  3.47000000e+02  0.00000000e+00\n",
      "   3.14423462e+02 -6.11164970e+01  6.45861511e+01  4.72049988e+02\n",
      "   1.27900002e+02  2.65984009e+02]\n",
      " [ 6.05900000e+03  4.29496730e+09  4.95000000e+02  0.00000000e+00\n",
      "   1.36779190e+02 -3.26471832e+02 -2.79583466e+02  4.05829987e+02\n",
      "  -3.06380005e+02 -2.19736465e+02]]\n"
     ]
    }
   ],
   "source": [
    "lardis = []\n",
    "for i, row in enumerate(c_data):\n",
    "    if c_dist2d[i] > 200:\n",
    "        lardis.append([row['id'][0],row['id'][1],row['id'][2],row['id'][3],row['cog'][0],row['cog'][1],row['cog'][2],row['st_pos'][0],row['st_pos'][1],row['st_pos'][2]])\n",
    "lardis = np.array(lardis)\n",
    "print(lardis.shape)\n",
    "print(lardis[:10])"
   ]
  },
  {
   "cell_type": "code",
   "execution_count": 21,
   "metadata": {},
   "outputs": [],
   "source": [
    "np.save('/home/dup193/work/double_pulse/large_dist_3.npy', lardis)"
   ]
  },
  {
   "cell_type": "code",
   "execution_count": null,
   "metadata": {},
   "outputs": [],
   "source": []
  }
 ],
 "metadata": {
  "kernelspec": {
   "display_name": "Python 3",
   "language": "python",
   "name": "python3"
  },
  "language_info": {
   "codemirror_mode": {
    "name": "ipython",
    "version": 3
   },
   "file_extension": ".py",
   "mimetype": "text/x-python",
   "name": "python",
   "nbconvert_exporter": "python",
   "pygments_lexer": "ipython3",
   "version": "3.7.4"
  }
 },
 "nbformat": 4,
 "nbformat_minor": 4
}
