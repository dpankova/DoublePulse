{
 "cells": [
  {
   "cell_type": "code",
   "execution_count": 2,
   "metadata": {},
   "outputs": [],
   "source": [
    "from __future__ import division\n",
    "import sys\n",
    "import os\n",
    "import numpy as np\n",
    "from glob import glob\n",
    "from tqdm import tqdm\n",
    "from matplotlib import pyplot as plt\n",
    "import pandas as pd"
   ]
  },
  {
   "cell_type": "code",
   "execution_count": 3,
   "metadata": {},
   "outputs": [],
   "source": [
    "from concurrent.futures import ProcessPoolExecutor, wait"
   ]
  },
  {
   "cell_type": "code",
   "execution_count": 4,
   "metadata": {},
   "outputs": [],
   "source": [
    "from __future__ import division, print_function\n",
    "import numpy as np\n",
    "from scipy import optimize as sco\n",
    "import click"
   ]
  },
  {
   "cell_type": "code",
   "execution_count": 5,
   "metadata": {},
   "outputs": [],
   "source": [
    "data_t0 = np.load('/fastio2/dasha/double_pulse/data_11vars_NuTau_1_1_1.npy',mmap_mode='r')\n",
    "data_m0 = np.load('/fastio2/dasha/double_pulse/data_11vars_NuMu_1_1_1.npy',mmap_mode='r')\n",
    "data_e0 = np.load('/fastio2/dasha/double_pulse/data_11vars_NuE_1_1_1.npy',mmap_mode='r')\n",
    "data_c0 = np.load('/fastio2/dasha/double_pulse/data_Corsika_11057_11058_10670_trial.npy',mmap_mode='r')"
   ]
  },
  {
   "cell_type": "code",
   "execution_count": 51,
   "metadata": {},
   "outputs": [
    {
     "name": "stdout",
     "output_type": "stream",
     "text": [
      "(990,) (51,) (12,) (93,)\n"
     ]
    }
   ],
   "source": [
    "maskl_t = data_t0['logan_veto']['SPE_rlogl']-data_t0['logan_veto']['Cascade_rlogl'] >-0.1\n",
    "maskl_m = data_m0['logan_veto']['SPE_rlogl']-data_m0['logan_veto']['Cascade_rlogl'] >-0.1\n",
    "maskl_e = data_e0['logan_veto']['SPE_rlogl']-data_e0['logan_veto']['Cascade_rlogl'] >-0.1\n",
    "maskl_c = data_c0['logan_veto']['SPE_rlogl']-data_c0['logan_veto']['Cascade_rlogl'] >-0.1\n",
    "masks_t = (data_t0['preds']['n1'] >= 0.99) & (data_t0['preds']['n4'] >= 0.8)\n",
    "masks_m = (data_m0['preds']['n1'] >= 0.99) & (data_m0['preds']['n4'] >= 0.8)\n",
    "masks_e = (data_e0['preds']['n1'] >= 0.99) & (data_e0['preds']['n4'] >= 0.8)\n",
    "masks_c = (data_c0['preds']['n1'] >= 0.99) & (data_c0['preds']['n4'] >= 0.8)\n",
    "mask_t = maskl_t & masks_t\n",
    "mask_m = maskl_m & masks_m\n",
    "mask_e = maskl_e & masks_e\n",
    "mask_c = maskl_c & masks_c\n",
    "data_t = data_t0[mask_t]\n",
    "data_m = data_m0[mask_m]\n",
    "data_e = data_e0[mask_e]\n",
    "data_c = data_c0[mask_c]\n",
    "print(data_t.shape,data_m.shape,data_e.shape,data_c.shape)"
   ]
  },
  {
   "cell_type": "code",
   "execution_count": 45,
   "metadata": {},
   "outputs": [
    {
     "name": "stdout",
     "output_type": "stream",
     "text": [
      "990 156\n"
     ]
    },
    {
     "data": {
      "text/plain": [
       "<matplotlib.axes._subplots.AxesSubplot at 0x7f3844958dd0>"
      ]
     },
     "execution_count": 45,
     "metadata": {},
     "output_type": "execute_result"
    },
    {
     "data": {
      "image/png": "[encoded data removed]",
      "text/plain": [
       "<Figure size 432x288 with 1 Axes>"
      ]
     },
     "metadata": {
      "needs_background": "light"
     },
     "output_type": "display_data"
    },
    {
     "data": {
      "image/png": "[encoded data removed]",
      "text/plain": [
       "<Figure size 432x288 with 1 Axes>"
      ]
     },
     "metadata": {
      "needs_background": "light"
     },
     "output_type": "display_data"
    }
   ],
   "source": [
    "data_t_label = [0]*len(data_t)\n",
    "array_t = np.array([data_t_label,data_t['preds']['n4'],data_t['preds']['n1'],data_t['weight_val']]).T \n",
    "data_m_label = [1]*len(data_m)\n",
    "array_m = np.array([data_m_label,data_m['preds']['n4'],data_m['preds']['n1'],data_m['weight_val']]).T \n",
    "arrs =  array_m\n",
    "data_e_label = [2]*len(data_e)\n",
    "array_e = np.array([data_e_label,data_e['preds']['n4'],data_e['preds']['n1'],data_e['weight_val']]).T \n",
    "arrs =  np.append(arrs,array_e, axis = 0)\n",
    "data_c_label = [3]*len(data_c)\n",
    "array_c = np.array([data_c_label,data_c['preds']['n4'],data_c['preds']['n1'],data_c['weight_val']]).T \n",
    "arrs =  np.append(arrs,array_c, axis = 0)\n",
    "index_values_t = range(len(array_t))\n",
    "index_values_b = range(len(arrs))\n",
    "print(len(array_t),len(arrs))\n",
    "column_values = ['label', 'n4', 'n1','weight'] \n",
    "sig_df = pd.DataFrame(data = array_t,  index = index_values_t, columns = column_values) \n",
    "bkg_df = pd.DataFrame(data = arrs,  index = index_values_b, columns = column_values)\n",
    "sig_df.plot(kind='scatter', x='n1', y='n4', s=1, c='r')\n",
    "bkg_df.plot(kind='scatter', x='n1', y='n4', s=1, c='b')"
   ]
  },
  {
   "cell_type": "code",
   "execution_count": 8,
   "metadata": {},
   "outputs": [
    {
     "name": "stdout",
     "output_type": "stream",
     "text": [
      "label False\n",
      "n1 False\n",
      "n4 False\n",
      "weight False\n"
     ]
    }
   ],
   "source": [
    "for i in column_values:\n",
    "    print(i, np.any([isinstance(val, str) for val in sig_df[i]]))"
   ]
  },
  {
   "cell_type": "code",
   "execution_count": 9,
   "metadata": {},
   "outputs": [],
   "source": [
    "class BinnedPoissonLikelihood():\n",
    "    '''\n",
    "    Likelihood: Binned Poisson\n",
    "    Model: P_B(x) + lmd_S * P_S(x)\n",
    "    '''\n",
    "    def __init__(self, sig_hist, bkg_hist, random_state):\n",
    "        self.sig_hist = sig_hist\n",
    "        self.bkg_hist = bkg_hist\n",
    "        self.random_state = check_random_state(random_state)\n",
    "\n",
    "    def log_likelihood(self, lmd, data_hist):\n",
    "        expected_hist = (self.bkg_hist + lmd * self.sig_hist)\n",
    "        result = np.sum(data_hist * np.log(expected_hist) - expected_hist)\n",
    "        return -result\n",
    "\n",
    "    def test_statistic(self, lmd, data_hist):\n",
    "        expected_hist = (self.bkg_hist + lmd * self.sig_hist)\n",
    "        null_hist = self.bkg_hist\n",
    "        result = np.sum(data_hist * (np.log(expected_hist) -\n",
    "                        np.log(null_hist)) - expected_hist + null_hist)\n",
    "        return -result\n",
    "    \n",
    "    def test_statistic_best(self, lmd, true_lmd, data_hist):\n",
    "        expected_hist = (self.bkg_hist + lmd * self.sig_hist)\n",
    "        null_hist = (self.bkg_hist + true_lmd * self.sig_hist)\n",
    "        result = np.sum(data_hist * (np.log(expected_hist) -\n",
    "                        np.log(null_hist)) - expected_hist + null_hist)\n",
    "        return -result\n",
    "    \n",
    "    def fit_lmd(self, data_hist):\n",
    "        pars = [0.5]\n",
    "        par_bounds = [(0, 100)]\n",
    "\n",
    "        xmin, fmin, min_dict = sco.fmin_l_bfgs_b(\n",
    "            func=self.test_statistic,\n",
    "            x0=pars,\n",
    "            bounds=par_bounds,\n",
    "            args=(data_hist,),\n",
    "            approx_grad=True\n",
    "        )\n",
    "\n",
    "        # set up mindict to enter while, exit if fit looks nice\n",
    "        i = 1\n",
    "        while min_dict[\"warnflag\"] == 2 or \"FACTR\" in min_dict[\"task\"]:\n",
    "            if i > 100:\n",
    "                print(\"Did not manage good fit\")\n",
    "                print('results are {}, {}'.format(fmin, xmin))\n",
    "                return fmin, xmin\n",
    "\n",
    "            pars[0] = self.random_state.uniform(0., 1.)\n",
    "\n",
    "            # no stop due to gradient\n",
    "            xmin, fmin, min_dict = sco.fmin_l_bfgs_b(\n",
    "                func=self.test_statistic,\n",
    "                x0=pars,\n",
    "                bounds=par_bounds,\n",
    "                args=(data_hist,),\n",
    "                approx_grad=True\n",
    "            )\n",
    "            i += 1\n",
    "\n",
    "        return fmin, xmin\n",
    "    \n",
    "    def fit_lmd_best(self, true_lmd, data_hist):\n",
    "        pars = [0.5]\n",
    "        par_bounds = [(0, 100)]\n",
    "\n",
    "        xmin, fmin, min_dict = sco.fmin_l_bfgs_b(\n",
    "            func=self.test_statistic_best,\n",
    "            x0=pars,\n",
    "            bounds=par_bounds,\n",
    "            args=(true_lmd, data_hist,),\n",
    "            approx_grad=True\n",
    "        )\n",
    "\n",
    "        # set up mindict to enter while, exit if fit looks nice\n",
    "        i = 1\n",
    "        while min_dict[\"warnflag\"] == 2 or \"FACTR\" in min_dict[\"task\"]:\n",
    "            if i > 100:\n",
    "                print(\"Did not manage good fit\")\n",
    "                print('results are {}, {}'.format(fmin, xmin))\n",
    "                return fmin, xmin\n",
    "\n",
    "            pars[0] = self.random_state.uniform(0., 1.)\n",
    "\n",
    "            # no stop due to gradient\n",
    "            xmin, fmin, min_dict = sco.fmin_l_bfgs_b(\n",
    "                func=self.test_statistic_best,\n",
    "                x0=pars,\n",
    "                bounds=par_bounds,\n",
    "                args=(true_lmd, data_hist,),\n",
    "                approx_grad=True\n",
    "            )\n",
    "            i += 1\n",
    "\n",
    "        return fmin, xmin"
   ]
  },
  {
   "cell_type": "code",
   "execution_count": 89,
   "metadata": {},
   "outputs": [],
   "source": [
    "def get_default_binning():\n",
    "    bins_x = np.linspace(0.99, 1.0, 11)\n",
    "    bins_y = np.linspace(0.8, 1.0, 11)\n",
    "    #bins_y = np.array([0.2, 0.8, 1.])\n",
    "    return bins_x, bins_y\n",
    "def build_histograms(sig_df, bkg_df, bins_x, bins_y,\n",
    "                    # livetime=(3600 * 24 * 365 * 7),\n",
    "                     density=False,\n",
    "                     weight_col='weight'):\n",
    "    \n",
    "    sig, xe, ye = np.histogram2d(\n",
    "        sig_df['n1'],\n",
    "        sig_df['n4'],\n",
    "        bins=[bins_x, bins_y],\n",
    "        weights=sig_df[weight_col],\n",
    "        density=density)\n",
    "   \n",
    "    bkg, xe, ye = np.histogram2d(\n",
    "        bkg_df['n1'],\n",
    "        bkg_df['n4'],\n",
    "        bins=[bins_x, bins_y],\n",
    "        weights=bkg_df[weight_col],\n",
    "        density=density)\n",
    "    return sig, bkg, xe, ye\n",
    "\n",
    "def plot_histogram(H,xedges,yedges):\n",
    "    fig = plt.figure(figsize=(20, 5))\n",
    "    ax = fig.add_subplot()\n",
    "    X, Y = np.meshgrid(xedges, yedges)\n",
    "    ax.pcolormesh(X, Y, H)"
   ]
  },
  {
   "cell_type": "code",
   "execution_count": 11,
   "metadata": {},
   "outputs": [],
   "source": [
    "#stats.py\n",
    "\n",
    "def check_random_state(random_state):\n",
    "    if isinstance(random_state, np.random.RandomState):\n",
    "        return random_state\n",
    "    else:\n",
    "        if not isinstance(random_state, int):\n",
    "            raise ValueError('random_state has to be either an int or of ' +\n",
    "                             'type np.random.RandomState!')\n",
    "        else:\n",
    "            random_state = np.random.RandomState(random_state)\n",
    "            return random_state\n",
    "def sample_from_hist(hist, n_samples, random_state):\n",
    "    '''Sample `n_samples` from a histogram and return them binned as a\n",
    "    histogram in the same binning.\n",
    "    Parameters\n",
    "    ----------\n",
    "    hist : ndarray\n",
    "        Histogram to resample\n",
    "    n_samples: int\n",
    "        Number of samples to draw from the histogram\n",
    "    Returns\n",
    "    -------\n",
    "    sampled_hist : ndarray\n",
    "        Returns a histogram with the same shape of `hist` with `n_samples`\n",
    "        entries.\n",
    "    '''\n",
    "    random_state = check_random_state(random_state)\n",
    "\n",
    "    cdf = np.cumsum(hist)\n",
    "    cdf = cdf / cdf[-1]\n",
    "\n",
    "    values = random_state.rand(n_samples)\n",
    "    value_bins = np.searchsorted(cdf, values)\n",
    "\n",
    "    sampled_hist = np.bincount(value_bins,\n",
    "                               minlength=np.prod(hist.shape))\n",
    "    sampled_hist = sampled_hist.reshape(hist.shape)\n",
    "    return sampled_hist"
   ]
  },
  {
   "cell_type": "code",
   "execution_count": 12,
   "metadata": {},
   "outputs": [],
   "source": [
    "class SignalInjector(object):\n",
    "    def __init__(self,\n",
    "                 sig_dist, bkg_dist,\n",
    "                 random_state,\n",
    "                 sig_exp=None, bkg_exp=None):\n",
    "        if sig_exp is not None:\n",
    "            self.sig_exp = sig_exp\n",
    "        else:\n",
    "            self.sig_exp = np.sum(sig_dist)\n",
    "        if bkg_exp is not None:\n",
    "            self.bkg_exp = bkg_exp\n",
    "        else:\n",
    "            self.bkg_exp = np.sum(bkg_dist)\n",
    "\n",
    "        self.sig_dist = sig_dist\n",
    "        self.bkg_dist = bkg_dist\n",
    "        self.random_state = check_random_state(random_state)\n",
    "\n",
    "    def calc_n_events_per_trial(self, n_trials):\n",
    "        n_sig_per_trial = self.random_state.poisson(lam=self.sig_exp, size=n_trials)\n",
    "        n_bkg_per_trial = self.random_state.poisson(lam=self.bkg_exp, size=n_trials)\n",
    "        return n_sig_per_trial, n_bkg_per_trial\n",
    "\n",
    "    def create_samples(self):\n",
    "        dists = [self.sig_dist, self.bkg_dist]\n",
    "        n_samples = [self.n_sig_per_trial,\n",
    "                     self.n_bkg_per_trial]\n",
    "        samples_sig, samples_bkg = [], []\n",
    "        for i, dist in enumerate(dists):\n",
    "            for j in range(len(n_samples[i])):\n",
    "                sample = sample_from_hist(dist, n_samples[i][j], self.random_state)\n",
    "                if i == 0:\n",
    "                    samples_sig.append(sample)\n",
    "                elif i == 1:\n",
    "                    samples_bkg.append(sample)\n",
    "        self.sig_samples = samples_sig\n",
    "        self.bkg_samples = samples_bkg\n",
    "        return samples_sig, samples_bkg\n",
    "    \n",
    "    def return_samples(self, n_trials):\n",
    "        self.n_sig_per_trial, self.n_bkg_per_trial = \\\n",
    "            self.calc_n_events_per_trial(n_trials)\n",
    "\n",
    "        self.create_samples()\n",
    "        return np.array(self.sig_samples) + np.array(self.bkg_samples)\n",
    "\n",
    "    def do_trials(self, n_trials, llh):\n",
    "        self.n_sig_per_trial, self.n_bkg_per_trial = \\\n",
    "            self.calc_n_events_per_trial(n_trials)\n",
    "\n",
    "        self.create_samples()\n",
    "\n",
    "        ts_vals = []\n",
    "        lmds = []\n",
    "        \n",
    "        true_lmd = self.sig_exp / float(np.sum(self.sig_dist))\n",
    "        print(true_lmd)\n",
    "        for i in tqdm(range(n_trials)):\n",
    "            samples = (self.sig_samples[i] + self.bkg_samples[i])\n",
    "\n",
    "            ts, lmd = llh.fit_lmd_best(true_lmd, samples)\n",
    "            ts_vals.append(-ts)\n",
    "            lmds.extend(lmd)\n",
    "        # print(np.mean(lmds), np.median(lmds))\n",
    "        return ts_vals, lmds"
   ]
  },
  {
   "cell_type": "code",
   "execution_count": 13,
   "metadata": {},
   "outputs": [],
   "source": [
    "def scan_neyman_row(sig_inj, n_samples, likelihood, mu):\n",
    "    sig_ts, _ = sig_inj.do_trials(\n",
    "        n_samples, likelihood)\n",
    "    sig_ts = np.array(sig_ts)\n",
    "    sig_ts[sig_ts < 0] = 0\n",
    "    return sig_ts, mu\n",
    "\n",
    "def scan_neyman_plane(sig, bkg, bkg_exp,\n",
    "                      mu_bins, ts_bins, n_samples_per_mu,\n",
    "                      n_jobs=1, save=False, out_path=None):\n",
    "    def save_stuff(out_path, hist, mu):\n",
    "        if out_path is not None:\n",
    "            out_path = os.path.join(\n",
    "                out_path, 'ts_mu_{}.npz'.format(mu_i))\n",
    "            np.savez(out_path, hist)\n",
    "\n",
    "    if not save:\n",
    "        hists = np.zeros((len(mu_bins), len(ts_bins) - 1))\n",
    "        \n",
    "    random_state = np.random.RandomState(42)\n",
    "    likelihood = BinnedPoissonLikelihood(sig, bkg, random_state=random_state)\n",
    "\n",
    "    if n_jobs > 1:\n",
    "        with ProcessPoolExecutor(max_workers=n_jobs) as executor:\n",
    "            futures = []\n",
    "            for i, mu_i in enumerate(mu_bins):\n",
    "                injector_rs = np.random.RandomState(i)\n",
    "                sig_inj = SignalInjector(sig, bkg, injector_rs, sig_exp=mu_i, bkg_exp=bkg_exp)\n",
    "                futures.append(\n",
    "                    executor.submit(\n",
    "                        scan_neyman_row,\n",
    "                        sig_inj=sig_inj,\n",
    "                        n_samples=n_samples_per_mu,\n",
    "                        likelihood=likelihood,\n",
    "                        mu=mu_i))\n",
    "            results = wait(futures)\n",
    "        for i, future_i in enumerate(results.done):\n",
    "            sig_ts, mu_i = future_i.result()\n",
    "            idx = np.where(mu_bins == mu_i)[0][0]\n",
    "            hist, ts_e = np.histogram(sig_ts, bins=ts_bins)\n",
    "            hist = hist / float(np.sum(hist))\n",
    "            if not save:\n",
    "                hists[idx] = hist\n",
    "            else:\n",
    "                save_stuff(out_path, sig_ts, mu_i)\n",
    "\n",
    "    else:\n",
    "        raise NotImplementedError('Adapt to new implementation!')\n",
    "        for i, mu_i in tqdm(enumerate(mu_bins)):\n",
    "            sig_inj = SignalInjector(mu_i, bkg_exp, sig, bkg)\n",
    "            sig_ts, lmds_s, lmds_b = sig_inj.do_trials(\n",
    "                n_samples_per_mu, likelihood)\n",
    "            sig_ts = np.array(sig_ts)\n",
    "            sig_ts[sig_ts < 0] = 0\n",
    "            hist, ts_e = np.histogram(sig_ts, bins=ts_bins)\n",
    "            hist = hist / float(np.sum(hist))\n",
    "            if not save:\n",
    "                hists[i] = hist\n",
    "            else:\n",
    "                save_stuff(out_path, sig_ts, mu_i)\n",
    "\n",
    "    if not save:\n",
    "        return hists, ts_e\n",
    "    else:\n",
    "        return 0, 0"
   ]
  },
  {
   "cell_type": "code",
   "execution_count": 90,
   "metadata": {},
   "outputs": [
    {
     "name": "stdout",
     "output_type": "stream",
     "text": [
      "['0.000', '0.000', '0.000', '0.000', '0.002', '0.000', '0.000', '0.001', '0.000', '0.000']\n",
      "['0.002', '0.001', '0.000', '0.000', '0.000', '0.000', '0.000', '0.001', '0.000', '0.000']\n",
      "['0.000', '0.000', '0.000', '0.000', '0.003', '0.000', '0.000', '0.004', '0.000', '0.000']\n",
      "['0.000', '0.000', '0.000', '0.000', '0.000', '0.000', '0.000', '0.000', '0.000', '0.000']\n",
      "['0.001', '0.002', '0.000', '5.046', '0.000', '0.000', '0.003', '0.000', '0.000', '0.000']\n",
      "['0.016', '0.000', '0.000', '0.000', '10.330', '0.000', '0.000', '0.000', '0.000', '0.000']\n",
      "['0.002', '0.000', '0.002', '0.001', '0.000', '0.000', '0.000', '0.000', '0.000', '0.000']\n",
      "['0.001', '0.003', '3.033', '0.041', '0.000', '0.001', '0.001', '0.000', '0.000', '0.000']\n",
      "['0.011', '0.000', '0.001', '0.002', '0.000', '0.000', '0.002', '0.001', '0.000', '0.000']\n",
      "['9.350', '0.001', '0.000', '5.094', '0.002', '15.759', '0.003', '0.000', '0.000', '0.005']\n",
      "aa\n",
      "['0.003', '0.000', '0.000', '0.001', '0.001', '0.001', '0.002', '0.000', '0.000', '0.002']\n",
      "['0.000', '0.004', '0.005', '0.002', '0.000', '0.004', '0.001', '0.001', '0.002', '0.002']\n",
      "['0.002', '0.003', '0.000', '0.001', '0.002', '0.005', '0.001', '0.002', '0.009', '0.000']\n",
      "['0.000', '0.006', '0.002', '0.000', '0.001', '0.002', '0.005', '0.004', '0.005', '0.008']\n",
      "['0.000', '0.000', '0.010', '0.005', '0.001', '0.003', '0.009', '0.005', '0.005', '0.001']\n",
      "['0.001', '0.003', '0.000', '0.001', '0.004', '0.004', '0.009', '0.007', '0.008', '0.009']\n",
      "['0.001', '0.001', '0.004', '0.000', '0.009', '0.004', '0.020', '0.008', '0.005', '0.014']\n",
      "['0.004', '0.001', '0.000', '0.019', '0.002', '0.013', '0.006', '0.025', '0.015', '0.015']\n",
      "['0.001', '0.004', '0.011', '0.004', '0.008', '0.014', '0.021', '0.039', '0.042', '0.042']\n",
      "['0.004', '0.004', '0.004', '0.009', '0.027', '0.013', '0.042', '0.037', '0.081', '0.116']\n"
     ]
    },
    {
     "data": {
      "image/png": "[encoded data removed]",
      "text/plain": [
       "<Figure size 1440x360 with 1 Axes>"
      ]
     },
     "metadata": {
      "needs_background": "light"
     },
     "output_type": "display_data"
    },
    {
     "data": {
      "image/png": "[encoded data removed]",
      "text/plain": [
       "<Figure size 1440x360 with 1 Axes>"
      ]
     },
     "metadata": {
      "needs_background": "light"
     },
     "output_type": "display_data"
    }
   ],
   "source": [
    "n_jobs=40\n",
    "n_samples=100\n",
    "def main(n_jobs, n_samples):\n",
    "    sig_exp, bkg_exp = np.sum(sig_df['weight']), np.sum(bkg_df['weight']) \n",
    "    bins_x, bins_y = get_default_binning()\n",
    "   \n",
    "    sig, bkg, xe, ye = build_histograms(\n",
    "        sig_df, bkg_df, bins_x, bins_y,\n",
    "        weight_col='weight') \n",
    "\n",
    "    \n",
    "    #print(bkg)\n",
    "    for i in range(len(bkg)):\n",
    "        print([\"{0:0.3f}\".format(bkg[i][j]) for j in range(len(bkg))])\n",
    "    print(\"aa\")\n",
    "    plot_histogram(bkg,xe,ye)\n",
    "    \n",
    "    #print(sig)\n",
    "    for i in range(len(sig)):\n",
    "            print([\"{0:0.3f}\".format(sig[i][j]) for j in range(len(bkg))])\n",
    "    plot_histogram(sig,xe,ye)\n",
    "    \n",
    "    #sig_df.plot(kind='scatter', x='n1', y='n4', s=1, c='r')\n",
    "    #bkg_df.plot(kind='scatter', x='n1', y='n4', s=1, c='b')\n",
    "    \n",
    "    mu_bins = np.linspace(0, 20, 801)\n",
    "    ts_bins = np.linspace(0, 200, 2001)\n",
    "    ts_bins = ts_bins - np.diff(ts_bins)[0] / 2.\n",
    "    n_samples_per_mu = n_samples\n",
    "    out_path =\"/home/dup193/work/double_pulse/max_test/\"\n",
    "   # hists, ts_e = scan_neyman_plane(\n",
    "   #     sig, bkg, bkg_exp,\n",
    "   #     mu_bins, ts_bins, n_samples_per_mu,\n",
    "    #    n_jobs=n_jobs, save=True,\n",
    "    #    out_path=out_path)\n",
    "\n",
    "\n",
    "if __name__ == '__main__':\n",
    "    main(n_jobs,n_samples)"
   ]
  },
  {
   "cell_type": "code",
   "execution_count": null,
   "metadata": {},
   "outputs": [],
   "source": []
  }
 ],
 "metadata": {
  "kernelspec": {
   "display_name": "Python 3",
   "language": "python",
   "name": "python3"
  },
  "language_info": {
   "codemirror_mode": {
    "name": "ipython",
    "version": 3
   },
   "file_extension": ".py",
   "mimetype": "text/x-python",
   "name": "python",
   "nbconvert_exporter": "python",
   "pygments_lexer": "ipython3",
   "version": "3.7.7"
  }
 },
 "nbformat": 4,
 "nbformat_minor": 4
}
