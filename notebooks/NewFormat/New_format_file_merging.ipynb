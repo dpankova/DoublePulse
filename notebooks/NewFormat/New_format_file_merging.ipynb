{
 "cells": [
  {
   "cell_type": "code",
   "execution_count": 1,
   "metadata": {},
   "outputs": [],
   "source": [
    "from __future__ import division\n",
    "import matplotlib as mpl\n",
    "import matplotlib.pyplot as plt\n",
    "import numpy as np\n",
    "import glob"
   ]
  },
  {
   "cell_type": "code",
   "execution_count": 2,
   "metadata": {},
   "outputs": [],
   "source": [
    "id_dtype = np.dtype(\n",
    "    [\n",
    "        (\"run_id\", np.uint32),\n",
    "        (\"sub_run_id\", np.uint32),\n",
    "        (\"event_id\", np.uint32),\n",
    "        (\"sub_event_id\", np.uint32),\n",
    "    ]\n",
    ")\n",
    "particle_dtype = np.dtype(\n",
    "    [\n",
    "        (\"pdg\", np.uint32),\n",
    "        (\"energy\", np.float32),\n",
    "        (\"position\", np.float32,(3)),\n",
    "        (\"direction\", np.float32,(2)),\n",
    "        (\"time\", np.float32),\n",
    "        (\"length\", np.float32)\n",
    "    ]\n",
    ")\n",
    "weight_dtype = np.dtype(\n",
    "    [\n",
    "        ('PrimaryNeutrinoAzimuth',np.float32),\n",
    "        ('TotalColumnDepthCGS',np.float32),\n",
    "        ('MaxAzimuth',np.float32),\n",
    "        ('SelectionWeight',np.float32),\n",
    "        ('InIceNeutrinoEnergy',np.float32),\n",
    "        ('PowerLawIndex',np.float32),\n",
    "        ('TotalPrimaryWeight',np.float32),\n",
    "        ('PrimaryNeutrinoZenith',np.float32),\n",
    "        ('TotalWeight',np.float32),\n",
    "        ('PropagationWeight',np.float32),\n",
    "        ('NInIceNus',np.float32),\n",
    "        ('TrueActiveLengthBefore',np.float32),\n",
    "        ('TypeWeight',np.float32),\n",
    "        ('PrimaryNeutrinoType',np.float32),\n",
    "        ('RangeInMeter',np.float32),\n",
    "        ('BjorkenY',np.float32),\n",
    "        ('MinZenith',np.float32),\n",
    "        ('InIceNeutrinoType',np.float32),\n",
    "        ('CylinderRadius',np.float32),\n",
    "        ('BjorkenX',np.float32),\n",
    "        ('InteractionPositionWeight',np.float32),\n",
    "        ('RangeInMWE',np.float32),\n",
    "        ('InteractionColumnDepthCGS',np.float32),\n",
    "        ('CylinderHeight',np.float32),\n",
    "        ('MinAzimuth',np.float32),\n",
    "        ('TotalXsectionCGS',np.float32),\n",
    "        ('OneWeightPerType',np.float32),\n",
    "        ('ImpactParam',np.float32),\n",
    "        ('InteractionType',np.float32),\n",
    "        ('TrueActiveLengthAfter',np.float32),\n",
    "        ('MaxZenith',np.float32),\n",
    "        ('InteractionXsectionCGS',np.float32),\n",
    "        ('PrimaryNeutrinoEnergy',np.float32),\n",
    "        ('DirectionWeight',np.float32),\n",
    "        ('InjectionAreaCGS',np.float32),\n",
    "        ('MinEnergyLog',np.float32),\n",
    "        ('SolidAngle',np.float32),\n",
    "        ('LengthInVolume',np.float32),\n",
    "        ('NEvents',np.uint32),\n",
    "        ('OneWeight',np.float32),\n",
    "        ('MaxEnergyLog',np.float32),\n",
    "        ('InteractionWeight',np.float32),\n",
    "        ('EnergyLost',np.float32)\n",
    "    ]\n",
    ")\n",
    "info_dtype = np.dtype(\n",
    "    [\n",
    "        (\"id\", id_dtype),\n",
    "        (\"image\", np.float32, (300, 60)),\n",
    "        (\"neutrino\", particle_dtype),\n",
    "        (\"meson\", particle_dtype),\n",
    "        (\"q_tot\", np.float32),\n",
    "        (\"cog\", np.float32,(3)),\n",
    "        (\"q_st\", np.float32),\n",
    "        (\"st_pos\", np.float32,(3)),\n",
    "        (\"st_num\", np.float32),\n",
    "        (\"distance\", np.float32),\n",
    "        (\"weight\", weight_dtype),\n",
    "\n",
    "    ]\n",
    ")\n",
    "keys_dtype = np.dtype(  \n",
    "        [\n",
    "        (\"passed\", np.bool_),\n",
    "        (\"header\", np.bool_),\n",
    "        (\"raw_data\", np.bool_),\n",
    "        (\"weights\", np.bool_),\n",
    "        (\"mctree\", np.bool_), \n",
    "        (\"cvstats\", np.bool_),\n",
    "        (\"pulses\", np.bool_)\n",
    "           ]\n",
    ")\n",
    "w_info_dtype = np.dtype(\n",
    "    [   \n",
    "        (\"id\", id_dtype),\n",
    "        (\"energy\", np.float32),\n",
    "        (\"pdg\", np.float32),\n",
    "        (\"weight\", weight_dtype),\n",
    "        (\"keys\", keys_dtype)\n",
    "    ]\n",
    ")"
   ]
  },
  {
   "cell_type": "code",
   "execution_count": 18,
   "metadata": {},
   "outputs": [
    {
     "name": "stdout",
     "output_type": "stream",
     "text": [
      "/home/dup193/work/double_pulse/data/new_data/NewFormat_NuTauCC_Qtot1000_Qst400_7_data.npy 123144\n",
      "/home/dup193/work/double_pulse/data/new_data/NewFormat_NuTauCC_Qtot1000_Qst400_11_data.npy 122703\n",
      "/home/dup193/work/double_pulse/data/new_data/NewFormat_NuTauCC_Qtot1000_Qst400_13_data.npy 131\n",
      "/home/dup193/work/double_pulse/data/new_data/NewFormat_NuTauCC_Qtot1000_Qst400_8_data.npy 123390\n",
      "/home/dup193/work/double_pulse/data/new_data/NewFormat_NuTauCC_Qtot1000_Qst400_3_data.npy 123463\n",
      "/home/dup193/work/double_pulse/data/new_data/NewFormat_NuTauCC_Qtot1000_Qst400_6_data.npy 123113\n",
      "/home/dup193/work/double_pulse/data/new_data/NewFormat_NuTauCC_Qtot1000_Qst400_4_data.npy 122479\n",
      "/home/dup193/work/double_pulse/data/new_data/NewFormat_NuTauCC_Qtot1000_Qst400_10_data.npy 123202\n",
      "/home/dup193/work/double_pulse/data/new_data/NewFormat_NuTauCC_Qtot1000_Qst400_2_data.npy 123017\n",
      "/home/dup193/work/double_pulse/data/new_data/NewFormat_NuTauCC_Qtot1000_Qst400_12_data.npy 122875\n",
      "/home/dup193/work/double_pulse/data/new_data/NewFormat_NuTauCC_Qtot1000_Qst400_5_data.npy 123513\n",
      "/home/dup193/work/double_pulse/data/new_data/NewFormat_NuTauCC_Qtot1000_Qst400_1_data.npy 123112\n",
      "/home/dup193/work/double_pulse/data/new_data/NewFormat_NuTauCC_Qtot1000_Qst400_9_data.npy 122806\n",
      "1476948\n"
     ]
    }
   ],
   "source": [
    "size = 0\n",
    "for name in glob.glob('/home/dup193/work/double_pulse/data/new_data/NewFormat_NuTauCC_Qtot1000_Qst400_*_data.npy'):\n",
    "    x = np.load(name, mmap_mode=\"r\")\n",
    "    print(name, len(x))\n",
    "    size = size +len(x)\n",
    "print(size)"
   ]
  },
  {
   "cell_type": "code",
   "execution_count": 3,
   "metadata": {},
   "outputs": [
    {
     "name": "stdout",
     "output_type": "stream",
     "text": [
      "/home/dup193/work/double_pulse/data/new_data/NewFormat_NuTau_Weights_10_data.npy 530705\n",
      "/home/dup193/work/double_pulse/data/new_data/NewFormat_NuTau_Weights_3_data.npy 531481\n",
      "/home/dup193/work/double_pulse/data/new_data/NewFormat_NuTau_Weights_11_data.npy 530789\n",
      "/home/dup193/work/double_pulse/data/new_data/NewFormat_NuTau_Weights_4_data.npy 529750\n",
      "/home/dup193/work/double_pulse/data/new_data/NewFormat_NuTau_Weights_13_data.npy 517\n",
      "/home/dup193/work/double_pulse/data/new_data/NewFormat_NuTau_Weights_7_data.npy 531463\n",
      "/home/dup193/work/double_pulse/data/new_data/NewFormat_NuTau_Weights_2_data.npy 531681\n",
      "/home/dup193/work/double_pulse/data/new_data/NewFormat_NuTau_Weights_12_data.npy 531930\n",
      "/home/dup193/work/double_pulse/data/new_data/NewFormat_NuTau_Weights_5_data.npy 531178\n",
      "/home/dup193/work/double_pulse/data/new_data/NewFormat_NuTau_Weights_8_data.npy 531542\n",
      "/home/dup193/work/double_pulse/data/new_data/NewFormat_NuTau_Weights_1_data.npy 530397\n",
      "/home/dup193/work/double_pulse/data/new_data/NewFormat_NuTau_Weights_9_data.npy 532099\n",
      "/home/dup193/work/double_pulse/data/new_data/NewFormat_NuTau_Weights_6_data.npy 530767\n",
      "6374299\n"
     ]
    }
   ],
   "source": [
    "wsize = 0\n",
    "for name in glob.glob('/home/dup193/work/double_pulse/data/new_data/NewFormat_NuTau_Weights_*_data.npy'):\n",
    "    x = np.load(name, mmap_mode=\"r\")\n",
    "    print(name, len(x))\n",
    "    wsize = wsize +len(x)\n",
    "print(wsize)"
   ]
  },
  {
   "cell_type": "code",
   "execution_count": 21,
   "metadata": {},
   "outputs": [
    {
     "name": "stdout",
     "output_type": "stream",
     "text": [
      "/home/dup193/work/double_pulse/data/new_data/NewFormat_NuTauCC_Qtot1000_Qst400_7_data.npy (123144, 1)\n",
      "/home/dup193/work/double_pulse/data/new_data/NewFormat_NuTauCC_Qtot1000_Qst400_11_data.npy (122703, 1)\n",
      "/home/dup193/work/double_pulse/data/new_data/NewFormat_NuTauCC_Qtot1000_Qst400_13_data.npy (131, 1)\n",
      "/home/dup193/work/double_pulse/data/new_data/NewFormat_NuTauCC_Qtot1000_Qst400_8_data.npy (123390, 1)\n",
      "/home/dup193/work/double_pulse/data/new_data/NewFormat_NuTauCC_Qtot1000_Qst400_3_data.npy (123463, 1)\n",
      "/home/dup193/work/double_pulse/data/new_data/NewFormat_NuTauCC_Qtot1000_Qst400_6_data.npy (123113, 1)\n",
      "/home/dup193/work/double_pulse/data/new_data/NewFormat_NuTauCC_Qtot1000_Qst400_4_data.npy (122479, 1)\n",
      "/home/dup193/work/double_pulse/data/new_data/NewFormat_NuTauCC_Qtot1000_Qst400_10_data.npy (123202, 1)\n",
      "/home/dup193/work/double_pulse/data/new_data/NewFormat_NuTauCC_Qtot1000_Qst400_2_data.npy (123017, 1)\n",
      "/home/dup193/work/double_pulse/data/new_data/NewFormat_NuTauCC_Qtot1000_Qst400_12_data.npy (122875, 1)\n",
      "/home/dup193/work/double_pulse/data/new_data/NewFormat_NuTauCC_Qtot1000_Qst400_5_data.npy (123513, 1)\n",
      "/home/dup193/work/double_pulse/data/new_data/NewFormat_NuTauCC_Qtot1000_Qst400_1_data.npy (123112, 1)\n",
      "/home/dup193/work/double_pulse/data/new_data/NewFormat_NuTauCC_Qtot1000_Qst400_9_data.npy (122806, 1)\n"
     ]
    }
   ],
   "source": [
    "pos = 0\n",
    "data = np.lib.format.open_memmap('/fastio2/dasha/double_pulse/data.npy', mode = 'w+', dtype =info_dtype, shape=(size,1))\n",
    "\n",
    "for name in glob.glob('/home/dup193/work/double_pulse/data/new_data/NewFormat_NuTauCC_Qtot1000_Qst400_*_data.npy'):\n",
    "    x = np.load(name, mmap_mode=\"r\")\n",
    "    print(name, x.shape)\n",
    "    data[pos:pos+len(x)] = x\n",
    "    pos = pos + len(x)"
   ]
  },
  {
   "cell_type": "code",
   "execution_count": 4,
   "metadata": {},
   "outputs": [
    {
     "name": "stdout",
     "output_type": "stream",
     "text": [
      "/home/dup193/work/double_pulse/data/new_data/NewFormat_NuTau_Weights_10_data.npy (530705, 1)\n",
      "/home/dup193/work/double_pulse/data/new_data/NewFormat_NuTau_Weights_3_data.npy (531481, 1)\n",
      "/home/dup193/work/double_pulse/data/new_data/NewFormat_NuTau_Weights_11_data.npy (530789, 1)\n",
      "/home/dup193/work/double_pulse/data/new_data/NewFormat_NuTau_Weights_4_data.npy (529750, 1)\n",
      "/home/dup193/work/double_pulse/data/new_data/NewFormat_NuTau_Weights_13_data.npy (517, 1)\n",
      "/home/dup193/work/double_pulse/data/new_data/NewFormat_NuTau_Weights_7_data.npy (531463, 1)\n",
      "/home/dup193/work/double_pulse/data/new_data/NewFormat_NuTau_Weights_2_data.npy (531681, 1)\n",
      "/home/dup193/work/double_pulse/data/new_data/NewFormat_NuTau_Weights_12_data.npy (531930, 1)\n",
      "/home/dup193/work/double_pulse/data/new_data/NewFormat_NuTau_Weights_5_data.npy (531178, 1)\n",
      "/home/dup193/work/double_pulse/data/new_data/NewFormat_NuTau_Weights_8_data.npy (531542, 1)\n",
      "/home/dup193/work/double_pulse/data/new_data/NewFormat_NuTau_Weights_1_data.npy (530397, 1)\n",
      "/home/dup193/work/double_pulse/data/new_data/NewFormat_NuTau_Weights_9_data.npy (532099, 1)\n",
      "/home/dup193/work/double_pulse/data/new_data/NewFormat_NuTau_Weights_6_data.npy (530767, 1)\n"
     ]
    }
   ],
   "source": [
    "pos = 0\n",
    "weights = np.lib.format.open_memmap('/fastio2/dasha/double_pulse/weights.npy', mode = 'w+', dtype =w_info_dtype, shape=(wsize,1))\n",
    "\n",
    "for name in glob.glob('/home/dup193/work/double_pulse/data/new_data/NewFormat_NuTau_Weights_*_data.npy'):\n",
    "    x = np.load(name, mmap_mode=\"r\")\n",
    "    print(name, x.shape)\n",
    "    weights[pos:pos+len(x)] = x\n",
    "    pos = pos + len(x)"
   ]
  },
  {
   "cell_type": "code",
   "execution_count": null,
   "metadata": {},
   "outputs": [],
   "source": []
  }
 ],
 "metadata": {
  "kernelspec": {
   "display_name": "Python 3",
   "language": "python",
   "name": "python3"
  },
  "language_info": {
   "codemirror_mode": {
    "name": "ipython",
    "version": 3
   },
   "file_extension": ".py",
   "mimetype": "text/x-python",
   "name": "python",
   "nbconvert_exporter": "python",
   "pygments_lexer": "ipython3",
   "version": "3.7.4"
  }
 },
 "nbformat": 4,
 "nbformat_minor": 4
}
