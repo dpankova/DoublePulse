{
 "cells": [
  {
   "cell_type": "code",
   "execution_count": 1,
   "metadata": {},
   "outputs": [],
   "source": [
    "from __future__ import division\n",
    "import matplotlib as mpl\n",
    "import matplotlib.pyplot as plt\n",
    "import numpy as np\n",
    "import pandas as pd"
   ]
  },
  {
   "cell_type": "code",
   "execution_count": 2,
   "metadata": {},
   "outputs": [],
   "source": [
    "#Information inside the files:\n",
    "\n",
    "#Other d_types definitions:\n",
    "id_dtype = np.dtype(\n",
    "    [\n",
    "        (\"run_id\", np.uint32),\n",
    "        (\"sub_run_id\", np.uint32),\n",
    "        (\"event_id\", np.uint32),\n",
    "        (\"sub_event_id\", np.uint32),\n",
    "    ]\n",
    ")\n",
    "particle_dtype = np.dtype(\n",
    "    [\n",
    "        (\"pdg\", np.uint32),\n",
    "        (\"energy\", np.float32),\n",
    "        (\"position\", np.float32,(3)),\n",
    "        (\"direction\", np.float32,(2)),\n",
    "        (\"time\", np.float32),\n",
    "        (\"length\", np.float32)\n",
    "    ]\n",
    ")\n",
    "#http://software.icecube.wisc.edu/documentation/projects/neutrino-generator/weightdict.html\n",
    "weight_dtype = np.dtype(\n",
    "    [\n",
    "        ('PrimaryNeutrinoAzimuth',np.float32),\n",
    "        ('TotalColumnDepthCGS',np.float32),\n",
    "        ('MaxAzimuth',np.float32),\n",
    "        ('SelectionWeight',np.float32),\n",
    "        ('InIceNeutrinoEnergy',np.float32),\n",
    "        ('PowerLawIndex',np.float32),\n",
    "        ('TotalPrimaryWeight',np.float32),\n",
    "        ('PrimaryNeutrinoZenith',np.float32),\n",
    "        ('TotalWeight',np.float32),\n",
    "        ('PropagationWeight',np.float32),\n",
    "        ('NInIceNus',np.float32),\n",
    "        ('TrueActiveLengthBefore',np.float32),\n",
    "        ('TypeWeight',np.float32),\n",
    "        ('PrimaryNeutrinoType',np.float32),\n",
    "        ('RangeInMeter',np.float32),\n",
    "        ('BjorkenY',np.float32),\n",
    "        ('MinZenith',np.float32),\n",
    "        ('InIceNeutrinoType',np.float32),\n",
    "        ('CylinderRadius',np.float32),\n",
    "        ('BjorkenX',np.float32),\n",
    "        ('InteractionPositionWeight',np.float32),\n",
    "        ('RangeInMWE',np.float32),\n",
    "        ('InteractionColumnDepthCGS',np.float32),\n",
    "        ('CylinderHeight',np.float32),\n",
    "        ('MinAzimuth',np.float32),\n",
    "        ('TotalXsectionCGS',np.float32),\n",
    "        ('OneWeightPerType',np.float32),\n",
    "        ('ImpactParam',np.float32),\n",
    "        ('InteractionType',np.float32),\n",
    "        ('TrueActiveLengthAfter',np.float32),\n",
    "        ('MaxZenith',np.float32),\n",
    "        ('InteractionXsectionCGS',np.float32),\n",
    "        ('PrimaryNeutrinoEnergy',np.float32),\n",
    "        ('DirectionWeight',np.float32),\n",
    "        ('InjectionAreaCGS',np.float32),\n",
    "        ('MinEnergyLog',np.float32),\n",
    "        ('SolidAngle',np.float32),\n",
    "        ('LengthInVolume',np.float32),\n",
    "        ('NEvents',np.uint32),\n",
    "        ('OneWeight',np.float32),\n",
    "        ('MaxEnergyLog',np.float32),\n",
    "        ('InteractionWeight',np.float32),\n",
    "        ('EnergyLost',np.float32)\n",
    "    ]\n",
    ")\n",
    "\n",
    "\n",
    "keys_dtype = np.dtype(  \n",
    "        [\n",
    "        (\"passed\", np.bool_),\n",
    "        (\"header\", np.bool_),\n",
    "        (\"raw_data\", np.bool_),\n",
    "        (\"weights\", np.bool_),\n",
    "        (\"mctree\", np.bool_), \n",
    "        (\"cvstats\", np.bool_),\n",
    "        (\"pulses\", np.bool_)\n",
    "           ]\n",
    ")\n",
    "\n",
    "\n",
    "\n",
    "\n",
    "\n",
    "\n",
    "#Data files contain events which passed the charge cuts of Qstr = 400PE and Qtotal = 1000PE AND their images:\n",
    "#Top level of Data file:\n",
    "info_dtype = np.dtype(\n",
    "    [\n",
    "        (\"id\", id_dtype),\n",
    "        (\"image\", np.float32, (300, 60)),\n",
    "        (\"neutrino\", particle_dtype),\n",
    "        (\"meson\", particle_dtype),\n",
    "        (\"q_tot\", np.float32),\n",
    "        (\"cog\", np.float32,(3)),\n",
    "        (\"q_st\", np.float32),\n",
    "        (\"st_pos\", np.float32,(3)),\n",
    "        (\"st_num\", np.float32),\n",
    "        (\"distance\", np.float32),\n",
    "        (\"weight\", weight_dtype),\n",
    "\n",
    "    ]\n",
    ")\n",
    "#Top level of Weight file:\n",
    "#Weight files contain some information about ALL the events in i3 files, but have NO images\n",
    "w_info_dtype = np.dtype(\n",
    "    [   \n",
    "        (\"id\", id_dtype),\n",
    "        (\"energy\", np.float32),\n",
    "        (\"pdg\", np.float32),\n",
    "        (\"weight\", weight_dtype),\n",
    "        (\"keys\", keys_dtype)\n",
    "    ]\n",
    ")\n",
    "\n"
   ]
  },
  {
   "cell_type": "code",
   "execution_count": null,
   "metadata": {},
   "outputs": [
    {
     "name": "stderr",
     "output_type": "stream",
     "text": [
      "Using TensorFlow backend.\n",
      "WARNING: Logging before flag parsing goes to stderr.\n",
      "W0212 12:51:21.800317 139997603665664 deprecation_wrapper.py:119] From /home/dup193/anaconda3/envs/tf-gpu/lib/python3.7/site-packages/keras/backend/tensorflow_backend.py:517: The name tf.placeholder is deprecated. Please use tf.compat.v1.placeholder instead.\n",
      "\n",
      "W0212 12:51:21.836433 139997603665664 deprecation_wrapper.py:119] From /home/dup193/anaconda3/envs/tf-gpu/lib/python3.7/site-packages/keras/backend/tensorflow_backend.py:4138: The name tf.random_uniform is deprecated. Please use tf.random.uniform instead.\n",
      "\n",
      "W0212 12:51:21.855103 139997603665664 deprecation_wrapper.py:119] From /home/dup193/anaconda3/envs/tf-gpu/lib/python3.7/site-packages/keras/backend/tensorflow_backend.py:3976: The name tf.nn.max_pool is deprecated. Please use tf.nn.max_pool2d instead.\n",
      "\n",
      "W0212 12:51:21.899818 139997603665664 deprecation_wrapper.py:119] From /home/dup193/anaconda3/envs/tf-gpu/lib/python3.7/site-packages/keras/backend/tensorflow_backend.py:131: The name tf.get_default_graph is deprecated. Please use tf.compat.v1.get_default_graph instead.\n",
      "\n",
      "W0212 12:51:21.900645 139997603665664 deprecation_wrapper.py:119] From /home/dup193/anaconda3/envs/tf-gpu/lib/python3.7/site-packages/keras/backend/tensorflow_backend.py:133: The name tf.placeholder_with_default is deprecated. Please use tf.compat.v1.placeholder_with_default instead.\n",
      "\n",
      "W0212 12:51:21.909064 139997603665664 deprecation.py:506] From /home/dup193/anaconda3/envs/tf-gpu/lib/python3.7/site-packages/keras/backend/tensorflow_backend.py:3445: calling dropout (from tensorflow.python.ops.nn_ops) with keep_prob is deprecated and will be removed in a future version.\n",
      "Instructions for updating:\n",
      "Please use `rate` instead of `keep_prob`. Rate should be set to `rate = 1 - keep_prob`.\n",
      "W0212 12:51:22.080313 139997603665664 deprecation_wrapper.py:119] From /home/dup193/anaconda3/envs/tf-gpu/lib/python3.7/site-packages/keras/backend/tensorflow_backend.py:174: The name tf.get_default_session is deprecated. Please use tf.compat.v1.get_default_session instead.\n",
      "\n"
     ]
    }
   ],
   "source": [
    "#If you wanna calculate them yourself:\n",
    "#get the network trained by Doug a while ago:\n",
    "from keras.models import load_model\n",
    "model = load_model('/data/dfc13/DoublePulse/Models/Arch01/DP_model_6006.h5')\n",
    "#model.summary()"
   ]
  },
  {
   "cell_type": "code",
   "execution_count": 3,
   "metadata": {},
   "outputs": [],
   "source": [
    "#Data for NuTauCC \n",
    "data_tc = np.load('/fastio2/dasha/double_pulse/data_NuTauCC.npy', mmap_mode='r')\n",
    "#Data for NuECC\n",
    "data_ec = np.load('/fastio2/dasha/double_pulse/data_NuECC.npy', mmap_mode='r')"
   ]
  },
  {
   "cell_type": "code",
   "execution_count": 4,
   "metadata": {},
   "outputs": [],
   "source": [
    "mean = 0.0008596053 \n",
    "std = 0.011836949\n",
    "\n",
    "def batch_classify(events):\n",
    "    data = np.empty((len(events), 300, 60, 1))\n",
    "    for i, event in enumerate(events):\n",
    "        data[i] = ((event['image'] - mean)/std).reshape(1, 300, 60, 1)\n",
    "        \n",
    "    return model.predict(data)"
   ]
  },
  {
   "cell_type": "code",
   "execution_count": 5,
   "metadata": {},
   "outputs": [
    {
     "ename": "NameError",
     "evalue": "name 'model' is not defined",
     "output_type": "error",
     "traceback": [
      "\u001b[0;31m---------------------------------------------------------------------------\u001b[0m",
      "\u001b[0;31mNameError\u001b[0m                                 Traceback (most recent call last)",
      "\u001b[0;32m<timed exec>\u001b[0m in \u001b[0;36m<module>\u001b[0;34m\u001b[0m\n",
      "\u001b[0;32m<ipython-input-4-e610774c3d72>\u001b[0m in \u001b[0;36mbatch_classify\u001b[0;34m(events)\u001b[0m\n\u001b[1;32m      7\u001b[0m         \u001b[0mdata\u001b[0m\u001b[0;34m[\u001b[0m\u001b[0mi\u001b[0m\u001b[0;34m]\u001b[0m \u001b[0;34m=\u001b[0m \u001b[0;34m(\u001b[0m\u001b[0;34m(\u001b[0m\u001b[0mevent\u001b[0m\u001b[0;34m[\u001b[0m\u001b[0;34m'image'\u001b[0m\u001b[0;34m]\u001b[0m \u001b[0;34m-\u001b[0m \u001b[0mmean\u001b[0m\u001b[0;34m)\u001b[0m\u001b[0;34m/\u001b[0m\u001b[0mstd\u001b[0m\u001b[0;34m)\u001b[0m\u001b[0;34m.\u001b[0m\u001b[0mreshape\u001b[0m\u001b[0;34m(\u001b[0m\u001b[0;36m1\u001b[0m\u001b[0;34m,\u001b[0m \u001b[0;36m300\u001b[0m\u001b[0;34m,\u001b[0m \u001b[0;36m60\u001b[0m\u001b[0;34m,\u001b[0m \u001b[0;36m1\u001b[0m\u001b[0;34m)\u001b[0m\u001b[0;34m\u001b[0m\u001b[0;34m\u001b[0m\u001b[0m\n\u001b[1;32m      8\u001b[0m \u001b[0;34m\u001b[0m\u001b[0m\n\u001b[0;32m----> 9\u001b[0;31m     \u001b[0;32mreturn\u001b[0m \u001b[0mmodel\u001b[0m\u001b[0;34m.\u001b[0m\u001b[0mpredict\u001b[0m\u001b[0;34m(\u001b[0m\u001b[0mdata\u001b[0m\u001b[0;34m)\u001b[0m\u001b[0;34m\u001b[0m\u001b[0;34m\u001b[0m\u001b[0m\n\u001b[0m",
      "\u001b[0;31mNameError\u001b[0m: name 'model' is not defined"
     ]
    }
   ],
   "source": [
    "%%time\n",
    "to_stack = [data_tc[i] for i in range(100)] + [data_ec[i] for i in range(100)]\n",
    "classified = batch_classify(to_stack)"
   ]
  },
  {
   "cell_type": "code",
   "execution_count": 1,
   "metadata": {},
   "outputs": [
    {
     "ename": "NameError",
     "evalue": "name 'np' is not defined",
     "output_type": "error",
     "traceback": [
      "\u001b[0;31m---------------------------------------------------------------------------\u001b[0m",
      "\u001b[0;31mNameError\u001b[0m                                 Traceback (most recent call last)",
      "\u001b[0;32m<ipython-input-1-a4d35b6fc954>\u001b[0m in \u001b[0;36m<module>\u001b[0;34m\u001b[0m\n\u001b[1;32m      1\u001b[0m \u001b[0;31m#Weight Info for all events in i3 files (also NuTauCC and NuECC)\u001b[0m\u001b[0;34m\u001b[0m\u001b[0;34m\u001b[0m\u001b[0;34m\u001b[0m\u001b[0m\n\u001b[0;32m----> 2\u001b[0;31m \u001b[0mweights_tc\u001b[0m \u001b[0;34m=\u001b[0m \u001b[0mnp\u001b[0m\u001b[0;34m.\u001b[0m\u001b[0mload\u001b[0m\u001b[0;34m(\u001b[0m\u001b[0;34m'/fastio2/dasha/double_pulse/weights_NuTau.npy'\u001b[0m\u001b[0;34m,\u001b[0m \u001b[0mmmap_mode\u001b[0m\u001b[0;34m=\u001b[0m\u001b[0;34m'r'\u001b[0m\u001b[0;34m)\u001b[0m\u001b[0;34m\u001b[0m\u001b[0;34m\u001b[0m\u001b[0m\n\u001b[0m\u001b[1;32m      3\u001b[0m \u001b[0mweights_ec\u001b[0m \u001b[0;34m=\u001b[0m \u001b[0mnp\u001b[0m\u001b[0;34m.\u001b[0m\u001b[0mload\u001b[0m\u001b[0;34m(\u001b[0m\u001b[0;34m'/fastio2/dasha/double_pulse/weights_NuE.npy'\u001b[0m\u001b[0;34m,\u001b[0m \u001b[0mmmap_mode\u001b[0m\u001b[0;34m=\u001b[0m\u001b[0;34m'r'\u001b[0m\u001b[0;34m)\u001b[0m\u001b[0;34m\u001b[0m\u001b[0;34m\u001b[0m\u001b[0m\n",
      "\u001b[0;31mNameError\u001b[0m: name 'np' is not defined"
     ]
    }
   ],
   "source": [
    "#Weight Info for all events in i3 files (also NuTauCC and NuECC)\n",
    "weights_tc = np.load('/fastio2/dasha/double_pulse/weights_NuTau.npy', mmap_mode='r')\n",
    "weights_ec = np.load('/fastio2/dasha/double_pulse/weights_NuE.npy', mmap_mode='r')"
   ]
  },
  {
   "cell_type": "code",
   "execution_count": 9,
   "metadata": {},
   "outputs": [
    {
     "name": "stdout",
     "output_type": "stream",
     "text": [
      "[(4294967280, 231464.84, [-468.13614, 1410.8896 , 1947.8267 ], [0.78544605, 1.8112881 ], 2989.0232, 1757.0872)]\n",
      "[231464.84]\n"
     ]
    }
   ],
   "source": [
    "#To access info:\n",
    "print(data_tc['neutrino'][0])\n",
    "print(data_tc['neutrino']['energy'][0])"
   ]
  },
  {
   "cell_type": "code",
   "execution_count": 36,
   "metadata": {},
   "outputs": [
    {
     "name": "stdout",
     "output_type": "stream",
     "text": [
      "Event 0 info:  [(4294967280, 231464.84, [-468.13614, 1410.8896 , 1947.8267 ], [0.78544605, 1.8112881 ], 2989.0232, 1757.0872)]\n",
      "Event 1 info:  [(16, 2880998.8, [ 573.0816, 1551.6466, 1947.7854], [0.63338596, 1.5602827 ], 2017.3586, 2329.5605)]\n"
     ]
    },
    {
     "data": {
      "image/png": "[encoded data removed]",
      "text/plain": [
       "<Figure size 360x360 with 1 Axes>"
      ]
     },
     "metadata": {
      "needs_background": "light"
     },
     "output_type": "display_data"
    },
    {
     "data": {
      "image/png": "[encoded data removed]",
      "text/plain": [
       "<Figure size 360x360 with 1 Axes>"
      ]
     },
     "metadata": {
      "needs_background": "light"
     },
     "output_type": "display_data"
    }
   ],
   "source": [
    "#to access image\n",
    "for i, im in enumerate(data_tc['image'][:2]):\n",
    "    fig = plt.figure(figsize=(5, 5))\n",
    "    ax = fig.add_subplot(111)\n",
    "    ax.imshow(im.reshape(300,60), interpolation='nearest', aspect='auto', cmap= 'viridis')\n",
    "    print(\"Event {0} info: \".format(i), data_tc['neutrino'][i])"
   ]
  },
  {
   "cell_type": "code",
   "execution_count": 42,
   "metadata": {},
   "outputs": [
    {
     "name": "stdout",
     "output_type": "stream",
     "text": [
      "4287608 1476948 [[[0.8157125 0.1842875]]] [[[0.08030367 0.91969633]]]\n",
      "4287608 1476948 [[[0.8157125 0.1842875]]] [[0.08030367 0.91969633]]\n"
     ]
    }
   ],
   "source": [
    "#How to get DeepLearing network probabilities\n",
    "#Those I already calculated are here:\n",
    "preds_ec = np.load('/fastio2/dasha/double_pulse/preds_NuECC.npy')\n",
    "preds_tc = np.load('/fastio2/dasha/double_pulse/preds_2.npy')\n",
    "\n",
    "print(len(preds_ec),len(preds_tc),preds_ec[0:1],preds_tc[0:1] )\n",
    "#The array has a bit of a weird shape, an extra dimention that isn't nessesary\n",
    "preds_tc = preds_tc.reshape((preds_tc.shape[0],2))\n",
    "print(len(preds_ec),len(preds_tc),preds_ec[0:1],preds_tc[0:1] )\n"
   ]
  },
  {
   "cell_type": "code",
   "execution_count": 1,
   "metadata": {},
   "outputs": [
    {
     "name": "stderr",
     "output_type": "stream",
     "text": [
      "Using TensorFlow backend.\n",
      "WARNING: Logging before flag parsing goes to stderr.\n",
      "W1219 17:03:07.837923 140185471043328 deprecation_wrapper.py:119] From /home/dup193/anaconda3/envs/tf-gpu/lib/python3.7/site-packages/keras/backend/tensorflow_backend.py:517: The name tf.placeholder is deprecated. Please use tf.compat.v1.placeholder instead.\n",
      "\n",
      "W1219 17:03:07.862358 140185471043328 deprecation_wrapper.py:119] From /home/dup193/anaconda3/envs/tf-gpu/lib/python3.7/site-packages/keras/backend/tensorflow_backend.py:4138: The name tf.random_uniform is deprecated. Please use tf.random.uniform instead.\n",
      "\n",
      "W1219 17:03:07.880236 140185471043328 deprecation_wrapper.py:119] From /home/dup193/anaconda3/envs/tf-gpu/lib/python3.7/site-packages/keras/backend/tensorflow_backend.py:3976: The name tf.nn.max_pool is deprecated. Please use tf.nn.max_pool2d instead.\n",
      "\n",
      "W1219 17:03:07.925190 140185471043328 deprecation_wrapper.py:119] From /home/dup193/anaconda3/envs/tf-gpu/lib/python3.7/site-packages/keras/backend/tensorflow_backend.py:131: The name tf.get_default_graph is deprecated. Please use tf.compat.v1.get_default_graph instead.\n",
      "\n",
      "W1219 17:03:07.925927 140185471043328 deprecation_wrapper.py:119] From /home/dup193/anaconda3/envs/tf-gpu/lib/python3.7/site-packages/keras/backend/tensorflow_backend.py:133: The name tf.placeholder_with_default is deprecated. Please use tf.compat.v1.placeholder_with_default instead.\n",
      "\n",
      "W1219 17:03:07.934257 140185471043328 deprecation.py:506] From /home/dup193/anaconda3/envs/tf-gpu/lib/python3.7/site-packages/keras/backend/tensorflow_backend.py:3445: calling dropout (from tensorflow.python.ops.nn_ops) with keep_prob is deprecated and will be removed in a future version.\n",
      "Instructions for updating:\n",
      "Please use `rate` instead of `keep_prob`. Rate should be set to `rate = 1 - keep_prob`.\n",
      "W1219 17:03:08.045123 140185471043328 deprecation_wrapper.py:119] From /home/dup193/anaconda3/envs/tf-gpu/lib/python3.7/site-packages/keras/backend/tensorflow_backend.py:174: The name tf.get_default_session is deprecated. Please use tf.compat.v1.get_default_session instead.\n",
      "\n",
      "W1219 17:03:12.329499 140185471043328 deprecation_wrapper.py:119] From /home/dup193/anaconda3/envs/tf-gpu/lib/python3.7/site-packages/keras/optimizers.py:790: The name tf.train.Optimizer is deprecated. Please use tf.compat.v1.train.Optimizer instead.\n",
      "\n",
      "W1219 17:03:12.451768 140185471043328 deprecation.py:323] From /home/dup193/anaconda3/envs/tf-gpu/lib/python3.7/site-packages/tensorflow/python/ops/math_grad.py:1250: add_dispatch_support.<locals>.wrapper (from tensorflow.python.ops.array_ops) is deprecated and will be removed in a future version.\n",
      "Instructions for updating:\n",
      "Use tf.where in 2.0, which has the same broadcast rule as np.where\n"
     ]
    }
   ],
   "source": [
    "#If you wanna calculate them yourself:\n",
    "#get the network trained by Doug a while ago:\n",
    "from keras.models import load_model\n",
    "model = load_model('/data/dfc13/DoublePulse/Models/Arch01/DP_model_6006.h5')\n",
    "#model.summary()"
   ]
  },
  {
   "cell_type": "code",
   "execution_count": 38,
   "metadata": {},
   "outputs": [
    {
     "name": "stdout",
     "output_type": "stream",
     "text": [
      "2 [[[0.08030367 0.91969633]]\n",
      "\n",
      " [[0.37107354 0.62892646]]]\n"
     ]
    }
   ],
   "source": [
    "#values for normalization, I am currently using. Probably need to be changed later.\n",
    "mean = 0.0008596053 \n",
    "std = 0.011836949\n",
    "#calculate the network predictions\n",
    "preds = []\n",
    "for im in data_tc['image'][:2]:\n",
    "    im = im.reshape(1,300,60,1)\n",
    "    im = (im-mean)/std\n",
    "    pred = model.predict(im)\n",
    "    preds.append(pred)\n",
    "preds = np.array(preds)\n",
    "print(len(preds),preds)"
   ]
  },
  {
   "cell_type": "code",
   "execution_count": null,
   "metadata": {},
   "outputs": [],
   "source": [
    "#Calculating weights\n",
    "#IceCube tutorial: http://software.icecube.wisc.edu/documentation/projects/neutrino-generator/weightdict.html#oneweightpertype\n",
    "#change the shape of data\n",
    "#data_tc = data.reshape(data.shape[0])"
   ]
  },
  {
   "cell_type": "code",
   "execution_count": 13,
   "metadata": {},
   "outputs": [
    {
     "name": "stdout",
     "output_type": "stream",
     "text": [
      "16.294573635195217 68.11459153178455\n"
     ]
    }
   ],
   "source": [
    "NFiles = 11999 #Number if i3 files in the directory\n",
    "EventsPerFile = 10000 #From the weightDict\n",
    "index = -2.13 # power law index to use\n",
    "livetime = 3.14e7 # ~ seconds per year\n",
    "flux_at_100tev = 0.9e-18 # flux normalization GeV^-1 cm^-2 s^-1 sr^-1\n",
    "# flux = Norm*(Energy/100TeV)^(index)\n",
    "d_flux = flux_at_100tev*((data_tc['weight']['PrimaryNeutrinoEnergy']/1e5)**index) # same units as norm \n",
    "w_flux = flux_at_100tev*((weights_tc['weight']['PrimaryNeutrinoEnergy']/1e5)**index) # same units as norm\n",
    "\n",
    "# one weights has units of [GeV cm2 sr / Number of total simulated events]\n",
    "d_weights = data_tc['weight']['OneWeight']*d_flux/(NFiles*EventsPerFile) # units of Hz per simulated events event\n",
    "w_weights = weights_tc['weight']['OneWeight']*w_flux/(NFiles*EventsPerFile) # units of Hz per simulated events event\n",
    "\n",
    "d_rate = np.sum(d_weights) # total rates in Hz for events that passes the cuts\n",
    "w_rate = np.sum(w_weights) # total rates in Hz for all events in the files\n",
    "\n",
    "print(d_rate*livetime,w_rate*livetime)"
   ]
  },
  {
   "cell_type": "code",
   "execution_count": 14,
   "metadata": {},
   "outputs": [
    {
     "data": {
      "text/plain": [
       "Text(0.5, 0, 'True $E_{\\\\nu}$ (GeV)')"
      ]
     },
     "execution_count": 14,
     "metadata": {},
     "output_type": "execute_result"
    },
    {
     "data": {
      "image/png": "[encoded data removed]",
      "text/plain": [
       "<Figure size 2000x800 with 1 Axes>"
      ]
     },
     "metadata": {
      "needs_background": "light"
     },
     "output_type": "display_data"
    }
   ],
   "source": [
    "#Weighted energy distribution\n",
    "fig = plt.figure(dpi=100, figsize=(20,8))\n",
    "ax=fig.add_subplot(121)\n",
    "bins = np.logspace(3, 8, 100)\n",
    "plt.hist((data_tc['weight']['PrimaryNeutrinoEnergy']), bins=bins,weights=d_weights*livetime, histtype='step', label =\"after cuts\")\n",
    "plt.hist((weights_tc['weight']['PrimaryNeutrinoEnergy']), bins=bins,weights=w_weights*livetime, histtype='step', color = 'r', label = \"all\")\n",
    "\n",
    "plt.grid(True)\n",
    "plt.xscale('log')\n",
    "plt.ylabel('N Expected per year per E bin', size=12)\n",
    "plt.xlabel(r'True $E_{\\nu}$ (GeV)', size=12)"
   ]
  },
  {
   "cell_type": "code",
   "execution_count": 43,
   "metadata": {},
   "outputs": [
    {
     "name": "stdout",
     "output_type": "stream",
     "text": [
      "[0.91969633 0.62892646 0.31031    ... 0.56807387 0.9995944  0.4893322 ]\n",
      "1476948 57.791743514328196 2.852707068901546\n",
      "853554 42133\n"
     ]
    }
   ],
   "source": [
    "sz = data_tc.shape[0]\n",
    "print(preds_tc[:,1])\n",
    "mask_50 = (0.5 <= preds_tc[:,1])\n",
    "mask_100 = 1.0 == preds_tc[:,1] \n",
    "\n",
    "print(sz,len(data_tc['weight'][mask_50])/sz*100,len(data_tc['weight'][mask_100])/sz*100)\n",
    "print(len(data_tc['weight'][mask_50]), len(data_tc['weight'][mask_100]))"
   ]
  },
  {
   "cell_type": "code",
   "execution_count": 45,
   "metadata": {},
   "outputs": [
    {
     "name": "stdout",
     "output_type": "stream",
     "text": [
      "P>50 6.996197471929034\n",
      "P=100 0.25332777842517856\n"
     ]
    }
   ],
   "source": [
    "NFiles = 11999\n",
    "EventsPerFile = 10000\n",
    "index = -2.13 # power law index to use\n",
    "livetime = 3.14e7 # ~ seconds per year\n",
    "flux_at_100tev = 0.9e-18 # flux normalization GeV^-1 cm^-2 s^-1 sr^-1\n",
    "# flux = Norm*(Energy/100TeV)^(index)\n",
    "d_flux_50 = flux_at_100tev*((data_tc['weight'][mask_50]['PrimaryNeutrinoEnergy']/1e5)**index) # same units as norm\n",
    "d_flux_100 = flux_at_100tev*((data_tc['weight'][mask_100]['PrimaryNeutrinoEnergy']/1e5)**index) # same units as norm\n",
    "\n",
    "# one weights has units of [GeV cm2 sr / Number of total simulated events]\n",
    "d_weights_50 = data_tc['weight'][mask_50]['OneWeight']*d_flux_50/(NFiles*EventsPerFile) # units of Hz per simulated events event\n",
    "d_weights_100 = data_tc['weight'][mask_100]['OneWeight']*d_flux_100/(NFiles*EventsPerFile) # units of Hz per simulated events event\n",
    "\n",
    "d_rate_50 = np.sum(d_weights_50) # total rates in Hz\n",
    "d_rate_100 = np.sum(d_weights_100) # total rates in Hz\n",
    "\n",
    "print(\"P>50\", d_rate_50*livetime)\n",
    "print(\"P=100\", d_rate_100*livetime)"
   ]
  },
  {
   "cell_type": "code",
   "execution_count": null,
   "metadata": {},
   "outputs": [],
   "source": []
  }
 ],
 "metadata": {
  "kernelspec": {
   "display_name": "Python 3",
   "language": "python",
   "name": "python3"
  },
  "language_info": {
   "codemirror_mode": {
    "name": "ipython",
    "version": 3
   },
   "file_extension": ".py",
   "mimetype": "text/x-python",
   "name": "python",
   "nbconvert_exporter": "python",
   "pygments_lexer": "ipython3",
   "version": "3.7.4"
  }
 },
 "nbformat": 4,
 "nbformat_minor": 4
}
