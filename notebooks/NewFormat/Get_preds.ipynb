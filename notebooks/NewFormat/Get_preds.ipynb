{
 "cells": [
  {
   "cell_type": "code",
   "execution_count": 1,
   "metadata": {},
   "outputs": [],
   "source": [
    "from __future__ import division\n",
    "import matplotlib as mpl\n",
    "import matplotlib.pyplot as plt\n",
    "import numpy as np\n",
    "import pandas as pd\n",
    "\n",
    "import tensorflow as tf\n",
    "import os\n",
    "\n",
    "# Set which GPU to use.  This probably needs to be done before any other CUDA vars get defined.\n",
    "# Use the command \"nvidia-smi\" to get association of a particular GPU with a particular number.\n",
    "os.environ[\"CUDA_DEVICE_ORDER\"] = \"PCI_BUS_ID\"\n",
    "os.environ[\"CUDA_VISIBLE_DEVICES\"]= \"1,2\""
   ]
  },
  {
   "cell_type": "code",
   "execution_count": 2,
   "metadata": {},
   "outputs": [
    {
     "name": "stdout",
     "output_type": "stream",
     "text": [
      "WARNING:tensorflow:No training configuration found in save file: the model was *not* compiled. Compile it manually.\n",
      "Model: \"sequential\"\n",
      "_________________________________________________________________\n",
      "Layer (type)                 Output Shape              Param #   \n",
      "=================================================================\n",
      "vgg16 (Model)                (None, 9, 1, 512)         14714688  \n",
      "_________________________________________________________________\n",
      "flatten (Flatten)            (None, 4608)              0         \n",
      "_________________________________________________________________\n",
      "dense (Dense)                (None, 2)                 9218      \n",
      "=================================================================\n",
      "Total params: 14,723,906\n",
      "Trainable params: 14,723,906\n",
      "Non-trainable params: 0\n",
      "_________________________________________________________________\n"
     ]
    }
   ],
   "source": [
    "from tensorflow.keras.models import load_model\n",
    "model = load_model('/data/dfc13/DoublePulse/Models/TransferTraining.h5')\n",
    "model.summary()"
   ]
  },
  {
   "cell_type": "code",
   "execution_count": 12,
   "metadata": {},
   "outputs": [],
   "source": [
    "data_tc = np.load('/fastio2/dasha/double_pulse/data_NuTauCC.npy', mmap_mode='r')\n",
    "data_tn = np.load('/fastio2/dasha/double_pulse/data_NuTauNC.npy', mmap_mode='r')\n",
    "data_mc = np.load('/fastio2/dasha/double_pulse/data_NuMuCC.npy', mmap_mode='r')\n",
    "data_mn = np.load('/fastio2/dasha/double_pulse/data_NuMuNC.npy', mmap_mode='r')\n",
    "data_ec = np.load('/fastio2/dasha/double_pulse/data_NuECC.npy', mmap_mode='r')\n",
    "data_en = np.load('/fastio2/dasha/double_pulse/data_NuENC.npy', mmap_mode='r')\n",
    "data_eg = np.load('/fastio2/dasha/double_pulse/data_NuEGR.npy', mmap_mode='r')"
   ]
  },
  {
   "cell_type": "code",
   "execution_count": 13,
   "metadata": {},
   "outputs": [
    {
     "name": "stdout",
     "output_type": "stream",
     "text": [
      "(1486806, 1) (1523801, 1) (1652927, 1) (283320, 1) (755078, 1) (564278, 1) (49617, 1)\n"
     ]
    }
   ],
   "source": [
    "print(data_tc.shape,data_ec.shape,data_mc.shape,data_tn.shape,data_en.shape,data_mn.shape,data_eg.shape)"
   ]
  },
  {
   "cell_type": "code",
   "execution_count": 5,
   "metadata": {},
   "outputs": [
    {
     "name": "stdout",
     "output_type": "stream",
     "text": [
      "0.0016132531 0.016890975\n"
     ]
    }
   ],
   "source": [
    "#VGG \n",
    "mean = 0.0016132531 \n",
    "std = 0.016890975\n",
    "#other\n",
    "#mean = 0.0016005471 \n",
    "#std = 0.016772727\n",
    "print(mean, std)"
   ]
  },
  {
   "cell_type": "code",
   "execution_count": null,
   "metadata": {},
   "outputs": [],
   "source": [
    "images = data_ec['image'][:, 0]\n",
    "images = (images - mean)/std\n",
    "tensors = tf.convert_to_tensor(images.reshape(images.shape[0],300,60,1))\n",
    "rgbimages = tf.image.grayscale_to_rgb(tensors)\n",
    "preds = model.predict(rgbimages)"
   ]
  },
  {
   "cell_type": "code",
   "execution_count": 15,
   "metadata": {},
   "outputs": [
    {
     "name": "stdout",
     "output_type": "stream",
     "text": [
      "Percent = 99.9999343746329 1523800 of 152380111523801 [[0.10322284 0.89677715]]\n"
     ]
    }
   ],
   "source": [
    "preds = []\n",
    "for n,im in enumerate(data_ec['image']):    #mean = np.mean(im)\n",
    "    #std = np.std(im)\n",
    "    im = (im-mean)/std\n",
    "    im = im.reshape((1,300,60,1))\n",
    "    image = tf.convert_to_tensor(im.reshape(1,300,60,1))\n",
    "    im = tf.image.grayscale_to_rgb(image)\n",
    "    pred = model.predict(im)\n",
    "    preds.append(pred)\n",
    "    print(\"\\rPercent = \"+str(n/data_ec.shape[0]*100)+\" \"+str(n)+\" of \"+str(data_ec.shape[0]), end=\"\")\n",
    "preds = np.array(preds)\n",
    "print(len(preds),preds[0])"
   ]
  },
  {
   "cell_type": "code",
   "execution_count": 11,
   "metadata": {},
   "outputs": [
    {
     "name": "stdout",
     "output_type": "stream",
     "text": [
      "1633438 [[0.52415895 0.47584108]\n",
      " [0.7686135  0.23138645]\n",
      " [0.23371112 0.7662889 ]\n",
      " ...\n",
      " [0.5527761  0.4472239 ]\n",
      " [0.7706971  0.22930284]\n",
      " [0.45121384 0.54878616]]\n"
     ]
    }
   ],
   "source": [
    "#preds= preds.reshape(data_ec.shape[0],2)\n",
    "print(len(preds),preds)"
   ]
  },
  {
   "cell_type": "code",
   "execution_count": 16,
   "metadata": {},
   "outputs": [],
   "source": [
    "np.save('/fastio2/dasha/double_pulse/preds_NuECC_TransferLearning_200k.npy', preds)"
   ]
  },
  {
   "cell_type": "code",
   "execution_count": 17,
   "metadata": {},
   "outputs": [
    {
     "name": "stdout",
     "output_type": "stream",
     "text": [
      "[[[0.10322284 0.89677715]]\n",
      "\n",
      " [[0.23587833 0.76412165]]\n",
      "\n",
      " [[0.44646564 0.5535344 ]]\n",
      "\n",
      " [[0.54788595 0.45211414]]\n",
      "\n",
      " [[0.2982127  0.7017873 ]]\n",
      "\n",
      " [[0.7736356  0.22636431]]\n",
      "\n",
      " [[0.5152664  0.48473367]]\n",
      "\n",
      " [[0.33409092 0.6659092 ]]\n",
      "\n",
      " [[0.5671227  0.43287733]]\n",
      "\n",
      " [[0.21103147 0.78896856]]]\n"
     ]
    }
   ],
   "source": [
    "preds = np.load('/fastio2/dasha/double_pulse/preds_NuECC_TransferLearning_200k.npy')\n",
    "print(preds[0:10])"
   ]
  },
  {
   "cell_type": "code",
   "execution_count": 18,
   "metadata": {},
   "outputs": [
    {
     "name": "stdout",
     "output_type": "stream",
     "text": [
      "(1523801, 1, 2)\n"
     ]
    }
   ],
   "source": [
    "print(preds.shape)"
   ]
  },
  {
   "cell_type": "code",
   "execution_count": null,
   "metadata": {},
   "outputs": [],
   "source": []
  }
 ],
 "metadata": {
  "kernelspec": {
   "display_name": "Python 3",
   "language": "python",
   "name": "python3"
  },
  "language_info": {
   "codemirror_mode": {
    "name": "ipython",
    "version": 3
   },
   "file_extension": ".py",
   "mimetype": "text/x-python",
   "name": "python",
   "nbconvert_exporter": "python",
   "pygments_lexer": "ipython3",
   "version": "3.7.7"
  }
 },
 "nbformat": 4,
 "nbformat_minor": 4
}
