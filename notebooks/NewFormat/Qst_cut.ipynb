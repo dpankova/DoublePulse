{
 "cells": [
  {
   "cell_type": "code",
   "execution_count": 1,
   "metadata": {},
   "outputs": [],
   "source": [
    "from __future__ import division\n",
    "import matplotlib as mpl\n",
    "import matplotlib.pyplot as plt\n",
    "import numpy as np"
   ]
  },
  {
   "cell_type": "code",
   "execution_count": 2,
   "metadata": {},
   "outputs": [],
   "source": [
    "id_dtype = np.dtype(\n",
    "    [\n",
    "        (\"run_id\", np.uint32),\n",
    "        (\"sub_run_id\", np.uint32),\n",
    "        (\"event_id\", np.uint32),\n",
    "        (\"sub_event_id\", np.uint32),\n",
    "    ]\n",
    ")\n",
    "particle_dtype = np.dtype(\n",
    "    [\n",
    "        (\"pdg\", np.uint32),\n",
    "        (\"energy\", np.float32),\n",
    "        (\"position\", np.float32,(3)),\n",
    "        (\"direction\", np.float32,(2)),\n",
    "        (\"time\", np.float32),\n",
    "        (\"length\", np.float32)\n",
    "    ]\n",
    ")\n",
    "weight_dtype = np.dtype(\n",
    "    [\n",
    "        ('PrimaryNeutrinoAzimuth',np.float32),\n",
    "        ('TotalColumnDepthCGS',np.float32),\n",
    "        ('MaxAzimuth',np.float32),\n",
    "        ('SelectionWeight',np.float32),\n",
    "        ('InIceNeutrinoEnergy',np.float32),\n",
    "        ('PowerLawIndex',np.float32),\n",
    "        ('TotalPrimaryWeight',np.float32),\n",
    "        ('PrimaryNeutrinoZenith',np.float32),\n",
    "        ('TotalWeight',np.float32),\n",
    "        ('PropagationWeight',np.float32),\n",
    "        ('NInIceNus',np.float32),\n",
    "        ('TrueActiveLengthBefore',np.float32),\n",
    "        ('TypeWeight',np.float32),\n",
    "        ('PrimaryNeutrinoType',np.float32),\n",
    "        ('RangeInMeter',np.float32),\n",
    "        ('BjorkenY',np.float32),\n",
    "        ('MinZenith',np.float32),\n",
    "        ('InIceNeutrinoType',np.float32),\n",
    "        ('CylinderRadius',np.float32),\n",
    "        ('BjorkenX',np.float32),\n",
    "        ('InteractionPositionWeight',np.float32),\n",
    "        ('RangeInMWE',np.float32),\n",
    "        ('InteractionColumnDepthCGS',np.float32),\n",
    "        ('CylinderHeight',np.float32),\n",
    "        ('MinAzimuth',np.float32),\n",
    "        ('TotalXsectionCGS',np.float32),\n",
    "        ('OneWeightPerType',np.float32),\n",
    "        ('ImpactParam',np.float32),\n",
    "        ('InteractionType',np.float32),\n",
    "        ('TrueActiveLengthAfter',np.float32),\n",
    "        ('MaxZenith',np.float32),\n",
    "        ('InteractionXsectionCGS',np.float32),\n",
    "        ('PrimaryNeutrinoEnergy',np.float32),\n",
    "        ('DirectionWeight',np.float32),\n",
    "        ('InjectionAreaCGS',np.float32),\n",
    "        ('MinEnergyLog',np.float32),\n",
    "        ('SolidAngle',np.float32),\n",
    "        ('LengthInVolume',np.float32),\n",
    "        ('NEvents',np.uint32),\n",
    "        ('OneWeight',np.float32),\n",
    "        ('MaxEnergyLog',np.float32),\n",
    "        ('InteractionWeight',np.float32),\n",
    "        ('EnergyLost',np.float32)\n",
    "    ]\n",
    ")\n",
    "info_dtype = np.dtype(                                                                                                      \n",
    "    [                                                                                                                           \n",
    "    (\"id\", id_dtype),                                                                                                       \n",
    "    (\"image\", np.float32, (300, 60)),\n",
    "    (\"neutrino\", particle_dtype),\n",
    "    (\"daughter\", particle_dtype),                                                                                           \n",
    "    (\"energies\", np.float32,(10)),                                                                                          \n",
    "    (\"pdgs\", np.float32,(10)),                                                                                              \n",
    "    (\"q_tot\", np.float32),\n",
    "    (\"cog\", np.float32,(3)),                                                                                                \n",
    "    (\"q_st\", np.float32),\n",
    "    (\"st_pos\", np.float32,(3)),                                                                                             \n",
    "    (\"st_num\", np.float32),\n",
    "    (\"distance\", np.float32),                                                                                               \n",
    "    (\"weight\", weight_dtype),                                                                                                                    \n",
    "    ]\n",
    ")\n",
    "\n",
    "keys_dtype = np.dtype(  \n",
    "        [\n",
    "        (\"passed\", np.bool_),\n",
    "        (\"header\", np.bool_),\n",
    "        (\"raw_data\", np.bool_),\n",
    "        (\"weights\", np.bool_),\n",
    "        (\"mctree\", np.bool_), \n",
    "        (\"cvstats\", np.bool_),\n",
    "        (\"pulses\", np.bool_)\n",
    "           ]\n",
    ")\n",
    "w_info_dtype = np.dtype(                                                                                                                    \n",
    "        [                                                                                                                                         \n",
    "        (\"id\", id_dtype),    \n",
    "        (\"neutrino\", particle_dtype),\n",
    "        (\"energy\", np.float32,(10)),\n",
    "        (\"pdg\", np.float32,(10)),\n",
    "        (\"weight\", weight_dtype),\n",
    "        (\"keys\", keys_dtype)\n",
    "    ]\n",
    ")"
   ]
  },
  {
   "cell_type": "code",
   "execution_count": 11,
   "metadata": {},
   "outputs": [
    {
     "name": "stdout",
     "output_type": "stream",
     "text": [
      "37436\n"
     ]
    }
   ],
   "source": [
    "size = 0\n",
    "data = np.load('/fastio2/dasha/double_pulse/data_NuEGR.npy', mmap_mode='r')\n",
    "for i in data:\n",
    "    if i['q_st'] >2000:\n",
    "        size = size +1\n",
    "print(size)"
   ]
  },
  {
   "cell_type": "code",
   "execution_count": 12,
   "metadata": {},
   "outputs": [
    {
     "name": "stdout",
     "output_type": "stream",
     "text": [
      "(37436, 1)\n"
     ]
    }
   ],
   "source": [
    "pos = 0\n",
    "\n",
    "data_2000 = np.lib.format.open_memmap('/fastio2/dasha/double_pulse/data_NuEGR_2000.npy', mode = 'w+', dtype =info_dtype, shape=(size,1))\n",
    "for i in data:\n",
    "    if i['q_st'] >2000:\n",
    "        data_2000[pos:pos+1] = i\n",
    "        pos = pos + 1\n",
    "print(data_2000.shape)"
   ]
  },
  {
   "cell_type": "code",
   "execution_count": 8,
   "metadata": {},
   "outputs": [
    {
     "name": "stdout",
     "output_type": "stream",
     "text": [
      "0.4535335 0.4535335\n",
      "[(4294967280, 380103.2, [  53.26815, -159.2191 , 1947.9978 ], [0.07962972, 4.7971745 ], 7959.0273, 1731.6396)]\n",
      "(300, 60)\n",
      "0.05271135 0.05271135\n",
      "[(16, 50493.516, [ 2082434.8, -2581879.2,  -929121.6], [1.843924, 5.391285], -11481457., 3444933.2)]\n",
      "(300, 60)\n",
      "0.11978082 0.11978082\n",
      "[(4294967280, 129938.57, [ 2550945. ,  5281929.5, -8866878. ], [2.5571883, 1.1209582], -35452696., 5772598.)]\n",
      "(300, 60)\n"
     ]
    },
    {
     "data": {
      "image/png": "[encoded data removed]",
      "text/plain": [
       "<Figure size 360x360 with 1 Axes>"
      ]
     },
     "metadata": {
      "needs_background": "light"
     },
     "output_type": "display_data"
    },
    {
     "data": {
      "image/png": "[encoded data removed]",
      "text/plain": [
       "<Figure size 360x360 with 1 Axes>"
      ]
     },
     "metadata": {
      "needs_background": "light"
     },
     "output_type": "display_data"
    },
    {
     "data": {
      "image/png": "[encoded data removed]",
      "text/plain": [
       "<Figure size 360x360 with 1 Axes>"
      ]
     },
     "metadata": {
      "needs_background": "light"
     },
     "output_type": "display_data"
    }
   ],
   "source": [
    "for i, im in enumerate(data_2000['image'][:3]):\n",
    "    print(np.max(im), np.max(data_2000['image'][i]))\n",
    "    fig = plt.figure(figsize=(5, 5))\n",
    "    ax = fig.add_subplot(111)\n",
    "    ax.imshow(im.reshape(300,60), interpolation='nearest', aspect='auto', cmap= 'gray')\n",
    "    print(data_2000['neutrino'][i])\n",
    "    print(data_2000['image'][i][0].shape)"
   ]
  },
  {
   "cell_type": "code",
   "execution_count": 4,
   "metadata": {},
   "outputs": [
    {
     "name": "stdout",
     "output_type": "stream",
     "text": [
      "909575\n",
      "947011\n"
     ]
    }
   ],
   "source": [
    "size = 0\n",
    "data = np.load('/fastio2/dasha/double_pulse/data_NuECC.npy', mmap_mode='r')\n",
    "for i in data:\n",
    "    if i['q_st'] >2000:\n",
    "        size = size +1\n",
    "print(size)\n",
    "data2 = np.load('/fastio2/dasha/double_pulse/data_NuEGR.npy', mmap_mode='r')\n",
    "for i in data2:\n",
    "    if i['q_st'] >2000:\n",
    "        size = size +1\n",
    "print(size)"
   ]
  },
  {
   "cell_type": "code",
   "execution_count": 5,
   "metadata": {},
   "outputs": [
    {
     "name": "stdout",
     "output_type": "stream",
     "text": [
      "909575\n",
      "(947011, 1)\n"
     ]
    }
   ],
   "source": [
    "pos = 0\n",
    "\n",
    "data_2000 = np.lib.format.open_memmap('/fastio2/dasha/double_pulse/data_NuECC_2000.npy', mode = 'w+', dtype =info_dtype, shape=(size,1))\n",
    "for i in data:\n",
    "    if i['q_st'] >2000:\n",
    "        data_2000[pos:pos+1] = i\n",
    "        pos = pos + 1\n",
    "print(pos)\n",
    "for i in data2:\n",
    "    if i['q_st'] >2000:\n",
    "        data_2000[pos:pos+1] = i\n",
    "        pos = pos + 1\n",
    "\n",
    "print(data_2000.shape)"
   ]
  },
  {
   "cell_type": "code",
   "execution_count": null,
   "metadata": {},
   "outputs": [],
   "source": []
  }
 ],
 "metadata": {
  "kernelspec": {
   "display_name": "Python 3",
   "language": "python",
   "name": "python3"
  },
  "language_info": {
   "codemirror_mode": {
    "name": "ipython",
    "version": 3
   },
   "file_extension": ".py",
   "mimetype": "text/x-python",
   "name": "python",
   "nbconvert_exporter": "python",
   "pygments_lexer": "ipython3",
   "version": "3.7.4"
  }
 },
 "nbformat": 4,
 "nbformat_minor": 4
}
