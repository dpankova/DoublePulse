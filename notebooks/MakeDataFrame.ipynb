{
 "cells": [
  {
   "cell_type": "code",
   "execution_count": 9,
   "metadata": {},
   "outputs": [],
   "source": [
    "from __future__ import division\n",
    "import matplotlib as mpl\n",
    "import matplotlib.pyplot as plt\n",
    "from matplotlib.colors import LogNorm\n",
    "import numpy as np\n",
    "import pickle\n",
    "import pandas as pd"
   ]
  },
  {
   "cell_type": "code",
   "execution_count": 10,
   "metadata": {},
   "outputs": [],
   "source": [
    "data = []\n",
    "for i in range(1,13):\n",
    "    name = \"/home/dup193/work/double_pulse/data/make_plot/MakePlot_{0}_data.pkl\".format(i)\n",
    "    keys_temp = pickle.load(open(name, \"rb\"), encoding = \"bytes\")\n",
    "    data = data + keys_temp\n",
    "data = np.array(data)"
   ]
  },
  {
   "cell_type": "code",
   "execution_count": 11,
   "metadata": {},
   "outputs": [
    {
     "name": "stdout",
     "output_type": "stream",
     "text": [
      "4342931\n",
      "dict_keys([b'Distance', b'StQArr', b'Energy', b'Qdom', b'CoG', b'Qst', b'PDG', b'PosSt', b'ID', b'Qtot'])\n",
      "{b'Distance': 75.4779863075687, b'StQArr': ((0.32499998807907104, 8), (0.42500001192092896, 83), (0.5249999761581421, 22), (0.625, 69), (0.824999988079071, 2), (0.824999988079071, 66), (0.9000000059604645, 14), (1.0750000476837158, 75), (1.0999999940395355, 80), (1.125, 55), (1.1749999523162842, 60), (1.1749999523162842, 73), (1.225000023841858, 7), (1.274999976158142, 12), (1.274999976158142, 72), (1.550000011920929, 54), (1.774999976158142, 1), (1.875, 9), (1.9000000357627869, 82), (2.2249999046325684, 77), (2.25, 31), (2.425000011920929, 36), (2.5, 46), (2.674999922513962, 27), (2.8000000417232513, 81), (2.8749999403953552, 28), (2.9749999940395355, 41), (3.075000047683716, 45), (3.125, 62), (3.6499999463558197, 10), (5.150000035762787, 51), (5.675000071525574, 84), (5.699999988079071, 61), (5.800000011920929, 79), (6.349999964237213, 15), (7.575000047683716, 17), (8.499999940395355, 26), (10.574999898672104, 53), (11.800000131130219, 23), (11.97500005364418, 32), (14.02500006556511, 16), (15.774999976158142, 52), (23.199999928474426, 86), (24.449999913573265, 35), (30.67499989271164, 85), (43.90000016987324, 44), (45.84999969601631, 42), (78.2750002592802, 25), (126.52499987185001, 24), (220.15000024437904, 43), (330.8500004950911, 33), (1103.6499970853329, 34)), b'Energy': 32941.24302246454, b'Qdom': 265.7749992907047, b'CoG': (-225.50886524697785, -72.24766348177697, -440.1588673526074), b'Qst': 1103.6499970853329, b'PDG': -15.0, b'PosSt': (-200.5500030517578, -74.02999877929688, -368.94928305489674), b'ID': (1, 4294967295, 0, 0), b'Qtot': (2152.2999979201704, 2187.974997455254)}\n"
     ]
    }
   ],
   "source": [
    "tot = len(data)\n",
    "print(tot)\n",
    "print(data[0].keys())\n",
    "print(data[0])"
   ]
  },
  {
   "cell_type": "code",
   "execution_count": 17,
   "metadata": {},
   "outputs": [
    {
     "data": {
      "text/plain": [
       "(4342931, 10)"
      ]
     },
     "execution_count": 17,
     "metadata": {},
     "output_type": "execute_result"
    }
   ],
   "source": [
    "df = pd.DataFrame(list(data))\n",
    "df[b'Distance'][0:10]\n",
    "df.shape"
   ]
  },
  {
   "cell_type": "code",
   "execution_count": 18,
   "metadata": {},
   "outputs": [
    {
     "name": "stdout",
     "output_type": "stream",
     "text": [
      "4342931 4342931 4342931\n"
     ]
    },
    {
     "data": {
      "text/plain": [
       "(4342931, 15)"
      ]
     },
     "execution_count": 18,
     "metadata": {},
     "output_type": "execute_result"
    }
   ],
   "source": [
    "cog = np.array(df[b'CoG'].values.tolist())\n",
    "st_pos = np.array(df[b'PosSt'].values.tolist())\n",
    "q_tot = np.array(df[b'Qtot'].values.tolist())\n",
    "print(len(cog),len(st_pos),len(q_tot))\n",
    "df['CoG_x'] = cog[:,0]\n",
    "df['CoG_y'] = cog[:,1]\n",
    "df['CoG_z'] = cog[:,2]\n",
    "df['St_x'] = st_pos[:,0]\n",
    "df['St_y'] = st_pos[:,1]\n",
    "df['St_z'] = st_pos[:,2]\n",
    "df['Qtot_a'] = q_tot[:,0]\n",
    "df['Qtot_b'] = q_tot[:,1]\n",
    "df = df.drop(columns = [b'CoG',b'PosSt',b'Qtot'], axis = 1)\n",
    "df.shape"
   ]
  },
  {
   "cell_type": "code",
   "execution_count": 19,
   "metadata": {},
   "outputs": [
    {
     "data": {
      "text/plain": [
       "Index([b'Distance',   b'Energy',       b'ID',      b'PDG',     b'Qdom',\n",
       "            b'Qst',   b'StQArr',     'CoG_x',     'CoG_y',     'CoG_z',\n",
       "            'St_x',      'St_y',      'St_z',    'Qtot_a',    'Qtot_b',\n",
       "            'St_1',      'St_2',      'St_3',     'Qst_2',     'Qst_3'],\n",
       "      dtype='object')"
      ]
     },
     "execution_count": 19,
     "metadata": {},
     "output_type": "execute_result"
    }
   ],
   "source": [
    "st_arr = df[b'StQArr']  \n",
    "st_arr = [[np.array(ev)[-1][1], np.array(ev)[-2][1],np.array(ev)[-3][1], np.array(ev)[-2][0],np.array(ev)[-3][0]] for ev in st_arr]\n",
    "st_arr = np.stack(st_arr)\n",
    "df['St_1'] = st_arr[:,0]\n",
    "df['St_2'] = st_arr[:,1]\n",
    "df['St_3'] = st_arr[:,2]\n",
    "df['Qst_2'] = st_arr[:,3]\n",
    "df['Qst_3'] = st_arr[:,4]\n",
    "\n",
    "df.columns  "
   ]
  },
  {
   "cell_type": "code",
   "execution_count": 20,
   "metadata": {},
   "outputs": [
    {
     "data": {
      "text/plain": [
       "(4342931, 20)"
      ]
     },
     "execution_count": 20,
     "metadata": {},
     "output_type": "execute_result"
    }
   ],
   "source": [
    "df.head()\n",
    "df.shape"
   ]
  },
  {
   "cell_type": "code",
   "execution_count": 21,
   "metadata": {},
   "outputs": [],
   "source": [
    "df.to_pickle(\"/home/dup193/work/double_pulse/data/make_plot/MakePlot_DF_All.pkl\")"
   ]
  },
  {
   "cell_type": "code",
   "execution_count": null,
   "metadata": {},
   "outputs": [],
   "source": []
  }
 ],
 "metadata": {
  "kernelspec": {
   "display_name": "Python 3",
   "language": "python",
   "name": "python3"
  },
  "language_info": {
   "codemirror_mode": {
    "name": "ipython",
    "version": 3
   },
   "file_extension": ".py",
   "mimetype": "text/x-python",
   "name": "python",
   "nbconvert_exporter": "python",
   "pygments_lexer": "ipython3",
   "version": "3.7.4"
  }
 },
 "nbformat": 4,
 "nbformat_minor": 4
}
