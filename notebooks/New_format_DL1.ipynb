{
 "cells": [
  {
   "cell_type": "code",
   "execution_count": 1,
   "metadata": {},
   "outputs": [],
   "source": [
    "from __future__ import division\n",
    "import matplotlib as mpl\n",
    "import matplotlib.pyplot as plt\n",
    "import numpy as np\n",
    "import pickle"
   ]
  },
  {
   "cell_type": "code",
   "execution_count": 2,
   "metadata": {},
   "outputs": [
    {
     "name": "stdout",
     "output_type": "stream",
     "text": [
      "0.2272015596816976\n"
     ]
    }
   ],
   "source": [
    "c =0.299792458\n",
    "n =1.3195\n",
    "v=c/n \n",
    "print(v)"
   ]
  },
  {
   "cell_type": "code",
   "execution_count": 3,
   "metadata": {},
   "outputs": [],
   "source": [
    "info_d = []\n",
    "info_s = []\n",
    "data_d = []\n",
    "data_s = []\n",
    "\n",
    "for i in range(0,10):\n",
    "    name_dd = \"../data/Tau05to15PeV_00{0}_data.npy\".format(i)\n",
    "    name_di = \"../data/Tau05to15PeV_00{0}_info.pkl\".format(i)\n",
    "    name_sd = \"../data/Electron05to15PeV_00{0}_data.npy\".format(i)\n",
    "    name_si = \"../data/Electron05to15PeV_00{0}_info.pkl\".format(i)\n",
    "    info_d_temp = pickle.load(open(name_di, \"rb\"))\n",
    "    info_s_temp = pickle.load(open(name_si, \"rb\"))\n",
    "    data_d_temp = np.load(name_dd ,allow_pickle=True,encoding='bytes')\n",
    "    data_s_temp = np.load(name_sd ,allow_pickle=True,encoding='bytes')\n",
    "    info_d = info_d + info_d_temp\n",
    "    info_s = info_s + info_s_temp\n",
    "    data_d.append(data_d_temp)    \n",
    "    data_s.append(data_s_temp)\n",
    "data_d = np.vstack(data_d)\n",
    "data_s = np.vstack(data_s)\n",
    "info_d = np.array(info_d)\n",
    "info_s = np.array(info_s)"
   ]
  },
  {
   "cell_type": "code",
   "execution_count": 4,
   "metadata": {},
   "outputs": [
    {
     "name": "stdout",
     "output_type": "stream",
     "text": [
      "(10062,) (10062, 300, 60)\n",
      "(24019,) (24019, 300, 60)\n",
      "<class 'numpy.float64'>\n"
     ]
    }
   ],
   "source": [
    "print(info_d.shape, data_d.shape)\n",
    "print(info_s.shape, data_s.shape)\n",
    "print(type(data_d_temp[0][0][0]))"
   ]
  },
  {
   "cell_type": "code",
   "execution_count": 5,
   "metadata": {},
   "outputs": [
    {
     "name": "stdout",
     "output_type": "stream",
     "text": [
      "6.405907616717559e-09\n",
      "-5.962297593924894e-11\n",
      "6.883592770365534e-09\n",
      "-6.128851422642174e-11\n"
     ]
    }
   ],
   "source": [
    "print(np.amax(data_d))\n",
    "print(np.amin(data_d))\n",
    "print(np.amax(data_s))\n",
    "print(np.amin(data_s))"
   ]
  },
  {
   "cell_type": "code",
   "execution_count": 6,
   "metadata": {},
   "outputs": [
    {
     "name": "stdout",
     "output_type": "stream",
     "text": [
      "(10062,)\n",
      "(24019,)\n",
      "1.0\n",
      "0.0\n"
     ]
    }
   ],
   "source": [
    "label_d = np.ones(len(data_d))\n",
    "label_s = np.zeros(len(data_s))\n",
    "print(label_d.shape)\n",
    "print(label_s.shape)\n",
    "print(label_d[0])\n",
    "print(label_s[0])"
   ]
  },
  {
   "cell_type": "code",
   "execution_count": 7,
   "metadata": {},
   "outputs": [
    {
     "name": "stdout",
     "output_type": "stream",
     "text": [
      "(34081, 300, 60)\n",
      "(34081,)\n",
      "1.0\n"
     ]
    },
    {
     "data": {
      "image/png": "[encoded data removed]",
      "text/plain": [
       "<Figure size 360x360 with 1 Axes>"
      ]
     },
     "metadata": {
      "needs_background": "light"
     },
     "output_type": "display_data"
    }
   ],
   "source": [
    "data = np.concatenate((data_d, data_s), axis = 0) \n",
    "label = np.concatenate((label_d, label_s), axis = 0) \n",
    "print(data.shape)\n",
    "fig = plt.figure(figsize=(5, 5))\n",
    "ax = fig.add_subplot(111)\n",
    "ax.imshow(data[2], interpolation='nearest', aspect='auto', cmap= 'gray')\n",
    "print(label.shape)\n",
    "print(label[2])"
   ]
  },
  {
   "cell_type": "code",
   "execution_count": 8,
   "metadata": {},
   "outputs": [],
   "source": [
    "from sklearn.utils import shuffle"
   ]
  },
  {
   "cell_type": "code",
   "execution_count": 9,
   "metadata": {},
   "outputs": [
    {
     "name": "stdout",
     "output_type": "stream",
     "text": [
      "(34081, 300, 60) (34081,)\n",
      "1.0\n"
     ]
    },
    {
     "data": {
      "image/png": "[encoded data removed]",
      "text/plain": [
       "<Figure size 360x360 with 1 Axes>"
      ]
     },
     "metadata": {
      "needs_background": "light"
     },
     "output_type": "display_data"
    }
   ],
   "source": [
    "data, label = shuffle(data, label, random_state = 12)\n",
    "print(data.shape, label.shape)\n",
    "fig = plt.figure(figsize=(5, 5))\n",
    "ax = fig.add_subplot(111)\n",
    "ax.imshow(data[2], interpolation='nearest', aspect='auto', cmap= 'gray')\n",
    "print(label[2])"
   ]
  },
  {
   "cell_type": "code",
   "execution_count": 10,
   "metadata": {},
   "outputs": [],
   "source": [
    "train_data = data[:26000]\n",
    "train_label = label[:26000]\n",
    "train_data = train_data.reshape((len(train_data),300,60,1))\n",
    "train_data = train_data.astype('float32')/10**-8\n",
    "\n",
    "valid_data = data[26000:30000]\n",
    "valid_label = label[26000:30000]\n",
    "valid_data = valid_data.reshape((len(valid_data),300,60,1))\n",
    "valid_data = valid_data.astype('float32')/10**-8\n",
    "\n",
    "test_data = data[30000:]\n",
    "test_label = label[30000:]\n",
    "test_data = test_data.reshape((len(test_data),300,60,1))\n",
    "test_data = test_data.astype('float32')/10**-8"
   ]
  },
  {
   "cell_type": "code",
   "execution_count": 11,
   "metadata": {},
   "outputs": [
    {
     "name": "stdout",
     "output_type": "stream",
     "text": [
      "0.68835926\n",
      "-0.006117019\n"
     ]
    }
   ],
   "source": [
    "print(np.amax(train_data))\n",
    "print(np.amin(train_data))"
   ]
  },
  {
   "cell_type": "code",
   "execution_count": 12,
   "metadata": {},
   "outputs": [
    {
     "name": "stderr",
     "output_type": "stream",
     "text": [
      "Using TensorFlow backend.\n"
     ]
    }
   ],
   "source": [
    "from keras import layers\n",
    "from keras import models"
   ]
  },
  {
   "cell_type": "code",
   "execution_count": 13,
   "metadata": {},
   "outputs": [],
   "source": [
    "#for im in data_d[:100]:\n",
    "#    print(im.shape)\n",
    "#    fig = plt.figure(figsize=(12, 12))\n",
    "#    ax = fig.add_subplot(111)\n",
    "#    ax.imshow(im, interpolation='nearest', aspect='auto', cmap= 'gray')\n",
    "    #ax.plot(im[14,:])\n",
    "    #print(im[:,46])"
   ]
  },
  {
   "cell_type": "code",
   "execution_count": 14,
   "metadata": {},
   "outputs": [
    {
     "name": "stderr",
     "output_type": "stream",
     "text": [
      "WARNING: Logging before flag parsing goes to stderr.\n",
      "W0704 16:04:08.583938 139682155157248 deprecation_wrapper.py:119] From /home/dup193/anaconda3/lib/python3.7/site-packages/keras/backend/tensorflow_backend.py:74: The name tf.get_default_graph is deprecated. Please use tf.compat.v1.get_default_graph instead.\n",
      "\n",
      "W0704 16:04:08.606980 139682155157248 deprecation_wrapper.py:119] From /home/dup193/anaconda3/lib/python3.7/site-packages/keras/backend/tensorflow_backend.py:517: The name tf.placeholder is deprecated. Please use tf.compat.v1.placeholder instead.\n",
      "\n",
      "W0704 16:04:08.610152 139682155157248 deprecation_wrapper.py:119] From /home/dup193/anaconda3/lib/python3.7/site-packages/keras/backend/tensorflow_backend.py:4138: The name tf.random_uniform is deprecated. Please use tf.random.uniform instead.\n",
      "\n",
      "W0704 16:04:08.629062 139682155157248 deprecation_wrapper.py:119] From /home/dup193/anaconda3/lib/python3.7/site-packages/keras/backend/tensorflow_backend.py:3976: The name tf.nn.max_pool is deprecated. Please use tf.nn.max_pool2d instead.\n",
      "\n"
     ]
    },
    {
     "name": "stdout",
     "output_type": "stream",
     "text": [
      "_________________________________________________________________\n",
      "Layer (type)                 Output Shape              Param #   \n",
      "=================================================================\n",
      "conv2d_1 (Conv2D)            (None, 296, 56, 32)       832       \n",
      "_________________________________________________________________\n",
      "max_pooling2d_1 (MaxPooling2 (None, 148, 28, 32)       0         \n",
      "_________________________________________________________________\n",
      "conv2d_2 (Conv2D)            (None, 146, 26, 32)       9248      \n",
      "_________________________________________________________________\n",
      "max_pooling2d_2 (MaxPooling2 (None, 73, 13, 32)        0         \n",
      "_________________________________________________________________\n",
      "conv2d_3 (Conv2D)            (None, 71, 11, 64)        18496     \n",
      "_________________________________________________________________\n",
      "max_pooling2d_3 (MaxPooling2 (None, 35, 5, 64)         0         \n",
      "_________________________________________________________________\n",
      "flatten_1 (Flatten)          (None, 11200)             0         \n",
      "_________________________________________________________________\n",
      "dense_1 (Dense)              (None, 256)               2867456   \n",
      "_________________________________________________________________\n",
      "dense_2 (Dense)              (None, 1)                 257       \n",
      "=================================================================\n",
      "Total params: 2,896,289\n",
      "Trainable params: 2,896,289\n",
      "Non-trainable params: 0\n",
      "_________________________________________________________________\n"
     ]
    }
   ],
   "source": [
    "model = models.Sequential()\n",
    "model.add(layers.Conv2D(32, (5, 5), activation='relu', input_shape=(300, 60, 1)))\n",
    "model.add(layers.MaxPooling2D((2, 2)))\n",
    "model.add(layers.Conv2D(32, (3, 3), activation='relu'))\n",
    "model.add(layers.MaxPooling2D((2, 2)))\n",
    "model.add(layers.Conv2D(64, (3, 3), activation='relu'))\n",
    "model.add(layers.MaxPooling2D((2, 2)))\n",
    "model.add(layers.Flatten())\n",
    "model.add(layers.Dense(256, activation='relu'))\n",
    "model.add(layers.Dense(1, activation='sigmoid'))\n",
    "model.summary()"
   ]
  },
  {
   "cell_type": "code",
   "execution_count": 15,
   "metadata": {},
   "outputs": [
    {
     "name": "stderr",
     "output_type": "stream",
     "text": [
      "W0704 16:04:11.199079 139682155157248 deprecation_wrapper.py:119] From /home/dup193/anaconda3/lib/python3.7/site-packages/keras/optimizers.py:790: The name tf.train.Optimizer is deprecated. Please use tf.compat.v1.train.Optimizer instead.\n",
      "\n",
      "W0704 16:04:11.226514 139682155157248 deprecation_wrapper.py:119] From /home/dup193/anaconda3/lib/python3.7/site-packages/keras/backend/tensorflow_backend.py:3376: The name tf.log is deprecated. Please use tf.math.log instead.\n",
      "\n",
      "W0704 16:04:11.232788 139682155157248 deprecation.py:323] From /home/dup193/anaconda3/lib/python3.7/site-packages/tensorflow/python/ops/nn_impl.py:180: add_dispatch_support.<locals>.wrapper (from tensorflow.python.ops.array_ops) is deprecated and will be removed in a future version.\n",
      "Instructions for updating:\n",
      "Use tf.where in 2.0, which has the same broadcast rule as np.where\n"
     ]
    }
   ],
   "source": [
    "model.compile(loss='binary_crossentropy',\n",
    "              optimizer=\"rmsprop\",\n",
    "              metrics=['acc'])"
   ]
  },
  {
   "cell_type": "code",
   "execution_count": 16,
   "metadata": {},
   "outputs": [
    {
     "name": "stderr",
     "output_type": "stream",
     "text": [
      "W0704 16:04:15.963875 139682155157248 deprecation_wrapper.py:119] From /home/dup193/anaconda3/lib/python3.7/site-packages/keras/backend/tensorflow_backend.py:986: The name tf.assign_add is deprecated. Please use tf.compat.v1.assign_add instead.\n",
      "\n"
     ]
    },
    {
     "name": "stdout",
     "output_type": "stream",
     "text": [
      "Train on 26000 samples, validate on 4000 samples\n",
      "Epoch 1/20\n",
      "26000/26000 [==============================] - 105s 4ms/step - loss: 0.6058 - acc: 0.7045 - val_loss: 0.5952 - val_acc: 0.7015\n",
      "Epoch 2/20\n",
      "26000/26000 [==============================] - 104s 4ms/step - loss: 0.5853 - acc: 0.7070 - val_loss: 0.5810 - val_acc: 0.7027\n",
      "Epoch 3/20\n",
      "26000/26000 [==============================] - 104s 4ms/step - loss: 0.5737 - acc: 0.7153 - val_loss: 0.5698 - val_acc: 0.7205\n",
      "Epoch 4/20\n",
      "26000/26000 [==============================] - 104s 4ms/step - loss: 0.5604 - acc: 0.7270 - val_loss: 0.5690 - val_acc: 0.7245\n",
      "Epoch 5/20\n",
      "26000/26000 [==============================] - 104s 4ms/step - loss: 0.5438 - acc: 0.7417 - val_loss: 0.5524 - val_acc: 0.7350\n",
      "Epoch 6/20\n",
      "26000/26000 [==============================] - 104s 4ms/step - loss: 0.5273 - acc: 0.7545 - val_loss: 0.5828 - val_acc: 0.7302\n",
      "Epoch 7/20\n",
      "26000/26000 [==============================] - 104s 4ms/step - loss: 0.5103 - acc: 0.7673 - val_loss: 0.5744 - val_acc: 0.7208\n",
      "Epoch 8/20\n",
      "26000/26000 [==============================] - 104s 4ms/step - loss: 0.4972 - acc: 0.7723 - val_loss: 0.5103 - val_acc: 0.7655\n",
      "Epoch 9/20\n",
      "26000/26000 [==============================] - 104s 4ms/step - loss: 0.4807 - acc: 0.7851 - val_loss: 0.5244 - val_acc: 0.7638\n",
      "Epoch 10/20\n",
      "26000/26000 [==============================] - 104s 4ms/step - loss: 0.4698 - acc: 0.7926 - val_loss: 0.5238 - val_acc: 0.7662\n",
      "Epoch 11/20\n",
      "26000/26000 [==============================] - 104s 4ms/step - loss: 0.4618 - acc: 0.7927 - val_loss: 0.5245 - val_acc: 0.7698\n",
      "Epoch 12/20\n",
      "26000/26000 [==============================] - 104s 4ms/step - loss: 0.4536 - acc: 0.8000 - val_loss: 0.6235 - val_acc: 0.6947\n",
      "Epoch 13/20\n",
      "26000/26000 [==============================] - 105s 4ms/step - loss: 0.4478 - acc: 0.8025 - val_loss: 0.5014 - val_acc: 0.7853\n",
      "Epoch 14/20\n",
      "26000/26000 [==============================] - 104s 4ms/step - loss: 0.4396 - acc: 0.8077 - val_loss: 0.4875 - val_acc: 0.7903\n",
      "Epoch 15/20\n",
      "26000/26000 [==============================] - 104s 4ms/step - loss: 0.4326 - acc: 0.8107 - val_loss: 0.5043 - val_acc: 0.7897\n",
      "Epoch 16/20\n",
      "26000/26000 [==============================] - 105s 4ms/step - loss: 0.4303 - acc: 0.8141 - val_loss: 0.4862 - val_acc: 0.7980\n",
      "Epoch 17/20\n",
      "26000/26000 [==============================] - 104s 4ms/step - loss: 0.4225 - acc: 0.8160 - val_loss: 0.5034 - val_acc: 0.7820\n",
      "Epoch 18/20\n",
      "26000/26000 [==============================] - 104s 4ms/step - loss: 0.4168 - acc: 0.8197 - val_loss: 0.5440 - val_acc: 0.7895\n",
      "Epoch 19/20\n",
      "26000/26000 [==============================] - 105s 4ms/step - loss: 0.4114 - acc: 0.8222 - val_loss: 0.5336 - val_acc: 0.7955\n",
      "Epoch 20/20\n",
      "26000/26000 [==============================] - 104s 4ms/step - loss: 0.4070 - acc: 0.8231 - val_loss: 0.5358 - val_acc: 0.7702\n"
     ]
    }
   ],
   "source": [
    "history = model.fit(train_data,train_label, epochs=20, validation_data=(valid_data,valid_label), batch_size =128)"
   ]
  },
  {
   "cell_type": "code",
   "execution_count": 17,
   "metadata": {},
   "outputs": [],
   "source": [
    "model.save('DP_first_model.h5')"
   ]
  },
  {
   "cell_type": "code",
   "execution_count": 18,
   "metadata": {},
   "outputs": [
    {
     "data": {
      "image/png": "[encoded data removed]",
      "text/plain": [
       "<Figure size 432x288 with 1 Axes>"
      ]
     },
     "metadata": {
      "needs_background": "light"
     },
     "output_type": "display_data"
    },
    {
     "data": {
      "image/png": "[encoded data removed]",
      "text/plain": [
       "<Figure size 432x288 with 1 Axes>"
      ]
     },
     "metadata": {
      "needs_background": "light"
     },
     "output_type": "display_data"
    }
   ],
   "source": [
    "acc = history.history['acc']\n",
    "val_acc = history.history['val_acc']\n",
    "loss = history.history['loss']\n",
    "val_loss = history.history['val_loss']\n",
    "\n",
    "epochs = range(len(acc))\n",
    "\n",
    "plt.plot(epochs, acc, 'bo', label='Training acc')\n",
    "plt.plot(epochs, val_acc, 'b', label='Validation acc')\n",
    "plt.title('Training and validation accuracy')\n",
    "plt.legend()\n",
    "\n",
    "plt.figure()\n",
    "\n",
    "plt.plot(epochs, loss, 'bo', label='Training loss')\n",
    "plt.plot(epochs, val_loss, 'b', label='Validation loss')\n",
    "plt.title('Training and validation loss')\n",
    "plt.legend()\n",
    "\n",
    "plt.show()"
   ]
  },
  {
   "cell_type": "code",
   "execution_count": 19,
   "metadata": {},
   "outputs": [
    {
     "name": "stdout",
     "output_type": "stream",
     "text": [
      "4081/4081 [==============================] - 4s 873us/step\n",
      "[0.5269325043795243, 0.7760352855276693]\n"
     ]
    }
   ],
   "source": [
    "result = model.evaluate(test_data,test_label)\n",
    "print(result)"
   ]
  }
 ],
 "metadata": {
  "kernelspec": {
   "display_name": "Python 3",
   "language": "python",
   "name": "python3"
  },
  "language_info": {
   "codemirror_mode": {
    "name": "ipython",
    "version": 3
   },
   "file_extension": ".py",
   "mimetype": "text/x-python",
   "name": "python",
   "nbconvert_exporter": "python",
   "pygments_lexer": "ipython3",
   "version": "3.7.3"
  }
 },
 "nbformat": 4,
 "nbformat_minor": 2
}
