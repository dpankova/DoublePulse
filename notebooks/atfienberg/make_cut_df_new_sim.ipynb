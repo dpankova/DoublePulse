{
 "cells": [
  {
   "cell_type": "markdown",
   "metadata": {},
   "source": [
    "### Combine new sim files into a single summary dataframe\n",
    "Include muon gun events as well"
   ]
  },
  {
   "cell_type": "code",
   "execution_count": 1,
   "metadata": {},
   "outputs": [],
   "source": [
    "import numpy as np\n",
    "import pandas as pd"
   ]
  },
  {
   "cell_type": "code",
   "execution_count": 2,
   "metadata": {},
   "outputs": [],
   "source": [
    "# preliminary cut values\n",
    "LLH_DIFF = -0.1\n",
    "Qst1 = 2000\n",
    "Qst2 = 10\n",
    "Qst3 = 10\n",
    "RLOGL = 10"
   ]
  },
  {
   "cell_type": "code",
   "execution_count": 3,
   "metadata": {},
   "outputs": [],
   "source": [
    "# nominal\n",
    "prefix = '/data/tmg5746/Scores/'\n",
    "\n",
    "# (filename, n_evts_cut, n_files) \n",
    "\n",
    "# CC\n",
    "CC_files = [('genie_NuTau_1.npy', 10000, 14834),\n",
    "            ('genie_NuMu_1.npy', 10000, 17239),\n",
    "            ('genie_NuE_1.npy', 10000, 11991)]\n",
    "\n",
    "# GR\n",
    "GR_files = [('genie_NuE_3.npy', 10000, 11991)]\n",
    "\n",
    "# NC\n",
    "NC_files = [('genie_NuTau_2.npy', 10000, 14834),\n",
    "            ('genie_NuMu_2.npy', 10000, 17239),\n",
    "            ('genie_NuE_2.npy', 10000, 11991)]\n",
    "\n",
    "# atmos\n",
    "\n",
    "# muon gun separately\n",
    "mg_file = [('/fastio2/dasha/double_pulse/data_MuonGun_all.npy', None, None, None)]\n",
    "\n",
    "outname = 'nominal_new_sim'"
   ]
  },
  {
   "cell_type": "code",
   "execution_count": 4,
   "metadata": {},
   "outputs": [
    {
     "data": {
      "text/plain": [
       "[('genie_NuTau_1.npy', 10000, 14834),\n",
       " ('genie_NuMu_1.npy', 10000, 17239),\n",
       " ('genie_NuE_1.npy', 10000, 11991),\n",
       " ('genie_NuE_3.npy', 10000, 11991),\n",
       " ('genie_NuTau_2.npy', 10000, 14834),\n",
       " ('genie_NuMu_2.npy', 10000, 17239),\n",
       " ('genie_NuE_2.npy', 10000, 11991),\n",
       " ('/fastio2/dasha/double_pulse/data_MuonGun_all.npy', None, None, None)]"
      ]
     },
     "execution_count": 4,
     "metadata": {},
     "output_type": "execute_result"
    }
   ],
   "source": [
    "files_to_load = CC_files + GR_files + NC_files + mg_file\n",
    "files_to_load"
   ]
  },
  {
   "cell_type": "markdown",
   "metadata": {},
   "source": [
    "### Combine all the event types into a single dataframe"
   ]
  },
  {
   "cell_type": "code",
   "execution_count": 5,
   "metadata": {},
   "outputs": [
    {
     "name": "stdout",
     "output_type": "stream",
     "text": [
      "loading genie_NuTau_1.npy\n",
      "loading genie_NuMu_1.npy\n",
      "loading genie_NuE_1.npy\n",
      "loading genie_NuE_3.npy\n",
      "loading genie_NuTau_2.npy\n",
      "loading genie_NuMu_2.npy\n",
      "loading genie_NuE_2.npy\n",
      "Loading /fastio2/dasha/double_pulse/data_MuonGun_all.npy\n"
     ]
    }
   ],
   "source": [
    "field_getters = {\"qtot\": lambda a: a[\"qtot\"],\n",
    "                 \"llh_diff\": lambda a: a[\"logan_veto\"][\"SPE_rlogl\"] - a[\"logan_veto\"][\"Cascade_rlogl\"],\n",
    "                 \"spe_rlogl\": lambda a: a[\"logan_veto\"][\"SPE_rlogl\"],\n",
    "                 \"qst0\": lambda a: a[\"qst\"][\"q\"][:, 0],\n",
    "                 \"qst1\": lambda a: a[\"qst\"][\"q\"][:, 1],\n",
    "                 \"qst2\": lambda a: a[\"qst\"][\"q\"][:, 2],\n",
    "                 \"stnum0\": lambda a: a[\"qst\"][\"num\"][:, 0],\n",
    "                 \"stnum1\": lambda a: a[\"qst\"][\"num\"][:, 1],\n",
    "                 \"stnum2\": lambda a: a[\"qst\"][\"num\"][:, 2],\n",
    "                 \"n1\": lambda a: a[\"preds\"][\"n1\"],\n",
    "                 \"n2\": lambda a: a[\"preds\"][\"n2\"],\n",
    "                 \"n3\": lambda a: a[\"preds\"][\"n3\"],\n",
    "                 \"pid\": lambda a: a[\"primary\"][\"pdg\"],\n",
    "                 \"it\": lambda a: a[\"weight_dict\"][\"InteractionType\"],\n",
    "                 \"coszen\": lambda a: np.cos(a[\"primary\"][\"direction\"][:, 0]),\n",
    "                 \"energy\": lambda a: a[\"primary\"][\"energy\"],\n",
    "                 \"n_events\": lambda a: a[\"weight_dict\"][\"NEvents\"],\n",
    "                 \"n_files\": lambda a: np.zeros(len(a)),\n",
    "                 \"typeweight\": lambda a: a[\"weight_dict\"][\"TypeWeight\"],\n",
    "                 \"oneweight\": lambda a: a[\"weight_dict\"][\"OneWeight\"],\n",
    "                }\n",
    "\n",
    "df_dict = {key: np.array([]) for key in field_getters.keys()}\n",
    "for fname, n_events, n_files in files_to_load[:-1]:\n",
    "    print(f\"loading {fname}\")\n",
    "    array = np.load(f\"{prefix}{fname}\")\n",
    "    # select the desired dataset\n",
    "    array = array[array[\"weight_dict\"][\"NEvents\"] == n_events]\n",
    "    \n",
    "    start_ind = len(df_dict[\"n_files\"])\n",
    "    for key in field_getters.keys():\n",
    "        df_dict[key] = np.hstack((df_dict[key], field_getters[key](array)))\n",
    "    df_dict[\"n_files\"][start_ind:] = n_files\n",
    "    \n",
    "# load muon gun separately\n",
    "mg_file = files_to_load[-1][0]\n",
    "print(f\"Loading {mg_file}\")\n",
    "mg = np.load(mg_file)\n",
    "for key in field_getters.keys():\n",
    "    if key == \"n2\":\n",
    "        new_vals = mg[\"preds\"][\"n2_1\"]\n",
    "    elif key == \"it\" or key == \"n_events\" or key == \"typeweight\":\n",
    "        new_vals = np.full(len(mg), 0)\n",
    "    elif key == \"oneweight\":\n",
    "        new_vals = mg[\"weight_val\"]\n",
    "    else:\n",
    "        new_vals = field_getters[key](mg)\n",
    "    df_dict[key] = np.hstack((df_dict[key], new_vals))\n",
    "    \n",
    "df = pd.DataFrame(df_dict)"
   ]
  },
  {
   "cell_type": "markdown",
   "metadata": {},
   "source": [
    "### Apply preliminary cuts"
   ]
  },
  {
   "cell_type": "code",
   "execution_count": 6,
   "metadata": {},
   "outputs": [],
   "source": [
    "q_mask = (df.qst0 > Qst1) & (df.qst1 > Qst2) & (df.qst2 > Qst3)\n",
    "rlogl_mask = (df.spe_rlogl < RLOGL)\n",
    "llh_diff_mask = (df.llh_diff > LLH_DIFF)\n",
    "df = pd.DataFrame(df[q_mask & rlogl_mask & llh_diff_mask])"
   ]
  },
  {
   "cell_type": "code",
   "execution_count": 7,
   "metadata": {},
   "outputs": [],
   "source": [
    "# calculate string charge asymmetry\n",
    "df[\"q_asym\"] = 1 - df.qst0 / (df.qst0 + df.qst1 + df.qst2)"
   ]
  },
  {
   "cell_type": "markdown",
   "metadata": {},
   "source": [
    "### save the dataframe"
   ]
  },
  {
   "cell_type": "code",
   "execution_count": 8,
   "metadata": {},
   "outputs": [],
   "source": [
    "import datetime\n",
    "date_str = datetime.datetime.now().strftime(\"%m_%d_%Y\")\n",
    "df.to_hdf(f\"{outname}_{date_str}.h5\", key=\"df\", mode=\"w\")"
   ]
  }
 ],
 "metadata": {
  "kernelspec": {
   "display_name": "Python [conda env:root] *",
   "language": "python",
   "name": "conda-root-py"
  },
  "language_info": {
   "codemirror_mode": {
    "name": "ipython",
    "version": 3
   },
   "file_extension": ".py",
   "mimetype": "text/x-python",
   "name": "python",
   "nbconvert_exporter": "python",
   "pygments_lexer": "ipython3",
   "version": "3.8.12"
  }
 },
 "nbformat": 4,
 "nbformat_minor": 4
}
