{
 "cells": [
  {
   "cell_type": "code",
   "execution_count": 1,
   "metadata": {},
   "outputs": [],
   "source": [
    "from __future__ import division, print_function\n",
    "from concurrent.futures import ProcessPoolExecutor, wait\n",
    "from matplotlib import pyplot as plt\n",
    "from scipy import optimize as sco\n",
    "import numpy as np\n",
    "from tqdm import tqdm\n",
    "import pandas as pd\n",
    "import sys\n",
    "import os"
   ]
  },
  {
   "cell_type": "code",
   "execution_count": 2,
   "metadata": {},
   "outputs": [],
   "source": [
    "data_t0 = np.load('/fastio2/dasha/double_pulse/data_11vars_NuTau_1_1_1.npy',mmap_mode='r')\n",
    "data_m0 = np.load('/fastio2/dasha/double_pulse/data_11vars_NuMu_1_1_1.npy',mmap_mode='r')\n",
    "data_e0 = np.load('/fastio2/dasha/double_pulse/data_11vars_NuE_1_1_1.npy',mmap_mode='r')\n",
    "data_c0 = np.load('/fastio2/dasha/double_pulse/data_Corsika_11057_11058_10670_trial.npy',mmap_mode='r')"
   ]
  },
  {
   "cell_type": "code",
   "execution_count": 3,
   "metadata": {},
   "outputs": [
    {
     "name": "stdout",
     "output_type": "stream",
     "text": [
      "(990,) (51,) (12,) (0,)\n"
     ]
    }
   ],
   "source": [
    "maskl_t = data_t0['logan_veto']['SPE_rlogl']-data_t0['logan_veto']['Cascade_rlogl'] >-0.1\n",
    "maskl_m = data_m0['logan_veto']['SPE_rlogl']-data_m0['logan_veto']['Cascade_rlogl'] >-0.1\n",
    "maskl_e = data_e0['logan_veto']['SPE_rlogl']-data_e0['logan_veto']['Cascade_rlogl'] >-0.1\n",
    "maskl_c = data_c0['logan_veto']['SPE_rlogl']-data_c0['logan_veto']['Cascade_rlogl'] >-0.1\n",
    "masks_t = (data_t0['preds']['n1'] >= 0.99) & (data_t0['preds']['n4'] >= 0.8)\n",
    "masks_m = (data_m0['preds']['n1'] >= 0.99) & (data_m0['preds']['n4'] >= 0.8)\n",
    "masks_e = (data_e0['preds']['n1'] >= 0.99) & (data_e0['preds']['n4'] >= 0.8)\n",
    "masks_c = (data_c0['preds']['n1'] >= 0.99) & (data_c0['preds']['n4'] >= 0.8)\n",
    "mask_t = maskl_t & masks_t\n",
    "mask_m = maskl_m & masks_m\n",
    "mask_e = maskl_e & masks_e\n",
    "mask_c = maskl_c & masks_c\n",
    "data_t = data_t0[mask_t]\n",
    "data_m = data_m0[mask_m]\n",
    "data_e = data_e0[mask_e]\n",
    "data_c = data_c0[mask_c]\n",
    "print(data_t.shape,data_m.shape,data_e.shape,data_c.shape)"
   ]
  },
  {
   "cell_type": "code",
   "execution_count": 5,
   "metadata": {},
   "outputs": [
    {
     "name": "stdout",
     "output_type": "stream",
     "text": [
      "0.8615237111498573 0.050096751325327205\n"
     ]
    }
   ],
   "source": [
    "sig = sum(data_t['weight_val'])\n",
    "bkg = sum(data_m['weight_val'])+sum(data_e['weight_val'])+sum(data_c['weight_val'])\n",
    "print(sig,bkg)"
   ]
  },
  {
   "cell_type": "code",
   "execution_count": 7,
   "metadata": {},
   "outputs": [],
   "source": []
  },
  {
   "cell_type": "code",
   "execution_count": 13,
   "metadata": {},
   "outputs": [],
   "source": [
    "class BinnedPoissonLikelihood():\n",
    "    '''\n",
    "    Likelihood: Binned Poisson\n",
    "    Model: P_B(x) + lmd_S * P_S(x)\n",
    "    '''\n",
    "    def __init__(self, sig, bkg, random_state):\n",
    "        self.sig = sig\n",
    "        self.bkg = bkg\n",
    "        self.random_state = random_state\n",
    "\n",
    "    def log_likelihood(self, lmd, data):\n",
    "        expected = self.bkg + lmd * self.sig\n",
    "        result =  data * np.log(expected) - expected\n",
    "        return -result\n",
    "\n",
    "    def test_statistic(self, lmd, data):\n",
    "        expected = self.bkg + lmd * self.sig\n",
    "        null = self.bkg\n",
    "        result = data * (np.log(expected) - np.log(null)) - expected + null\n",
    "        return -result\n",
    "    \n",
    "    def test_statistic_best(self, lmd, true_lmd, data):\n",
    "        expected = self.bkg + lmd * self.sig\n",
    "        null = self.bkg + true_lmd * self.sig\n",
    "        result = data * (np.log(expected) - np.log(null)) - expected + null\n",
    "        return -result\n",
    "    \n",
    "    def fit_lmd(self, data):\n",
    "        pars = [0.5]\n",
    "        par_bounds = [(0, 100)]\n",
    "\n",
    "        xmin, fmin, min_dict = sco.fmin_l_bfgs_b(\n",
    "            func=self.test_statistic,\n",
    "            x0=pars,\n",
    "            bounds=par_bounds,\n",
    "            args=(data,),\n",
    "            approx_grad=True\n",
    "        )\n",
    "\n",
    "        # set up mindict to enter while, exit if fit looks nice\n",
    "        i = 1\n",
    "        while min_dict[\"warnflag\"] == 2 or b'FACTR' in min_dict[\"task\"]:\n",
    "            if i > 100:\n",
    "                print(\"Did not manage good fit\")\n",
    "                print('results are {}, {}'.format(fmin, xmin))\n",
    "                return fmin, xmin\n",
    "\n",
    "            pars[0] = self.random_state.uniform(0., 1.)\n",
    "\n",
    "            # no stop due to gradient\n",
    "            xmin, fmin, min_dict = sco.fmin_l_bfgs_b(\n",
    "                func=self.test_statistic,\n",
    "                x0=pars,\n",
    "                bounds=par_bounds,\n",
    "                args=(data,),\n",
    "                approx_grad=True\n",
    "            )\n",
    "            i += 1\n",
    "\n",
    "        return fmin, xmin\n",
    "    \n",
    "    def fit_lmd_best(self, true_lmd, data):\n",
    "        pars = [0.5]\n",
    "        par_bounds = [(0, 100)]\n",
    "\n",
    "        xmin, fmin, min_dict = sco.fmin_l_bfgs_b(\n",
    "            func=self.test_statistic_best,\n",
    "            x0=pars,\n",
    "            bounds=par_bounds,\n",
    "            args=(true_lmd, data,),\n",
    "            approx_grad=True\n",
    "        )\n",
    "        i = 1\n",
    "        while min_dict[\"warnflag\"] == 2 or b'FACTR' in min_dict[\"task\"]:\n",
    "            if i > 100:\n",
    "                print(\"Did not manage good fit\")\n",
    "                print('results are {}, {}'.format(fmin, xmin))\n",
    "                return fmin, xmin\n",
    "\n",
    "            pars[0] = self.random_state.uniform(0., 1.)\n",
    "\n",
    "            # no stop due to gradient\n",
    "            xmin, fmin, min_dict = sco.fmin_l_bfgs_b(\n",
    "                func=self.test_statistic_best,\n",
    "                x0=pars,\n",
    "                bounds=par_bounds,\n",
    "                args=(true_lmd, data,),\n",
    "                approx_grad=True\n",
    "            )\n",
    "            i += 1\n",
    "\n",
    "        return fmin, xmin"
   ]
  },
  {
   "cell_type": "code",
   "execution_count": 18,
   "metadata": {},
   "outputs": [],
   "source": [
    "class SignalInjector(object):\n",
    "    def __init__(self, sig, bkg, random_state, sig_exp=None, bkg_exp=None):\n",
    "        if sig_exp is not None:\n",
    "            self.sig_exp = sig_exp\n",
    "        else:\n",
    "            self.sig = sig\n",
    "            \n",
    "        if bkg_exp is not None:\n",
    "            self.bkg_exp = bkg_exp\n",
    "        else:\n",
    "            self.bkg_exp = bkg\n",
    "\n",
    "        self.sig = sig\n",
    "        self.bkg = bkg\n",
    "        self.random_state = random_state\n",
    "\n",
    "    def calc_n_trials(self, n_trials):\n",
    "        n_sig_trials = self.random_state.poisson(lam=self.sig_exp, size=n_trials)\n",
    "        n_bkg_trials = self.random_state.poisson(lam=self.bkg_exp, size=n_trials)\n",
    "        return n_sig_trials, n_bkg_trials\n",
    "\n",
    "    def do_trials(self, n_trials, llh):\n",
    "        self.sig_trials, self.bkg_trials = self.calc_n_trials(n_trials)\n",
    "        \n",
    "        ts_vals = []\n",
    "        lmds = []\n",
    "        true_lmd = self.sig_exp / float(np.sum(self.sig))\n",
    "        \n",
    "        for i in range(n_trials):\n",
    "            samples = (self.sig_trials[i] + self.bkg_trials[i])\n",
    "            ts, lmd = llh.fit_lmd_best(true_lmd, samples)\n",
    "            ts_vals.append(-ts)\n",
    "            lmds.extend(lmd)\n",
    "        return ts_vals, lmds"
   ]
  },
  {
   "cell_type": "code",
   "execution_count": 19,
   "metadata": {},
   "outputs": [],
   "source": [
    "def scan_neyman_row(sig_inj, n_samples, likelihood, mu):\n",
    "    sig_ts,_ = sig_inj.do_trials(\n",
    "        n_samples, likelihood)\n",
    "    sig_ts = np.array(sig_ts)\n",
    "    sig_ts[sig_ts < 0] = 0\n",
    "    return sig_ts, mu\n",
    "\n",
    "def scan_neyman_plane(sig, bkg, bkg_exp, mu_bins, ts_bins, n_samples_per_mu, n_jobs=2, save=False, out_path=None):\n",
    "    def save_stuff(out_path, hist, mu):\n",
    "        if out_path is not None:\n",
    "            out_path1 = os.path.join(out_path, 'ts_mu_{}.npz'.format(mu_i))\n",
    "            np.savez(out_path1, hist)\n",
    "\n",
    "    if not save:\n",
    "        hists = np.zeros((len(mu_bins), len(ts_bins) - 1))\n",
    "        \n",
    "    random_state = np.random.RandomState(42)\n",
    "    likelihood = BinnedPoissonLikelihood(sig, bkg, random_state=random_state)\n",
    "\n",
    "    if n_jobs > 1:\n",
    "        with ProcessPoolExecutor(max_workers=n_jobs) as executor:\n",
    "            futures = []\n",
    "            for i, mu_i in enumerate(mu_bins):\n",
    "                injector_rs = np.random.RandomState(i)\n",
    "                sig_inj = SignalInjector(sig, bkg, injector_rs, sig_exp=mu_i, bkg_exp=bkg_exp)\n",
    "                futures.append(\n",
    "                    executor.submit(\n",
    "                        scan_neyman_row,\n",
    "                        sig_inj=sig_inj,\n",
    "                        n_samples=n_samples_per_mu,\n",
    "                        likelihood=likelihood,\n",
    "                        mu=mu_i))\n",
    "            results = wait(futures)\n",
    "            \n",
    "        for i, future_i in enumerate(results.done):\n",
    "            try:\n",
    "                sig_ts, mu_i = future_i.result()\n",
    "            except Exception as exc:\n",
    "                print('%r generated an exception: %s' % (future_i, exc))\n",
    "          \n",
    "            hist, ts_e = np.histogram(sig_ts, bins=ts_bins)\n",
    "            hist = hist / float(np.sum(hist))\n",
    "            if not save:\n",
    "                hists[idx] = hist\n",
    "            else:\n",
    "                save_stuff(out_path, sig_ts, mu_i)\n",
    "                \n",
    "    if not save:\n",
    "        return hists, ts_e\n",
    "    else:\n",
    "        return 0, 0"
   ]
  },
  {
   "cell_type": "code",
   "execution_count": 22,
   "metadata": {},
   "outputs": [],
   "source": [
    "n_jobs=20\n",
    "n_samples=1000\n",
    "mu_bins = np.linspace(0, 50, 801)\n",
    "ts_bins = np.linspace(0, 20, 201)\n",
    "ts_bins = ts_bins - np.diff(ts_bins)[0] / 2.\n",
    "out_path =\"/home/dup193/work/double_pulse/onebin_test/ts_dist/\"\n",
    "\n",
    "hists, ts_e = scan_neyman_plane(sig, bkg, bkg, mu_bins, ts_bins, n_samples, n_jobs=n_jobs, save=True, out_path=out_path)\n"
   ]
  },
  {
   "cell_type": "code",
   "execution_count": 26,
   "metadata": {},
   "outputs": [],
   "source": [
    "from glob import glob\n",
    "import re\n",
    "name_out = \"/home/dup193/work/double_pulse/onebin_test/ts_dist/\"\n",
    "mat = []\n",
    "hists = np.zeros((len(mu_bins), len(ts_bins) - 1))\n",
    "for file_name in glob(name_out+'*'):\n",
    "    sp = re.split('_|\\.|/',file_name)\n",
    "    mu = float(sp[-3]+\".\"+sp[-2])\n",
    "    i = np.where(mu_bins==mu)\n",
    "    x = np.load(file_name, mmap_mode=\"r\")['arr_0']\n",
    "    #print(x)\n",
    "    hist, ts_e = np.histogram(x, bins=ts_bins)\n",
    "    hist = hist / float(np.sum(hist))\n",
    "    hists[i] = hist"
   ]
  },
  {
   "cell_type": "code",
   "execution_count": 27,
   "metadata": {},
   "outputs": [
    {
     "name": "stdout",
     "output_type": "stream",
     "text": [
      "[[0.944 0.    0.    ... 0.    0.    0.   ]\n",
      " [0.    0.892 0.    ... 0.    0.    0.   ]\n",
      " [0.    0.84  0.    ... 0.    0.    0.   ]\n",
      " ...\n",
      " [0.268 0.099 0.128 ... 0.    0.    0.   ]\n",
      " [0.288 0.098 0.127 ... 0.    0.    0.   ]\n",
      " [0.245 0.107 0.15  ... 0.    0.    0.   ]]\n"
     ]
    }
   ],
   "source": [
    "print(hists)"
   ]
  },
  {
   "cell_type": "code",
   "execution_count": 28,
   "metadata": {},
   "outputs": [
    {
     "name": "stderr",
     "output_type": "stream",
     "text": [
      "/home/dup193/anaconda3/lib/python3.7/site-packages/ipykernel_launcher.py:7: MatplotlibDeprecationWarning: Adding an axes using the same arguments as a previous axes currently reuses the earlier instance.  In a future version, a new instance will always be created and returned.  Meanwhile, this warning can be suppressed, and the future behavior ensured, by passing a unique label to each axes instance.\n",
      "  import sys\n"
     ]
    },
    {
     "data": {
      "text/plain": [
       "Text(0, 0.5, 'Mean signal expectation $\\\\mu_t$')"
      ]
     },
     "execution_count": 28,
     "metadata": {},
     "output_type": "execute_result"
    },
    {
     "data": {
      "image/png": "[encoded data removed]",
      "text/plain": [
       "<Figure size 360x360 with 2 Axes>"
      ]
     },
     "metadata": {},
     "output_type": "display_data"
    }
   ],
   "source": [
    "from matplotlib.colors import LogNorm\n",
    "vmin = np.min([np.min(hist) for hist in hists])\n",
    "vmax = np.max([np.max(hist) for hist in hists])\n",
    "fig = plt.figure(figsize=(5, 5),facecolor ='w')\n",
    "plt.rcParams.update({'font.size': 16})\n",
    "plt.ticklabel_format(axis='both', style='sci', scilimits=(-5,5))\n",
    "ax = fig.add_subplot()\n",
    "for i in range(len(mu_bins) - 1):\n",
    "    Xe, Ye = np.meshgrid(ts_bins, [mu_bins[i], mu_bins[i+1]])\n",
    "    im = ax.pcolormesh(Xe, Ye, np.atleast_2d(hists[i]), vmin=vmin+1e-4, vmax=vmax, norm=LogNorm())\n",
    "plt.colorbar(im)\n",
    "ax.set_xlabel('TS: $-\\log(\\mathcal{L}(\\mu_t) / \\mathcal{L}(\\hat{\\mu}))$')\n",
    "ax.set_ylabel(r'Mean signal expectation $\\mu_t$')"
   ]
  },
  {
   "cell_type": "code",
   "execution_count": null,
   "metadata": {},
   "outputs": [],
   "source": []
  }
 ],
 "metadata": {
  "kernelspec": {
   "display_name": "Python 3",
   "language": "python",
   "name": "python3"
  },
  "language_info": {
   "codemirror_mode": {
    "name": "ipython",
    "version": 3
   },
   "file_extension": ".py",
   "mimetype": "text/x-python",
   "name": "python",
   "nbconvert_exporter": "python",
   "pygments_lexer": "ipython3",
   "version": "3.7.7"
  }
 },
 "nbformat": 4,
 "nbformat_minor": 4
}
