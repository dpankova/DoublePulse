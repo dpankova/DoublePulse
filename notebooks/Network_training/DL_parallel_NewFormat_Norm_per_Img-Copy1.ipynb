{
 "cells": [
  {
   "cell_type": "markdown",
   "metadata": {},
   "source": [
    "This code runs Deep Learning on nutau and nue samples created by Dasha.  It runs on multiple GPUs at once.\n",
    "\n",
    "This code runs in a python 3.7 conda environment constructed as follows:\n",
    "- conda create --name tf-gpu tensorflow-gpu keras scikit-learn matplotlib ipykernel nb_conda_kernels [Pillow]\n",
    "- conda activate tf-gpu\n",
    "(Pillow is for image manipulation for making heat maps, but I haven't got it to work yet.  Can remove from environment.)\n",
    "\n",
    "To run with multiple GPUs on CyberLAMP you must specify the \"nodes\" and \"gpus\" qualifiers in the same chunk.  For example:\n",
    "- qsub -I -A cyberlamp -l qos=cl_higpu -l nodes=1:ppn=1:gpus=4:shared -l mem=24gb -l walltime=4:00:00"
   ]
  },
  {
   "cell_type": "code",
   "execution_count": 2,
   "metadata": {},
   "outputs": [],
   "source": [
    "from __future__ import division\n",
    "import matplotlib as mpl\n",
    "import matplotlib.pyplot as plt\n",
    "import numpy as np\n",
    "import pickle"
   ]
  },
  {
   "cell_type": "code",
   "execution_count": 3,
   "metadata": {},
   "outputs": [],
   "source": [
    "import os\n",
    "\n",
    "# Set which GPU to use.  This probably needs to be done before any other CUDA vars get defined.\n",
    "# Use the command \"nvidia-smi\" to get association of a particular GPU with a particular number.\n",
    "os.environ[\"CUDA_DEVICE_ORDER\"] = \"PCI_BUS_ID\"\n",
    "os.environ[\"CUDA_VISIBLE_DEVICES\"]= \"1,2\""
   ]
  },
  {
   "cell_type": "code",
   "execution_count": 4,
   "metadata": {},
   "outputs": [],
   "source": [
    "id_dtype = np.dtype(\n",
    "    [\n",
    "        (\"run_id\", np.uint32),\n",
    "        (\"sub_run_id\", np.uint32),\n",
    "        (\"event_id\", np.uint32),\n",
    "        (\"sub_event_id\", np.uint32),\n",
    "    ]\n",
    ")\n",
    "particle_dtype = np.dtype(\n",
    "    [\n",
    "        (\"pdg\", np.uint32),\n",
    "        (\"energy\", np.float32),\n",
    "        (\"position\", np.float32,(3)),\n",
    "        (\"direction\", np.float32,(2)),\n",
    "        (\"time\", np.float32),\n",
    "        (\"length\", np.float32)\n",
    "    ]\n",
    ")\n",
    "weight_dtype = np.dtype(\n",
    "    [\n",
    "        ('PrimaryNeutrinoAzimuth',np.float32),\n",
    "        ('TotalColumnDepthCGS',np.float32),\n",
    "        ('MaxAzimuth',np.float32),\n",
    "        ('SelectionWeight',np.float32),\n",
    "        ('InIceNeutrinoEnergy',np.float32),\n",
    "        ('PowerLawIndex',np.float32),\n",
    "        ('TotalPrimaryWeight',np.float32),\n",
    "        ('PrimaryNeutrinoZenith',np.float32),\n",
    "        ('TotalWeight',np.float32),\n",
    "        ('PropagationWeight',np.float32),\n",
    "        ('NInIceNus',np.float32),\n",
    "        ('TrueActiveLengthBefore',np.float32),\n",
    "        ('TypeWeight',np.float32),\n",
    "        ('PrimaryNeutrinoType',np.float32),\n",
    "        ('RangeInMeter',np.float32),\n",
    "        ('BjorkenY',np.float32),\n",
    "        ('MinZenith',np.float32),\n",
    "        ('InIceNeutrinoType',np.float32),\n",
    "        ('CylinderRadius',np.float32),\n",
    "        ('BjorkenX',np.float32),\n",
    "        ('InteractionPositionWeight',np.float32),\n",
    "        ('RangeInMWE',np.float32),\n",
    "        ('InteractionColumnDepthCGS',np.float32),\n",
    "        ('CylinderHeight',np.float32),\n",
    "        ('MinAzimuth',np.float32),\n",
    "        ('TotalXsectionCGS',np.float32),\n",
    "        ('OneWeightPerType',np.float32),\n",
    "        ('ImpactParam',np.float32),\n",
    "        ('InteractionType',np.float32),\n",
    "        ('TrueActiveLengthAfter',np.float32),\n",
    "        ('MaxZenith',np.float32),\n",
    "        ('InteractionXsectionCGS',np.float32),\n",
    "        ('PrimaryNeutrinoEnergy',np.float32),\n",
    "        ('DirectionWeight',np.float32),\n",
    "        ('InjectionAreaCGS',np.float32),\n",
    "        ('MinEnergyLog',np.float32),\n",
    "        ('SolidAngle',np.float32),\n",
    "        ('LengthInVolume',np.float32),\n",
    "        ('NEvents',np.uint32),\n",
    "        ('OneWeight',np.float32),\n",
    "        ('MaxEnergyLog',np.float32),\n",
    "        ('InteractionWeight',np.float32),\n",
    "        ('EnergyLost',np.float32)\n",
    "    ]\n",
    ")\n",
    "info_dtype = np.dtype(                                                                                                      \n",
    "    [                                                                                                                           \n",
    "    (\"id\", id_dtype),                                                                                                       \n",
    "    (\"image\", np.float32, (300, 60)),\n",
    "    (\"neutrino\", particle_dtype),\n",
    "    (\"daughter\", particle_dtype),                                                                                           \n",
    "    (\"energies\", np.float32,(10)),                                                                                          \n",
    "    (\"pdgs\", np.float32,(10)),                                                                                              \n",
    "    (\"q_tot\", np.float32),\n",
    "    (\"cog\", np.float32,(3)),                                                                                                \n",
    "    (\"q_st\", np.float32),\n",
    "    (\"st_pos\", np.float32,(3)),                                                                                             \n",
    "    (\"st_num\", np.float32),\n",
    "    (\"distance\", np.float32),                                                                                               \n",
    "    (\"weight\", weight_dtype),                                                                                                                    \n",
    "    ]\n",
    ")\n",
    "\n",
    "keys_dtype = np.dtype(  \n",
    "        [\n",
    "        (\"passed\", np.bool_),\n",
    "        (\"header\", np.bool_),\n",
    "        (\"raw_data\", np.bool_),\n",
    "        (\"weights\", np.bool_),\n",
    "        (\"mctree\", np.bool_), \n",
    "        (\"cvstats\", np.bool_),\n",
    "        (\"pulses\", np.bool_)\n",
    "           ]\n",
    ")\n",
    "w_info_dtype = np.dtype(                                                                                                                    \n",
    "        [                                                                                                                                         \n",
    "        (\"id\", id_dtype),    \n",
    "        (\"neutrino\", particle_dtype),\n",
    "        (\"energy\", np.float32,(10)),\n",
    "        (\"pdg\", np.float32,(10)),\n",
    "        (\"weight\", weight_dtype),\n",
    "        (\"keys\", keys_dtype)\n",
    "    ]\n",
    ")"
   ]
  },
  {
   "cell_type": "code",
   "execution_count": 5,
   "metadata": {},
   "outputs": [],
   "source": [
    "lim = 100000\n",
    "lim2 = 25000\n",
    "lim3 = 200000"
   ]
  },
  {
   "cell_type": "code",
   "execution_count": 10,
   "metadata": {},
   "outputs": [],
   "source": [
    "#tracks = np.lib.format.open_memmap('/fastio2/dasha/double_pulse/data_track.npy', mode = 'w+', dtype =info_dtype, shape=(lim,1))\n",
    "#data = np.load('/fastio2/dasha/double_pulse/data_NuMuCC.npy', mmap_mode = 'r')\n",
    "#tracks[0:lim] = data[0:lim]"
   ]
  },
  {
   "cell_type": "code",
   "execution_count": 11,
   "metadata": {},
   "outputs": [],
   "source": [
    "#dp = np.lib.format.open_memmap('/fastio2/dasha/double_pulse/data_dp.npy', mode = 'w+', dtype =info_dtype, shape=(lim,1))\n",
    "#data = np.load('/fastio2/dasha/double_pulse/data_NuTauCC.npy', mmap_mode = 'r')\n",
    "#dp[0:lim] = data[0:lim]"
   ]
  },
  {
   "cell_type": "code",
   "execution_count": 12,
   "metadata": {},
   "outputs": [],
   "source": [
    "#sp = np.lib.format.open_memmap('/fastio2/dasha/double_pulse/data_sp.npy', mode = 'w+', dtype =info_dtype, shape=(lim,1))\n",
    "#data_ec = np.load('/fastio2/dasha/double_pulse/data_NuECC.npy', mmap_mode = 'r')\n",
    "#data_en = np.load('/fastio2/dasha/double_pulse/data_NuENC.npy', mmap_mode = 'r')\n",
    "#data_mn = np.load('/fastio2/dasha/double_pulse/data_NuMuNC.npy', mmap_mode = 'r')\n",
    "#data_tn = np.load('/fastio2/dasha/double_pulse/data_NuTauNC.npy', mmap_mode = 'r')\n",
    "\n",
    "#sp[0:lim2] = data_ec[0:lim2]\n",
    "#sp[lim2:2*lim2] = data_en[0:lim2]\n",
    "#sp[2*lim2:3*lim2] = data_mn[0:lim2]\n",
    "#sp[3*lim2:lim] = data_tn[0:lim2]\n"
   ]
  },
  {
   "cell_type": "code",
   "execution_count": 6,
   "metadata": {},
   "outputs": [],
   "source": [
    "data_t = np.load('/fastio2/dasha/double_pulse/data_track.npy', mmap_mode = 'r')\n",
    "data_s = np.load('/fastio2/dasha/double_pulse/data_sp.npy', mmap_mode = 'r')\n",
    "data_d = np.load('/fastio2/dasha/double_pulse/data_dp.npy', mmap_mode = 'r')\n"
   ]
  },
  {
   "cell_type": "code",
   "execution_count": 14,
   "metadata": {},
   "outputs": [
    {
     "name": "stdout",
     "output_type": "stream",
     "text": [
      "0.050828066 [125255.33]\n",
      "0.025658514 [13096.834]\n",
      "0.4535335 [380103.2]\n"
     ]
    }
   ],
   "source": [
    "print(np.max(data_t['image'][0]), data_t['neutrino']['energy'][0])\n",
    "print(np.max(data_s['image'][0]), data_s['neutrino']['energy'][0])\n",
    "print(np.max(data_d['image'][0]), data_d['neutrino']['energy'][0])"
   ]
  },
  {
   "cell_type": "code",
   "execution_count": 16,
   "metadata": {},
   "outputs": [],
   "source": [
    "net = np.lib.format.open_memmap('/fastio2/dasha/double_pulse/data_Network.npy', mode = 'w+', dtype =info_dtype, shape=(lim3,1))\n",
    "net[0:lim] = data_d[0:lim]\n",
    "net[lim:2*lim] = data_s[0:lim]\n",
    "#net[2*lim:lim3] = data_d[0:lim]\n"
   ]
  },
  {
   "cell_type": "code",
   "execution_count": 7,
   "metadata": {},
   "outputs": [
    {
     "name": "stdout",
     "output_type": "stream",
     "text": [
      "0.4535335 [380103.2]\n"
     ]
    }
   ],
   "source": [
    "data_all = np.load('/fastio2/dasha/double_pulse/data_Network.npy', mmap_mode='r') #T,S,D\n",
    "print(np.max(data_all['image'][0]), data_all['neutrino']['energy'][0])"
   ]
  },
  {
   "cell_type": "code",
   "execution_count": 55,
   "metadata": {},
   "outputs": [
    {
     "name": "stdout",
     "output_type": "stream",
     "text": [
      "(300000, 3) (100000, 3) (100000, 3) (100000, 3)\n",
      "[0 1 0] [0 0 1] [1 0 0] [0 1 0]\n"
     ]
    }
   ],
   "source": [
    "label_d = [[0,0,1]]*len(data_d)\n",
    "label_s = [[1,0,0]]*len(data_s)\n",
    "label_t = [[0,1,0]]*len(data_t)\n",
    "\n",
    "label_d = np.array(label_d)\n",
    "label_s = np.array(label_s)\n",
    "label_t = np.array(label_t)\n",
    "label_all = np.concatenate((label_t, label_s, label_d), axis = 0) \n",
    "\n",
    "print(label_all.shape, label_d.shape,label_s.shape,label_t.shape)\n",
    "print(label_all[0], label_d[0],label_s[0],label_t[0])"
   ]
  },
  {
   "cell_type": "code",
   "execution_count": 8,
   "metadata": {},
   "outputs": [
    {
     "name": "stdout",
     "output_type": "stream",
     "text": [
      "(200000, 2) (100000, 2) (100000, 2)\n",
      "[1 0] [0 1] [1 0]\n"
     ]
    }
   ],
   "source": [
    "label_d = [[0,1]]*len(data_d)\n",
    "label_s = [[1,0]]*len(data_s)\n",
    "\n",
    "label_d = np.array(label_d)\n",
    "label_s = np.array(label_s)\n",
    "#label_t = np.array(label_t)\n",
    "label_all = np.concatenate((label_s, label_d), axis = 0) \n",
    "\n",
    "print(label_all.shape, label_d.shape,label_s.shape)\n",
    "print(label_all[0], label_d[0],label_s[0])"
   ]
  },
  {
   "cell_type": "code",
   "execution_count": 25,
   "metadata": {},
   "outputs": [
    {
     "name": "stdout",
     "output_type": "stream",
     "text": [
      "[187016 129276 145487 172558  66165   6041 148159  28584  80980 180362]\n"
     ]
    }
   ],
   "source": [
    "idx = np.arange(data_all.shape[0])\n",
    "np.random.shuffle(idx)\n",
    "print(idx[:10])"
   ]
  },
  {
   "cell_type": "code",
   "execution_count": 26,
   "metadata": {},
   "outputs": [],
   "source": [
    "pos = 0\n",
    "label = []\n",
    "mix = np.lib.format.open_memmap('/fastio2/dasha/double_pulse/data_Network_mixed.npy', mode = 'w+', dtype =info_dtype, shape=(lim3,1))\n",
    "for i in idx:\n",
    "    mix[pos:pos+1] = data_all[i]\n",
    "    label.append(label_all[i])\n",
    "    pos = pos + 1\n",
    "label = np.array(label)"
   ]
  },
  {
   "cell_type": "code",
   "execution_count": 27,
   "metadata": {},
   "outputs": [],
   "source": [
    "data_mix = np.load('/fastio2/dasha/double_pulse/data_Network_mixed.npy', mmap_mode='r') #T,S,D"
   ]
  },
  {
   "cell_type": "code",
   "execution_count": 28,
   "metadata": {},
   "outputs": [
    {
     "name": "stdout",
     "output_type": "stream",
     "text": [
      "0.035106868 [82361.17]\n",
      "0.006878763 [32082.441]\n",
      "0.031456947 [62086.06]\n",
      "0.07255746 [263028.94]\n",
      "0.09195603 [180729.92]\n",
      "0.18133606 [130283.13]\n",
      "0.06457124 [10806.834]\n",
      "0.12050176 [376477.16]\n",
      "0.2681848 [4101469.]\n",
      "0.18533543 [2309882.]\n"
     ]
    },
    {
     "data": {
      "image/png": "[encoded data removed]",
      "text/plain": [
       "<Figure size 360x360 with 1 Axes>"
      ]
     },
     "metadata": {
      "needs_background": "light"
     },
     "output_type": "display_data"
    },
    {
     "data": {
      "image/png": "[encoded data removed]",
      "text/plain": [
       "<Figure size 360x360 with 1 Axes>"
      ]
     },
     "metadata": {
      "needs_background": "light"
     },
     "output_type": "display_data"
    },
    {
     "data": {
      "image/png": "[encoded data removed]",
      "text/plain": [
       "<Figure size 360x360 with 1 Axes>"
      ]
     },
     "metadata": {
      "needs_background": "light"
     },
     "output_type": "display_data"
    },
    {
     "data": {
      "image/png": "[encoded data removed]",
      "text/plain": [
       "<Figure size 360x360 with 1 Axes>"
      ]
     },
     "metadata": {
      "needs_background": "light"
     },
     "output_type": "display_data"
    },
    {
     "data": {
      "image/png": "[encoded data removed]",
      "text/plain": [
       "<Figure size 360x360 with 1 Axes>"
      ]
     },
     "metadata": {
      "needs_background": "light"
     },
     "output_type": "display_data"
    },
    {
     "data": {
      "image/png": "[encoded data removed]",
      "text/plain": [
       "<Figure size 360x360 with 1 Axes>"
      ]
     },
     "metadata": {
      "needs_background": "light"
     },
     "output_type": "display_data"
    },
    {
     "data": {
      "image/png": "[encoded data removed]",
      "text/plain": [
       "<Figure size 360x360 with 1 Axes>"
      ]
     },
     "metadata": {
      "needs_background": "light"
     },
     "output_type": "display_data"
    },
    {
     "data": {
      "image/png": "[encoded data removed]",
      "text/plain": [
       "<Figure size 360x360 with 1 Axes>"
      ]
     },
     "metadata": {
      "needs_background": "light"
     },
     "output_type": "display_data"
    },
    {
     "data": {
      "image/png": "[encoded data removed]",
      "text/plain": [
       "<Figure size 360x360 with 1 Axes>"
      ]
     },
     "metadata": {
      "needs_background": "light"
     },
     "output_type": "display_data"
    },
    {
     "data": {
      "image/png": "[encoded data removed]",
      "text/plain": [
       "<Figure size 360x360 with 1 Axes>"
      ]
     },
     "metadata": {
      "needs_background": "light"
     },
     "output_type": "display_data"
    }
   ],
   "source": [
    "for i, im in enumerate(data_mix['image'][:10]):\n",
    "    fig = plt.figure(figsize=(5, 5))\n",
    "    ax = fig.add_subplot(111)\n",
    "    ax.imshow(im.reshape(300,60), interpolation='nearest', aspect='auto', cmap= 'gray')\n",
    "    print(np.max(im), data_mix['neutrino']['energy'][i])"
   ]
  },
  {
   "cell_type": "code",
   "execution_count": 29,
   "metadata": {},
   "outputs": [
    {
     "name": "stdout",
     "output_type": "stream",
     "text": [
      "(200000, 1)\n"
     ]
    }
   ],
   "source": [
    "print(data_mix.shape)#,label.shape)"
   ]
  },
  {
   "cell_type": "code",
   "execution_count": 30,
   "metadata": {},
   "outputs": [],
   "source": [
    "train = np.zeros(lim3, bool)\n",
    "test = np.zeros(lim3, bool)\n",
    "valid = np.zeros(lim3, bool)\n",
    "\n",
    "train[:120000] = 1 \n",
    "test[120000:160000] = 1 \n",
    "valid[160000:] = 1"
   ]
  },
  {
   "cell_type": "code",
   "execution_count": 31,
   "metadata": {},
   "outputs": [
    {
     "name": "stdout",
     "output_type": "stream",
     "text": [
      "[False False False ...  True  True  True]\n",
      "(200000,)\n",
      "(200000,)\n",
      "(40000, 1)\n",
      "(200000, 300, 60, 1)\n",
      "(40000, 300, 60, 1)\n"
     ]
    }
   ],
   "source": [
    "print(valid)\n",
    "print(valid.shape)\n",
    "print(np.squeeze(data_mix).shape)\n",
    "print(data_mix[valid].shape)\n",
    "print(data_mix['image'].reshape(len(data_mix['image']),300,60,1).shape)\n",
    "print(data_mix['image'][valid].reshape(len(data_mix['image'][valid]),300,60,1).shape)\n"
   ]
  },
  {
   "cell_type": "code",
   "execution_count": 32,
   "metadata": {},
   "outputs": [
    {
     "name": "stdout",
     "output_type": "stream",
     "text": [
      "0.0008156941 0.011383184\n"
     ]
    }
   ],
   "source": [
    "mean = np.mean(data_mix['image'][train])\n",
    "std = np.std(data_mix['image'][train])\n",
    "print(mean,std)"
   ]
  },
  {
   "cell_type": "code",
   "execution_count": 33,
   "metadata": {},
   "outputs": [],
   "source": [
    "pos = 0\n",
    "div = np.lib.format.open_memmap('/fastio2/dasha/double_pulse/data_Network_mixed_div.npy', mode = 'w+', dtype =info_dtype, shape=(lim3,1))\n",
    "for i in data_mix:\n",
    "    mean = np.mean(i['image'])\n",
    "    std = np.std(i['image'])\n",
    "    #print(i['image'].shape)\n",
    "    im = i['image']-mean\n",
    "    #print(im.shape)\n",
    "    im = im/std\n",
    "    #print(im.shape)\n",
    "    div[pos] = i \n",
    "    div['image'][pos] = im\n",
    "    #print(div['image'].shape)\n",
    "    pos = pos + 1"
   ]
  },
  {
   "cell_type": "code",
   "execution_count": 34,
   "metadata": {},
   "outputs": [],
   "source": [
    "data_div = np.load('/fastio2/dasha/double_pulse/data_Network_mixed_div.npy', mmap_mode='r') #T,S,D"
   ]
  },
  {
   "cell_type": "code",
   "execution_count": 35,
   "metadata": {},
   "outputs": [
    {
     "name": "stdout",
     "output_type": "stream",
     "text": [
      "24.478933 0.035106868\n",
      "[(16, 82361.17, [ -80.57284, -223.31778, 1947.9956 ], [0.45574835, 4.152837  ], 3421.6118, 1891.0646)]\n",
      "(300, 60)\n",
      "25.408648 0.006878763\n",
      "[(12, 32082.441, [-6184376. ,   535268.7, -4924234. ], [2.2413802, 3.05529  ], -26419852., 7923383.5)]\n",
      "(300, 60)\n",
      "26.579735 0.031456947\n",
      "[(12, 62086.06, [ -3421423.8,  -1903295. , -11402187. ], [2.8108692, 3.6493251], -40203976., 8764826.)]\n",
      "(300, 60)\n"
     ]
    },
    {
     "data": {
      "image/png": "[encoded data removed]",
      "text/plain": [
       "<Figure size 360x360 with 1 Axes>"
      ]
     },
     "metadata": {
      "needs_background": "light"
     },
     "output_type": "display_data"
    },
    {
     "data": {
      "image/png": "[encoded data removed]",
      "text/plain": [
       "<Figure size 360x360 with 1 Axes>"
      ]
     },
     "metadata": {
      "needs_background": "light"
     },
     "output_type": "display_data"
    },
    {
     "data": {
      "image/png": "[encoded data removed]",
      "text/plain": [
       "<Figure size 360x360 with 1 Axes>"
      ]
     },
     "metadata": {
      "needs_background": "light"
     },
     "output_type": "display_data"
    }
   ],
   "source": [
    "for i, im in enumerate(data_div['image'][:3]):\n",
    "    print(np.max(im), np.max(data_mix['image'][i]))\n",
    "    fig = plt.figure(figsize=(5, 5))\n",
    "    ax = fig.add_subplot(111)\n",
    "    ax.imshow(im.reshape(300,60), interpolation='nearest', aspect='auto', cmap= 'gray')\n",
    "    print(data_div['neutrino'][i])\n",
    "    print(data_div['image'][i][0].shape)"
   ]
  },
  {
   "cell_type": "code",
   "execution_count": 36,
   "metadata": {},
   "outputs": [
    {
     "name": "stdout",
     "output_type": "stream",
     "text": [
      "(40000, 1, 300, 60)\n"
     ]
    }
   ],
   "source": [
    "print(data_div[valid]['image'].shape)"
   ]
  },
  {
   "cell_type": "code",
   "execution_count": 37,
   "metadata": {},
   "outputs": [],
   "source": [
    "from keras import layers\n",
    "from keras import models"
   ]
  },
  {
   "cell_type": "code",
   "execution_count": 38,
   "metadata": {},
   "outputs": [
    {
     "name": "stdout",
     "output_type": "stream",
     "text": [
      "_________________________________________________________________\n",
      "Layer (type)                 Output Shape              Param #   \n",
      "=================================================================\n",
      "conv2d_4 (Conv2D)            (None, 251, 51, 32)       16032     \n",
      "_________________________________________________________________\n",
      "max_pooling2d_4 (MaxPooling2 (None, 125, 25, 32)       0         \n",
      "_________________________________________________________________\n",
      "conv2d_5 (Conv2D)            (None, 101, 21, 64)       256064    \n",
      "_________________________________________________________________\n",
      "max_pooling2d_5 (MaxPooling2 (None, 50, 10, 64)        0         \n",
      "_________________________________________________________________\n",
      "conv2d_6 (Conv2D)            (None, 36, 8, 32)         92192     \n",
      "_________________________________________________________________\n",
      "max_pooling2d_6 (MaxPooling2 (None, 18, 4, 32)         0         \n",
      "_________________________________________________________________\n",
      "flatten_2 (Flatten)          (None, 2304)              0         \n",
      "_________________________________________________________________\n",
      "dropout_2 (Dropout)          (None, 2304)              0         \n",
      "_________________________________________________________________\n",
      "dense_4 (Dense)              (None, 128)               295040    \n",
      "_________________________________________________________________\n",
      "dense_5 (Dense)              (None, 64)                8256      \n",
      "_________________________________________________________________\n",
      "dense_6 (Dense)              (None, 2)                 130       \n",
      "=================================================================\n",
      "Total params: 667,714\n",
      "Trainable params: 667,714\n",
      "Non-trainable params: 0\n",
      "_________________________________________________________________\n",
      "Train on 120000 samples, validate on 40000 samples\n",
      "Epoch 1/50\n",
      "120000/120000 [==============================] - 45s 377us/step - loss: 0.6937 - acc: 0.5016 - val_loss: 0.6917 - val_acc: 0.5105\n",
      "Epoch 2/50\n",
      "120000/120000 [==============================] - 44s 369us/step - loss: 0.6918 - acc: 0.5156 - val_loss: 0.6896 - val_acc: 0.5243\n",
      "Epoch 3/50\n",
      "120000/120000 [==============================] - 44s 365us/step - loss: 0.6894 - acc: 0.5246 - val_loss: 0.6861 - val_acc: 0.5352\n",
      "Epoch 4/50\n",
      "120000/120000 [==============================] - 44s 365us/step - loss: 0.6865 - acc: 0.5370 - val_loss: 0.6828 - val_acc: 0.5454\n",
      "Epoch 5/50\n",
      "120000/120000 [==============================] - 44s 366us/step - loss: 0.6843 - acc: 0.5418 - val_loss: 0.6825 - val_acc: 0.5441\n",
      "Epoch 6/50\n",
      "120000/120000 [==============================] - 44s 367us/step - loss: 0.6828 - acc: 0.5452 - val_loss: 0.6799 - val_acc: 0.5515\n",
      "Epoch 7/50\n",
      "120000/120000 [==============================] - 44s 366us/step - loss: 0.6815 - acc: 0.5482 - val_loss: 0.6793 - val_acc: 0.5541\n",
      "Epoch 8/50\n",
      "120000/120000 [==============================] - 44s 365us/step - loss: 0.6804 - acc: 0.5513 - val_loss: 0.6784 - val_acc: 0.5527\n",
      "Epoch 9/50\n",
      "120000/120000 [==============================] - 44s 366us/step - loss: 0.6796 - acc: 0.5518 - val_loss: 0.6781 - val_acc: 0.5544\n",
      "Epoch 10/50\n",
      "120000/120000 [==============================] - 44s 366us/step - loss: 0.6797 - acc: 0.5517 - val_loss: 0.6765 - val_acc: 0.5568\n",
      "Epoch 11/50\n",
      "120000/120000 [==============================] - 44s 368us/step - loss: 0.6783 - acc: 0.5523 - val_loss: 0.6762 - val_acc: 0.5599\n",
      "Epoch 12/50\n",
      "120000/120000 [==============================] - 44s 368us/step - loss: 0.6774 - acc: 0.5559 - val_loss: 0.6761 - val_acc: 0.5599\n",
      "Epoch 13/50\n",
      "120000/120000 [==============================] - 44s 367us/step - loss: 0.6772 - acc: 0.5553 - val_loss: 0.6752 - val_acc: 0.5610\n",
      "Epoch 14/50\n",
      "120000/120000 [==============================] - 44s 365us/step - loss: 0.6769 - acc: 0.5562 - val_loss: 0.6748 - val_acc: 0.5624\n",
      "Epoch 15/50\n",
      "120000/120000 [==============================] - 44s 367us/step - loss: 0.6763 - acc: 0.5565 - val_loss: 0.6743 - val_acc: 0.5648\n",
      "Epoch 16/50\n",
      "120000/120000 [==============================] - 44s 366us/step - loss: 0.6755 - acc: 0.5591 - val_loss: 0.6740 - val_acc: 0.5629\n",
      "Epoch 17/50\n",
      "120000/120000 [==============================] - 44s 366us/step - loss: 0.6752 - acc: 0.5601 - val_loss: 0.6741 - val_acc: 0.5599\n",
      "Epoch 18/50\n",
      "120000/120000 [==============================] - 44s 367us/step - loss: 0.6747 - acc: 0.5598 - val_loss: 0.6743 - val_acc: 0.5617\n",
      "Epoch 19/50\n",
      "120000/120000 [==============================] - 44s 365us/step - loss: 0.6745 - acc: 0.5611 - val_loss: 0.6727 - val_acc: 0.5652\n",
      "Epoch 20/50\n",
      "120000/120000 [==============================] - 44s 367us/step - loss: 0.6742 - acc: 0.5626 - val_loss: 0.6738 - val_acc: 0.5621\n",
      "Epoch 21/50\n",
      "120000/120000 [==============================] - 44s 367us/step - loss: 0.6732 - acc: 0.5648 - val_loss: 0.6731 - val_acc: 0.5635\n",
      "Epoch 22/50\n",
      "120000/120000 [==============================] - 44s 365us/step - loss: 0.6729 - acc: 0.5629 - val_loss: 0.6727 - val_acc: 0.5644\n",
      "Epoch 23/50\n",
      "120000/120000 [==============================] - 44s 365us/step - loss: 0.6723 - acc: 0.5654 - val_loss: 0.6732 - val_acc: 0.5626\n",
      "Epoch 24/50\n",
      "120000/120000 [==============================] - 44s 365us/step - loss: 0.6717 - acc: 0.5657 - val_loss: 0.6730 - val_acc: 0.5616\n",
      "Epoch 25/50\n",
      "120000/120000 [==============================] - 44s 368us/step - loss: 0.6716 - acc: 0.5661 - val_loss: 0.6717 - val_acc: 0.5646\n",
      "Epoch 26/50\n",
      "120000/120000 [==============================] - 44s 367us/step - loss: 0.6710 - acc: 0.5678 - val_loss: 0.6733 - val_acc: 0.5613\n",
      "Epoch 27/50\n",
      "120000/120000 [==============================] - 44s 368us/step - loss: 0.6706 - acc: 0.5676 - val_loss: 0.6706 - val_acc: 0.5649\n",
      "Epoch 28/50\n",
      "120000/120000 [==============================] - 44s 365us/step - loss: 0.6704 - acc: 0.5657 - val_loss: 0.6709 - val_acc: 0.5639\n",
      "Epoch 29/50\n",
      "120000/120000 [==============================] - 44s 366us/step - loss: 0.6695 - acc: 0.5692 - val_loss: 0.6704 - val_acc: 0.5675\n",
      "Epoch 30/50\n",
      "120000/120000 [==============================] - 44s 368us/step - loss: 0.6692 - acc: 0.5686 - val_loss: 0.6701 - val_acc: 0.5673\n",
      "Epoch 31/50\n",
      "120000/120000 [==============================] - 44s 366us/step - loss: 0.6690 - acc: 0.5711 - val_loss: 0.6707 - val_acc: 0.5657\n",
      "Epoch 32/50\n",
      "120000/120000 [==============================] - 44s 367us/step - loss: 0.6683 - acc: 0.5718 - val_loss: 0.6718 - val_acc: 0.5639\n",
      "Epoch 33/50\n",
      "120000/120000 [==============================] - 44s 365us/step - loss: 0.6680 - acc: 0.5717 - val_loss: 0.6697 - val_acc: 0.5682\n",
      "Epoch 34/50\n",
      "120000/120000 [==============================] - 44s 367us/step - loss: 0.6676 - acc: 0.5712 - val_loss: 0.6702 - val_acc: 0.5639\n",
      "Epoch 35/50\n",
      "120000/120000 [==============================] - 44s 367us/step - loss: 0.6669 - acc: 0.5736 - val_loss: 0.6728 - val_acc: 0.5596\n",
      "Epoch 36/50\n",
      "120000/120000 [==============================] - 44s 368us/step - loss: 0.6662 - acc: 0.5748 - val_loss: 0.6691 - val_acc: 0.5670\n",
      "Epoch 37/50\n",
      "120000/120000 [==============================] - 44s 364us/step - loss: 0.6656 - acc: 0.5740 - val_loss: 0.6741 - val_acc: 0.5585\n",
      "Epoch 38/50\n",
      "120000/120000 [==============================] - 44s 365us/step - loss: 0.6658 - acc: 0.5747 - val_loss: 0.6688 - val_acc: 0.5656\n",
      "Epoch 39/50\n",
      "120000/120000 [==============================] - 44s 367us/step - loss: 0.6647 - acc: 0.5766 - val_loss: 0.6688 - val_acc: 0.5675\n",
      "Epoch 40/50\n",
      "120000/120000 [==============================] - 44s 366us/step - loss: 0.6645 - acc: 0.5759 - val_loss: 0.6687 - val_acc: 0.5686\n",
      "Epoch 41/50\n",
      "120000/120000 [==============================] - 44s 366us/step - loss: 0.6638 - acc: 0.5764 - val_loss: 0.6684 - val_acc: 0.5679\n",
      "Epoch 42/50\n",
      "120000/120000 [==============================] - 44s 367us/step - loss: 0.6632 - acc: 0.5786 - val_loss: 0.6694 - val_acc: 0.5656\n",
      "Epoch 43/50\n",
      "120000/120000 [==============================] - 44s 366us/step - loss: 0.6627 - acc: 0.5792 - val_loss: 0.6686 - val_acc: 0.5657\n",
      "Epoch 44/50\n",
      "120000/120000 [==============================] - 44s 368us/step - loss: 0.6627 - acc: 0.5792 - val_loss: 0.6680 - val_acc: 0.5661\n",
      "Epoch 45/50\n",
      "120000/120000 [==============================] - 44s 366us/step - loss: 0.6616 - acc: 0.5812 - val_loss: 0.6679 - val_acc: 0.5658\n",
      "Epoch 46/50\n",
      "120000/120000 [==============================] - 44s 364us/step - loss: 0.6611 - acc: 0.5826 - val_loss: 0.6735 - val_acc: 0.5637\n",
      "Epoch 47/50\n",
      "120000/120000 [==============================] - 44s 365us/step - loss: 0.6603 - acc: 0.5822 - val_loss: 0.6698 - val_acc: 0.5662\n",
      "Epoch 48/50\n",
      "120000/120000 [==============================] - 44s 366us/step - loss: 0.6599 - acc: 0.5842 - val_loss: 0.6682 - val_acc: 0.5660\n",
      "Epoch 49/50\n",
      "120000/120000 [==============================] - 44s 369us/step - loss: 0.6592 - acc: 0.5852 - val_loss: 0.6695 - val_acc: 0.5669\n",
      "Epoch 50/50\n",
      "120000/120000 [==============================] - 44s 366us/step - loss: 0.6583 - acc: 0.5863 - val_loss: 0.6693 - val_acc: 0.5655\n"
     ]
    }
   ],
   "source": [
    "from keras.utils import multi_gpu_model\n",
    "from keras import optimizers\n",
    "import tensorflow as tf\n",
    "tf.__version__\n",
    "with tf.device('/cpu:0'):\n",
    "    model = models.Sequential()\n",
    "    model.add(layers.Conv2D(32, (50, 10), activation='relu', input_shape=(300, 60, 1)))\n",
    "    model.add(layers.MaxPooling2D((2, 2)))\n",
    "    model.add(layers.Conv2D(64, (25, 5), activation='relu'))\n",
    "    model.add(layers.MaxPooling2D((2, 2)))\n",
    "    model.add(layers.Conv2D(32, (15, 3), activation='relu'))\n",
    "    model.add(layers.MaxPooling2D((2, 2)))\n",
    "    model.add(layers.Flatten())\n",
    "    model.add(layers.Dropout(0.5))\n",
    "    model.add(layers.Dense(128, activation='relu'))\n",
    "    model.add(layers.Dense(64, activation='relu'))\n",
    "    model.add(layers.Dense(2, activation='softmax'))\n",
    "    model.summary()\n",
    "    \n",
    "parallel_model = multi_gpu_model(model,gpus=2)\n",
    "sgd = optimizers.SGD(lr=0.01)\n",
    "parallel_model.compile(loss='categorical_crossentropy',\n",
    "              optimizer=sgd,\n",
    "              metrics=['accuracy'])\n",
    "history = parallel_model.fit(data_div[train]['image'].reshape(data_div[train]['image'].shape[0],300,60,1),label[train], epochs=50, validation_data=(data_div[valid]['image'].reshape(data_div[valid]['image'].shape[0],300,60,1),label[valid]), batch_size =256)"
   ]
  },
  {
   "cell_type": "code",
   "execution_count": 39,
   "metadata": {},
   "outputs": [],
   "source": [
    "import json\n",
    "history_dict = history.history # Get the dictionary containing each metric and the loss for each epoch\n",
    "json.dump(history_dict, open('/data/dfc13/DoublePulse/Models/DP_model_NewFormat_Double_Single_Norm_per_IM_NO.json', 'w')) # Save it under the form of a json file\n",
    "#\n",
    "model.save('/data/dfc13/DoublePulse/Models/DP_model_NewFormat_Double_Single_Norm_per_IM_NO.h5') # Save the model\n",
    "#\n",
    "ResultsFile = open('/data/dfc13/DoublePulse/Models/DP_model_NewFormat_Double_Single_Norm_per_IM_NO.txt','w') # File for saving the results of the fit.\n",
    "\n",
    "# 8: multiple conv2d layers a la textbook (32 (3,3) then 64, 128, 128, dropout 0.3, dense 256(relu), 64(relu), 2(softmax)\n",
    "# 8b: same as 8 but with 50 trials\n",
    "# 8b[not c didn't update the line above]: same as 8b but with dropout 0.5.\n",
    "# 8c: changed SGC \"lr\" from 0.01->0.001.  This smoothed things out a lot.  Sort of.  But had 0% accuracy for nutaus.\n",
    "# 8d: changed SGC \"lr\" from 0.001->0.005.\n",
    "# 8e: decreased size of training set to 24k, increased size of validation set to 4k (24k:28k) and increased test set (28k:)\n",
    "# 8f: changed SGC \"lr\" from 0.005->0.01.  200 epochs. 97%/37%.\n",
    "# 8g: lr=0.02, 50 epochs: 98%/29%.\n",
    "\n",
    "# 9a: changed dense 256 -> 512.  50 epochs. 100%/22%\n",
    "# 9b: same as above, 200 epochs. 97%/39%.\n",
    "# 9c: same as above, lr = 0.01.  200 epochs. 97%/36%.\n",
    "# 9d: same as above, 500 epochs batch_size = 64. 96%/40%.\n",
    "# 10a: Testing selection of particular GPU.  20 epochs, batch_size = 128.\n",
    "# 10b-3: Testing parallelization.  50 epochs, batch_size = 128, 3 GPUs (about 6s/epoch): 99%/19%.\n",
    "# 10c-3: Testing parallelization.  50 epochs, batch_size = 64*3=192, 3 GPUs (about 4.5s/epoch): 100%/11%.\n",
    "# 10d-3: Testing parallelization.  100 epochs, batch_size = 64*3=192, 3 GPUs (about 4s/epoch): 98%/29%.\n",
    "# 10e-3: Testing parallelization.  500 epochs, batch_size = 64*3=192, 3 GPUs (about 4s/epoch): 98%/29%; 98%/56%.\n",
    "# 10f-3: Parallel.  300 epochs, batch_size = 64*3=192, 3 GPUs. X%/Y%."
   ]
  },
  {
   "cell_type": "code",
   "execution_count": 40,
   "metadata": {},
   "outputs": [
    {
     "data": {
      "image/png": "[encoded data removed]",
      "text/plain": [
       "<Figure size 432x288 with 1 Axes>"
      ]
     },
     "metadata": {
      "needs_background": "light"
     },
     "output_type": "display_data"
    },
    {
     "data": {
      "image/png": "[encoded data removed]",
      "text/plain": [
       "<Figure size 432x288 with 1 Axes>"
      ]
     },
     "metadata": {
      "needs_background": "light"
     },
     "output_type": "display_data"
    }
   ],
   "source": [
    "acc = history.history['acc']\n",
    "val_acc = history.history['val_acc']\n",
    "loss = history.history['loss']\n",
    "val_loss = history.history['val_loss']\n",
    "\n",
    "epochs = range(len(acc))\n",
    "\n",
    "plt.plot(epochs, acc, 'bo', label='Training acc')\n",
    "plt.plot(epochs, val_acc, 'b', label='Validation acc')\n",
    "plt.title('Training and validation accuracy')\n",
    "plt.legend()\n",
    "\n",
    "plt.figure()\n",
    "\n",
    "plt.plot(epochs, loss, 'bo', label='Training loss')\n",
    "plt.plot(epochs, val_loss, 'b', label='Validation loss')\n",
    "plt.title('Training and validation loss')\n",
    "plt.legend()\n",
    "\n",
    "plt.show()"
   ]
  },
  {
   "cell_type": "code",
   "execution_count": 41,
   "metadata": {},
   "outputs": [
    {
     "name": "stdout",
     "output_type": "stream",
     "text": [
      "40000/40000 [==============================] - 11s 272us/step\n",
      "[0.6705967285633088, 0.56425]\n"
     ]
    }
   ],
   "source": [
    "result = parallel_model.evaluate(data_div['image'][test].reshape(len(data_div['image'][test]),300,60,1),label[test])\n",
    "print(result)"
   ]
  },
  {
   "cell_type": "code",
   "execution_count": 42,
   "metadata": {},
   "outputs": [],
   "source": [
    "from sklearn.metrics import classification_report, confusion_matrix"
   ]
  },
  {
   "cell_type": "code",
   "execution_count": 43,
   "metadata": {},
   "outputs": [],
   "source": [
    "test_pred = parallel_model.predict(data_div['image'][test].reshape(len(data_div['image'][test]),300,60,1))\n",
    "matrix = confusion_matrix(label[test].argmax(axis=1), test_pred.argmax(axis=1))\n",
    "report = classification_report(label[test].argmax(axis=1), test_pred.argmax(axis=1))"
   ]
  },
  {
   "cell_type": "code",
   "execution_count": 44,
   "metadata": {},
   "outputs": [
    {
     "name": "stdout",
     "output_type": "stream",
     "text": [
      "[[10562  9526]\n",
      " [ 7904 12008]]\n",
      "              precision    recall  f1-score   support\n",
      "\n",
      "           0       0.57      0.53      0.55     20088\n",
      "           1       0.56      0.60      0.58     19912\n",
      "\n",
      "    accuracy                           0.56     40000\n",
      "   macro avg       0.56      0.56      0.56     40000\n",
      "weighted avg       0.56      0.56      0.56     40000\n",
      "\n"
     ]
    }
   ],
   "source": [
    "#print(\"True Positive\",tp)\n",
    "#print(\"True Negative\",tn)\n",
    "#print(\"False Positive\",fp)\n",
    "#print(\"False Negative\",fn)\n",
    "\n",
    "ResultsFile.write(repr(matrix))\n",
    "ResultsFile.write('\\n')\n",
    "ResultsFile.write(report)\n",
    "ResultsFile.close()\n",
    "\n",
    "print(matrix)\n",
    "print(report)"
   ]
  },
  {
   "cell_type": "code",
   "execution_count": null,
   "metadata": {},
   "outputs": [],
   "source": []
  }
 ],
 "metadata": {
  "kernelspec": {
   "display_name": "Python 3",
   "language": "python",
   "name": "python3"
  },
  "language_info": {
   "codemirror_mode": {
    "name": "ipython",
    "version": 3
   },
   "file_extension": ".py",
   "mimetype": "text/x-python",
   "name": "python",
   "nbconvert_exporter": "python",
   "pygments_lexer": "ipython3",
   "version": "3.7.4"
  }
 },
 "nbformat": 4,
 "nbformat_minor": 4
}
