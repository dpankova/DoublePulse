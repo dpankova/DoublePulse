{
 "cells": [
  {
   "cell_type": "markdown",
   "metadata": {},
   "source": [
    "This code runs Deep Learning on nutau and nue samples created by Dasha.  It runs on multiple GPUs at once.\n",
    "\n",
    "This code runs in a python 3.7 conda environment constructed as follows:\n",
    "- conda create --name tf-gpu tensorflow-gpu keras scikit-learn matplotlib ipykernel nb_conda_kernels [Pillow]\n",
    "- conda activate tf-gpu\n",
    "(Pillow is for image manipulation for making heat maps, but I haven't got it to work yet.  Can remove from environment.)\n",
    "\n",
    "To run with multiple GPUs on CyberLAMP you must specify the \"nodes\" and \"gpus\" qualifiers in the same chunk.  For example:\n",
    "- qsub -I -A cyberlamp -l qos=cl_higpu -l nodes=1:ppn=1:gpus=4:shared -l mem=24gb -l walltime=4:00:00"
   ]
  },
  {
   "cell_type": "code",
   "execution_count": 1,
   "metadata": {},
   "outputs": [],
   "source": [
    "from __future__ import division\n",
    "import matplotlib as mpl\n",
    "import matplotlib.pyplot as plt\n",
    "import numpy as np"
   ]
  },
  {
   "cell_type": "code",
   "execution_count": 2,
   "metadata": {},
   "outputs": [],
   "source": [
    "import os\n",
    "\n",
    "# Set which GPU to use.  This probably needs to be done before any other CUDA vars get defined.\n",
    "# Use the command \"nvidia-smi\" to get association of a particular GPU with a particular number.\n",
    "os.environ[\"CUDA_DEVICE_ORDER\"] = \"PCI_BUS_ID\"\n",
    "os.environ[\"CUDA_VISIBLE_DEVICES\"]= \"1,2\""
   ]
  },
  {
   "cell_type": "code",
   "execution_count": 2,
   "metadata": {},
   "outputs": [],
   "source": [
    "id_dtype = np.dtype(\n",
    "    [\n",
    "        (\"run_id\", np.uint32),\n",
    "        (\"sub_run_id\", np.uint32),\n",
    "        (\"event_id\", np.uint32),\n",
    "        (\"sub_event_id\", np.uint32),\n",
    "    ]\n",
    ")\n",
    "particle_dtype = np.dtype(\n",
    "    [\n",
    "        (\"pdg\", np.uint32),\n",
    "        (\"energy\", np.float32),\n",
    "        (\"position\", np.float32,(3)),\n",
    "        (\"direction\", np.float32,(2)),\n",
    "        (\"time\", np.float32),\n",
    "        (\"length\", np.float32)\n",
    "    ]\n",
    ")\n",
    "weight_dtype = np.dtype(\n",
    "    [\n",
    "        ('PrimaryNeutrinoAzimuth',np.float32),\n",
    "        ('TotalColumnDepthCGS',np.float32),\n",
    "        ('MaxAzimuth',np.float32),\n",
    "        ('SelectionWeight',np.float32),\n",
    "        ('InIceNeutrinoEnergy',np.float32),\n",
    "        ('PowerLawIndex',np.float32),\n",
    "        ('TotalPrimaryWeight',np.float32),\n",
    "        ('PrimaryNeutrinoZenith',np.float32),\n",
    "        ('TotalWeight',np.float32),\n",
    "        ('PropagationWeight',np.float32),\n",
    "        ('NInIceNus',np.float32),\n",
    "        ('TrueActiveLengthBefore',np.float32),\n",
    "        ('TypeWeight',np.float32),\n",
    "        ('PrimaryNeutrinoType',np.float32),\n",
    "        ('RangeInMeter',np.float32),\n",
    "        ('BjorkenY',np.float32),\n",
    "        ('MinZenith',np.float32),\n",
    "        ('InIceNeutrinoType',np.float32),\n",
    "        ('CylinderRadius',np.float32),\n",
    "        ('BjorkenX',np.float32),\n",
    "        ('InteractionPositionWeight',np.float32),\n",
    "        ('RangeInMWE',np.float32),\n",
    "        ('InteractionColumnDepthCGS',np.float32),\n",
    "        ('CylinderHeight',np.float32),\n",
    "        ('MinAzimuth',np.float32),\n",
    "        ('TotalXsectionCGS',np.float32),\n",
    "        ('OneWeightPerType',np.float32),\n",
    "        ('ImpactParam',np.float32),\n",
    "        ('InteractionType',np.float32),\n",
    "        ('TrueActiveLengthAfter',np.float32),\n",
    "        ('MaxZenith',np.float32),\n",
    "        ('InteractionXsectionCGS',np.float32),\n",
    "        ('PrimaryNeutrinoEnergy',np.float32),\n",
    "        ('DirectionWeight',np.float32),\n",
    "        ('InjectionAreaCGS',np.float32),\n",
    "        ('MinEnergyLog',np.float32),\n",
    "        ('SolidAngle',np.float32),\n",
    "        ('LengthInVolume',np.float32),\n",
    "        ('NEvents',np.uint32),\n",
    "        ('OneWeight',np.float32),\n",
    "        ('MaxEnergyLog',np.float32),\n",
    "        ('InteractionWeight',np.float32),\n",
    "        ('EnergyLost',np.float32)\n",
    "    ]\n",
    ")\n",
    "info_dtype = np.dtype(                                                                                                      \n",
    "    [                                                                                                                           \n",
    "    (\"id\", id_dtype),                                                                                                       \n",
    "    (\"image\", np.float32, (300, 60)),\n",
    "    (\"neutrino\", particle_dtype),\n",
    "    (\"daughter\", particle_dtype),                                                                                           \n",
    "    (\"energies\", np.float32,(10)),                                                                                          \n",
    "    (\"pdgs\", np.float32,(10)),                                                                                              \n",
    "    (\"q_tot\", np.float32),\n",
    "    (\"cog\", np.float32,(3)),                                                                                                \n",
    "    (\"q_st\", np.float32),\n",
    "    (\"st_pos\", np.float32,(3)),                                                                                             \n",
    "    (\"st_num\", np.float32),\n",
    "    (\"distance\", np.float32),                                                                                               \n",
    "    (\"weight\", weight_dtype),                                                                                                                    \n",
    "    ]\n",
    ")\n",
    "\n",
    "keys_dtype = np.dtype(  \n",
    "        [\n",
    "        (\"passed\", np.bool_),\n",
    "        (\"header\", np.bool_),\n",
    "        (\"raw_data\", np.bool_),\n",
    "        (\"weights\", np.bool_),\n",
    "        (\"mctree\", np.bool_), \n",
    "        (\"cvstats\", np.bool_),\n",
    "        (\"pulses\", np.bool_)\n",
    "           ]\n",
    ")\n",
    "w_info_dtype = np.dtype(                                                                                                                    \n",
    "        [                                                                                                                                         \n",
    "        (\"id\", id_dtype),    \n",
    "        (\"neutrino\", particle_dtype),\n",
    "        (\"energy\", np.float32,(10)),\n",
    "        (\"pdg\", np.float32,(10)),\n",
    "        (\"weight\", weight_dtype),\n",
    "        (\"keys\", keys_dtype)\n",
    "    ]\n",
    ")"
   ]
  },
  {
   "cell_type": "code",
   "execution_count": 3,
   "metadata": {},
   "outputs": [],
   "source": [
    "lim = 200000\n",
    "lim2 = 75000\n",
    "lim3 = 600000"
   ]
  },
  {
   "cell_type": "code",
   "execution_count": 5,
   "metadata": {},
   "outputs": [],
   "source": [
    "tracks = np.lib.format.open_memmap('/fastio2/dasha/double_pulse/data_NuECC_trial.npy', mode = 'w+', dtype =info_dtype, shape=(lim,1))\n",
    "data = np.load('/fastio2/dasha/double_pulse/data_NuECC.npy', mmap_mode = 'r')\n",
    "tracks[0:lim] = data[0:lim]"
   ]
  },
  {
   "cell_type": "code",
   "execution_count": 6,
   "metadata": {},
   "outputs": [],
   "source": [
    "dp = np.lib.format.open_memmap('/fastio2/dasha/double_pulse/data_dp.npy', mode = 'w+', dtype =info_dtype, shape=(lim,1))\n",
    "data = np.load('/fastio2/dasha/double_pulse/data_NuTauCC.npy', mmap_mode = 'r')\n",
    "dp[0:lim] = data[0:lim]"
   ]
  },
  {
   "cell_type": "code",
   "execution_count": 7,
   "metadata": {},
   "outputs": [],
   "source": [
    "sp = np.lib.format.open_memmap('/fastio2/dasha/double_pulse/data_sp.npy', mode = 'w+', dtype =info_dtype, shape=(lim,1))\n",
    "data_ec = np.load('/fastio2/dasha/double_pulse/data_NuECC.npy', mmap_mode = 'r')\n",
    "data_en = np.load('/fastio2/dasha/double_pulse/data_NuENC.npy', mmap_mode = 'r')\n",
    "data_mn = np.load('/fastio2/dasha/double_pulse/data_NuMuNC.npy', mmap_mode = 'r')\n",
    "data_tn = np.load('/fastio2/dasha/double_pulse/data_NuTauNC.npy', mmap_mode = 'r')\n",
    "\n",
    "sp[0:lim2] = data_ec[0:lim2]\n",
    "sp[lim2:2*lim2] = data_en[0:lim2]\n",
    "sp[2*lim2:3*lim2] = data_mn[0:lim2]\n",
    "sp[3*lim2:lim] = data_tn[0:lim2]\n"
   ]
  },
  {
   "cell_type": "code",
   "execution_count": 8,
   "metadata": {},
   "outputs": [],
   "source": [
    "data_t = np.load('/fastio2/dasha/double_pulse/data_track.npy', mmap_mode = 'r')\n",
    "data_s = np.load('/fastio2/dasha/double_pulse/data_sp.npy', mmap_mode = 'r')\n",
    "data_d = np.load('/fastio2/dasha/double_pulse/data_dp.npy', mmap_mode = 'r')\n"
   ]
  },
  {
   "cell_type": "code",
   "execution_count": 9,
   "metadata": {},
   "outputs": [
    {
     "name": "stdout",
     "output_type": "stream",
     "text": [
      "0.050828066 [125255.33]\n",
      "0.025658514 [13096.834]\n",
      "0.4535335 [380103.2]\n"
     ]
    }
   ],
   "source": [
    "print(np.max(data_t['image'][0]), data_t['neutrino']['energy'][0])\n",
    "print(np.max(data_s['image'][0]), data_s['neutrino']['energy'][0])\n",
    "print(np.max(data_d['image'][0]), data_d['neutrino']['energy'][0])"
   ]
  },
  {
   "cell_type": "code",
   "execution_count": 10,
   "metadata": {},
   "outputs": [],
   "source": [
    "net = np.lib.format.open_memmap('/fastio2/dasha/double_pulse/data_Network.npy', mode = 'w+', dtype =info_dtype, shape=(lim3,1))\n",
    "net[0:lim] = data_d[0:lim]\n",
    "net[lim:2*lim] = data_s[0:lim]\n",
    "#net[2*lim:lim3] = data_d[0:lim]\n"
   ]
  },
  {
   "cell_type": "code",
   "execution_count": 11,
   "metadata": {},
   "outputs": [
    {
     "name": "stdout",
     "output_type": "stream",
     "text": [
      "0.4535335 [380103.2]\n"
     ]
    }
   ],
   "source": [
    "data_all = np.load('/fastio2/dasha/double_pulse/data_Network.npy', mmap_mode='r') #T,S,D\n",
    "print(np.max(data_all['image'][0]), data_all['neutrino']['energy'][0])"
   ]
  },
  {
   "cell_type": "code",
   "execution_count": 12,
   "metadata": {},
   "outputs": [
    {
     "name": "stdout",
     "output_type": "stream",
     "text": [
      "(900000, 3) (300000, 3) (300000, 3) (300000, 3)\n",
      "[0 1 0] [0 0 1] [1 0 0] [0 1 0]\n"
     ]
    }
   ],
   "source": [
    "label_d = [[0,0,1]]*len(data_d)\n",
    "label_s = [[1,0,0]]*len(data_s)\n",
    "label_t = [[0,1,0]]*len(data_t)\n",
    "\n",
    "label_d = np.array(label_d)\n",
    "label_s = np.array(label_s)\n",
    "label_t = np.array(label_t)\n",
    "label_all = np.concatenate((label_t, label_s, label_d), axis = 0) \n",
    "\n",
    "print(label_all.shape, label_d.shape,label_s.shape,label_t.shape)\n",
    "print(label_all[0], label_d[0],label_s[0],label_t[0])"
   ]
  },
  {
   "cell_type": "code",
   "execution_count": 13,
   "metadata": {},
   "outputs": [
    {
     "name": "stdout",
     "output_type": "stream",
     "text": [
      "(600000, 2) (300000, 2) (300000, 2)\n",
      "[1 0] [0 1] [1 0]\n"
     ]
    }
   ],
   "source": [
    "label_d = [[0,1]]*len(data_d)\n",
    "label_s = [[1,0]]*len(data_s)\n",
    "\n",
    "label_d = np.array(label_d)\n",
    "label_s = np.array(label_s)\n",
    "#label_t = np.array(label_t)\n",
    "label_all = np.concatenate((label_s, label_d), axis = 0) \n",
    "\n",
    "print(label_all.shape, label_d.shape,label_s.shape)\n",
    "print(label_all[0], label_d[0],label_s[0])"
   ]
  },
  {
   "cell_type": "code",
   "execution_count": 14,
   "metadata": {},
   "outputs": [
    {
     "name": "stdout",
     "output_type": "stream",
     "text": [
      "[569821 408922  87257 325331 427640 395834 187180  40455  36210 492992]\n"
     ]
    }
   ],
   "source": [
    "idx = np.arange(data_all.shape[0])\n",
    "np.random.shuffle(idx)\n",
    "print(idx[:10])"
   ]
  },
  {
   "cell_type": "code",
   "execution_count": 15,
   "metadata": {},
   "outputs": [],
   "source": [
    "pos = 0\n",
    "label = []\n",
    "mix = np.lib.format.open_memmap('/fastio2/dasha/double_pulse/data_Network_mixed.npy', mode = 'w+', dtype =info_dtype, shape=(lim3,1))\n",
    "for i in idx:\n",
    "    mix[pos:pos+1] = data_all[i]\n",
    "    label.append(label_all[i])\n",
    "    pos = pos + 1\n",
    "label = np.array(label)"
   ]
  },
  {
   "cell_type": "code",
   "execution_count": 16,
   "metadata": {},
   "outputs": [],
   "source": [
    "data_mix = np.load('/fastio2/dasha/double_pulse/data_Network_mixed.npy', mmap_mode='r') #T,S,D"
   ]
  },
  {
   "cell_type": "code",
   "execution_count": 17,
   "metadata": {},
   "outputs": [
    {
     "name": "stdout",
     "output_type": "stream",
     "text": [
      "0.3732176 [11235.76]\n",
      "0.008364789 [14329.651]\n",
      "0.02788353 [45292.11]\n",
      "0.014167811 [53729.203]\n",
      "0.6162107 [8006545.5]\n",
      "0.0060519334 [17454.33]\n",
      "0.5884482 [376954.88]\n",
      "0.15114853 [17871.207]\n",
      "0.005075761 [46095.13]\n",
      "0.0048637004 [39519.812]\n"
     ]
    },
    {
     "data": {
      "image/png": "[encoded data removed]",
      "text/plain": [
       "<Figure size 360x360 with 1 Axes>"
      ]
     },
     "metadata": {
      "needs_background": "light"
     },
     "output_type": "display_data"
    },
    {
     "data": {
      "image/png": "[encoded data removed]",
      "text/plain": [
       "<Figure size 360x360 with 1 Axes>"
      ]
     },
     "metadata": {
      "needs_background": "light"
     },
     "output_type": "display_data"
    },
    {
     "data": {
      "image/png": "[encoded data removed]",
      "text/plain": [
       "<Figure size 360x360 with 1 Axes>"
      ]
     },
     "metadata": {
      "needs_background": "light"
     },
     "output_type": "display_data"
    },
    {
     "data": {
      "image/png": "[encoded data removed]",
      "text/plain": [
       "<Figure size 360x360 with 1 Axes>"
      ]
     },
     "metadata": {
      "needs_background": "light"
     },
     "output_type": "display_data"
    },
    {
     "data": {
      "image/png": "[encoded data removed]",
      "text/plain": [
       "<Figure size 360x360 with 1 Axes>"
      ]
     },
     "metadata": {
      "needs_background": "light"
     },
     "output_type": "display_data"
    },
    {
     "data": {
      "image/png": "[encoded data removed]",
      "text/plain": [
       "<Figure size 360x360 with 1 Axes>"
      ]
     },
     "metadata": {
      "needs_background": "light"
     },
     "output_type": "display_data"
    },
    {
     "data": {
      "image/png": "[encoded data removed]",
      "text/plain": [
       "<Figure size 360x360 with 1 Axes>"
      ]
     },
     "metadata": {
      "needs_background": "light"
     },
     "output_type": "display_data"
    },
    {
     "data": {
      "image/png": "[encoded data removed]",
      "text/plain": [
       "<Figure size 360x360 with 1 Axes>"
      ]
     },
     "metadata": {
      "needs_background": "light"
     },
     "output_type": "display_data"
    },
    {
     "data": {
      "image/png": "[encoded data removed]",
      "text/plain": [
       "<Figure size 360x360 with 1 Axes>"
      ]
     },
     "metadata": {
      "needs_background": "light"
     },
     "output_type": "display_data"
    },
    {
     "data": {
      "image/png": "[encoded data removed]",
      "text/plain": [
       "<Figure size 360x360 with 1 Axes>"
      ]
     },
     "metadata": {
      "needs_background": "light"
     },
     "output_type": "display_data"
    }
   ],
   "source": [
    "for i, im in enumerate(data_mix['image'][:10]):\n",
    "    fig = plt.figure(figsize=(5, 5))\n",
    "    ax = fig.add_subplot(111)\n",
    "    ax.imshow(im.reshape(300,60), interpolation='nearest', aspect='auto', cmap= 'gray')\n",
    "    print(np.max(im), data_mix['neutrino']['energy'][i])"
   ]
  },
  {
   "cell_type": "code",
   "execution_count": 18,
   "metadata": {},
   "outputs": [
    {
     "name": "stdout",
     "output_type": "stream",
     "text": [
      "(600000, 1)\n"
     ]
    }
   ],
   "source": [
    "print(data_mix.shape)#,label.shape)"
   ]
  },
  {
   "cell_type": "code",
   "execution_count": 19,
   "metadata": {},
   "outputs": [],
   "source": [
    "train = np.zeros(lim3, bool)\n",
    "test = np.zeros(lim3, bool)\n",
    "valid = np.zeros(lim3, bool)\n",
    "\n",
    "train[:400000] = 1 \n",
    "test[400000:500000] = 1 \n",
    "valid[500000:] = 1"
   ]
  },
  {
   "cell_type": "code",
   "execution_count": 20,
   "metadata": {},
   "outputs": [
    {
     "name": "stdout",
     "output_type": "stream",
     "text": [
      "[False False False ...  True  True  True]\n",
      "(600000,)\n",
      "(600000,)\n",
      "(100000, 1)\n",
      "(600000, 300, 60, 1)\n",
      "(100000, 300, 60, 1)\n"
     ]
    }
   ],
   "source": [
    "print(valid)\n",
    "print(valid.shape)\n",
    "print(np.squeeze(data_mix).shape)\n",
    "print(data_mix[valid].shape)\n",
    "print(data_mix['image'].reshape(len(data_mix['image']),300,60,1).shape)\n",
    "print(data_mix['image'][valid].reshape(len(data_mix['image'][valid]),300,60,1).shape)\n"
   ]
  },
  {
   "cell_type": "code",
   "execution_count": 21,
   "metadata": {},
   "outputs": [
    {
     "name": "stdout",
     "output_type": "stream",
     "text": [
      "0.00081397773 0.01136934\n"
     ]
    }
   ],
   "source": [
    "mean = np.mean(data_mix['image'][train])\n",
    "std = np.std(data_mix['image'][train])\n",
    "print(mean,std)"
   ]
  },
  {
   "cell_type": "code",
   "execution_count": 22,
   "metadata": {},
   "outputs": [],
   "source": [
    "pos = 0\n",
    "div = np.lib.format.open_memmap('/fastio2/dasha/double_pulse/data_Network_mixed_div.npy', mode = 'w+', dtype =info_dtype, shape=(lim3,1))\n",
    "for i in data_mix:\n",
    "    #print(i['image'].shape)\n",
    "    im = i['image']-mean\n",
    "    #print(im.shape)\n",
    "    im = im/std\n",
    "    #print(im.shape)\n",
    "    div[pos] = i \n",
    "    div['image'][pos] = im\n",
    "    #print(div['image'].shape)\n",
    "    pos = pos + 1"
   ]
  },
  {
   "cell_type": "code",
   "execution_count": 23,
   "metadata": {},
   "outputs": [],
   "source": [
    "data_div = np.load('/fastio2/dasha/double_pulse/data_Network_mixed_div.npy', mmap_mode='r') #T,S,D"
   ]
  },
  {
   "cell_type": "code",
   "execution_count": 24,
   "metadata": {},
   "outputs": [
    {
     "name": "stdout",
     "output_type": "stream",
     "text": [
      "32.755077 0.3732176\n",
      "[(4294967280, 11235.76, [4234.997 , 3615.2964, 1945.5679], [1.2320545, 0.6150943], -9414.474, 5766.5723)]\n",
      "(300, 60)\n",
      "0.6641381 0.008364789\n",
      "[(4294967284, 14329.651, [43089.13  , 39599.387 ,  1679.3473], [1.5363818 , 0.74638796], -184901.64, 58356.37)]\n",
      "(300, 60)\n",
      "2.3809254 0.02788353\n",
      "[(4294967280, 45292.11, [ 167.77718, 2417.9075 , 1947.5392 ], [1.0261955, 1.376435 ], -1222.0022, 3268.3557)]\n",
      "(300, 60)\n"
     ]
    },
    {
     "data": {
      "image/png": "[encoded data removed]",
      "text/plain": [
       "<Figure size 360x360 with 1 Axes>"
      ]
     },
     "metadata": {
      "needs_background": "light"
     },
     "output_type": "display_data"
    },
    {
     "data": {
      "image/png": "[encoded data removed]",
      "text/plain": [
       "<Figure size 360x360 with 1 Axes>"
      ]
     },
     "metadata": {
      "needs_background": "light"
     },
     "output_type": "display_data"
    },
    {
     "data": {
      "image/png": "[encoded data removed]",
      "text/plain": [
       "<Figure size 360x360 with 1 Axes>"
      ]
     },
     "metadata": {
      "needs_background": "light"
     },
     "output_type": "display_data"
    }
   ],
   "source": [
    "for i, im in enumerate(data_div['image'][:3]):\n",
    "    print(np.max(im), np.max(data_mix['image'][i]))\n",
    "    fig = plt.figure(figsize=(5, 5))\n",
    "    ax = fig.add_subplot(111)\n",
    "    ax.imshow(im.reshape(300,60), interpolation='nearest', aspect='auto', cmap= 'gray')\n",
    "    print(data_div['neutrino'][i])\n",
    "    print(data_div['image'][i][0].shape)"
   ]
  },
  {
   "cell_type": "code",
   "execution_count": 25,
   "metadata": {},
   "outputs": [
    {
     "name": "stdout",
     "output_type": "stream",
     "text": [
      "(100000, 1, 300, 60)\n"
     ]
    }
   ],
   "source": [
    "print(data_div[valid]['image'].shape)"
   ]
  },
  {
   "cell_type": "code",
   "execution_count": 26,
   "metadata": {},
   "outputs": [
    {
     "name": "stderr",
     "output_type": "stream",
     "text": [
      "Using TensorFlow backend.\n"
     ]
    }
   ],
   "source": [
    "from keras import layers\n",
    "from keras import models"
   ]
  },
  {
   "cell_type": "code",
   "execution_count": 27,
   "metadata": {},
   "outputs": [
    {
     "name": "stderr",
     "output_type": "stream",
     "text": [
      "WARNING: Logging before flag parsing goes to stderr.\n",
      "W0221 12:38:06.628379 139815867225856 deprecation_wrapper.py:119] From /home/dup193/anaconda3/envs/tf-gpu/lib/python3.7/site-packages/keras/backend/tensorflow_backend.py:74: The name tf.get_default_graph is deprecated. Please use tf.compat.v1.get_default_graph instead.\n",
      "\n",
      "W0221 12:38:06.630050 139815867225856 deprecation_wrapper.py:119] From /home/dup193/anaconda3/envs/tf-gpu/lib/python3.7/site-packages/keras/backend/tensorflow_backend.py:517: The name tf.placeholder is deprecated. Please use tf.compat.v1.placeholder instead.\n",
      "\n",
      "W0221 12:38:06.632944 139815867225856 deprecation_wrapper.py:119] From /home/dup193/anaconda3/envs/tf-gpu/lib/python3.7/site-packages/keras/backend/tensorflow_backend.py:4138: The name tf.random_uniform is deprecated. Please use tf.random.uniform instead.\n",
      "\n",
      "W0221 12:38:06.647600 139815867225856 deprecation_wrapper.py:119] From /home/dup193/anaconda3/envs/tf-gpu/lib/python3.7/site-packages/keras/backend/tensorflow_backend.py:3976: The name tf.nn.max_pool is deprecated. Please use tf.nn.max_pool2d instead.\n",
      "\n",
      "W0221 12:38:06.682279 139815867225856 deprecation_wrapper.py:119] From /home/dup193/anaconda3/envs/tf-gpu/lib/python3.7/site-packages/keras/backend/tensorflow_backend.py:133: The name tf.placeholder_with_default is deprecated. Please use tf.compat.v1.placeholder_with_default instead.\n",
      "\n",
      "W0221 12:38:06.689179 139815867225856 deprecation.py:506] From /home/dup193/anaconda3/envs/tf-gpu/lib/python3.7/site-packages/keras/backend/tensorflow_backend.py:3445: calling dropout (from tensorflow.python.ops.nn_ops) with keep_prob is deprecated and will be removed in a future version.\n",
      "Instructions for updating:\n",
      "Please use `rate` instead of `keep_prob`. Rate should be set to `rate = 1 - keep_prob`.\n",
      "W0221 12:38:06.737754 139815867225856 deprecation_wrapper.py:119] From /home/dup193/anaconda3/envs/tf-gpu/lib/python3.7/site-packages/keras/backend/tensorflow_backend.py:174: The name tf.get_default_session is deprecated. Please use tf.compat.v1.get_default_session instead.\n",
      "\n"
     ]
    },
    {
     "name": "stdout",
     "output_type": "stream",
     "text": [
      "_________________________________________________________________\n",
      "Layer (type)                 Output Shape              Param #   \n",
      "=================================================================\n",
      "conv2d_1 (Conv2D)            (None, 251, 51, 32)       16032     \n",
      "_________________________________________________________________\n",
      "max_pooling2d_1 (MaxPooling2 (None, 125, 25, 32)       0         \n",
      "_________________________________________________________________\n",
      "conv2d_2 (Conv2D)            (None, 101, 21, 64)       256064    \n",
      "_________________________________________________________________\n",
      "max_pooling2d_2 (MaxPooling2 (None, 50, 10, 64)        0         \n",
      "_________________________________________________________________\n",
      "conv2d_3 (Conv2D)            (None, 36, 8, 32)         92192     \n",
      "_________________________________________________________________\n",
      "max_pooling2d_3 (MaxPooling2 (None, 18, 4, 32)         0         \n",
      "_________________________________________________________________\n",
      "flatten_1 (Flatten)          (None, 2304)              0         \n",
      "_________________________________________________________________\n",
      "dropout_1 (Dropout)          (None, 2304)              0         \n",
      "_________________________________________________________________\n",
      "dense_1 (Dense)              (None, 128)               295040    \n",
      "_________________________________________________________________\n",
      "dense_2 (Dense)              (None, 64)                8256      \n",
      "_________________________________________________________________\n",
      "dense_3 (Dense)              (None, 2)                 130       \n",
      "=================================================================\n",
      "Total params: 667,714\n",
      "Trainable params: 667,714\n",
      "Non-trainable params: 0\n",
      "_________________________________________________________________\n"
     ]
    },
    {
     "name": "stderr",
     "output_type": "stream",
     "text": [
      "W0221 12:38:11.013456 139815867225856 deprecation_wrapper.py:119] From /home/dup193/anaconda3/envs/tf-gpu/lib/python3.7/site-packages/keras/optimizers.py:790: The name tf.train.Optimizer is deprecated. Please use tf.compat.v1.train.Optimizer instead.\n",
      "\n",
      "W0221 12:39:22.621155 139815867225856 deprecation.py:323] From /home/dup193/anaconda3/envs/tf-gpu/lib/python3.7/site-packages/tensorflow/python/ops/math_grad.py:1250: add_dispatch_support.<locals>.wrapper (from tensorflow.python.ops.array_ops) is deprecated and will be removed in a future version.\n",
      "Instructions for updating:\n",
      "Use tf.where in 2.0, which has the same broadcast rule as np.where\n"
     ]
    },
    {
     "name": "stdout",
     "output_type": "stream",
     "text": [
      "Train on 400000 samples, validate on 100000 samples\n",
      "Epoch 1/100\n",
      "400000/400000 [==============================] - 179s 447us/step - loss: 0.6921 - acc: 0.5120 - val_loss: 0.6904 - val_acc: 0.5238\n",
      "Epoch 2/100\n",
      "400000/400000 [==============================] - 155s 388us/step - loss: 0.6902 - acc: 0.5233 - val_loss: 0.6888 - val_acc: 0.5329\n",
      "Epoch 3/100\n",
      "400000/400000 [==============================] - 155s 388us/step - loss: 0.6886 - acc: 0.5294 - val_loss: 0.6882 - val_acc: 0.5262\n",
      "Epoch 4/100\n",
      "400000/400000 [==============================] - 155s 387us/step - loss: 0.6872 - acc: 0.5340 - val_loss: 0.6857 - val_acc: 0.5300\n",
      "Epoch 5/100\n",
      "400000/400000 [==============================] - 155s 387us/step - loss: 0.6858 - acc: 0.5377 - val_loss: 0.6839 - val_acc: 0.5407\n",
      "Epoch 6/100\n",
      "400000/400000 [==============================] - 155s 387us/step - loss: 0.6847 - acc: 0.5404 - val_loss: 0.6855 - val_acc: 0.5440\n",
      "Epoch 7/100\n",
      "400000/400000 [==============================] - 157s 391us/step - loss: 0.6834 - acc: 0.5422 - val_loss: 0.6816 - val_acc: 0.5445\n",
      "Epoch 8/100\n",
      "400000/400000 [==============================] - 155s 387us/step - loss: 0.6824 - acc: 0.5442 - val_loss: 0.6806 - val_acc: 0.5502\n",
      "Epoch 9/100\n",
      "400000/400000 [==============================] - 154s 385us/step - loss: 0.6813 - acc: 0.5458 - val_loss: 0.6798 - val_acc: 0.5488\n",
      "Epoch 10/100\n",
      "400000/400000 [==============================] - 155s 387us/step - loss: 0.6805 - acc: 0.5473 - val_loss: 0.6789 - val_acc: 0.5542\n",
      "Epoch 11/100\n",
      "400000/400000 [==============================] - 154s 385us/step - loss: 0.6797 - acc: 0.5490 - val_loss: 0.6785 - val_acc: 0.5545\n",
      "Epoch 12/100\n",
      "400000/400000 [==============================] - 155s 387us/step - loss: 0.6790 - acc: 0.5500 - val_loss: 0.6788 - val_acc: 0.5454\n",
      "Epoch 13/100\n",
      "400000/400000 [==============================] - 156s 390us/step - loss: 0.6782 - acc: 0.5507 - val_loss: 0.6794 - val_acc: 0.5424\n",
      "Epoch 14/100\n",
      "400000/400000 [==============================] - 154s 385us/step - loss: 0.6776 - acc: 0.5523 - val_loss: 0.6761 - val_acc: 0.5498\n",
      "Epoch 15/100\n",
      "400000/400000 [==============================] - 155s 387us/step - loss: 0.6769 - acc: 0.5532 - val_loss: 0.6785 - val_acc: 0.5494\n",
      "Epoch 16/100\n",
      "400000/400000 [==============================] - 153s 384us/step - loss: 0.6761 - acc: 0.5547 - val_loss: 0.6744 - val_acc: 0.5566\n",
      "Epoch 17/100\n",
      "400000/400000 [==============================] - 154s 384us/step - loss: 0.6756 - acc: 0.5558 - val_loss: 0.6805 - val_acc: 0.5437\n",
      "Epoch 18/100\n",
      "400000/400000 [==============================] - 155s 386us/step - loss: 0.6747 - acc: 0.5570 - val_loss: 0.6751 - val_acc: 0.5542\n",
      "Epoch 19/100\n",
      "400000/400000 [==============================] - 154s 385us/step - loss: 0.6741 - acc: 0.5585 - val_loss: 0.6727 - val_acc: 0.5639\n",
      "Epoch 20/100\n",
      "400000/400000 [==============================] - 154s 384us/step - loss: 0.6736 - acc: 0.5586 - val_loss: 0.6745 - val_acc: 0.5603\n",
      "Epoch 21/100\n",
      "400000/400000 [==============================] - 154s 386us/step - loss: 0.6732 - acc: 0.5590 - val_loss: 0.6772 - val_acc: 0.5525\n",
      "Epoch 22/100\n",
      "400000/400000 [==============================] - 154s 386us/step - loss: 0.6724 - acc: 0.5608 - val_loss: 0.6714 - val_acc: 0.5601\n",
      "Epoch 23/100\n",
      "400000/400000 [==============================] - 154s 385us/step - loss: 0.6721 - acc: 0.5603 - val_loss: 0.6743 - val_acc: 0.5493\n",
      "Epoch 24/100\n",
      "400000/400000 [==============================] - 153s 383us/step - loss: 0.6716 - acc: 0.5615 - val_loss: 0.6727 - val_acc: 0.5592\n",
      "Epoch 25/100\n",
      "400000/400000 [==============================] - 153s 384us/step - loss: 0.6708 - acc: 0.5625 - val_loss: 0.6697 - val_acc: 0.5629\n",
      "Epoch 26/100\n",
      "400000/400000 [==============================] - 153s 382us/step - loss: 0.6702 - acc: 0.5633 - val_loss: 0.6735 - val_acc: 0.5542\n",
      "Epoch 27/100\n",
      "400000/400000 [==============================] - 152s 381us/step - loss: 0.6701 - acc: 0.5633 - val_loss: 0.6688 - val_acc: 0.5650\n",
      "Epoch 28/100\n",
      "400000/400000 [==============================] - 152s 380us/step - loss: 0.6710 - acc: 0.5621 - val_loss: 0.6714 - val_acc: 0.5590\n",
      "Epoch 29/100\n",
      "400000/400000 [==============================] - 153s 382us/step - loss: 0.6697 - acc: 0.5639 - val_loss: 0.6709 - val_acc: 0.5612\n",
      "Epoch 30/100\n",
      "400000/400000 [==============================] - 153s 384us/step - loss: 0.6683 - acc: 0.5649 - val_loss: 0.6670 - val_acc: 0.5685\n",
      "Epoch 31/100\n",
      "400000/400000 [==============================] - 153s 383us/step - loss: 0.6680 - acc: 0.5668 - val_loss: 0.6724 - val_acc: 0.5606\n",
      "Epoch 32/100\n",
      "400000/400000 [==============================] - 154s 384us/step - loss: 0.6674 - acc: 0.5663 - val_loss: 0.7004 - val_acc: 0.5361\n",
      "Epoch 33/100\n",
      "400000/400000 [==============================] - 154s 385us/step - loss: 0.6669 - acc: 0.5667 - val_loss: 0.6697 - val_acc: 0.5592\n",
      "Epoch 34/100\n",
      "400000/400000 [==============================] - 154s 384us/step - loss: 0.6664 - acc: 0.5686 - val_loss: 0.6660 - val_acc: 0.5675\n",
      "Epoch 35/100\n",
      "400000/400000 [==============================] - 154s 384us/step - loss: 0.6661 - acc: 0.5674 - val_loss: 0.6712 - val_acc: 0.5611\n",
      "Epoch 36/100\n",
      "400000/400000 [==============================] - 154s 385us/step - loss: 0.6654 - acc: 0.5692 - val_loss: 0.6642 - val_acc: 0.5700\n",
      "Epoch 37/100\n",
      "400000/400000 [==============================] - 154s 385us/step - loss: 0.6650 - acc: 0.5705 - val_loss: 0.6645 - val_acc: 0.5665\n",
      "Epoch 38/100\n",
      "400000/400000 [==============================] - 150s 376us/step - loss: 0.6642 - acc: 0.5712 - val_loss: 0.6667 - val_acc: 0.5663\n",
      "Epoch 39/100\n",
      "400000/400000 [==============================] - 151s 377us/step - loss: 0.6641 - acc: 0.5707 - val_loss: 0.6645 - val_acc: 0.5682\n",
      "Epoch 40/100\n",
      "400000/400000 [==============================] - 151s 377us/step - loss: 0.6638 - acc: 0.5710 - val_loss: 0.6636 - val_acc: 0.5707\n",
      "Epoch 41/100\n",
      "400000/400000 [==============================] - 150s 375us/step - loss: 0.6634 - acc: 0.5710 - val_loss: 0.6658 - val_acc: 0.5709\n",
      "Epoch 42/100\n",
      "400000/400000 [==============================] - 151s 378us/step - loss: 0.6625 - acc: 0.5726 - val_loss: 0.6602 - val_acc: 0.5753\n",
      "Epoch 43/100\n",
      "400000/400000 [==============================] - 153s 383us/step - loss: 0.6623 - acc: 0.5725 - val_loss: 0.7034 - val_acc: 0.5309\n",
      "Epoch 44/100\n",
      "400000/400000 [==============================] - 153s 383us/step - loss: 0.6618 - acc: 0.5734 - val_loss: 0.6617 - val_acc: 0.5724\n",
      "Epoch 45/100\n",
      "400000/400000 [==============================] - 149s 372us/step - loss: 0.6612 - acc: 0.5734 - val_loss: 0.6646 - val_acc: 0.5661\n",
      "Epoch 46/100\n",
      "400000/400000 [==============================] - 149s 372us/step - loss: 0.6612 - acc: 0.5737 - val_loss: 0.6640 - val_acc: 0.5734\n",
      "Epoch 47/100\n",
      "400000/400000 [==============================] - 150s 376us/step - loss: 0.6607 - acc: 0.5744 - val_loss: 0.6614 - val_acc: 0.5736\n",
      "Epoch 48/100\n",
      "400000/400000 [==============================] - 153s 382us/step - loss: 0.6604 - acc: 0.5741 - val_loss: 0.6599 - val_acc: 0.5757\n",
      "Epoch 49/100\n",
      "400000/400000 [==============================] - 150s 375us/step - loss: 0.6599 - acc: 0.5753 - val_loss: 0.6612 - val_acc: 0.5743\n",
      "Epoch 50/100\n",
      "400000/400000 [==============================] - 151s 376us/step - loss: 0.6595 - acc: 0.5758 - val_loss: 0.6588 - val_acc: 0.5776\n",
      "Epoch 51/100\n",
      "400000/400000 [==============================] - 151s 378us/step - loss: 0.6604 - acc: 0.5737 - val_loss: 0.6601 - val_acc: 0.5759\n",
      "Epoch 52/100\n",
      "400000/400000 [==============================] - 151s 378us/step - loss: 0.6593 - acc: 0.5763 - val_loss: 0.6603 - val_acc: 0.5753\n",
      "Epoch 53/100\n",
      "400000/400000 [==============================] - 151s 377us/step - loss: 0.6588 - acc: 0.5763 - val_loss: 0.6644 - val_acc: 0.5743\n",
      "Epoch 54/100\n",
      "400000/400000 [==============================] - 152s 379us/step - loss: 0.6579 - acc: 0.5775 - val_loss: 0.6601 - val_acc: 0.5737\n",
      "Epoch 55/100\n",
      "400000/400000 [==============================] - 153s 383us/step - loss: 0.6579 - acc: 0.5769 - val_loss: 0.7107 - val_acc: 0.5487\n",
      "Epoch 56/100\n",
      "400000/400000 [==============================] - 153s 384us/step - loss: 0.6577 - acc: 0.5777 - val_loss: 0.6613 - val_acc: 0.5738\n",
      "Epoch 57/100\n",
      "400000/400000 [==============================] - 154s 385us/step - loss: 0.6571 - acc: 0.5785 - val_loss: 0.6574 - val_acc: 0.5786\n",
      "Epoch 58/100\n",
      "400000/400000 [==============================] - 154s 386us/step - loss: 0.6567 - acc: 0.5780 - val_loss: 0.6563 - val_acc: 0.5797\n",
      "Epoch 59/100\n",
      "400000/400000 [==============================] - 154s 385us/step - loss: 0.6567 - acc: 0.5783 - val_loss: 0.6571 - val_acc: 0.5795\n",
      "Epoch 60/100\n",
      "400000/400000 [==============================] - 154s 385us/step - loss: 0.6566 - acc: 0.5798 - val_loss: 0.6548 - val_acc: 0.5825\n",
      "Epoch 61/100\n",
      "400000/400000 [==============================] - 154s 384us/step - loss: 0.6558 - acc: 0.5804 - val_loss: 0.6597 - val_acc: 0.5773\n",
      "Epoch 62/100\n",
      "400000/400000 [==============================] - 154s 385us/step - loss: 0.6555 - acc: 0.5802 - val_loss: 0.6591 - val_acc: 0.5753\n",
      "Epoch 63/100\n",
      "400000/400000 [==============================] - 150s 376us/step - loss: 0.6555 - acc: 0.5793 - val_loss: 0.6578 - val_acc: 0.5751\n",
      "Epoch 64/100\n",
      "400000/400000 [==============================] - 150s 375us/step - loss: 0.6553 - acc: 0.5798 - val_loss: 0.6567 - val_acc: 0.5741\n",
      "Epoch 65/100\n",
      "400000/400000 [==============================] - 150s 374us/step - loss: 0.6549 - acc: 0.5804 - val_loss: 0.6552 - val_acc: 0.5804\n",
      "Epoch 66/100\n",
      "400000/400000 [==============================] - 151s 379us/step - loss: 0.6542 - acc: 0.5815 - val_loss: 0.6538 - val_acc: 0.5800\n",
      "Epoch 67/100\n",
      "400000/400000 [==============================] - 153s 383us/step - loss: 0.6543 - acc: 0.5805 - val_loss: 0.6592 - val_acc: 0.5759\n",
      "Epoch 68/100\n",
      "400000/400000 [==============================] - 153s 383us/step - loss: 0.6540 - acc: 0.5823 - val_loss: 0.6654 - val_acc: 0.5653\n",
      "Epoch 69/100\n",
      "400000/400000 [==============================] - 150s 374us/step - loss: 0.6538 - acc: 0.5825 - val_loss: 0.6561 - val_acc: 0.5805\n",
      "Epoch 70/100\n",
      "400000/400000 [==============================] - 148s 370us/step - loss: 0.6537 - acc: 0.5817 - val_loss: 0.6546 - val_acc: 0.5790\n",
      "Epoch 71/100\n",
      "400000/400000 [==============================] - 151s 376us/step - loss: 0.6533 - acc: 0.5813 - val_loss: 0.6593 - val_acc: 0.5757\n",
      "Epoch 72/100\n",
      "400000/400000 [==============================] - 153s 382us/step - loss: 0.6530 - acc: 0.5831 - val_loss: 0.6570 - val_acc: 0.5770\n",
      "Epoch 73/100\n",
      "400000/400000 [==============================] - 153s 384us/step - loss: 0.6525 - acc: 0.5822 - val_loss: 0.6588 - val_acc: 0.5751\n",
      "Epoch 74/100\n",
      "400000/400000 [==============================] - 149s 373us/step - loss: 0.6528 - acc: 0.5831 - val_loss: 0.6632 - val_acc: 0.5644\n",
      "Epoch 75/100\n",
      "400000/400000 [==============================] - 149s 372us/step - loss: 0.6522 - acc: 0.5831 - val_loss: 0.6559 - val_acc: 0.5757\n",
      "Epoch 76/100\n",
      "400000/400000 [==============================] - 150s 374us/step - loss: 0.6518 - acc: 0.5842 - val_loss: 0.6559 - val_acc: 0.5790\n",
      "Epoch 77/100\n",
      "400000/400000 [==============================] - 153s 384us/step - loss: 0.6517 - acc: 0.5852 - val_loss: 0.6558 - val_acc: 0.5777\n",
      "Epoch 78/100\n",
      "400000/400000 [==============================] - 150s 374us/step - loss: 0.6511 - acc: 0.5848 - val_loss: 0.6653 - val_acc: 0.5659\n",
      "Epoch 79/100\n",
      "400000/400000 [==============================] - 150s 374us/step - loss: 0.6516 - acc: 0.5845 - val_loss: 0.6572 - val_acc: 0.5798\n",
      "Epoch 80/100\n",
      "400000/400000 [==============================] - 150s 375us/step - loss: 0.6508 - acc: 0.5854 - val_loss: 0.6519 - val_acc: 0.5833\n",
      "Epoch 81/100\n",
      "400000/400000 [==============================] - 151s 378us/step - loss: 0.6508 - acc: 0.5859 - val_loss: 0.6514 - val_acc: 0.5837\n",
      "Epoch 82/100\n",
      "400000/400000 [==============================] - 154s 384us/step - loss: 0.6505 - acc: 0.5870 - val_loss: 0.6538 - val_acc: 0.5801\n",
      "Epoch 83/100\n",
      "400000/400000 [==============================] - 150s 374us/step - loss: 0.6504 - acc: 0.5860 - val_loss: 0.6530 - val_acc: 0.5797\n",
      "Epoch 84/100\n",
      "400000/400000 [==============================] - 149s 373us/step - loss: 0.6504 - acc: 0.5860 - val_loss: 0.6529 - val_acc: 0.5815\n",
      "Epoch 85/100\n",
      "400000/400000 [==============================] - 149s 373us/step - loss: 0.6499 - acc: 0.5860 - val_loss: 0.6561 - val_acc: 0.5769\n",
      "Epoch 86/100\n",
      "400000/400000 [==============================] - 153s 383us/step - loss: 0.6501 - acc: 0.5863 - val_loss: 0.6553 - val_acc: 0.5786\n",
      "Epoch 87/100\n",
      "400000/400000 [==============================] - 149s 373us/step - loss: 0.6534 - acc: 0.5840 - val_loss: 0.6629 - val_acc: 0.5710\n",
      "Epoch 88/100\n",
      "400000/400000 [==============================] - 147s 367us/step - loss: 0.6500 - acc: 0.5862 - val_loss: 0.6523 - val_acc: 0.5836\n",
      "Epoch 89/100\n",
      "400000/400000 [==============================] - 152s 379us/step - loss: 0.6486 - acc: 0.5880 - val_loss: 0.6498 - val_acc: 0.5860\n",
      "Epoch 90/100\n",
      "400000/400000 [==============================] - 150s 375us/step - loss: 0.6485 - acc: 0.5887 - val_loss: 0.6573 - val_acc: 0.5780\n",
      "Epoch 91/100\n",
      "400000/400000 [==============================] - 149s 373us/step - loss: 0.6488 - acc: 0.5881 - val_loss: 0.6568 - val_acc: 0.5759\n",
      "Epoch 92/100\n",
      "400000/400000 [==============================] - 149s 373us/step - loss: 0.6483 - acc: 0.5875 - val_loss: 0.6625 - val_acc: 0.5665\n",
      "Epoch 93/100\n",
      "400000/400000 [==============================] - 153s 383us/step - loss: 0.6481 - acc: 0.5874 - val_loss: 0.6553 - val_acc: 0.5789\n",
      "Epoch 94/100\n",
      "400000/400000 [==============================] - 153s 383us/step - loss: 0.6482 - acc: 0.5884 - val_loss: 0.6503 - val_acc: 0.5845\n",
      "Epoch 95/100\n",
      "400000/400000 [==============================] - 149s 372us/step - loss: 0.6474 - acc: 0.5895 - val_loss: 0.6628 - val_acc: 0.5704\n",
      "Epoch 96/100\n",
      "400000/400000 [==============================] - 149s 372us/step - loss: 0.6478 - acc: 0.5881 - val_loss: 0.6588 - val_acc: 0.5721\n",
      "Epoch 97/100\n",
      "400000/400000 [==============================] - 150s 376us/step - loss: 0.6472 - acc: 0.5888 - val_loss: 0.6597 - val_acc: 0.5751\n",
      "Epoch 98/100\n",
      "400000/400000 [==============================] - 153s 383us/step - loss: 0.6468 - acc: 0.5904 - val_loss: 0.6556 - val_acc: 0.5793\n",
      "Epoch 99/100\n",
      "400000/400000 [==============================] - 149s 373us/step - loss: 0.6466 - acc: 0.5898 - val_loss: 0.6520 - val_acc: 0.5825\n",
      "Epoch 100/100\n",
      "400000/400000 [==============================] - 149s 373us/step - loss: 0.6468 - acc: 0.5906 - val_loss: 0.6626 - val_acc: 0.5749\n"
     ]
    }
   ],
   "source": [
    "from keras.utils import multi_gpu_model\n",
    "from keras import optimizers\n",
    "import tensorflow as tf\n",
    "tf.__version__\n",
    "with tf.device('/cpu:0'):\n",
    "    model = models.Sequential()\n",
    "    model.add(layers.Conv2D(32, (50, 10), activation='relu', input_shape=(300, 60, 1)))\n",
    "    model.add(layers.MaxPooling2D((2, 2)))\n",
    "    model.add(layers.Conv2D(64, (25, 5), activation='relu'))\n",
    "    model.add(layers.MaxPooling2D((2, 2)))\n",
    "    model.add(layers.Conv2D(32, (15, 3), activation='relu'))\n",
    "    model.add(layers.MaxPooling2D((2, 2)))\n",
    "    model.add(layers.Flatten())\n",
    "    model.add(layers.Dropout(0.5))\n",
    "    model.add(layers.Dense(128, activation='relu'))\n",
    "    model.add(layers.Dense(64, activation='relu'))\n",
    "    model.add(layers.Dense(2, activation='softmax'))\n",
    "    model.summary()\n",
    "    \n",
    "parallel_model = multi_gpu_model(model,gpus=2)\n",
    "sgd = optimizers.SGD(lr=0.01)\n",
    "parallel_model.compile(loss='categorical_crossentropy',\n",
    "              optimizer=sgd,\n",
    "              metrics=['accuracy'])\n",
    "history = parallel_model.fit(data_div[train]['image'].reshape(data_div[train]['image'].shape[0],300,60,1),label[train], epochs=100, validation_data=(data_div[valid]['image'].reshape(data_div[valid]['image'].shape[0],300,60,1),label[valid]), batch_size =512)"
   ]
  },
  {
   "cell_type": "code",
   "execution_count": 28,
   "metadata": {},
   "outputs": [],
   "source": [
    "import json\n",
    "history_dict = history.history # Get the dictionary containing each metric and the loss for each epoch\n",
    "json.dump(history_dict, open('/data/dfc13/DoublePulse/Models/DP_model_NewFormat_Double_Single_600k_NO.json', 'w')) # Save it under the form of a json file\n",
    "#\n",
    "model.save('/data/dfc13/DoublePulse/Models/DP_model_NewFormat_Double_Single_600k_NO.h5') # Save the model\n",
    "#\n",
    "#ResultsFile = open('/data/dfc13/DoublePulse/Models/DP_model_NewFormat_Double_Single_600k_NO.txt','w') # File for saving the results of the fit.\n",
    "\n",
    "# 8: multiple conv2d layers a la textbook (32 (3,3) then 64, 128, 128, dropout 0.3, dense 256(relu), 64(relu), 2(softmax)\n",
    "# 8b: same as 8 but with 50 trials\n",
    "# 8b[not c didn't update the line above]: same as 8b but with dropout 0.5.\n",
    "# 8c: changed SGC \"lr\" from 0.01->0.001.  This smoothed things out a lot.  Sort of.  But had 0% accuracy for nutaus.\n",
    "# 8d: changed SGC \"lr\" from 0.001->0.005.\n",
    "# 8e: decreased size of training set to 24k, increased size of validation set to 4k (24k:28k) and increased test set (28k:)\n",
    "# 8f: changed SGC \"lr\" from 0.005->0.01.  200 epochs. 97%/37%.\n",
    "# 8g: lr=0.02, 50 epochs: 98%/29%.\n",
    "\n",
    "# 9a: changed dense 256 -> 512.  50 epochs. 100%/22%\n",
    "# 9b: same as above, 200 epochs. 97%/39%.\n",
    "# 9c: same as above, lr = 0.01.  200 epochs. 97%/36%.\n",
    "# 9d: same as above, 500 epochs batch_size = 64. 96%/40%.\n",
    "# 10a: Testing selection of particular GPU.  20 epochs, batch_size = 128.\n",
    "# 10b-3: Testing parallelization.  50 epochs, batch_size = 128, 3 GPUs (about 6s/epoch): 99%/19%.\n",
    "# 10c-3: Testing parallelization.  50 epochs, batch_size = 64*3=192, 3 GPUs (about 4.5s/epoch): 100%/11%.\n",
    "# 10d-3: Testing parallelization.  100 epochs, batch_size = 64*3=192, 3 GPUs (about 4s/epoch): 98%/29%.\n",
    "# 10e-3: Testing parallelization.  500 epochs, batch_size = 64*3=192, 3 GPUs (about 4s/epoch): 98%/29%; 98%/56%.\n",
    "# 10f-3: Parallel.  300 epochs, batch_size = 64*3=192, 3 GPUs. X%/Y%."
   ]
  },
  {
   "cell_type": "code",
   "execution_count": 6,
   "metadata": {},
   "outputs": [
    {
     "name": "stderr",
     "output_type": "stream",
     "text": [
      "Using TensorFlow backend.\n",
      "WARNING: Logging before flag parsing goes to stderr.\n",
      "W0221 12:10:01.074048 139696329090816 deprecation_wrapper.py:119] From /home/dup193/anaconda3/envs/tf-gpu/lib/python3.7/site-packages/keras/backend/tensorflow_backend.py:517: The name tf.placeholder is deprecated. Please use tf.compat.v1.placeholder instead.\n",
      "\n",
      "W0221 12:10:01.095360 139696329090816 deprecation_wrapper.py:119] From /home/dup193/anaconda3/envs/tf-gpu/lib/python3.7/site-packages/keras/backend/tensorflow_backend.py:4138: The name tf.random_uniform is deprecated. Please use tf.random.uniform instead.\n",
      "\n",
      "W0221 12:10:01.110813 139696329090816 deprecation_wrapper.py:119] From /home/dup193/anaconda3/envs/tf-gpu/lib/python3.7/site-packages/keras/backend/tensorflow_backend.py:3976: The name tf.nn.max_pool is deprecated. Please use tf.nn.max_pool2d instead.\n",
      "\n",
      "W0221 12:10:01.147207 139696329090816 deprecation_wrapper.py:119] From /home/dup193/anaconda3/envs/tf-gpu/lib/python3.7/site-packages/keras/backend/tensorflow_backend.py:131: The name tf.get_default_graph is deprecated. Please use tf.compat.v1.get_default_graph instead.\n",
      "\n",
      "W0221 12:10:01.148185 139696329090816 deprecation_wrapper.py:119] From /home/dup193/anaconda3/envs/tf-gpu/lib/python3.7/site-packages/keras/backend/tensorflow_backend.py:133: The name tf.placeholder_with_default is deprecated. Please use tf.compat.v1.placeholder_with_default instead.\n",
      "\n",
      "W0221 12:10:01.238614 139696329090816 deprecation.py:506] From /home/dup193/anaconda3/envs/tf-gpu/lib/python3.7/site-packages/keras/backend/tensorflow_backend.py:3445: calling dropout (from tensorflow.python.ops.nn_ops) with keep_prob is deprecated and will be removed in a future version.\n",
      "Instructions for updating:\n",
      "Please use `rate` instead of `keep_prob`. Rate should be set to `rate = 1 - keep_prob`.\n",
      "W0221 12:10:01.306252 139696329090816 deprecation_wrapper.py:119] From /home/dup193/anaconda3/envs/tf-gpu/lib/python3.7/site-packages/keras/backend/tensorflow_backend.py:174: The name tf.get_default_session is deprecated. Please use tf.compat.v1.get_default_session instead.\n",
      "\n",
      "/home/dup193/anaconda3/envs/tf-gpu/lib/python3.7/site-packages/keras/engine/saving.py:292: UserWarning: No training configuration found in save file: the model was *not* compiled. Compile it manually.\n",
      "  warnings.warn('No training configuration found in save file: '\n"
     ]
    }
   ],
   "source": [
    "#import json\n",
    "#with open('/data/dfc13/DoublePulse/Models/DP_model_NewFormat_Double_Single_600k_NO.json', 'r') as f:\n",
    "#        history_dict = json.load(f)\n",
    "#from keras.models import load_model\n",
    "#model = load_model('/data/dfc13/DoublePulse/Models/DP_model_NewFormat_Double_Single_600k_NO.h5')"
   ]
  },
  {
   "cell_type": "code",
   "execution_count": 29,
   "metadata": {},
   "outputs": [
    {
     "data": {
      "image/png": "[encoded data removed]",
      "text/plain": [
       "<Figure size 432x288 with 1 Axes>"
      ]
     },
     "metadata": {
      "needs_background": "light"
     },
     "output_type": "display_data"
    },
    {
     "data": {
      "image/png": "[encoded data removed]",
      "text/plain": [
       "<Figure size 432x288 with 1 Axes>"
      ]
     },
     "metadata": {
      "needs_background": "light"
     },
     "output_type": "display_data"
    }
   ],
   "source": [
    "acc = history.history['acc']\n",
    "val_acc = history.history['val_acc']\n",
    "loss = history.history['loss']\n",
    "val_loss = history.history['val_loss']\n",
    "\n",
    "epochs = range(len(acc))\n",
    "\n",
    "plt.plot(epochs, acc, 'bo', label='Training acc')\n",
    "plt.plot(epochs, val_acc, 'b', label='Validation acc')\n",
    "plt.title('Training and validation accuracy')\n",
    "plt.legend()\n",
    "\n",
    "plt.figure()\n",
    "\n",
    "plt.plot(epochs, loss, 'bo', label='Training loss')\n",
    "plt.plot(epochs, val_loss, 'b', label='Validation loss')\n",
    "plt.title('Training and validation loss')\n",
    "plt.legend()\n",
    "\n",
    "plt.show()"
   ]
  },
  {
   "cell_type": "code",
   "execution_count": 30,
   "metadata": {},
   "outputs": [
    {
     "name": "stdout",
     "output_type": "stream",
     "text": [
      "100000/100000 [==============================] - 24s 237us/step\n",
      "[0.6644079509162902, 0.57155]\n"
     ]
    }
   ],
   "source": [
    "result = parallel_model.evaluate(data_div['image'][test].reshape(len(data_div['image'][test]),300,60,1),label[test])\n",
    "print(result)"
   ]
  },
  {
   "cell_type": "code",
   "execution_count": 31,
   "metadata": {},
   "outputs": [],
   "source": [
    "from sklearn.metrics import classification_report, confusion_matrix"
   ]
  },
  {
   "cell_type": "code",
   "execution_count": 32,
   "metadata": {},
   "outputs": [],
   "source": [
    "test_pred = parallel_model.predict(data_div['image'][test].reshape(len(data_div['image'][test]),300,60,1))\n",
    "matrix = confusion_matrix(label[test].argmax(axis=1), test_pred.argmax(axis=1))\n",
    "report = classification_report(label[test].argmax(axis=1), test_pred.argmax(axis=1))"
   ]
  },
  {
   "cell_type": "code",
   "execution_count": 34,
   "metadata": {},
   "outputs": [
    {
     "name": "stdout",
     "output_type": "stream",
     "text": [
      "[[34274 15744]\n",
      " [27101 22881]]\n",
      "              precision    recall  f1-score   support\n",
      "\n",
      "           0       0.56      0.69      0.62     50018\n",
      "           1       0.59      0.46      0.52     49982\n",
      "\n",
      "    accuracy                           0.57    100000\n",
      "   macro avg       0.58      0.57      0.57    100000\n",
      "weighted avg       0.58      0.57      0.57    100000\n",
      "\n"
     ]
    }
   ],
   "source": [
    "#print(\"True Positive\",tp)\n",
    "#print(\"True Negative\",tn)\n",
    "#print(\"False Positive\",fp)\n",
    "#print(\"False Negative\",fn)\n",
    "\n",
    "#ResultsFile.write(repr(matrix))\n",
    "#ResultsFile.write('\\n')\n",
    "#ResultsFile.write(report)\n",
    "#ResultsFile.close()\n",
    "\n",
    "print(matrix)\n",
    "print(report)"
   ]
  },
  {
   "cell_type": "code",
   "execution_count": null,
   "metadata": {},
   "outputs": [],
   "source": []
  }
 ],
 "metadata": {
  "kernelspec": {
   "display_name": "Python 3",
   "language": "python",
   "name": "python3"
  },
  "language_info": {
   "codemirror_mode": {
    "name": "ipython",
    "version": 3
   },
   "file_extension": ".py",
   "mimetype": "text/x-python",
   "name": "python",
   "nbconvert_exporter": "python",
   "pygments_lexer": "ipython3",
   "version": "3.7.4"
  }
 },
 "nbformat": 4,
 "nbformat_minor": 4
}
