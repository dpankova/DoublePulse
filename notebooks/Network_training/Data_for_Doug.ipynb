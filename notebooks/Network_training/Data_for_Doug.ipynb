{
 "cells": [
  {
   "cell_type": "markdown",
   "metadata": {},
   "source": [
    "This code runs Deep Learning on nutau and nue samples created by Dasha. \n",
    "\n",
    "This code runs in a python 3.7 conda environment constructed as follows:\n",
    "- conda create --name tf-gpu tensorflow-gpu keras scikit-learn matplotlib ipykernel nb_conda_kernels [Pillow]\n",
    "- conda activate tf-gpu\n",
    "(Pillow is for image manipulation for making heat maps, but I haven't got it to work yet.  Can remove from environment.)\n",
    "\n",
    "To run with multiple GPUs on CyberLAMP you must specify the \"nodes\" and \"gpus\" qualifiers in the same chunk.  For example:\n",
    "- qsub -I -A cyberlamp -l qos=cl_higpu -l nodes=1:ppn=1:gpus=4:shared -l mem=24gb -l walltime=4:00:00"
   ]
  },
  {
   "cell_type": "code",
   "execution_count": 1,
   "metadata": {},
   "outputs": [],
   "source": [
    "import os\n",
    "\n",
    "# Set which GPU to use.  This probably needs to be done before any other CUDA vars get defined.\n",
    "# Use the command \"nvidia-smi\" to get association of a particular GPU with a particular number.\n",
    "os.environ[\"CUDA_DEVICE_ORDER\"] = \"PCI_BUS_ID\"\n",
    "os.environ[\"CUDA_VISIBLE_DEVICES\"]= \"0,2\""
   ]
  },
  {
   "cell_type": "code",
   "execution_count": 1,
   "metadata": {},
   "outputs": [
    {
     "name": "stderr",
     "output_type": "stream",
     "text": [
      "Using TensorFlow backend.\n"
     ]
    }
   ],
   "source": [
    "from __future__ import division\n",
    "import matplotlib as mpl\n",
    "import matplotlib.pyplot as plt\n",
    "import numpy as np\n",
    "import pickle\n",
    "from sklearn.utils import shuffle\n",
    "from sklearn.metrics import classification_report, confusion_matrix\n",
    "from keras import layers\n",
    "from keras import models\n",
    "import json"
   ]
  },
  {
   "cell_type": "code",
   "execution_count": 3,
   "metadata": {},
   "outputs": [
    {
     "name": "stdout",
     "output_type": "stream",
     "text": [
      "0.2272015596816976\n"
     ]
    }
   ],
   "source": [
    "c =0.299792458\n",
    "n =1.3195\n",
    "v=c/n \n",
    "print(v)"
   ]
  },
  {
   "cell_type": "code",
   "execution_count": 5,
   "metadata": {},
   "outputs": [],
   "source": [
    "nu_size = 7737578\n",
    "nu_data = np.memmap('/fastio2/dasha/double_pulse/nu_data.npy', mode = 'r', dtype ='float32', shape = (nu_size,300,60))\n",
    "nu_info = np.memmap('/fastio2/dasha/double_pulse/nu_info.npy', mode = 'r', dtype ='float32', shape = (nu_size,3))\n",
    "nu_labels = np.memmap('/fastio2/dasha/double_pulse/nu_label.npy', mode = 'r', dtype ='float32', shape = (nu_size))"
   ]
  },
  {
   "cell_type": "code",
   "execution_count": 6,
   "metadata": {},
   "outputs": [
    {
     "name": "stdout",
     "output_type": "stream",
     "text": [
      "[[0. 0. 0. ... 0. 0. 0.]\n",
      " [0. 0. 0. ... 0. 0. 0.]\n",
      " [0. 0. 0. ... 0. 0. 0.]\n",
      " ...\n",
      " [0. 0. 0. ... 0. 0. 0.]\n",
      " [0. 0. 0. ... 0. 0. 0.]\n",
      " [0. 0. 0. ... 0. 0. 0.]] [23616.275  3619.7    1132.7  ] 0.0\n"
     ]
    }
   ],
   "source": [
    "print(nu_data[0],nu_info[0],nu_labels[0])"
   ]
  },
  {
   "cell_type": "code",
   "execution_count": 10,
   "metadata": {},
   "outputs": [],
   "source": [
    "idx = np.arange(nu_size)"
   ]
  },
  {
   "cell_type": "code",
   "execution_count": 14,
   "metadata": {},
   "outputs": [],
   "source": [
    "nu_e_cc_data = []\n",
    "nu_m_cc_data = []\n",
    "nu_t_cc_data = []\n",
    "nu_nc_data = []\n",
    "nu_e_cc_info = []\n",
    "nu_m_cc_info = []\n",
    "nu_t_cc_info = []\n",
    "nu_nc_info = []\n",
    "\n",
    "for i in idx:\n",
    "    if (nu_info[i][0] >500000) and (nu_info[i][0] <1500000):\n",
    "        if (nu_labels[i] == 0):\n",
    "            nu_e_cc_data.append(nu_data[i])\n",
    "            nu_e_cc_info.append(nu_info[i])\n",
    "        elif (nu_labels[i] == 2):\n",
    "            nu_m_cc_data.append(nu_data[i])\n",
    "            nu_m_cc_info.append(nu_info[i])\n",
    "        elif (nu_labels[i] == 4):\n",
    "            nu_t_cc_data.append(nu_data[i])\n",
    "            nu_t_cc_info.append(nu_info[i])\n",
    "        else:\n",
    "            nu_nc_data.append(nu_data[i])\n",
    "            nu_nc_info.append(nu_info[i])\n",
    "\n",
    "nu_e_cc_data = np.array(nu_e_cc_data)\n",
    "nu_m_cc_data = np.array(nu_m_cc_data)\n",
    "nu_t_cc_data = np.array(nu_t_cc_data)\n",
    "nu_nc_data = np.array(nu_nc_data)\n",
    "nu_e_cc_info = np.array(nu_e_cc_info)\n",
    "nu_m_cc_info = np.array(nu_m_cc_info)\n",
    "nu_t_cc_info = np.array(nu_t_cc_info)\n",
    "nu_nc_info = np.array(nu_nc_info)"
   ]
  },
  {
   "cell_type": "code",
   "execution_count": 15,
   "metadata": {},
   "outputs": [
    {
     "name": "stdout",
     "output_type": "stream",
     "text": [
      "(263749, 300, 60) (263749, 3)\n",
      "(587588, 300, 60) (587588, 3)\n",
      "(109487, 300, 60) (109487, 3)\n",
      "(133914, 300, 60) (133914, 3)\n"
     ]
    }
   ],
   "source": [
    "print(nu_e_cc_data.shape, nu_e_cc_info.shape)\n",
    "print(nu_m_cc_data.shape, nu_m_cc_info.shape)\n",
    "print(nu_t_cc_data.shape, nu_t_cc_info.shape)\n",
    "print(nu_nc_data.shape, nu_nc_info.shape)\n"
   ]
  },
  {
   "cell_type": "code",
   "execution_count": 17,
   "metadata": {},
   "outputs": [],
   "source": [
    "np.save(\"NuE_CC_05to15_info.npy\",nu_e_cc_info)"
   ]
  },
  {
   "cell_type": "code",
   "execution_count": 18,
   "metadata": {},
   "outputs": [],
   "source": [
    "np.save(\"NuMu_CC_05to15_info.npy\",nu_m_cc_info)"
   ]
  },
  {
   "cell_type": "code",
   "execution_count": 19,
   "metadata": {},
   "outputs": [],
   "source": [
    "np.save(\"NuTau_CC_05to15_info.npy\",nu_t_cc_info)"
   ]
  },
  {
   "cell_type": "code",
   "execution_count": 20,
   "metadata": {},
   "outputs": [],
   "source": [
    "np.save(\"Nu_NC_05to15_info.npy\",nu_nc_info)"
   ]
  },
  {
   "cell_type": "code",
   "execution_count": null,
   "metadata": {},
   "outputs": [],
   "source": [
    "np.save(\"NuE_CC_05to15_data.npy\",nu_e_cc_data)"
   ]
  },
  {
   "cell_type": "code",
   "execution_count": null,
   "metadata": {},
   "outputs": [],
   "source": [
    "np.save(\"NuMu_CC_05to15_data.npy\",nu_m_cc_data)"
   ]
  },
  {
   "cell_type": "code",
   "execution_count": null,
   "metadata": {},
   "outputs": [],
   "source": [
    "np.save(\"NuTau_CC_05to15_data.npy\",nu_t_cc_data)"
   ]
  },
  {
   "cell_type": "code",
   "execution_count": null,
   "metadata": {},
   "outputs": [],
   "source": [
    "np.save(\"Nu_NC_05to15_data.npy\",nu_nc_data)"
   ]
  },
  {
   "cell_type": "code",
   "execution_count": 26,
   "metadata": {},
   "outputs": [],
   "source": [
    "try_d = np.load(\"../../data/new_data05to15/Nu_NC_05to15_data.npy\")\n",
    "try_i = np.load(\"../../data/new_data05to15/Nu_NC_05to15_info.npy\")"
   ]
  },
  {
   "cell_type": "code",
   "execution_count": 27,
   "metadata": {},
   "outputs": [
    {
     "name": "stdout",
     "output_type": "stream",
     "text": [
      "[822630.25    5108.65    4464.875]\n"
     ]
    },
    {
     "data": {
      "text/plain": [
       "<matplotlib.image.AxesImage at 0x7f6cbc85e190>"
      ]
     },
     "execution_count": 27,
     "metadata": {},
     "output_type": "execute_result"
    },
    {
     "data": {
      "image/png": "[encoded data removed]",
      "text/plain": [
       "<Figure size 360x360 with 1 Axes>"
      ]
     },
     "metadata": {
      "needs_background": "light"
     },
     "output_type": "display_data"
    }
   ],
   "source": [
    "print(try_i[0])\n",
    "fig = plt.figure(figsize=(5, 5))\n",
    "ax = fig.add_subplot(111)\n",
    "ax.imshow(try_d[0], interpolation='nearest', aspect='auto', cmap= 'gray')"
   ]
  },
  {
   "cell_type": "code",
   "execution_count": 7,
   "metadata": {},
   "outputs": [],
   "source": [
    "data_s = np.load(\"../../data/new_data05to15/NuE_CC_05to15_data.npy\")\n",
    "data_d = np.load(\"../../data/new_data05to15/NuTau_CC_05to15_data.npy\")"
   ]
  },
  {
   "cell_type": "code",
   "execution_count": 4,
   "metadata": {},
   "outputs": [],
   "source": [
    "info_s = np.load(\"../../data/new_data05to15/NuE_CC_05to15_info.npy\")\n",
    "info_d = np.load(\"../../data/new_data05to15/NuTau_CC_05to15_info.npy\")\n",
    "info = np.concatenate((info_d, info_s), axis = 0) \n"
   ]
  },
  {
   "cell_type": "code",
   "execution_count": 5,
   "metadata": {},
   "outputs": [
    {
     "name": "stdout",
     "output_type": "stream",
     "text": [
      "[[1.0763715e+06 3.7816750e+03 3.2907500e+03]\n",
      " [1.3544724e+06 1.3178000e+04 9.8838750e+03]\n",
      " [7.0618569e+05 4.5050324e+04 3.2292875e+04]\n",
      " [8.5488556e+05 5.7408227e+04 3.0946426e+04]\n",
      " [1.3259894e+06 2.5790900e+04 2.5577301e+04]\n",
      " [1.0354069e+06 5.0344926e+04 3.7202273e+04]\n",
      " [6.8200231e+05 2.3042500e+03 1.2208250e+03]\n",
      " [7.1232019e+05 4.7930249e+03 3.4059751e+03]\n",
      " [9.3046400e+05 4.9353125e+04 3.5844000e+04]\n",
      " [7.9987631e+05 5.2154502e+03 1.1775250e+03]]\n"
     ]
    }
   ],
   "source": [
    "print(info[:10])"
   ]
  },
  {
   "cell_type": "code",
   "execution_count": 8,
   "metadata": {},
   "outputs": [
    {
     "name": "stdout",
     "output_type": "stream",
     "text": [
      "(109487, 2)\n",
      "(263749, 2)\n",
      "[0 1]\n",
      "[1 0]\n",
      "(263749, 300, 60) (109487, 300, 60)\n"
     ]
    }
   ],
   "source": [
    "label_d = [[0,1]]*len(data_d)\n",
    "label_s = [[1,0]]*len(data_s)\n",
    "label_d = np.array(label_d)\n",
    "label_s = np.array(label_s)\n",
    "print(label_d.shape)\n",
    "print(label_s.shape)\n",
    "print(label_d[0])\n",
    "print(label_s[0])\n",
    "print(data_s.shape, data_d.shape)"
   ]
  },
  {
   "cell_type": "code",
   "execution_count": 9,
   "metadata": {},
   "outputs": [
    {
     "name": "stdout",
     "output_type": "stream",
     "text": [
      "0.0013148792 0.015230651\n"
     ]
    }
   ],
   "source": [
    "data = np.concatenate((data_d, data_s), axis = 0) \n",
    "label = np.concatenate((label_d, label_s), axis = 0) \n",
    "data, label = shuffle(data, label, random_state =12)\n",
    "\n",
    "train_data = data[:250000]\n",
    "train_label = label[:250000]\n",
    "train_data = train_data.reshape((len(train_data),300,60,1))\n",
    "train_data = train_data.astype('float32')/10**-8\n",
    "mean = np.mean(train_data)\n",
    "std = np.std(train_data)\n",
    "print(mean,std)\n",
    "train_data = train_data - mean\n",
    "train_data = train_data/std\n",
    "\n",
    "valid_data = data[250000:300000]\n",
    "valid_label = label[250000:300000]\n",
    "valid_data = valid_data.reshape((len(valid_data),300,60,1))\n",
    "valid_data = valid_data.astype('float32')/10**-8\n",
    "valid_data = valid_data - mean\n",
    "valid_data = valid_data/std\n",
    "\n",
    "test_data = data[300000:]\n",
    "test_label = label[300000:]\n",
    "test_data = test_data.reshape((len(test_data),300,60,1))\n",
    "test_data = test_data.astype('float32')/10**-8\n",
    "test_data = test_data - mean\n",
    "test_data = test_data/std\n"
   ]
  },
  {
   "cell_type": "code",
   "execution_count": 10,
   "metadata": {},
   "outputs": [
    {
     "name": "stdout",
     "output_type": "stream",
     "text": [
      "(250000, 300, 60, 1) (250000, 2)\n",
      "(73236, 300, 60, 1) (73236, 2)\n",
      "(50000, 300, 60, 1) (50000, 2)\n"
     ]
    }
   ],
   "source": [
    "print(train_data.shape, train_label.shape)\n",
    "print(test_data.shape, test_label.shape)\n",
    "print(valid_data.shape, valid_label.shape)\n"
   ]
  },
  {
   "cell_type": "code",
   "execution_count": null,
   "metadata": {},
   "outputs": [],
   "source": [
    "data_s_1 = np.load(\"../../data/new_data05to15/Nu_NC_05to15_data.npy\")\n",
    "data_s_2 = np.load(\"../../data/new_data05to15/NuE_CC_05to15_data.npy\")\n",
    "data_s = np.concatenate((data_s_1, data_s_2), axis = 0) "
   ]
  }
 ],
 "metadata": {
  "kernelspec": {
   "display_name": "Python 3",
   "language": "python",
   "name": "python3"
  },
  "language_info": {
   "codemirror_mode": {
    "name": "ipython",
    "version": 3
   },
   "file_extension": ".py",
   "mimetype": "text/x-python",
   "name": "python",
   "nbconvert_exporter": "python",
   "pygments_lexer": "ipython3",
   "version": "3.7.4"
  }
 },
 "nbformat": 4,
 "nbformat_minor": 4
}
