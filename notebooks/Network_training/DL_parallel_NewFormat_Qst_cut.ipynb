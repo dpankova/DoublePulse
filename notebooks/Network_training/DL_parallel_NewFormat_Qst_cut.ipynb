{
 "cells": [
  {
   "cell_type": "markdown",
   "metadata": {},
   "source": [
    "This code runs Deep Learning on nutau and nue samples created by Dasha.  It runs on multiple GPUs at once.\n",
    "\n",
    "This code runs in a python 3.7 conda environment constructed as follows:\n",
    "- conda create --name tf-gpu tensorflow-gpu keras scikit-learn matplotlib ipykernel nb_conda_kernels [Pillow]\n",
    "- conda activate tf-gpu\n",
    "(Pillow is for image manipulation for making heat maps, but I haven't got it to work yet.  Can remove from environment.)\n",
    "\n",
    "To run with multiple GPUs on CyberLAMP you must specify the \"nodes\" and \"gpus\" qualifiers in the same chunk.  For example:\n",
    "- qsub -I -A cyberlamp -l qos=cl_higpu -l nodes=1:ppn=1:gpus=4:shared -l mem=24gb -l walltime=4:00:00"
   ]
  },
  {
   "cell_type": "code",
   "execution_count": 1,
   "metadata": {},
   "outputs": [],
   "source": [
    "from __future__ import division\n",
    "import matplotlib as mpl\n",
    "import matplotlib.pyplot as plt\n",
    "import numpy as np"
   ]
  },
  {
   "cell_type": "code",
   "execution_count": 2,
   "metadata": {},
   "outputs": [],
   "source": [
    "import os\n",
    "\n",
    "# Set which GPU to use.  This probably needs to be done before any other CUDA vars get defined.\n",
    "# Use the command \"nvidia-smi\" to get association of a particular GPU with a particular number.\n",
    "os.environ[\"CUDA_DEVICE_ORDER\"] = \"PCI_BUS_ID\"\n",
    "os.environ[\"CUDA_VISIBLE_DEVICES\"]= \"1,2\""
   ]
  },
  {
   "cell_type": "code",
   "execution_count": 3,
   "metadata": {},
   "outputs": [],
   "source": [
    "id_dtype = np.dtype(\n",
    "    [\n",
    "        (\"run_id\", np.uint32),\n",
    "        (\"sub_run_id\", np.uint32),\n",
    "        (\"event_id\", np.uint32),\n",
    "        (\"sub_event_id\", np.uint32),\n",
    "    ]\n",
    ")\n",
    "particle_dtype = np.dtype(\n",
    "    [\n",
    "        (\"pdg\", np.uint32),\n",
    "        (\"energy\", np.float32),\n",
    "        (\"position\", np.float32,(3)),\n",
    "        (\"direction\", np.float32,(2)),\n",
    "        (\"time\", np.float32),\n",
    "        (\"length\", np.float32)\n",
    "    ]\n",
    ")\n",
    "weight_dtype = np.dtype(\n",
    "    [\n",
    "        ('PrimaryNeutrinoAzimuth',np.float32),\n",
    "        ('TotalColumnDepthCGS',np.float32),\n",
    "        ('MaxAzimuth',np.float32),\n",
    "        ('SelectionWeight',np.float32),\n",
    "        ('InIceNeutrinoEnergy',np.float32),\n",
    "        ('PowerLawIndex',np.float32),\n",
    "        ('TotalPrimaryWeight',np.float32),\n",
    "        ('PrimaryNeutrinoZenith',np.float32),\n",
    "        ('TotalWeight',np.float32),\n",
    "        ('PropagationWeight',np.float32),\n",
    "        ('NInIceNus',np.float32),\n",
    "        ('TrueActiveLengthBefore',np.float32),\n",
    "        ('TypeWeight',np.float32),\n",
    "        ('PrimaryNeutrinoType',np.float32),\n",
    "        ('RangeInMeter',np.float32),\n",
    "        ('BjorkenY',np.float32),\n",
    "        ('MinZenith',np.float32),\n",
    "        ('InIceNeutrinoType',np.float32),\n",
    "        ('CylinderRadius',np.float32),\n",
    "        ('BjorkenX',np.float32),\n",
    "        ('InteractionPositionWeight',np.float32),\n",
    "        ('RangeInMWE',np.float32),\n",
    "        ('InteractionColumnDepthCGS',np.float32),\n",
    "        ('CylinderHeight',np.float32),\n",
    "        ('MinAzimuth',np.float32),\n",
    "        ('TotalXsectionCGS',np.float32),\n",
    "        ('OneWeightPerType',np.float32),\n",
    "        ('ImpactParam',np.float32),\n",
    "        ('InteractionType',np.float32),\n",
    "        ('TrueActiveLengthAfter',np.float32),\n",
    "        ('MaxZenith',np.float32),\n",
    "        ('InteractionXsectionCGS',np.float32),\n",
    "        ('PrimaryNeutrinoEnergy',np.float32),\n",
    "        ('DirectionWeight',np.float32),\n",
    "        ('InjectionAreaCGS',np.float32),\n",
    "        ('MinEnergyLog',np.float32),\n",
    "        ('SolidAngle',np.float32),\n",
    "        ('LengthInVolume',np.float32),\n",
    "        ('NEvents',np.uint32),\n",
    "        ('OneWeight',np.float32),\n",
    "        ('MaxEnergyLog',np.float32),\n",
    "        ('InteractionWeight',np.float32),\n",
    "        ('EnergyLost',np.float32)\n",
    "    ]\n",
    ")\n",
    "info_dtype = np.dtype(                                                                                                      \n",
    "    [                                                                                                                           \n",
    "    (\"id\", id_dtype),                                                                                                       \n",
    "    (\"image\", np.float32, (300, 60)),\n",
    "    (\"neutrino\", particle_dtype),\n",
    "    (\"daughter\", particle_dtype),                                                                                           \n",
    "    (\"energies\", np.float32,(10)),                                                                                          \n",
    "    (\"pdgs\", np.float32,(10)),                                                                                              \n",
    "    (\"q_tot\", np.float32),\n",
    "    (\"cog\", np.float32,(3)),                                                                                                \n",
    "    (\"q_st\", np.float32),\n",
    "    (\"st_pos\", np.float32,(3)),                                                                                             \n",
    "    (\"st_num\", np.float32),\n",
    "    (\"distance\", np.float32),                                                                                               \n",
    "    (\"weight\", weight_dtype),                                                                                                                    \n",
    "    ]\n",
    ")\n",
    "\n",
    "keys_dtype = np.dtype(  \n",
    "        [\n",
    "        (\"passed\", np.bool_),\n",
    "        (\"header\", np.bool_),\n",
    "        (\"raw_data\", np.bool_),\n",
    "        (\"weights\", np.bool_),\n",
    "        (\"mctree\", np.bool_), \n",
    "        (\"cvstats\", np.bool_),\n",
    "        (\"pulses\", np.bool_)\n",
    "           ]\n",
    ")\n",
    "w_info_dtype = np.dtype(                                                                                                                    \n",
    "        [                                                                                                                                         \n",
    "        (\"id\", id_dtype),    \n",
    "        (\"neutrino\", particle_dtype),\n",
    "        (\"energy\", np.float32,(10)),\n",
    "        (\"pdg\", np.float32,(10)),\n",
    "        (\"weight\", weight_dtype),\n",
    "        (\"keys\", keys_dtype)\n",
    "    ]\n",
    ")"
   ]
  },
  {
   "cell_type": "code",
   "execution_count": 10,
   "metadata": {},
   "outputs": [],
   "source": [
    "lim = 300000\n",
    "lim2 = 50000\n",
    "lim3 = 600000"
   ]
  },
  {
   "cell_type": "code",
   "execution_count": 5,
   "metadata": {},
   "outputs": [],
   "source": [
    "#tracks = np.lib.format.open_memmap('/fastio2/dasha/double_pulse/data_track.npy', mode = 'w+', dtype =info_dtype, shape=(lim,1))\n",
    "#data = np.load('/fastio2/dasha/double_pulse/data_NuMuCC.npy', mmap_mode = 'r')\n",
    "#tracks[0:lim] = data[0:lim]"
   ]
  },
  {
   "cell_type": "code",
   "execution_count": 5,
   "metadata": {},
   "outputs": [],
   "source": [
    "dp = np.lib.format.open_memmap('/fastio2/dasha/double_pulse/data_dp.npy', mode = 'w+', dtype =info_dtype, shape=(lim,1))\n",
    "data = np.load('/fastio2/dasha/double_pulse/data_NuTauCC_2000.npy', mmap_mode = 'r')\n",
    "dp[0:lim] = data[0:lim]"
   ]
  },
  {
   "cell_type": "code",
   "execution_count": 6,
   "metadata": {},
   "outputs": [],
   "source": [
    "sp = np.lib.format.open_memmap('/fastio2/dasha/double_pulse/data_sp.npy', mode = 'w+', dtype =info_dtype, shape=(lim,1))\n",
    "data_ec = np.load('/fastio2/dasha/double_pulse/data_NuECC_2000.npy', mmap_mode = 'r')\n",
    "#data_en = np.load('/fastio2/dasha/double_pulse/data_NuENC.npy', mmap_mode = 'r')\n",
    "#data_mn = np.load('/fastio2/dasha/double_pulse/data_NuMuNC.npy', mmap_mode = 'r')\n",
    "#data_tn = np.load('/fastio2/dasha/double_pulse/data_NuTauNC.npy', mmap_mode = 'r')\n",
    "\n",
    "sp[0:lim] = data_ec[0:lim]"
   ]
  },
  {
   "cell_type": "code",
   "execution_count": 11,
   "metadata": {},
   "outputs": [],
   "source": [
    "#data_t = np.load('/fastio2/dasha/double_pulse/data_track.npy', mmap_mode = 'r')\n",
    "data_s = np.load('/fastio2/dasha/double_pulse/data_sp.npy', mmap_mode = 'r')\n",
    "data_d = np.load('/fastio2/dasha/double_pulse/data_dp.npy', mmap_mode = 'r')\n"
   ]
  },
  {
   "cell_type": "code",
   "execution_count": 12,
   "metadata": {},
   "outputs": [
    {
     "name": "stdout",
     "output_type": "stream",
     "text": [
      "0.006064835 [963011.94]\n",
      "0.4535335 [380103.2]\n"
     ]
    }
   ],
   "source": [
    "#print(np.max(data_t['image'][0]), data_t['neutrino']['energy'][0])\n",
    "print(np.max(data_s['image'][0]), data_s['neutrino']['energy'][0])\n",
    "print(np.max(data_d['image'][0]), data_d['neutrino']['energy'][0])"
   ]
  },
  {
   "cell_type": "code",
   "execution_count": 13,
   "metadata": {},
   "outputs": [],
   "source": [
    "net = np.lib.format.open_memmap('/fastio2/dasha/double_pulse/data_Network.npy', mode = 'w+', dtype =info_dtype, shape=(lim3,1))\n",
    "net[0:lim] = data_d[0:lim]\n",
    "net[lim:2*lim] = data_s[0:lim]\n",
    "#net[2*lim:lim3] = data_d[0:lim]\n"
   ]
  },
  {
   "cell_type": "code",
   "execution_count": 14,
   "metadata": {},
   "outputs": [
    {
     "name": "stdout",
     "output_type": "stream",
     "text": [
      "0.4535335 [380103.2]\n"
     ]
    }
   ],
   "source": [
    "data_all = np.load('/fastio2/dasha/double_pulse/data_Network.npy', mmap_mode='r') #T,S,D\n",
    "print(np.max(data_all['image'][0]), data_all['neutrino']['energy'][0])"
   ]
  },
  {
   "cell_type": "code",
   "execution_count": null,
   "metadata": {},
   "outputs": [],
   "source": [
    "#label_d = [[0,0,1]]*len(data_d)\n",
    "#label_s = [[1,0,0]]*len(data_s)\n",
    "#label_t = [[0,1,0]]*len(data_t)\n",
    "\n",
    "#label_d = np.array(label_d)\n",
    "#label_s = np.array(label_s)\n",
    "#label_t = np.array(label_t)\n",
    "#label_all = np.concatenate((label_t, label_s, label_d), axis = 0) \n",
    "\n",
    "#print(label_all.shape, label_d.shape,label_s.shape,label_t.shape)\n",
    "#print(label_all[0], label_d[0],label_s[0],label_t[0])"
   ]
  },
  {
   "cell_type": "code",
   "execution_count": 16,
   "metadata": {},
   "outputs": [
    {
     "name": "stdout",
     "output_type": "stream",
     "text": [
      "(600000, 2) (300000, 2) (300000, 2)\n",
      "[1 0] [0 1] [1 0]\n"
     ]
    }
   ],
   "source": [
    "label_d = [[0,1]]*len(data_d)\n",
    "label_s = [[1,0]]*len(data_s)\n",
    "\n",
    "label_d = np.array(label_d)\n",
    "label_s = np.array(label_s)\n",
    "#label_t = np.array(label_t)\n",
    "label_all = np.concatenate((label_s, label_d), axis = 0) \n",
    "\n",
    "print(label_all.shape, label_d.shape,label_s.shape)\n",
    "print(label_all[0], label_d[0],label_s[0])"
   ]
  },
  {
   "cell_type": "code",
   "execution_count": 17,
   "metadata": {},
   "outputs": [
    {
     "name": "stdout",
     "output_type": "stream",
     "text": [
      "[258736  26263 202589 374280 507058 419364 422118 157537 599911  95060]\n"
     ]
    }
   ],
   "source": [
    "idx = np.arange(data_all.shape[0])\n",
    "np.random.shuffle(idx)\n",
    "print(idx[:10])"
   ]
  },
  {
   "cell_type": "code",
   "execution_count": 18,
   "metadata": {},
   "outputs": [],
   "source": [
    "pos = 0\n",
    "label = []\n",
    "mix = np.lib.format.open_memmap('/fastio2/dasha/double_pulse/data_Network_mixed.npy', mode = 'w+', dtype =info_dtype, shape=(lim3,1))\n",
    "for i in idx:\n",
    "    mix[pos:pos+1] = data_all[i]\n",
    "    label.append(label_all[i])\n",
    "    pos = pos + 1\n",
    "label = np.array(label)"
   ]
  },
  {
   "cell_type": "code",
   "execution_count": 19,
   "metadata": {},
   "outputs": [],
   "source": [
    "data_mix = np.load('/fastio2/dasha/double_pulse/data_Network_mixed.npy', mmap_mode='r') #T,S,D"
   ]
  },
  {
   "cell_type": "code",
   "execution_count": 20,
   "metadata": {},
   "outputs": [
    {
     "name": "stdout",
     "output_type": "stream",
     "text": [
      "0.03915174 [27131.04]\n",
      "0.5280261 [53426.164]\n",
      "0.08168286 [74205.86]\n",
      "0.0381769 [24244.32]\n",
      "0.5750939 [7138313.]\n",
      "0.4166534 [17471.338]\n",
      "0.05617033 [82838.35]\n",
      "0.02488789 [104290.01]\n",
      "0.25687617 [139431.88]\n",
      "0.47888228 [3113640.8]\n"
     ]
    },
    {
     "data": {
      "image/png": "[encoded data removed]",
      "text/plain": [
       "<Figure size 360x360 with 1 Axes>"
      ]
     },
     "metadata": {
      "needs_background": "light"
     },
     "output_type": "display_data"
    },
    {
     "data": {
      "image/png": "[encoded data removed]",
      "text/plain": [
       "<Figure size 360x360 with 1 Axes>"
      ]
     },
     "metadata": {
      "needs_background": "light"
     },
     "output_type": "display_data"
    },
    {
     "data": {
      "image/png": "[encoded data removed]",
      "text/plain": [
       "<Figure size 360x360 with 1 Axes>"
      ]
     },
     "metadata": {
      "needs_background": "light"
     },
     "output_type": "display_data"
    },
    {
     "data": {
      "image/png": "[encoded data removed]",
      "text/plain": [
       "<Figure size 360x360 with 1 Axes>"
      ]
     },
     "metadata": {
      "needs_background": "light"
     },
     "output_type": "display_data"
    },
    {
     "data": {
      "image/png": "[encoded data removed]",
      "text/plain": [
       "<Figure size 360x360 with 1 Axes>"
      ]
     },
     "metadata": {
      "needs_background": "light"
     },
     "output_type": "display_data"
    },
    {
     "data": {
      "image/png": "[encoded data removed]",
      "text/plain": [
       "<Figure size 360x360 with 1 Axes>"
      ]
     },
     "metadata": {
      "needs_background": "light"
     },
     "output_type": "display_data"
    },
    {
     "data": {
      "image/png": "[encoded data removed]",
      "text/plain": [
       "<Figure size 360x360 with 1 Axes>"
      ]
     },
     "metadata": {
      "needs_background": "light"
     },
     "output_type": "display_data"
    },
    {
     "data": {
      "image/png": "[encoded data removed]",
      "text/plain": [
       "<Figure size 360x360 with 1 Axes>"
      ]
     },
     "metadata": {
      "needs_background": "light"
     },
     "output_type": "display_data"
    },
    {
     "data": {
      "image/png": "[encoded data removed]",
      "text/plain": [
       "<Figure size 360x360 with 1 Axes>"
      ]
     },
     "metadata": {
      "needs_background": "light"
     },
     "output_type": "display_data"
    },
    {
     "data": {
      "image/png": "[encoded data removed]",
      "text/plain": [
       "<Figure size 360x360 with 1 Axes>"
      ]
     },
     "metadata": {
      "needs_background": "light"
     },
     "output_type": "display_data"
    }
   ],
   "source": [
    "for i, im in enumerate(data_mix['image'][:10]):\n",
    "    fig = plt.figure(figsize=(5, 5))\n",
    "    ax = fig.add_subplot(111)\n",
    "    ax.imshow(im.reshape(300,60), interpolation='nearest', aspect='auto', cmap= 'gray')\n",
    "    print(np.max(im), data_mix['neutrino']['energy'][i])"
   ]
  },
  {
   "cell_type": "code",
   "execution_count": 21,
   "metadata": {},
   "outputs": [
    {
     "name": "stdout",
     "output_type": "stream",
     "text": [
      "(600000, 1)\n"
     ]
    }
   ],
   "source": [
    "print(data_mix.shape)#,label.shape)"
   ]
  },
  {
   "cell_type": "code",
   "execution_count": 22,
   "metadata": {},
   "outputs": [],
   "source": [
    "train = np.zeros(lim3, bool)\n",
    "test = np.zeros(lim3, bool)\n",
    "valid = np.zeros(lim3, bool)\n",
    "\n",
    "train[:400000] = 1 \n",
    "test[400000:500000] = 1 \n",
    "valid[500000:] = 1"
   ]
  },
  {
   "cell_type": "code",
   "execution_count": 23,
   "metadata": {},
   "outputs": [
    {
     "name": "stdout",
     "output_type": "stream",
     "text": [
      "[False False False ...  True  True  True]\n",
      "(600000,)\n",
      "(600000,)\n",
      "(100000, 1)\n",
      "(600000, 300, 60, 1)\n",
      "(100000, 300, 60, 1)\n"
     ]
    }
   ],
   "source": [
    "print(valid)\n",
    "print(valid.shape)\n",
    "print(np.squeeze(data_mix).shape)\n",
    "print(data_mix[valid].shape)\n",
    "print(data_mix['image'].reshape(len(data_mix['image']),300,60,1).shape)\n",
    "print(data_mix['image'][valid].reshape(len(data_mix['image'][valid]),300,60,1).shape)\n"
   ]
  },
  {
   "cell_type": "code",
   "execution_count": 24,
   "metadata": {},
   "outputs": [
    {
     "name": "stdout",
     "output_type": "stream",
     "text": [
      "0.0016070293 0.016831854\n"
     ]
    }
   ],
   "source": [
    "mean = np.mean(data_mix['image'][train])\n",
    "std = np.std(data_mix['image'][train])\n",
    "print(mean,std)"
   ]
  },
  {
   "cell_type": "code",
   "execution_count": 25,
   "metadata": {},
   "outputs": [],
   "source": [
    "pos = 0\n",
    "div = np.lib.format.open_memmap('/fastio2/dasha/double_pulse/data_Network_mixed_div.npy', mode = 'w+', dtype =info_dtype, shape=(lim3,1))\n",
    "for i in data_mix:\n",
    "    #print(i['image'].shape)\n",
    "    im = i['image']-mean\n",
    "    #print(im.shape)\n",
    "    im = im/std\n",
    "    #print(im.shape)\n",
    "    div[pos] = i \n",
    "    div['image'][pos] = im\n",
    "    #print(div['image'].shape)\n",
    "    pos = pos + 1"
   ]
  },
  {
   "cell_type": "code",
   "execution_count": 26,
   "metadata": {},
   "outputs": [],
   "source": [
    "data_div = np.load('/fastio2/dasha/double_pulse/data_Network_mixed_div.npy', mmap_mode='r') #T,S,D"
   ]
  },
  {
   "cell_type": "code",
   "execution_count": 27,
   "metadata": {},
   "outputs": [
    {
     "name": "stdout",
     "output_type": "stream",
     "text": [
      "2.2305746 0.03915174\n",
      "[(16, 27131.04, [-4371.183 ,  1354.6571,  1946.3573], [1.1929489, 2.8682928], -5373.375, 4537.3413)]\n",
      "(300, 60)\n",
      "31.27517 0.5280261\n",
      "[(4294967280, 53426.164, [-643458.5 ,  130798.66,  -31962.26], [1.6200796, 2.94069  ], -2183456., 657528.9)]\n",
      "(300, 60)\n",
      "4.757398 0.08168286\n",
      "[(4294967280, 74205.86, [-1174.4125 ,  -534.16534,  1947.8694 ], [0.63474315, 3.271134  ], 3042.4685, 2003.0338)]\n",
      "(300, 60)\n"
     ]
    },
    {
     "data": {
      "image/png": "[encoded data removed]",
      "text/plain": [
       "<Figure size 360x360 with 1 Axes>"
      ]
     },
     "metadata": {
      "needs_background": "light"
     },
     "output_type": "display_data"
    },
    {
     "data": {
      "image/png": "[encoded data removed]",
      "text/plain": [
       "<Figure size 360x360 with 1 Axes>"
      ]
     },
     "metadata": {
      "needs_background": "light"
     },
     "output_type": "display_data"
    },
    {
     "data": {
      "image/png": "[encoded data removed]",
      "text/plain": [
       "<Figure size 360x360 with 1 Axes>"
      ]
     },
     "metadata": {
      "needs_background": "light"
     },
     "output_type": "display_data"
    }
   ],
   "source": [
    "for i, im in enumerate(data_div['image'][:3]):\n",
    "    print(np.max(im), np.max(data_mix['image'][i]))\n",
    "    fig = plt.figure(figsize=(5, 5))\n",
    "    ax = fig.add_subplot(111)\n",
    "    ax.imshow(im.reshape(300,60), interpolation='nearest', aspect='auto', cmap= 'gray')\n",
    "    print(data_div['neutrino'][i])\n",
    "    print(data_div['image'][i][0].shape)"
   ]
  },
  {
   "cell_type": "code",
   "execution_count": 28,
   "metadata": {},
   "outputs": [
    {
     "name": "stdout",
     "output_type": "stream",
     "text": [
      "(100000, 1, 300, 60)\n"
     ]
    }
   ],
   "source": [
    "print(data_div[valid]['image'].shape)"
   ]
  },
  {
   "cell_type": "code",
   "execution_count": 30,
   "metadata": {},
   "outputs": [],
   "source": [
    "from keras import layers\n",
    "from keras import models"
   ]
  },
  {
   "cell_type": "code",
   "execution_count": null,
   "metadata": {},
   "outputs": [
    {
     "name": "stderr",
     "output_type": "stream",
     "text": [
      "WARNING: Logging before flag parsing goes to stderr.\n",
      "W0227 16:05:06.447037 140199274538752 deprecation_wrapper.py:119] From /home/dup193/anaconda3/envs/tf-gpu/lib/python3.7/site-packages/keras/backend/tensorflow_backend.py:74: The name tf.get_default_graph is deprecated. Please use tf.compat.v1.get_default_graph instead.\n",
      "\n",
      "W0227 16:05:06.450043 140199274538752 deprecation_wrapper.py:119] From /home/dup193/anaconda3/envs/tf-gpu/lib/python3.7/site-packages/keras/backend/tensorflow_backend.py:517: The name tf.placeholder is deprecated. Please use tf.compat.v1.placeholder instead.\n",
      "\n",
      "W0227 16:05:06.454780 140199274538752 deprecation_wrapper.py:119] From /home/dup193/anaconda3/envs/tf-gpu/lib/python3.7/site-packages/keras/backend/tensorflow_backend.py:4138: The name tf.random_uniform is deprecated. Please use tf.random.uniform instead.\n",
      "\n",
      "W0227 16:05:06.481503 140199274538752 deprecation_wrapper.py:119] From /home/dup193/anaconda3/envs/tf-gpu/lib/python3.7/site-packages/keras/backend/tensorflow_backend.py:3976: The name tf.nn.max_pool is deprecated. Please use tf.nn.max_pool2d instead.\n",
      "\n",
      "W0227 16:05:06.528677 140199274538752 deprecation_wrapper.py:119] From /home/dup193/anaconda3/envs/tf-gpu/lib/python3.7/site-packages/keras/backend/tensorflow_backend.py:133: The name tf.placeholder_with_default is deprecated. Please use tf.compat.v1.placeholder_with_default instead.\n",
      "\n",
      "W0227 16:05:06.537365 140199274538752 deprecation.py:506] From /home/dup193/anaconda3/envs/tf-gpu/lib/python3.7/site-packages/keras/backend/tensorflow_backend.py:3445: calling dropout (from tensorflow.python.ops.nn_ops) with keep_prob is deprecated and will be removed in a future version.\n",
      "Instructions for updating:\n",
      "Please use `rate` instead of `keep_prob`. Rate should be set to `rate = 1 - keep_prob`.\n",
      "W0227 16:05:06.590389 140199274538752 deprecation_wrapper.py:119] From /home/dup193/anaconda3/envs/tf-gpu/lib/python3.7/site-packages/keras/backend/tensorflow_backend.py:174: The name tf.get_default_session is deprecated. Please use tf.compat.v1.get_default_session instead.\n",
      "\n"
     ]
    },
    {
     "name": "stdout",
     "output_type": "stream",
     "text": [
      "_________________________________________________________________\n",
      "Layer (type)                 Output Shape              Param #   \n",
      "=================================================================\n",
      "conv2d_1 (Conv2D)            (None, 251, 51, 32)       16032     \n",
      "_________________________________________________________________\n",
      "max_pooling2d_1 (MaxPooling2 (None, 125, 25, 32)       0         \n",
      "_________________________________________________________________\n",
      "conv2d_2 (Conv2D)            (None, 101, 21, 64)       256064    \n",
      "_________________________________________________________________\n",
      "max_pooling2d_2 (MaxPooling2 (None, 50, 10, 64)        0         \n",
      "_________________________________________________________________\n",
      "conv2d_3 (Conv2D)            (None, 36, 8, 32)         92192     \n",
      "_________________________________________________________________\n",
      "max_pooling2d_3 (MaxPooling2 (None, 18, 4, 32)         0         \n",
      "_________________________________________________________________\n",
      "flatten_1 (Flatten)          (None, 2304)              0         \n",
      "_________________________________________________________________\n",
      "dropout_1 (Dropout)          (None, 2304)              0         \n",
      "_________________________________________________________________\n",
      "dense_1 (Dense)              (None, 128)               295040    \n",
      "_________________________________________________________________\n",
      "dense_2 (Dense)              (None, 64)                8256      \n",
      "_________________________________________________________________\n",
      "dense_3 (Dense)              (None, 2)                 130       \n",
      "=================================================================\n",
      "Total params: 667,714\n",
      "Trainable params: 667,714\n",
      "Non-trainable params: 0\n",
      "_________________________________________________________________\n"
     ]
    },
    {
     "name": "stderr",
     "output_type": "stream",
     "text": [
      "W0227 16:05:10.535210 140199274538752 deprecation_wrapper.py:119] From /home/dup193/anaconda3/envs/tf-gpu/lib/python3.7/site-packages/keras/optimizers.py:790: The name tf.train.Optimizer is deprecated. Please use tf.compat.v1.train.Optimizer instead.\n",
      "\n",
      "W0227 16:06:13.094472 140199274538752 deprecation.py:323] From /home/dup193/anaconda3/envs/tf-gpu/lib/python3.7/site-packages/tensorflow/python/ops/math_grad.py:1250: add_dispatch_support.<locals>.wrapper (from tensorflow.python.ops.array_ops) is deprecated and will be removed in a future version.\n",
      "Instructions for updating:\n",
      "Use tf.where in 2.0, which has the same broadcast rule as np.where\n"
     ]
    },
    {
     "name": "stdout",
     "output_type": "stream",
     "text": [
      "Train on 400000 samples, validate on 100000 samples\n",
      "Epoch 1/300\n",
      "400000/400000 [==============================] - 179s 448us/step - loss: 0.6892 - acc: 0.5299 - val_loss: 0.6825 - val_acc: 0.5724\n",
      "Epoch 2/300\n",
      "400000/400000 [==============================] - 155s 388us/step - loss: 0.6753 - acc: 0.5855 - val_loss: 0.6645 - val_acc: 0.5977\n",
      "Epoch 3/300\n",
      "400000/400000 [==============================] - 155s 388us/step - loss: 0.6616 - acc: 0.6064 - val_loss: 0.6568 - val_acc: 0.6174\n",
      "Epoch 4/300\n",
      "400000/400000 [==============================] - 155s 387us/step - loss: 0.6516 - acc: 0.6181 - val_loss: 0.6501 - val_acc: 0.6167\n",
      "Epoch 5/300\n",
      "400000/400000 [==============================] - 155s 387us/step - loss: 0.6449 - acc: 0.6266 - val_loss: 0.6505 - val_acc: 0.6152\n",
      "Epoch 6/300\n",
      "400000/400000 [==============================] - 155s 387us/step - loss: 0.6393 - acc: 0.6325 - val_loss: 0.6356 - val_acc: 0.6346\n",
      "Epoch 7/300\n",
      "400000/400000 [==============================] - 155s 387us/step - loss: 0.6351 - acc: 0.6381 - val_loss: 0.6582 - val_acc: 0.6086\n",
      "Epoch 8/300\n",
      "400000/400000 [==============================] - 154s 384us/step - loss: 0.6318 - acc: 0.6414 - val_loss: 0.6275 - val_acc: 0.6473\n",
      "Epoch 9/300\n",
      "400000/400000 [==============================] - 154s 385us/step - loss: 0.6291 - acc: 0.6448 - val_loss: 0.6242 - val_acc: 0.6497\n",
      "Epoch 10/300\n",
      "400000/400000 [==============================] - 154s 386us/step - loss: 0.6267 - acc: 0.6470 - val_loss: 0.6227 - val_acc: 0.6527\n",
      "Epoch 11/300\n",
      "400000/400000 [==============================] - 153s 383us/step - loss: 0.6237 - acc: 0.6497 - val_loss: 0.6285 - val_acc: 0.6453\n",
      "Epoch 12/300\n",
      "400000/400000 [==============================] - 154s 385us/step - loss: 0.6214 - acc: 0.6514 - val_loss: 0.6266 - val_acc: 0.6487\n",
      "Epoch 13/300\n",
      "400000/400000 [==============================] - 154s 386us/step - loss: 0.6196 - acc: 0.6524 - val_loss: 0.6191 - val_acc: 0.6525\n",
      "Epoch 14/300\n",
      "400000/400000 [==============================] - 153s 383us/step - loss: 0.6172 - acc: 0.6551 - val_loss: 0.6145 - val_acc: 0.6567\n",
      "Epoch 15/300\n",
      "400000/400000 [==============================] - 152s 381us/step - loss: 0.6154 - acc: 0.6556 - val_loss: 0.6118 - val_acc: 0.6584\n",
      "Epoch 16/300\n",
      "400000/400000 [==============================] - 152s 381us/step - loss: 0.6128 - acc: 0.6585 - val_loss: 0.6500 - val_acc: 0.6092\n",
      "Epoch 17/300\n",
      "400000/400000 [==============================] - 152s 380us/step - loss: 0.6109 - acc: 0.6596 - val_loss: 0.6363 - val_acc: 0.6297\n",
      "Epoch 18/300\n",
      "400000/400000 [==============================] - 153s 383us/step - loss: 0.6086 - acc: 0.6612 - val_loss: 0.6058 - val_acc: 0.6635\n",
      "Epoch 19/300\n",
      "400000/400000 [==============================] - 150s 375us/step - loss: 0.6066 - acc: 0.6630 - val_loss: 0.6083 - val_acc: 0.6575\n",
      "Epoch 20/300\n",
      "400000/400000 [==============================] - 150s 374us/step - loss: 0.6050 - acc: 0.6648 - val_loss: 0.6080 - val_acc: 0.6622\n",
      "Epoch 21/300\n",
      "400000/400000 [==============================] - 151s 377us/step - loss: 0.6032 - acc: 0.6653 - val_loss: 0.6246 - val_acc: 0.6457\n",
      "Epoch 22/300\n",
      "400000/400000 [==============================] - 151s 378us/step - loss: 0.6010 - acc: 0.6675 - val_loss: 0.6055 - val_acc: 0.6639\n",
      "Epoch 23/300\n",
      "400000/400000 [==============================] - 153s 381us/step - loss: 0.5998 - acc: 0.6677 - val_loss: 0.5943 - val_acc: 0.6723\n",
      "Epoch 24/300\n",
      "400000/400000 [==============================] - 153s 383us/step - loss: 0.5985 - acc: 0.6694 - val_loss: 0.5942 - val_acc: 0.6729\n",
      "Epoch 25/300\n",
      "400000/400000 [==============================] - 153s 383us/step - loss: 0.5969 - acc: 0.6697 - val_loss: 0.6092 - val_acc: 0.6651\n",
      "Epoch 26/300\n",
      "400000/400000 [==============================] - 153s 383us/step - loss: 0.5959 - acc: 0.6704 - val_loss: 0.5997 - val_acc: 0.6708\n",
      "Epoch 27/300\n",
      "400000/400000 [==============================] - 151s 378us/step - loss: 0.5936 - acc: 0.6725 - val_loss: 0.6167 - val_acc: 0.6562\n",
      "Epoch 28/300\n",
      "400000/400000 [==============================] - 149s 374us/step - loss: 0.5929 - acc: 0.6726 - val_loss: 0.6028 - val_acc: 0.6628\n",
      "Epoch 29/300\n",
      "400000/400000 [==============================] - 151s 376us/step - loss: 0.5914 - acc: 0.6739 - val_loss: 0.6136 - val_acc: 0.6571\n",
      "Epoch 30/300\n",
      "400000/400000 [==============================] - 151s 377us/step - loss: 0.5901 - acc: 0.6751 - val_loss: 0.5918 - val_acc: 0.6720\n",
      "Epoch 31/300\n",
      "400000/400000 [==============================] - 151s 377us/step - loss: 0.5887 - acc: 0.6759 - val_loss: 0.5894 - val_acc: 0.6762\n",
      "Epoch 32/300\n",
      "400000/400000 [==============================] - 151s 379us/step - loss: 0.5873 - acc: 0.6769 - val_loss: 0.5872 - val_acc: 0.6777\n",
      "Epoch 33/300\n",
      "400000/400000 [==============================] - 152s 381us/step - loss: 0.5858 - acc: 0.6780 - val_loss: 0.5829 - val_acc: 0.6810\n",
      "Epoch 34/300\n",
      "400000/400000 [==============================] - 153s 382us/step - loss: 0.5846 - acc: 0.6788 - val_loss: 0.5823 - val_acc: 0.6812\n",
      "Epoch 35/300\n",
      "400000/400000 [==============================] - 154s 384us/step - loss: 0.5840 - acc: 0.6794 - val_loss: 0.5867 - val_acc: 0.6798\n",
      "Epoch 36/300\n",
      "400000/400000 [==============================] - 154s 384us/step - loss: 0.5833 - acc: 0.6793 - val_loss: 0.5864 - val_acc: 0.6789\n",
      "Epoch 37/300\n",
      "400000/400000 [==============================] - 153s 383us/step - loss: 0.5815 - acc: 0.6810 - val_loss: 0.5821 - val_acc: 0.6822\n",
      "Epoch 38/300\n",
      "400000/400000 [==============================] - 149s 372us/step - loss: 0.5811 - acc: 0.6811 - val_loss: 0.5937 - val_acc: 0.6723\n",
      "Epoch 39/300\n",
      "400000/400000 [==============================] - 149s 372us/step - loss: 0.5801 - acc: 0.6819 - val_loss: 0.6268 - val_acc: 0.6534\n",
      "Epoch 40/300\n",
      "400000/400000 [==============================] - 151s 378us/step - loss: 0.5787 - acc: 0.6832 - val_loss: 0.5829 - val_acc: 0.6805\n",
      "Epoch 41/300\n",
      "400000/400000 [==============================] - 151s 379us/step - loss: 0.5784 - acc: 0.6836 - val_loss: 0.5766 - val_acc: 0.6861\n",
      "Epoch 42/300\n",
      "400000/400000 [==============================] - 153s 382us/step - loss: 0.5777 - acc: 0.6844 - val_loss: 0.5930 - val_acc: 0.6726\n",
      "Epoch 43/300\n",
      "400000/400000 [==============================] - 153s 383us/step - loss: 0.5762 - acc: 0.6855 - val_loss: 0.5763 - val_acc: 0.6865\n",
      "Epoch 44/300\n",
      "400000/400000 [==============================] - 153s 382us/step - loss: 0.5751 - acc: 0.6864 - val_loss: 0.5786 - val_acc: 0.6847\n",
      "Epoch 45/300\n",
      "400000/400000 [==============================] - 148s 371us/step - loss: 0.5747 - acc: 0.6865 - val_loss: 0.6340 - val_acc: 0.6337\n",
      "Epoch 46/300\n",
      "400000/400000 [==============================] - 149s 373us/step - loss: 0.5741 - acc: 0.6865 - val_loss: 0.5773 - val_acc: 0.6844\n",
      "Epoch 47/300\n",
      "400000/400000 [==============================] - 150s 375us/step - loss: 0.5729 - acc: 0.6882 - val_loss: 0.5849 - val_acc: 0.6813\n",
      "Epoch 48/300\n",
      "400000/400000 [==============================] - 153s 383us/step - loss: 0.5733 - acc: 0.6876 - val_loss: 0.5725 - val_acc: 0.6891\n",
      "Epoch 49/300\n",
      "400000/400000 [==============================] - 149s 372us/step - loss: 0.5722 - acc: 0.6888 - val_loss: 0.5800 - val_acc: 0.6851\n",
      "Epoch 50/300\n",
      "400000/400000 [==============================] - 150s 374us/step - loss: 0.5707 - acc: 0.6897 - val_loss: 0.5844 - val_acc: 0.6783\n",
      "Epoch 51/300\n",
      "400000/400000 [==============================] - 151s 377us/step - loss: 0.5709 - acc: 0.6894 - val_loss: 0.5854 - val_acc: 0.6785\n",
      "Epoch 52/300\n",
      "400000/400000 [==============================] - 151s 378us/step - loss: 0.5696 - acc: 0.6908 - val_loss: 0.5718 - val_acc: 0.6917\n",
      "Epoch 53/300\n",
      "400000/400000 [==============================] - 152s 381us/step - loss: 0.5692 - acc: 0.6905 - val_loss: 0.5882 - val_acc: 0.6806\n",
      "Epoch 54/300\n",
      "400000/400000 [==============================] - 153s 383us/step - loss: 0.5679 - acc: 0.6914 - val_loss: 0.5779 - val_acc: 0.6832\n",
      "Epoch 55/300\n",
      "400000/400000 [==============================] - 149s 373us/step - loss: 0.5683 - acc: 0.6916 - val_loss: 0.5701 - val_acc: 0.6906\n",
      "Epoch 56/300\n",
      "400000/400000 [==============================] - 148s 371us/step - loss: 0.5664 - acc: 0.6931 - val_loss: 0.6113 - val_acc: 0.6544\n",
      "Epoch 57/300\n",
      "400000/400000 [==============================] - 150s 375us/step - loss: 0.5665 - acc: 0.6925 - val_loss: 0.5718 - val_acc: 0.6894\n",
      "Epoch 58/300\n",
      "400000/400000 [==============================] - 153s 381us/step - loss: 0.5659 - acc: 0.6935 - val_loss: 0.5753 - val_acc: 0.6861\n",
      "Epoch 59/300\n",
      "400000/400000 [==============================] - 153s 383us/step - loss: 0.5653 - acc: 0.6936 - val_loss: 0.5720 - val_acc: 0.6896\n",
      "Epoch 60/300\n",
      "400000/400000 [==============================] - 148s 371us/step - loss: 0.5738 - acc: 0.6898 - val_loss: 0.6904 - val_acc: 0.5275\n",
      "Epoch 61/300\n",
      "400000/400000 [==============================] - 149s 371us/step - loss: 0.6640 - acc: 0.5716 - val_loss: 0.6517 - val_acc: 0.5932\n",
      "Epoch 62/300\n",
      "400000/400000 [==============================] - 150s 376us/step - loss: 0.6412 - acc: 0.6068 - val_loss: 0.6374 - val_acc: 0.6104\n",
      "Epoch 63/300\n",
      "400000/400000 [==============================] - 153s 382us/step - loss: 0.6163 - acc: 0.6380 - val_loss: 0.6066 - val_acc: 0.6484\n",
      "Epoch 64/300\n",
      "400000/400000 [==============================] - 149s 372us/step - loss: 0.5915 - acc: 0.6701 - val_loss: 0.5944 - val_acc: 0.6748\n",
      "Epoch 65/300\n",
      "400000/400000 [==============================] - 148s 370us/step - loss: 0.5802 - acc: 0.6815 - val_loss: 0.5817 - val_acc: 0.6819\n",
      "Epoch 66/300\n",
      "400000/400000 [==============================] - 150s 375us/step - loss: 0.5751 - acc: 0.6856 - val_loss: 0.5759 - val_acc: 0.6847\n",
      "Epoch 67/300\n",
      "400000/400000 [==============================] - 153s 382us/step - loss: 0.5715 - acc: 0.6893 - val_loss: 0.6079 - val_acc: 0.6789\n",
      "Epoch 68/300\n",
      "400000/400000 [==============================] - 148s 371us/step - loss: 0.5692 - acc: 0.6914 - val_loss: 0.5913 - val_acc: 0.6778\n",
      "Epoch 69/300\n",
      "400000/400000 [==============================] - 149s 372us/step - loss: 0.5683 - acc: 0.6915 - val_loss: 0.5695 - val_acc: 0.6913\n",
      "Epoch 70/300\n",
      "400000/400000 [==============================] - 150s 375us/step - loss: 0.5668 - acc: 0.6927 - val_loss: 0.5820 - val_acc: 0.6833\n",
      "Epoch 71/300\n",
      "400000/400000 [==============================] - 153s 383us/step - loss: 0.5659 - acc: 0.6931 - val_loss: 0.5697 - val_acc: 0.6906\n",
      "Epoch 72/300\n",
      "400000/400000 [==============================] - 149s 373us/step - loss: 0.5647 - acc: 0.6940 - val_loss: 0.5790 - val_acc: 0.6831\n",
      "Epoch 73/300\n",
      "400000/400000 [==============================] - 148s 369us/step - loss: 0.5641 - acc: 0.6948 - val_loss: 0.5707 - val_acc: 0.6895\n",
      "Epoch 74/300\n",
      "400000/400000 [==============================] - 150s 375us/step - loss: 0.5633 - acc: 0.6947 - val_loss: 0.5673 - val_acc: 0.6942\n",
      "Epoch 75/300\n",
      "400000/400000 [==============================] - 153s 383us/step - loss: 0.5624 - acc: 0.6963 - val_loss: 0.5796 - val_acc: 0.6822\n",
      "Epoch 76/300\n",
      "400000/400000 [==============================] - 148s 370us/step - loss: 0.5616 - acc: 0.6968 - val_loss: 0.5834 - val_acc: 0.6843\n",
      "Epoch 77/300\n",
      "400000/400000 [==============================] - 149s 373us/step - loss: 0.5614 - acc: 0.6967 - val_loss: 0.5835 - val_acc: 0.6790\n",
      "Epoch 78/300\n",
      "400000/400000 [==============================] - 150s 376us/step - loss: 0.5651 - acc: 0.6943 - val_loss: 0.5993 - val_acc: 0.6629\n",
      "Epoch 79/300\n",
      "400000/400000 [==============================] - 152s 380us/step - loss: 0.5608 - acc: 0.6972 - val_loss: 0.5687 - val_acc: 0.6923\n",
      "Epoch 80/300\n",
      "400000/400000 [==============================] - 153s 383us/step - loss: 0.5605 - acc: 0.6971 - val_loss: 0.5673 - val_acc: 0.6919\n",
      "Epoch 81/300\n",
      "400000/400000 [==============================] - 153s 382us/step - loss: 0.5595 - acc: 0.6990 - val_loss: 0.6198 - val_acc: 0.6651\n",
      "Epoch 82/300\n",
      "400000/400000 [==============================] - 148s 370us/step - loss: 0.5588 - acc: 0.6981 - val_loss: 0.5714 - val_acc: 0.6889\n",
      "Epoch 83/300\n",
      "400000/400000 [==============================] - 147s 369us/step - loss: 0.5582 - acc: 0.6998 - val_loss: 0.5650 - val_acc: 0.6958\n",
      "Epoch 84/300\n",
      "400000/400000 [==============================] - 151s 378us/step - loss: 0.5573 - acc: 0.7000 - val_loss: 0.5668 - val_acc: 0.6949\n",
      "Epoch 85/300\n",
      "156672/400000 [==========>...................] - ETA: 1:18 - loss: 0.5567 - acc: 0.7005"
     ]
    }
   ],
   "source": [
    "from keras.utils import multi_gpu_model\n",
    "from keras import optimizers\n",
    "import tensorflow as tf\n",
    "tf.__version__\n",
    "with tf.device('/cpu:0'):\n",
    "    model = models.Sequential()\n",
    "    model.add(layers.Conv2D(32, (50, 10), activation='relu', input_shape=(300, 60, 1)))\n",
    "    model.add(layers.MaxPooling2D((2, 2)))\n",
    "    model.add(layers.Conv2D(64, (25, 5), activation='relu'))\n",
    "    model.add(layers.MaxPooling2D((2, 2)))\n",
    "    model.add(layers.Conv2D(32, (15, 3), activation='relu'))\n",
    "    model.add(layers.MaxPooling2D((2, 2)))\n",
    "    model.add(layers.Flatten())\n",
    "    model.add(layers.Dropout(0.5))\n",
    "    model.add(layers.Dense(128, activation='relu'))\n",
    "    model.add(layers.Dense(64, activation='relu'))\n",
    "    model.add(layers.Dense(2, activation='softmax'))\n",
    "    model.summary()\n",
    "    \n",
    "parallel_model = multi_gpu_model(model,gpus=2)\n",
    "sgd = optimizers.SGD(lr=0.01)\n",
    "parallel_model.compile(loss='categorical_crossentropy',\n",
    "              optimizer=sgd,\n",
    "              metrics=['accuracy'])\n",
    "history = parallel_model.fit(data_div[train]['image'].reshape(data_div[train]['image'].shape[0],300,60,1),label[train], epochs=300, validation_data=(data_div[valid]['image'].reshape(data_div[valid]['image'].shape[0],300,60,1),label[valid]), batch_size =512)"
   ]
  },
  {
   "cell_type": "code",
   "execution_count": null,
   "metadata": {},
   "outputs": [],
   "source": [
    "import json\n",
    "history_dict = history.history # Get the dictionary containing each metric and the loss for each epoch\n",
    "json.dump(history_dict, open('/data/dfc13/DoublePulse/Models/DP_model_NewFormat_Double_Single_Qs2000_400k.json', 'w')) # Save it under the form of a json file\n",
    "#\n",
    "model.save('/data/dfc13/DoublePulse/Models/DP_model_NewFormat_Double_Single_Qs2000_400k.h5') # Save the model\n",
    "#\n",
    "ResultsFile = open('/data/dfc13/DoublePulse/Models/DP_model_NewFormat_Double_Single_Qs2000_400k.txt','w') # File for saving the results of the fit.\n",
    "\n",
    "# 8: multiple conv2d layers a la textbook (32 (3,3) then 64, 128, 128, dropout 0.3, dense 256(relu), 64(relu), 2(softmax)\n",
    "# 8b: same as 8 but with 50 trials\n",
    "# 8b[not c didn't update the line above]: same as 8b but with dropout 0.5.\n",
    "# 8c: changed SGC \"lr\" from 0.01->0.001.  This smoothed things out a lot.  Sort of.  But had 0% accuracy for nutaus.\n",
    "# 8d: changed SGC \"lr\" from 0.001->0.005.\n",
    "# 8e: decreased size of training set to 24k, increased size of validation set to 4k (24k:28k) and increased test set (28k:)\n",
    "# 8f: changed SGC \"lr\" from 0.005->0.01.  200 epochs. 97%/37%.\n",
    "# 8g: lr=0.02, 50 epochs: 98%/29%.\n",
    "\n",
    "# 9a: changed dense 256 -> 512.  50 epochs. 100%/22%\n",
    "# 9b: same as above, 200 epochs. 97%/39%.\n",
    "# 9c: same as above, lr = 0.01.  200 epochs. 97%/36%.\n",
    "# 9d: same as above, 500 epochs batch_size = 64. 96%/40%.\n",
    "# 10a: Testing selection of particular GPU.  20 epochs, batch_size = 128.\n",
    "# 10b-3: Testing parallelization.  50 epochs, batch_size = 128, 3 GPUs (about 6s/epoch): 99%/19%.\n",
    "# 10c-3: Testing parallelization.  50 epochs, batch_size = 64*3=192, 3 GPUs (about 4.5s/epoch): 100%/11%.\n",
    "# 10d-3: Testing parallelization.  100 epochs, batch_size = 64*3=192, 3 GPUs (about 4s/epoch): 98%/29%.\n",
    "# 10e-3: Testing parallelization.  500 epochs, batch_size = 64*3=192, 3 GPUs (about 4s/epoch): 98%/29%; 98%/56%.\n",
    "# 10f-3: Parallel.  300 epochs, batch_size = 64*3=192, 3 GPUs. X%/Y%."
   ]
  },
  {
   "cell_type": "code",
   "execution_count": 6,
   "metadata": {},
   "outputs": [
    {
     "name": "stderr",
     "output_type": "stream",
     "text": [
      "Using TensorFlow backend.\n",
      "WARNING: Logging before flag parsing goes to stderr.\n",
      "W0221 12:10:01.074048 139696329090816 deprecation_wrapper.py:119] From /home/dup193/anaconda3/envs/tf-gpu/lib/python3.7/site-packages/keras/backend/tensorflow_backend.py:517: The name tf.placeholder is deprecated. Please use tf.compat.v1.placeholder instead.\n",
      "\n",
      "W0221 12:10:01.095360 139696329090816 deprecation_wrapper.py:119] From /home/dup193/anaconda3/envs/tf-gpu/lib/python3.7/site-packages/keras/backend/tensorflow_backend.py:4138: The name tf.random_uniform is deprecated. Please use tf.random.uniform instead.\n",
      "\n",
      "W0221 12:10:01.110813 139696329090816 deprecation_wrapper.py:119] From /home/dup193/anaconda3/envs/tf-gpu/lib/python3.7/site-packages/keras/backend/tensorflow_backend.py:3976: The name tf.nn.max_pool is deprecated. Please use tf.nn.max_pool2d instead.\n",
      "\n",
      "W0221 12:10:01.147207 139696329090816 deprecation_wrapper.py:119] From /home/dup193/anaconda3/envs/tf-gpu/lib/python3.7/site-packages/keras/backend/tensorflow_backend.py:131: The name tf.get_default_graph is deprecated. Please use tf.compat.v1.get_default_graph instead.\n",
      "\n",
      "W0221 12:10:01.148185 139696329090816 deprecation_wrapper.py:119] From /home/dup193/anaconda3/envs/tf-gpu/lib/python3.7/site-packages/keras/backend/tensorflow_backend.py:133: The name tf.placeholder_with_default is deprecated. Please use tf.compat.v1.placeholder_with_default instead.\n",
      "\n",
      "W0221 12:10:01.238614 139696329090816 deprecation.py:506] From /home/dup193/anaconda3/envs/tf-gpu/lib/python3.7/site-packages/keras/backend/tensorflow_backend.py:3445: calling dropout (from tensorflow.python.ops.nn_ops) with keep_prob is deprecated and will be removed in a future version.\n",
      "Instructions for updating:\n",
      "Please use `rate` instead of `keep_prob`. Rate should be set to `rate = 1 - keep_prob`.\n",
      "W0221 12:10:01.306252 139696329090816 deprecation_wrapper.py:119] From /home/dup193/anaconda3/envs/tf-gpu/lib/python3.7/site-packages/keras/backend/tensorflow_backend.py:174: The name tf.get_default_session is deprecated. Please use tf.compat.v1.get_default_session instead.\n",
      "\n",
      "/home/dup193/anaconda3/envs/tf-gpu/lib/python3.7/site-packages/keras/engine/saving.py:292: UserWarning: No training configuration found in save file: the model was *not* compiled. Compile it manually.\n",
      "  warnings.warn('No training configuration found in save file: '\n"
     ]
    }
   ],
   "source": [
    "#import json\n",
    "#with open('/data/dfc13/DoublePulse/Models/DP_model_NewFormat_Double_Single_600k_NO.json', 'r') as f:\n",
    "#        history_dict = json.load(f)\n",
    "#from keras.models import load_model\n",
    "#model = load_model('/data/dfc13/DoublePulse/Models/DP_model_NewFormat_Double_Single_600k_NO.h5')"
   ]
  },
  {
   "cell_type": "code",
   "execution_count": 35,
   "metadata": {},
   "outputs": [
    {
     "data": {
      "image/png": "[encoded data removed]",
      "text/plain": [
       "<Figure size 432x288 with 1 Axes>"
      ]
     },
     "metadata": {
      "needs_background": "light"
     },
     "output_type": "display_data"
    },
    {
     "data": {
      "image/png": "[encoded data removed]",
      "text/plain": [
       "<Figure size 432x288 with 1 Axes>"
      ]
     },
     "metadata": {
      "needs_background": "light"
     },
     "output_type": "display_data"
    }
   ],
   "source": [
    "acc = history.history['acc']\n",
    "val_acc = history.history['val_acc']\n",
    "loss = history.history['loss']\n",
    "val_loss = history.history['val_loss']\n",
    "\n",
    "epochs = range(len(acc))\n",
    "\n",
    "plt.plot(epochs, acc, 'bo', label='Training acc')\n",
    "plt.plot(epochs, val_acc, 'b', label='Validation acc')\n",
    "plt.title('Training and validation accuracy')\n",
    "plt.legend()\n",
    "\n",
    "plt.figure()\n",
    "\n",
    "plt.plot(epochs, loss, 'bo', label='Training loss')\n",
    "plt.plot(epochs, val_loss, 'b', label='Validation loss')\n",
    "plt.title('Training and validation loss')\n",
    "plt.legend()\n",
    "\n",
    "plt.show()"
   ]
  },
  {
   "cell_type": "code",
   "execution_count": null,
   "metadata": {},
   "outputs": [],
   "source": [
    "result = parallel_model.evaluate(data_div['image'][test].reshape(len(data_div['image'][test]),300,60,1),label[test])\n",
    "print(result)"
   ]
  },
  {
   "cell_type": "code",
   "execution_count": null,
   "metadata": {},
   "outputs": [],
   "source": [
    "from sklearn.metrics import classification_report, confusion_matrix"
   ]
  },
  {
   "cell_type": "code",
   "execution_count": null,
   "metadata": {},
   "outputs": [],
   "source": [
    "test_pred = parallel_model.predict(data_div['image'][test].reshape(len(data_div['image'][test]),300,60,1))\n",
    "matrix = confusion_matrix(label[test].argmax(axis=1), test_pred.argmax(axis=1))\n",
    "report = classification_report(label[test].argmax(axis=1), test_pred.argmax(axis=1))"
   ]
  },
  {
   "cell_type": "code",
   "execution_count": 34,
   "metadata": {},
   "outputs": [
    {
     "name": "stdout",
     "output_type": "stream",
     "text": [
      "[[ 9670  5445]\n",
      " [ 3905 10980]]\n",
      "              precision    recall  f1-score   support\n",
      "\n",
      "           0       0.71      0.64      0.67     15115\n",
      "           1       0.67      0.74      0.70     14885\n",
      "\n",
      "    accuracy                           0.69     30000\n",
      "   macro avg       0.69      0.69      0.69     30000\n",
      "weighted avg       0.69      0.69      0.69     30000\n",
      "\n"
     ]
    }
   ],
   "source": [
    "#print(\"True Positive\",tp)\n",
    "#print(\"True Negative\",tn)\n",
    "#print(\"False Positive\",fp)\n",
    "#print(\"False Negative\",fn)\n",
    "\n",
    "#ResultsFile.write(repr(matrix))\n",
    "#ResultsFile.write('\\n')\n",
    "#ResultsFile.write(report)\n",
    "#ResultsFile.close()\n",
    "\n",
    "print(matrix)\n",
    "print(report)"
   ]
  },
  {
   "cell_type": "code",
   "execution_count": null,
   "metadata": {},
   "outputs": [],
   "source": []
  }
 ],
 "metadata": {
  "kernelspec": {
   "display_name": "Python 3",
   "language": "python",
   "name": "python3"
  },
  "language_info": {
   "codemirror_mode": {
    "name": "ipython",
    "version": 3
   },
   "file_extension": ".py",
   "mimetype": "text/x-python",
   "name": "python",
   "nbconvert_exporter": "python",
   "pygments_lexer": "ipython3",
   "version": "3.7.4"
  }
 },
 "nbformat": 4,
 "nbformat_minor": 4
}
