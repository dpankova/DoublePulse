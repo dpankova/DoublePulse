{
 "cells": [
  {
   "cell_type": "code",
   "execution_count": 1,
   "metadata": {},
   "outputs": [],
   "source": [
    "from __future__ import division\n",
    "import matplotlib as mpl\n",
    "import matplotlib.pyplot as plt\n",
    "import numpy as np\n",
    "import glob"
   ]
  },
  {
   "cell_type": "code",
   "execution_count": 10,
   "metadata": {},
   "outputs": [
    {
     "name": "stdout",
     "output_type": "stream",
     "text": [
      "/home/dup193/work/double_pulse/data/LoganVeto_data/LoganVeto_NuENC_Qtot1000_Qst400_1_15_data.npy 637\n",
      "/home/dup193/work/double_pulse/data/LoganVeto_data/LoganVeto_NuENC_Qtot1000_Qst400_1_12_data.npy 656\n",
      "/home/dup193/work/double_pulse/data/LoganVeto_data/LoganVeto_NuENC_Qtot1000_Qst400_1_1_data.npy 618\n",
      "/home/dup193/work/double_pulse/data/LoganVeto_data/LoganVeto_NuENC_Qtot1000_Qst400_1_14_data.npy 686\n",
      "/home/dup193/work/double_pulse/data/LoganVeto_data/LoganVeto_NuENC_Qtot1000_Qst400_1_13_data.npy 592\n",
      "/home/dup193/work/double_pulse/data/LoganVeto_data/LoganVeto_NuENC_Qtot1000_Qst400_1_17_data.npy 643\n",
      "/home/dup193/work/double_pulse/data/LoganVeto_data/LoganVeto_NuENC_Qtot1000_Qst400_1_11_data.npy 653\n",
      "/home/dup193/work/double_pulse/data/LoganVeto_data/LoganVeto_NuENC_Qtot1000_Qst400_1_19_data.npy 672\n",
      "/home/dup193/work/double_pulse/data/LoganVeto_data/LoganVeto_NuENC_Qtot1000_Qst400_1_10_data.npy 650\n",
      "/home/dup193/work/double_pulse/data/LoganVeto_data/LoganVeto_NuENC_Qtot1000_Qst400_1_16_data.npy 609\n",
      "/home/dup193/work/double_pulse/data/LoganVeto_data/LoganVeto_NuENC_Qtot1000_Qst400_1_18_data.npy 628\n",
      "7044\n"
     ]
    }
   ],
   "source": [
    "size = 0\n",
    "for file_name in glob.glob('/home/dup193/work/double_pulse/data/LoganVeto_data/LoganVeto_NuENC_Qtot1000_Qst400_1_1*_data.npy'):\n",
    "    x = np.load(file_name, mmap_mode=\"r\")\n",
    "    print(file_name, len(x))\n",
    "    size = size +len(x)\n",
    "print(size)"
   ]
  },
  {
   "cell_type": "code",
   "execution_count": 12,
   "metadata": {},
   "outputs": [],
   "source": [
    "dtype = np.load('/home/dup193/work/double_pulse/data/LoganVeto_data/LoganVeto_NuENC_Qtot1000_Qst400_1_15_data.npy', mmap_mode=\"r\")[0].dtype"
   ]
  },
  {
   "cell_type": "code",
   "execution_count": 79,
   "metadata": {},
   "outputs": [
    {
     "name": "stdout",
     "output_type": "stream",
     "text": [
      "/home/dup193/work/double_pulse/data/LoganVeto_data/LoganVeto_NuENC_Qtot1000_Qst400_1_15_data.npy (637, 1)\n",
      "/home/dup193/work/double_pulse/data/LoganVeto_data/LoganVeto_NuENC_Qtot1000_Qst400_1_12_data.npy (656, 1)\n",
      "/home/dup193/work/double_pulse/data/LoganVeto_data/LoganVeto_NuENC_Qtot1000_Qst400_1_14_data.npy (686, 1)\n",
      "/home/dup193/work/double_pulse/data/LoganVeto_data/LoganVeto_NuENC_Qtot1000_Qst400_1_13_data.npy (592, 1)\n",
      "/home/dup193/work/double_pulse/data/LoganVeto_data/LoganVeto_NuENC_Qtot1000_Qst400_1_17_data.npy (643, 1)\n",
      "/home/dup193/work/double_pulse/data/LoganVeto_data/LoganVeto_NuENC_Qtot1000_Qst400_1_11_data.npy (653, 1)\n",
      "/home/dup193/work/double_pulse/data/LoganVeto_data/LoganVeto_NuENC_Qtot1000_Qst400_1_19_data.npy (672, 1)\n",
      "/home/dup193/work/double_pulse/data/LoganVeto_data/LoganVeto_NuENC_Qtot1000_Qst400_1_10_data.npy (650, 1)\n",
      "/home/dup193/work/double_pulse/data/LoganVeto_data/LoganVeto_NuENC_Qtot1000_Qst400_1_16_data.npy (609, 1)\n",
      "/home/dup193/work/double_pulse/data/LoganVeto_data/LoganVeto_NuENC_Qtot1000_Qst400_1_18_data.npy (628, 1)\n"
     ]
    }
   ],
   "source": [
    "pos = 0\n",
    "data = np.lib.format.open_memmap('/fastio2/dasha/double_pulse/data_old_NuENC_1_1.npy', mode = 'w+', dtype = dtype, shape=(size,1))\n",
    "for file_name in glob.glob('/home/dup193/work/double_pulse/data/LoganVeto_data/LoganVeto_NuENC_Qtot1000_Qst400_1_1?_data.npy'):\n",
    "    x = np.load(file_name, mmap_mode=\"r\")\n",
    "    print(file_name, x.shape)\n",
    "    data[pos:pos+len(x)] = x\n",
    "    pos = pos + len(x)"
   ]
  },
  {
   "cell_type": "code",
   "execution_count": 80,
   "metadata": {},
   "outputs": [
    {
     "name": "stdout",
     "output_type": "stream",
     "text": [
      "(7356, 1)\n",
      "(7044, 1)\n"
     ]
    }
   ],
   "source": [
    "data = np.load('/home/dup193/work/double_pulse/data/images_3str/Images_NuE_2_1_1_data.npz')['arr_0']\n",
    "print(data.shape)\n",
    "data_old = np.load('/fastio2/dasha/double_pulse/data_old_NuENC_1_1.npy')\n",
    "print(data_old.shape)"
   ]
  },
  {
   "cell_type": "code",
   "execution_count": 81,
   "metadata": {},
   "outputs": [
    {
     "name": "stdout",
     "output_type": "stream",
     "text": [
      "7356 (167, 4294967295, 13, 0)\n",
      "7044 (155, 4294967295, 51, 0)\n"
     ]
    }
   ],
   "source": [
    "list_n = [tuple(i[0]) for i in data['id']]\n",
    "list_o = [tuple(i[0]) for i in data_old['id']]\n",
    "print(len(list_n),list_n[0])\n",
    "print(len(list_o),list_o[0])"
   ]
  },
  {
   "cell_type": "code",
   "execution_count": 82,
   "metadata": {},
   "outputs": [],
   "source": [
    "set_n = set(list_n)\n",
    "set_o = set(list_o)\n",
    "diff = set_o.difference(set_n) \n",
    "diff2 = set_n.difference(set_o) "
   ]
  },
  {
   "cell_type": "code",
   "execution_count": 83,
   "metadata": {},
   "outputs": [
    {
     "name": "stdout",
     "output_type": "stream",
     "text": [
      "1 [(0, 0, 0, 0)]\n",
      "930 [(121, 4294967295, 1731, 0), (143, 4294967295, 424, 0), (172, 4294967295, 338, 0), (144, 4294967295, 1431, 0), (103, 4294967295, 1460, 0), (119, 4294967295, 942, 0), (103, 4294967295, 234, 0), (162, 4294967295, 106, 0), (158, 4294967295, 963, 0), (165, 4294967295, 1096, 0)]\n"
     ]
    }
   ],
   "source": [
    "print(len(diff),list(diff)[0:10])\n",
    "print(len(diff2),list(diff2)[0:10])"
   ]
  },
  {
   "cell_type": "code",
   "execution_count": 73,
   "metadata": {},
   "outputs": [],
   "source": [
    "np.save(\"/home/dup193/work/double_pulse/Diff_old_IDs.npy\",list(diff))"
   ]
  },
  {
   "cell_type": "code",
   "execution_count": 27,
   "metadata": {},
   "outputs": [],
   "source": [
    "diff_events = []\n",
    "for i in data:\n",
    "    if tuple(i['id'][0]) in diff:\n",
    "        diff_events.append(i)\n",
    "diff_events = np.array(diff_events)"
   ]
  },
  {
   "cell_type": "code",
   "execution_count": 65,
   "metadata": {},
   "outputs": [
    {
     "data": {
      "text/plain": [
       "array([2.], dtype=float32)"
      ]
     },
     "execution_count": 65,
     "metadata": {},
     "output_type": "execute_result"
    }
   ],
   "source": [
    "np.unique(diff_events['weight']['InteractionType'])"
   ]
  },
  {
   "cell_type": "code",
   "execution_count": 63,
   "metadata": {},
   "outputs": [
    {
     "name": "stdout",
     "output_type": "stream",
     "text": [
      "930\n",
      "930\n"
     ]
    }
   ],
   "source": [
    "print(np.sum(diff_events['qtot']>1000))\n",
    "print(np.sum(diff_events['qst'][:,0]['q'][:,0]>400))"
   ]
  },
  {
   "cell_type": "code",
   "execution_count": 33,
   "metadata": {},
   "outputs": [
    {
     "name": "stdout",
     "output_type": "stream",
     "text": [
      "(1412887, 1)\n"
     ]
    }
   ],
   "source": [
    "data_all = np.load('/home/dup193/work/double_pulse/data/mctree_check/NewFormat_All_MCTree_NuE_1_data.npz')['arr_0']\n",
    "print(data_all.shape)"
   ]
  },
  {
   "cell_type": "code",
   "execution_count": 34,
   "metadata": {},
   "outputs": [],
   "source": [
    "diff_events_all = []\n",
    "for i in data_all:\n",
    "    if tuple(i['id'][0]) in diff:\n",
    "        diff_events_all.append(i)\n",
    "diff_events_all = np.array(diff_events_all)"
   ]
  },
  {
   "cell_type": "code",
   "execution_count": 36,
   "metadata": {},
   "outputs": [
    {
     "name": "stdout",
     "output_type": "stream",
     "text": [
      "[('id', [('run_id', '<u4'), ('sub_run_id', '<u4'), ('event_id', '<u4'), ('sub_event_id', '<u4')]), ('neutrino', [('tree_id', '<u4', (2,)), ('pdg', '<i4'), ('energy', '<f4'), ('position', '<f4', (3,)), ('direction', '<f4', (2,)), ('time', '<f4'), ('length', '<f4')]), ('nutaus', [('tree_id', '<u4', (2,)), ('parent_id', '<u4', (2,)), ('pdg', '<i4'), ('parent_pdg', '<i4'), ('children_pdgs', '<i4', (10,)), ('energy', '<f4'), ('position', '<f4', (3,)), ('direction', '<f4', (2,)), ('time', '<f4'), ('length', '<f4')], (10,)), ('taus', [('tree_id', '<u4', (2,)), ('parent_id', '<u4', (2,)), ('pdg', '<i4'), ('parent_pdg', '<i4'), ('children_pdgs', '<i4', (10,)), ('energy', '<f4'), ('position', '<f4', (3,)), ('direction', '<f4', (2,)), ('time', '<f4'), ('length', '<f4')], (10,)), ('muons', [('tree_id', '<u4', (2,)), ('parent_id', '<u4', (2,)), ('pdg', '<i4'), ('parent_pdg', '<i4'), ('children_pdgs', '<i4', (10,)), ('energy', '<f4'), ('position', '<f4', (3,)), ('direction', '<f4', (2,)), ('time', '<f4'), ('length', '<f4')], (10,)), ('qst', '<f4'), ('qtot', '<f4'), ('hese_qtot', '<f4'), ('hese_vheselfveto', '?'), ('hese_llhratio', '<f4'), ('energy', '<f4', (3,)), ('pdg', '<f4', (3,)), ('weight', [('PrimaryNeutrinoAzimuth', '<f4'), ('TotalColumnDepthCGS', '<f4'), ('MaxAzimuth', '<f4'), ('SelectionWeight', '<f4'), ('InIceNeutrinoEnergy', '<f4'), ('PowerLawIndex', '<f4'), ('TotalPrimaryWeight', '<f4'), ('PrimaryNeutrinoZenith', '<f4'), ('TotalWeight', '<f4'), ('PropagationWeight', '<f4'), ('NInIceNus', '<f4'), ('TrueActiveLengthBefore', '<f4'), ('TypeWeight', '<f4'), ('PrimaryNeutrinoType', '<f4'), ('RangeInMeter', '<f4'), ('BjorkenY', '<f4'), ('MinZenith', '<f4'), ('InIceNeutrinoType', '<f4'), ('CylinderRadius', '<f4'), ('BjorkenX', '<f4'), ('InteractionPositionWeight', '<f4'), ('RangeInMWE', '<f4'), ('InteractionColumnDepthCGS', '<f4'), ('CylinderHeight', '<f4'), ('MinAzimuth', '<f4'), ('TotalXsectionCGS', '<f4'), ('OneWeightPerType', '<f4'), ('ImpactParam', '<f4'), ('InteractionType', '<f4'), ('TrueActiveLengthAfter', '<f4'), ('MaxZenith', '<f4'), ('InteractionXsectionCGS', '<f4'), ('PrimaryNeutrinoEnergy', '<f4'), ('DirectionWeight', '<f4'), ('InjectionAreaCGS', '<f4'), ('MinEnergyLog', '<f4'), ('SolidAngle', '<f4'), ('LengthInVolume', '<f4'), ('NEvents', '<u4'), ('OneWeight', '<f4'), ('MaxEnergyLog', '<f4'), ('InteractionWeight', '<f4'), ('EnergyLost', '<f4')]), ('qfiltermask', [('CascadeFilter_13', '?'), ('DeepCoreFilter_13', '?'), ('EHEAlertFilterHB_15', '?'), ('EHEAlertFilter_15', '?'), ('EstresAlertFilter_18', '?'), ('FSSCandidate_13', '?'), ('FSSFilter_13', '?'), ('FilterMinBias_13', '?'), ('FixedRateFilter_13', '?'), ('GFUFilter_17', '?'), ('HESEFilter_15', '?'), ('HighQFilter_17', '?'), ('I3DAQDecodeException', '?'), ('IceTopSTA3_13', '?'), ('IceTopSTA5_13', '?'), ('IceTop_InFill_STA2_17', '?'), ('IceTop_InFill_STA3_13', '?'), ('InIceSMT_IceTopCoincidence_13', '?'), ('LowUp_13', '?'), ('MESEFilter_15', '?'), ('MonopoleFilter_16', '?'), ('MoonFilter_13', '?'), ('MuonFilter_13', '?'), ('OnlineL2Filter_17', '?'), ('SDST_IceTopSTA3_13', '?'), ('SDST_IceTop_InFill_STA3_13', '?'), ('SDST_InIceSMT_IceTopCoincidence_13', '?'), ('ScintMinBias_16', '?'), ('SlopFilter_13', '?'), ('SunFilter_13', '?'), ('VEF_13', '?')]), ('keys', [('passed', '?'), ('header', '?'), ('raw_data', '?'), ('weights', '?'), ('mctree', '?'), ('cvstats', '?'), ('pulses', '?'), ('conventional', '?'), ('simtrimmer', '?'), ('filtermask', '?')])]\n"
     ]
    }
   ],
   "source": [
    "print(diff_events_all[0].dtype)"
   ]
  },
  {
   "cell_type": "code",
   "execution_count": 42,
   "metadata": {},
   "outputs": [
    {
     "name": "stdout",
     "output_type": "stream",
     "text": [
      "930\n",
      "('passed', 'header', 'raw_data', 'weights', 'mctree', 'cvstats', 'pulses', 'conventional', 'simtrimmer', 'filtermask')\n"
     ]
    }
   ],
   "source": [
    "print(len(diff_events_all))\n",
    "dkeys = diff_events_all['keys']\n",
    "print(dkeys[0].dtype.names)"
   ]
  },
  {
   "cell_type": "code",
   "execution_count": 48,
   "metadata": {},
   "outputs": [
    {
     "name": "stdout",
     "output_type": "stream",
     "text": [
      "['passed', 'header', 'raw_data', 'weights', 'mctree', 'cvstats', 'pulses', 'conventional', 'simtrimmer', 'filtermask']\n",
      "[96.66666666666667, 100.0, 100.0, 100.0, 100.0, 96.66666666666667, 100.0, 56.88172043010753, 0.0, 100.0]\n"
     ]
    },
    {
     "data": {
      "image/png": "[encoded data removed]",
      "text/plain": [
       "<Figure size 864x360 with 1 Axes>"
      ]
     },
     "metadata": {},
     "output_type": "display_data"
    }
   ],
   "source": [
    "fig = plt.figure(figsize=(12,5),facecolor='w')\n",
    "objects = list(dkeys[0].dtype.names)\n",
    "#objects.remove('conventional')\n",
    "#objects.remove('simtrimmer')\n",
    "#objects.remove('filtermask')\n",
    "\n",
    "print(objects)\n",
    "y_pos = np.arange(len(objects))\n",
    "\n",
    "perc = [np.sum(dkeys['passed']), np.sum(dkeys['header']), np.sum(dkeys['raw_data']),np.sum(dkeys['weights']), np.sum(dkeys['mctree']), np.sum(dkeys['cvstats']), np.sum(dkeys['pulses']), np.sum(dkeys['conventional']), np.sum(dkeys['simtrimmer']), np.sum(dkeys['filtermask'])]\n",
    "perc = [i/len(dkeys)*100 for i in perc]\n",
    "print(perc)\n",
    "plt.bar(y_pos, perc, align='center', alpha=0.5)\n",
    "plt.xticks(y_pos, objects)\n",
    "#plt.yscale('log')\n",
    "plt.ylabel('Percent lost')\n",
    "plt.title('Key name')\n",
    "\n",
    "plt.show()"
   ]
  },
  {
   "cell_type": "code",
   "execution_count": null,
   "metadata": {},
   "outputs": [],
   "source": []
  },
  {
   "cell_type": "code",
   "execution_count": 29,
   "metadata": {},
   "outputs": [
    {
     "name": "stdout",
     "output_type": "stream",
     "text": [
      "[([3141174337,         50], -16, 32941.242, [-1354.5045, -1323.9027,  1947.7186], [0.6061273, 3.9867737], -74.84508, 2908.0742)] [2187.975]\n",
      "[([3141174337,        630], 16, 8402.454, [1368.9543, -543.9744, 1947.8298], [0.6218106, 5.943934 ], -110.198105, 2968.196)] [1537.55]\n"
     ]
    },
    {
     "data": {
      "image/png": "[encoded data removed]",
      "text/plain": [
       "<Figure size 1080x360 with 3 Axes>"
      ]
     },
     "metadata": {
      "needs_background": "light"
     },
     "output_type": "display_data"
    },
    {
     "data": {
      "image/png": "[encoded data removed]",
      "text/plain": [
       "<Figure size 1080x360 with 3 Axes>"
      ]
     },
     "metadata": {
      "needs_background": "light"
     },
     "output_type": "display_data"
    }
   ],
   "source": [
    "for i, im in enumerate(data['image']):\n",
    "    fig = plt.figure(figsize=(15, 5))\n",
    "    ax1 = fig.add_subplot(131)\n",
    "    ax1.imshow(im[0][:,:,0], interpolation='nearest', aspect='auto', cmap= 'gray')\n",
    "    ax2 = fig.add_subplot(132)\n",
    "    ax2.imshow(im[0][:,:,1], interpolation='nearest', aspect='auto', cmap= 'gray')\n",
    "    ax3 = fig.add_subplot(133)\n",
    "    ax3.imshow(im[0][:,:,2], interpolation='nearest', aspect='auto', cmap= 'gray')\n",
    "    print(data['primary'][i],data['qtot'][i])"
   ]
  },
  {
   "cell_type": "code",
   "execution_count": 30,
   "metadata": {},
   "outputs": [
    {
     "data": {
      "text/plain": [
       "array([[(-999., 999., -999., 999., 999., 999., -999.)],\n",
       "       [(-999., 999., -999., 999., 999., 999., -999.)]],\n",
       "      dtype=[('SPE_rlogl', '<f4'), ('Cascade_rlogl', '<f4'), ('SPE_rlogl_noDC', '<f4'), ('Cascade_rlogl_noDC', '<f4'), ('FirstHitZ', '<f4'), ('VHESelfVetoVertexPosZ', '<f4'), ('LeastDistanceToPolygon_Veto', '<f4')])"
      ]
     },
     "execution_count": 30,
     "metadata": {},
     "output_type": "execute_result"
    }
   ],
   "source": [
    "data['logan_veto']"
   ]
  },
  {
   "cell_type": "code",
   "execution_count": 31,
   "metadata": {},
   "outputs": [
    {
     "data": {
      "text/plain": [
       "array([[(1757.525, False, [-200.55   ,  -74.03   , -448.82285], 9946., -24.429226)],\n",
       "       [(   0.   , False, [-279.53   ,   23.17   , -467.58   ], 9895.,   0.      )]],\n",
       "      dtype=[('qtot', '<f4'), ('vheselfveto', '?'), ('vheselfvetovertexpos', '<f4', (3,)), ('vheselfvetovertextime', '<f4'), ('llhratio', '<f4')])"
      ]
     },
     "execution_count": 31,
     "metadata": {},
     "output_type": "execute_result"
    }
   ],
   "source": [
    "data['hese']"
   ]
  },
  {
   "cell_type": "code",
   "execution_count": 33,
   "metadata": {},
   "outputs": [
    {
     "data": {
      "text/plain": [
       "array([[(1757.525, False, [ -200.55   ,   -74.03   ,  -448.82285],  9946., -24.429226)],\n",
       "       [(   0.   ,  True, [-9999.     , -9999.     , -9999.     ], 99999.,   0.      )]],\n",
       "      dtype=[('qtot', '<f4'), ('vheselfveto', '?'), ('vheselfvetovertexpos', '<f4', (3,)), ('vheselfvetovertextime', '<f4'), ('llhratio', '<f4')])"
      ]
     },
     "execution_count": 33,
     "metadata": {},
     "output_type": "execute_result"
    }
   ],
   "source": [
    "data['hese_old']"
   ]
  },
  {
   "cell_type": "code",
   "execution_count": 18,
   "metadata": {},
   "outputs": [
    {
     "name": "stdout",
     "output_type": "stream",
     "text": [
      "((11511, 4294967295, 15, 0), 0., 0.)\n"
     ]
    }
   ],
   "source": [
    "hese_ec = np.load('/fastio2/dasha/double_pulse/HESE_ec.npy', mmap_mode = 'r')\n",
    "print(hese_ec[0])"
   ]
  },
  {
   "cell_type": "code",
   "execution_count": null,
   "metadata": {},
   "outputs": [],
   "source": []
  }
 ],
 "metadata": {
  "kernelspec": {
   "display_name": "Python 3",
   "language": "python",
   "name": "python3"
  },
  "language_info": {
   "codemirror_mode": {
    "name": "ipython",
    "version": 3
   },
   "file_extension": ".py",
   "mimetype": "text/x-python",
   "name": "python",
   "nbconvert_exporter": "python",
   "pygments_lexer": "ipython3",
   "version": "3.7.7"
  }
 },
 "nbformat": 4,
 "nbformat_minor": 4
}
