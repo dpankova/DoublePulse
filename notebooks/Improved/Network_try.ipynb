{
 "cells": [
  {
   "cell_type": "code",
   "execution_count": 3,
   "metadata": {},
   "outputs": [],
   "source": [
    "import os\n",
    "\n",
    "# Set which GPU to use.  This probably needs to be done before any other CUDA vars get defined.\n",
    "# Use the command \"nvidia-smi\" to get association of a particular GPU with a particular number.\n",
    "os.environ[\"CUDA_DEVICE_ORDER\"] = \"PCI_BUS_ID\"\n",
    "os.environ[\"CUDA_VISIBLE_DEVICES\"]= \"0\""
   ]
  },
  {
   "cell_type": "code",
   "execution_count": 4,
   "metadata": {},
   "outputs": [],
   "source": [
    "from __future__ import division\n",
    "import matplotlib as mpl\n",
    "import matplotlib.pyplot as plt\n",
    "import numpy as np\n",
    "import pickle\n",
    "from sklearn.utils import shuffle"
   ]
  },
  {
   "cell_type": "code",
   "execution_count": 5,
   "metadata": {},
   "outputs": [],
   "source": [
    "import tensorflow as tf\n",
    "import tensorflow.keras as keras\n",
    "from tensorflow.keras.models import Sequential, Model\n",
    "from tensorflow.keras.layers import Conv2D, MaxPooling2D, AveragePooling2D, ZeroPadding2D, BatchNormalization\n",
    "from tensorflow.keras.layers import Dense, Dropout, Flatten, Input, Activation, concatenate\n",
    "from tensorflow.keras.regularizers import l2"
   ]
  },
  {
   "cell_type": "code",
   "execution_count": 6,
   "metadata": {},
   "outputs": [],
   "source": [
    "# default l2 regularization value\n",
    "l2_val = 0.0025"
   ]
  },
  {
   "cell_type": "code",
   "execution_count": 7,
   "metadata": {},
   "outputs": [],
   "source": [
    "def CNN(n_channels=3): \n",
    "    CNN_layers = Sequential(name='convolutional_layers')\n",
    "    CNN_layers.add(ZeroPadding2D((1,1),input_shape=(500, 60, 1)))\n",
    "    CNN_layers.add(Conv2D(filters=64, kernel_size=(3, 3), activation='relu'))\n",
    "    CNN_layers.add(ZeroPadding2D((1,1)))\n",
    "    CNN_layers.add(Conv2D(filters=64, kernel_size=(3, 3), activation='relu'))\n",
    "    CNN_layers.add(MaxPooling2D(pool_size=(2, 2), strides=(2,2)))\n",
    "\n",
    "    CNN_layers.add(ZeroPadding2D((1,1)))\n",
    "    CNN_layers.add(Conv2D(filters=128, kernel_size=(3, 3), activation='relu'))\n",
    "    CNN_layers.add(ZeroPadding2D((1,1)))\n",
    "    CNN_layers.add(Conv2D(filters=128, kernel_size=(3, 3), activation='relu'))\n",
    "    CNN_layers.add(MaxPooling2D(pool_size=(2, 2), strides=(2,2)))\n",
    "\n",
    "    CNN_layers.add(ZeroPadding2D((1,1)))\n",
    "    CNN_layers.add(Conv2D(filters=256, kernel_size=(3, 3), activation='relu'))\n",
    "    CNN_layers.add(ZeroPadding2D((1,1)))\n",
    "    CNN_layers.add(Conv2D(filters=256, kernel_size=(3, 3), activation='relu'))\n",
    "    CNN_layers.add(ZeroPadding2D((1,1)))\n",
    "    CNN_layers.add(Conv2D(filters=256, kernel_size=(3, 3), activation='relu'))\n",
    "    CNN_layers.add(MaxPooling2D(pool_size=(2, 2), strides=(2,2)))\n",
    "    \n",
    "    CNN_layers.add(ZeroPadding2D((1,1)))\n",
    "    CNN_layers.add(Conv2D(filters=512, kernel_size=(3, 3), activation='relu'))\n",
    "    CNN_layers.add(ZeroPadding2D((1,1)))\n",
    "    CNN_layers.add(Conv2D(filters=512, kernel_size=(3, 3), activation='relu'))\n",
    "    CNN_layers.add(ZeroPadding2D((1,1)))\n",
    "    CNN_layers.add(Conv2D(filters=512, kernel_size=(3, 3), activation='relu'))\n",
    "    CNN_layers.add(MaxPooling2D(pool_size=(2, 2), strides=(2,2)))\n",
    "\n",
    "    CNN_layers.add(ZeroPadding2D((1,1)))\n",
    "    CNN_layers.add(Conv2D(filters=512, kernel_size=(3, 3), activation='relu'))\n",
    "    CNN_layers.add(ZeroPadding2D((1,1)))\n",
    "    CNN_layers.add(Conv2D(filters=512, kernel_size=(3, 3), activation='relu'))\n",
    "    CNN_layers.add(ZeroPadding2D((1,1)))\n",
    "    CNN_layers.add(Conv2D(filters=512, kernel_size=(3, 3), activation='relu'))\n",
    "    CNN_layers.add(MaxPooling2D(pool_size=(2, 2), strides=(2,2)))\n",
    "    CNN_layers.add(Flatten())\n",
    "\n",
    "    channels = [Input(shape=(500, 60, 1)) for _ in range(n_channels)]\n",
    "    cnn_stages = [CNN_layers(channel) for channel in channels]\n",
    "    exvars = Input(shape=(6))\n",
    "    cnn_outputs = concatenate(cnn_stages)\n",
    "    all_outputs = concatenate([cnn_outputs,exvars])\n",
    "\n",
    "    dense_layers = Sequential(name='dense_layers')\n",
    "    dense_layers.add(Dense(units=128, use_bias=False))\n",
    "    dense_layers.add(Dense(units=64, use_bias=False))\n",
    "    dense_layers.add(Dense(units=1, activation='sigmoid'))\n",
    "\n",
    "    output = dense_layers(all_outputs)\n",
    "    return Model(inputs=[channels]+[exvars], outputs=output)"
   ]
  },
  {
   "cell_type": "code",
   "execution_count": 20,
   "metadata": {},
   "outputs": [],
   "source": [
    "def CNN(n_channels=3): \n",
    "    CNN_layers = Sequential(name='convolutional_layers')\n",
    "    CNN_layers.add(ZeroPadding2D((1,1),input_shape=(500, 60, 1)))\n",
    "    CNN_layers.add(Conv2D(filters=64, kernel_size=(3, 3), activation='relu'))\n",
    "    CNN_layers.add(ZeroPadding2D((1,1)))\n",
    "    CNN_layers.add(Conv2D(filters=64, kernel_size=(3, 3), activation='relu'))\n",
    "    CNN_layers.add(MaxPooling2D(pool_size=(2, 2), strides=(2,2)))\n",
    "\n",
    "    CNN_layers.add(ZeroPadding2D((1,1)))\n",
    "    CNN_layers.add(Conv2D(filters=128, kernel_size=(3, 3), activation='relu'))\n",
    "    CNN_layers.add(ZeroPadding2D((1,1)))\n",
    "    CNN_layers.add(Conv2D(filters=128, kernel_size=(3, 3), activation='relu'))\n",
    "    CNN_layers.add(MaxPooling2D(pool_size=(2, 2), strides=(2,2)))\n",
    "\n",
    "    CNN_layers.add(ZeroPadding2D((1,1)))\n",
    "    CNN_layers.add(Conv2D(filters=256, kernel_size=(3, 3), activation='relu'))\n",
    "    CNN_layers.add(ZeroPadding2D((1,1)))\n",
    "    CNN_layers.add(Conv2D(filters=256, kernel_size=(3, 3), activation='relu'))\n",
    "    CNN_layers.add(ZeroPadding2D((1,1)))\n",
    "    CNN_layers.add(Conv2D(filters=256, kernel_size=(3, 3), activation='relu'))\n",
    "    CNN_layers.add(MaxPooling2D(pool_size=(2, 2), strides=(2,2)))\n",
    "    \n",
    "    CNN_layers.add(ZeroPadding2D((1,1)))\n",
    "    CNN_layers.add(Conv2D(filters=512, kernel_size=(3, 3), activation='relu'))\n",
    "    CNN_layers.add(ZeroPadding2D((1,1)))\n",
    "    CNN_layers.add(Conv2D(filters=512, kernel_size=(3, 3), activation='relu'))\n",
    "    CNN_layers.add(ZeroPadding2D((1,1)))\n",
    "    CNN_layers.add(Conv2D(filters=512, kernel_size=(3, 3), activation='relu'))\n",
    "    CNN_layers.add(MaxPooling2D(pool_size=(2, 2), strides=(2,2)))\n",
    "\n",
    "    CNN_layers.add(ZeroPadding2D((1,1)))\n",
    "    CNN_layers.add(Conv2D(filters=512, kernel_size=(3, 3), activation='relu'))\n",
    "    CNN_layers.add(ZeroPadding2D((1,1)))\n",
    "    CNN_layers.add(Conv2D(filters=512, kernel_size=(3, 3), activation='relu'))\n",
    "    CNN_layers.add(ZeroPadding2D((1,1)))\n",
    "    CNN_layers.add(Conv2D(filters=512, kernel_size=(3, 3), activation='relu'))\n",
    "    CNN_layers.add(MaxPooling2D(pool_size=(2, 2), strides=(2,2)))\n",
    "    CNN_layers.add(Flatten())\n",
    "\n",
    "    channels = [Input(shape=(500, 60, 1)) for _ in range(n_channels)]\n",
    "    cnn_stages = [CNN_layers(channel) for channel in channels]\n",
    "    cnn_outputs = concatenate(cnn_stages)\n",
    "    \n",
    "    dense_layers1 = Sequential(name='dense_layers1')\n",
    "    dense_layers1.add(Dense(units=256, use_bias=False))\n",
    "    dense_layers1.add(Dense(units=128, use_bias=False))\n",
    "    dense_layers1.add(Dense(units=64, use_bias=False))\n",
    "\n",
    "    dense_output1 = dense_layers1(cnn_outputs)\n",
    "    \n",
    "    exvars = Input(shape=(6))\n",
    "    all_outputs = concatenate([dense_output1,exvars])\n",
    "\n",
    "    dense_layers2 = Sequential(name='dense_layers2')\n",
    "    dense_layers2.add(Dense(units=32, use_bias=False))\n",
    "    dense_layers2.add(Dense(units=16, use_bias=False))\n",
    "    dense_layers2.add(Dense(units=1, activation='sigmoid'))\n",
    "\n",
    "    output = dense_layers2(all_outputs)\n",
    "   \n",
    "    return Model(inputs=[channels]+[exvars], outputs=output)"
   ]
  },
  {
   "cell_type": "code",
   "execution_count": 21,
   "metadata": {},
   "outputs": [],
   "source": [
    "model = CNN()"
   ]
  },
  {
   "cell_type": "code",
   "execution_count": 22,
   "metadata": {},
   "outputs": [
    {
     "name": "stdout",
     "output_type": "stream",
     "text": [
      "Model: \"model_3\"\n",
      "__________________________________________________________________________________________________\n",
      "Layer (type)                    Output Shape         Param #     Connected to                     \n",
      "==================================================================================================\n",
      "input_21 (InputLayer)           [(None, 500, 60, 1)] 0                                            \n",
      "__________________________________________________________________________________________________\n",
      "input_22 (InputLayer)           [(None, 500, 60, 1)] 0                                            \n",
      "__________________________________________________________________________________________________\n",
      "input_23 (InputLayer)           [(None, 500, 60, 1)] 0                                            \n",
      "__________________________________________________________________________________________________\n",
      "convolutional_layers (Sequentia (None, 7680)         14713536    input_21[0][0]                   \n",
      "                                                                 input_22[0][0]                   \n",
      "                                                                 input_23[0][0]                   \n",
      "__________________________________________________________________________________________________\n",
      "concatenate_9 (Concatenate)     (None, 23040)        0           convolutional_layers[1][0]       \n",
      "                                                                 convolutional_layers[2][0]       \n",
      "                                                                 convolutional_layers[3][0]       \n",
      "__________________________________________________________________________________________________\n",
      "dense_layers1 (Sequential)      (None, 64)           5939200     concatenate_9[0][0]              \n",
      "__________________________________________________________________________________________________\n",
      "input_24 (InputLayer)           [(None, 6)]          0                                            \n",
      "__________________________________________________________________________________________________\n",
      "concatenate_10 (Concatenate)    (None, 70)           0           dense_layers1[0][0]              \n",
      "                                                                 input_24[0][0]                   \n",
      "__________________________________________________________________________________________________\n",
      "dense_layers2 (Sequential)      (None, 1)            2769        concatenate_10[0][0]             \n",
      "==================================================================================================\n",
      "Total params: 20,655,505\n",
      "Trainable params: 20,655,505\n",
      "Non-trainable params: 0\n",
      "__________________________________________________________________________________________________\n"
     ]
    }
   ],
   "source": [
    "model.summary()"
   ]
  },
  {
   "cell_type": "code",
   "execution_count": null,
   "metadata": {},
   "outputs": [],
   "source": []
  }
 ],
 "metadata": {
  "kernelspec": {
   "display_name": "Python 3",
   "language": "python",
   "name": "python3"
  },
  "language_info": {
   "codemirror_mode": {
    "name": "ipython",
    "version": 3
   },
   "file_extension": ".py",
   "mimetype": "text/x-python",
   "name": "python",
   "nbconvert_exporter": "python",
   "pygments_lexer": "ipython3",
   "version": "3.7.7"
  }
 },
 "nbformat": 4,
 "nbformat_minor": 4
}
