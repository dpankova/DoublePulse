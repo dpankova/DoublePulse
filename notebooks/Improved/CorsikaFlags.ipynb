{
 "cells": [
  {
   "cell_type": "code",
   "execution_count": 9,
   "metadata": {},
   "outputs": [],
   "source": [
    "import matplotlib as mpl\n",
    "import matplotlib.pyplot as plt\n",
    "import numpy as np"
   ]
  },
  {
   "cell_type": "code",
   "execution_count": 16,
   "metadata": {},
   "outputs": [],
   "source": [
    "data_c = np.load('/fastio2/dasha/double_pulse/MCTree_Corsika.npy', mmap_mode = 'r')\n",
    "data_n = np.load('/fastio2/dasha/double_pulse/MCTree_NuTau_HESECheck.npy', mmap_mode = 'r')"
   ]
  },
  {
   "cell_type": "code",
   "execution_count": 17,
   "metadata": {},
   "outputs": [
    {
     "name": "stdout",
     "output_type": "stream",
     "text": [
      "(7156067, 1) (6374299, 1)\n"
     ]
    }
   ],
   "source": [
    "print(data_c.shape,data_n.shape)"
   ]
  },
  {
   "cell_type": "code",
   "execution_count": 18,
   "metadata": {},
   "outputs": [
    {
     "data": {
      "text/plain": [
       "dtype([('id', [('run_id', '<u4'), ('sub_run_id', '<u4'), ('event_id', '<u4'), ('sub_event_id', '<u4')]), ('neutrino', [('tree_id', '<u4', (2,)), ('pdg', '<i4'), ('energy', '<f4'), ('position', '<f4', (3,)), ('direction', '<f4', (2,)), ('time', '<f4'), ('length', '<f4')]), ('nutau', [('tree_id', '<u4', (2,)), ('parent_id', '<u4', (2,)), ('pdg', '<i4'), ('parent_pdg', '<i4'), ('children_pdgs', '<i4', (10,)), ('energy', '<f4'), ('position', '<f4', (3,)), ('direction', '<f4', (2,)), ('time', '<f4'), ('length', '<f4')], (10,)), ('taus', [('tree_id', '<u4', (2,)), ('parent_id', '<u4', (2,)), ('pdg', '<i4'), ('parent_pdg', '<i4'), ('children_pdgs', '<i4', (10,)), ('energy', '<f4'), ('position', '<f4', (3,)), ('direction', '<f4', (2,)), ('time', '<f4'), ('length', '<f4')], (10,)), ('muons', [('tree_id', '<u4', (2,)), ('parent_id', '<u4', (2,)), ('pdg', '<i4'), ('parent_pdg', '<i4'), ('children_pdgs', '<i4', (10,)), ('energy', '<f4'), ('position', '<f4', (3,)), ('direction', '<f4', (2,)), ('time', '<f4'), ('length', '<f4')], (10,)), ('qst', '<f4'), ('qtot', '<f4'), ('hese_qtot', '<f4'), ('hese_vheselfveto', '?'), ('hese_llhratio', '<f4'), ('energy', '<f4', (3,)), ('pdg', '<f4', (3,)), ('weight', [('PrimaryNeutrinoAzimuth', '<f4'), ('TotalColumnDepthCGS', '<f4'), ('MaxAzimuth', '<f4'), ('SelectionWeight', '<f4'), ('InIceNeutrinoEnergy', '<f4'), ('PowerLawIndex', '<f4'), ('TotalPrimaryWeight', '<f4'), ('PrimaryNeutrinoZenith', '<f4'), ('TotalWeight', '<f4'), ('PropagationWeight', '<f4'), ('NInIceNus', '<f4'), ('TrueActiveLengthBefore', '<f4'), ('TypeWeight', '<f4'), ('PrimaryNeutrinoType', '<f4'), ('RangeInMeter', '<f4'), ('BjorkenY', '<f4'), ('MinZenith', '<f4'), ('InIceNeutrinoType', '<f4'), ('CylinderRadius', '<f4'), ('BjorkenX', '<f4'), ('InteractionPositionWeight', '<f4'), ('RangeInMWE', '<f4'), ('InteractionColumnDepthCGS', '<f4'), ('CylinderHeight', '<f4'), ('MinAzimuth', '<f4'), ('TotalXsectionCGS', '<f4'), ('OneWeightPerType', '<f4'), ('ImpactParam', '<f4'), ('InteractionType', '<f4'), ('TrueActiveLengthAfter', '<f4'), ('MaxZenith', '<f4'), ('InteractionXsectionCGS', '<f4'), ('PrimaryNeutrinoEnergy', '<f4'), ('DirectionWeight', '<f4'), ('InjectionAreaCGS', '<f4'), ('MinEnergyLog', '<f4'), ('SolidAngle', '<f4'), ('LengthInVolume', '<f4'), ('NEvents', '<u4'), ('OneWeight', '<f4'), ('MaxEnergyLog', '<f4'), ('InteractionWeight', '<f4'), ('EnergyLost', '<f4')]), ('qfiltermask', [('CascadeFilter_13', '?'), ('DeepCoreFilter_13', '?'), ('EHEAlertFilterHB_15', '?'), ('EHEAlertFilter_15', '?'), ('EstresAlertFilter_18', '?'), ('FSSCandidate_13', '?'), ('FSSFilter_13', '?'), ('FilterMinBias_13', '?'), ('FixedRateFilter_13', '?'), ('GFUFilter_17', '?'), ('HESEFilter_15', '?'), ('HighQFilter_17', '?'), ('I3DAQDecodeException', '?'), ('IceTopSTA3_13', '?'), ('IceTopSTA5_13', '?'), ('IceTop_InFill_STA2_17', '?'), ('IceTop_InFill_STA3_13', '?'), ('InIceSMT_IceTopCoincidence_13', '?'), ('LowUp_13', '?'), ('MESEFilter_15', '?'), ('MonopoleFilter_16', '?'), ('MoonFilter_13', '?'), ('MuonFilter_13', '?'), ('OnlineL2Filter_17', '?'), ('SDST_IceTopSTA3_13', '?'), ('SDST_IceTop_InFill_STA3_13', '?'), ('SDST_InIceSMT_IceTopCoincidence_13', '?'), ('ScintMinBias_16', '?'), ('SlopFilter_13', '?'), ('SunFilter_13', '?'), ('VEF_13', '?')]), ('keys', [('passed', '?'), ('header', '?'), ('raw_data', '?'), ('weights', '?'), ('mctree', '?'), ('cvstats', '?'), ('pulses', '?'), ('conventional', '?'), ('simtrimmer', '?'), ('filtermask', '?')])])"
      ]
     },
     "execution_count": 18,
     "metadata": {},
     "output_type": "execute_result"
    }
   ],
   "source": [
    "data_n.dtype"
   ]
  },
  {
   "cell_type": "code",
   "execution_count": 29,
   "metadata": {},
   "outputs": [],
   "source": [
    "mask_c_simtrim = data_c['keys']['simtrimmer'] == True\n",
    "mask_c_convent = data_c['keys']['conventional'] == True\n",
    "mask_c_filtermask = data_c['keys']['filtermask'] == True\n",
    "mask_c_rawdata = data_c['keys']['weights'] == True\n",
    "\n",
    "mask_n_simtrim = data_n['keys']['simtrimmer'] == True\n",
    "mask_n_convent = data_n['keys']['conventional'] == True\n",
    "mask_n_filtermask = data_n['keys']['filtermask'] == True\n",
    "mask_n_rawdata = data_n['keys']['weights'] == True"
   ]
  },
  {
   "cell_type": "code",
   "execution_count": 31,
   "metadata": {},
   "outputs": [
    {
     "name": "stdout",
     "output_type": "stream",
     "text": [
      "[[False]\n",
      " [False]\n",
      " [ True]\n",
      " ...\n",
      " [False]\n",
      " [ True]\n",
      " [False]]\n"
     ]
    }
   ],
   "source": [
    "print(data_c['keys']['weights'])"
   ]
  },
  {
   "cell_type": "code",
   "execution_count": 39,
   "metadata": {},
   "outputs": [
    {
     "name": "stdout",
     "output_type": "stream",
     "text": [
      "RAW DATA            Corsika =     33.60%, Genie =     77.38%\n",
      "SIM TRIMMER         Corsika =     33.11%, Genie =      0.00%\n",
      "PASSED CONVENTIONAL Corsika =      4.53%, Genie =     28.97%\n",
      "FILTERMASK          Corsika =    100.00%, Genie =    100.00%\n"
     ]
    }
   ],
   "source": [
    "print(\"RAW DATA            Corsika = {0:9.2f}%, Genie = {1:9.2f}%\".format(np.sum(mask_c_rawdata)/data_c.shape[0]*100,np.sum(mask_n_rawdata)/data_n.shape[0]*100))\n",
    "print(\"SIM TRIMMER         Corsika = {0:9.2f}%, Genie = {1:9.2f}%\".format(np.sum(mask_c_simtrim)/data_c.shape[0]*100,np.sum(mask_n_simtrim)/data_n.shape[0]*100))\n",
    "print(\"PASSED CONVENTIONAL Corsika = {0:9.2f}%, Genie = {1:9.2f}%\".format(np.sum(mask_c_convent)/data_c.shape[0]*100,np.sum(mask_n_convent)/data_n.shape[0]*100))\n",
    "print(\"FILTERMASK          Corsika = {0:9.2f}%, Genie = {1:9.2f}%\".format(np.sum(mask_c_filtermask)/data_c.shape[0]*100,np.sum(mask_n_filtermask)/data_n.shape[0]*100))"
   ]
  },
  {
   "cell_type": "markdown",
   "metadata": {},
   "source": [
    "def I3RawDataCleaner(frame):       \n",
    "    if not (('PassedConventional' in frame and frame['PassedConventional'].value == True) or ('SimTrimmer' in frame and frame['SimTrimmer'].value == True)):            \n",
    "        frame.Delete('InIceRawData')\n",
    "        frame.Delete('IceTopRawData')\n"
   ]
  },
  {
   "cell_type": "code",
   "execution_count": 40,
   "metadata": {},
   "outputs": [
    {
     "name": "stdout",
     "output_type": "stream",
     "text": [
      "DataClean          Corsika =     33.60%, Genie =     28.97%\n"
     ]
    }
   ],
   "source": [
    "mask_c_dataclean = mask_c_simtrim | mask_c_convent\n",
    "mask_n_dataclean = mask_n_simtrim | mask_n_convent\n",
    "\n",
    "print(\"DataClean          Corsika = {0:9.2f}%, Genie = {1:9.2f}%\".format(np.sum(mask_c_dataclean)/data_c.shape[0]*100,np.sum(mask_n_dataclean)/data_n.shape[0]*100))"
   ]
  },
  {
   "cell_type": "markdown",
   "metadata": {},
   "source": [
    "Data Clean = Raw Data in Corsika, In Genie SimTrimmer was probably deleted from the frame"
   ]
  },
  {
   "cell_type": "code",
   "execution_count": 43,
   "metadata": {},
   "outputs": [
    {
     "name": "stdout",
     "output_type": "stream",
     "text": [
      "Charge Cut          Corsika =      2.50%, Genie =     29.22%\n"
     ]
    }
   ],
   "source": [
    "#OUR CHARGE CUT\n",
    "mask_c_q = (data_c['qtot'] > 1000) & (data_c['qst'] > 400)\n",
    "mask_n_q = (data_n['qtot'] > 1000) & (data_n['qst'] > 400)\n",
    "print(\"Charge Cut          Corsika = {0:9.2f}%, Genie = {1:9.2f}%\".format(np.sum(mask_c_q)/data_c.shape[0]*100,np.sum(mask_n_q)/data_n.shape[0]*100))"
   ]
  },
  {
   "cell_type": "code",
   "execution_count": 45,
   "metadata": {},
   "outputs": [
    {
     "name": "stdout",
     "output_type": "stream",
     "text": [
      "Charge and RawData          Corsika =      2.50%, Genie =     29.22%\n"
     ]
    }
   ],
   "source": [
    "#OVERLAP of CHARGE CUT and RAW DATA\n",
    "mask_c_q_rd = mask_c_q & mask_c_rawdata\n",
    "mask_n_q_rd = mask_n_q & mask_n_rawdata\n",
    "print(\"Charge and RawData          Corsika = {0:9.2f}%, Genie = {1:9.2f}%\".format(np.sum(mask_c_q_rd)/data_c.shape[0]*100,np.sum(mask_n_q_rd)/data_n.shape[0]*100))"
   ]
  },
  {
   "cell_type": "markdown",
   "metadata": {},
   "source": [
    "Seems like the events that pass the charge cut have raw data"
   ]
  },
  {
   "cell_type": "code",
   "execution_count": 46,
   "metadata": {},
   "outputs": [
    {
     "name": "stdout",
     "output_type": "stream",
     "text": [
      "Charge and SimTrim          Corsika =      2.50%, Genie =      0.00%\n"
     ]
    }
   ],
   "source": [
    "#OVERLAP of CHARGE CUT and SIMTRIMMER\n",
    "mask_c_q_st = mask_c_q & mask_c_simtrim\n",
    "mask_n_q_st = mask_n_q & mask_n_simtrim\n",
    "print(\"Charge and SimTrim          Corsika = {0:9.2f}%, Genie = {1:9.2f}%\".format(np.sum(mask_c_q_st)/data_c.shape[0]*100,np.sum(mask_n_q_st)/data_n.shape[0]*100))"
   ]
  },
  {
   "cell_type": "code",
   "execution_count": 48,
   "metadata": {},
   "outputs": [
    {
     "name": "stdout",
     "output_type": "stream",
     "text": [
      "Charge and Conventional          Corsika =      2.29%, Genie =     27.68%\n"
     ]
    }
   ],
   "source": [
    "#OVERLAP of CHARGE CUT and CONVENTIONAL\n",
    "mask_c_q_con = mask_c_q & mask_c_convent\n",
    "mask_n_q_con = mask_n_q & mask_n_convent\n",
    "print(\"Charge and Conventional          Corsika = {0:9.2f}%, Genie = {1:9.2f}%\".format(np.sum(mask_c_q_con)/data_c.shape[0]*100,np.sum(mask_n_q_con)/data_n.shape[0]*100))"
   ]
  },
  {
   "cell_type": "markdown",
   "metadata": {},
   "source": [
    "What about all the other keys needed to make images?"
   ]
  },
  {
   "cell_type": "code",
   "execution_count": 51,
   "metadata": {},
   "outputs": [
    {
     "name": "stdout",
     "output_type": "stream",
     "text": [
      "Has all the keys          Corsika =     26.28%, Genie =     68.14%\n"
     ]
    }
   ],
   "source": [
    "mask_c_pass = data_c['keys']['passed'] == True\n",
    "mask_n_pass = data_n['keys']['passed'] == True\n",
    "print(\"Has all the keys          Corsika = {0:9.2f}%, Genie = {1:9.2f}%\".format(np.sum(mask_c_pass)/data_c.shape[0]*100,np.sum(mask_n_pass)/data_n.shape[0]*100))"
   ]
  },
  {
   "cell_type": "code",
   "execution_count": 52,
   "metadata": {},
   "outputs": [
    {
     "name": "stdout",
     "output_type": "stream",
     "text": [
      "Charge and All the Keys          Corsika =      2.50%, Genie =     29.22%\n"
     ]
    }
   ],
   "source": [
    "#OVERLAP of CHARGE CUT and ALL THE KEYS\n",
    "mask_c_q_k = mask_c_q & mask_c_pass\n",
    "mask_n_q_k = mask_n_q & mask_n_pass\n",
    "print(\"Charge and All the Keys          Corsika = {0:9.2f}%, Genie = {1:9.2f}%\".format(np.sum(mask_c_q_k)/data_c.shape[0]*100,np.sum(mask_n_q_k)/data_n.shape[0]*100))"
   ]
  },
  {
   "cell_type": "code",
   "execution_count": null,
   "metadata": {},
   "outputs": [],
   "source": [
    "fig = plt.figure(figsize=(5, 5),facecolor ='w')\n",
    "ax = fig.add_subplot(111)\n",
    "plt.rcParams.update({'font.size': 16})\n",
    "plt.ticklabel_format(axis='both', style='sci', scilimits=(-5,5))\n",
    "ax.set_xscale('linear')\n",
    "ax.set_yscale('log')\n",
    "ax.set_title(\"InteractionTypes\", fontsize = 16)\n",
    "ax.text(0.01,0.89,'#NuECC '+str(len(data_ec)), transform=ax.transAxes, color = \"black\",fontsize=12)\n",
    "\n",
    "ax.set_xlabel('Type', fontsize = 16)                                                              \n",
    "ax.set_ylabel(\"#Events\", fontsize = 16)                                                   \n",
    "ax.hist(data_e['weight']['InteractionType'])  \n",
    "plt.show()"
   ]
  }
 ],
 "metadata": {
  "kernelspec": {
   "display_name": "Python 3",
   "language": "python",
   "name": "python3"
  },
  "language_info": {
   "codemirror_mode": {
    "name": "ipython",
    "version": 3
   },
   "file_extension": ".py",
   "mimetype": "text/x-python",
   "name": "python",
   "nbconvert_exporter": "python",
   "pygments_lexer": "ipython3",
   "version": "3.7.7"
  }
 },
 "nbformat": 4,
 "nbformat_minor": 4
}
