{
 "cells": [
  {
   "cell_type": "code",
   "execution_count": 1,
   "metadata": {},
   "outputs": [],
   "source": [
    "from __future__ import division\n",
    "import matplotlib as mpl\n",
    "import matplotlib.pyplot as plt\n",
    "import numpy as np\n",
    "import glob"
   ]
  },
  {
   "cell_type": "code",
   "execution_count": 31,
   "metadata": {},
   "outputs": [],
   "source": [
    "data_t = np.load('/fastio2/dasha/double_pulse/data_tau_causality_NuTau_1_1_.npy',mmap_mode='r')\n",
    "data_m = np.load('/fastio2/dasha/double_pulse/data_11vars_NuMu_1_1_1.npy',mmap_mode='r')\n",
    "data_e = np.load('/fastio2/dasha/double_pulse/data_11vars_NuE_1_1_1.npy',mmap_mode='r')\n",
    "data_c = np.load('/fastio2/dasha/double_pulse/data_Corsika_10670_to_11865ch_w_dom.npy',mmap_mode='r')"
   ]
  },
  {
   "cell_type": "code",
   "execution_count": 32,
   "metadata": {},
   "outputs": [
    {
     "name": "stdout",
     "output_type": "stream",
     "text": [
      "(79858,)\n"
     ]
    }
   ],
   "source": [
    "print(data_c.shape)"
   ]
  },
  {
   "cell_type": "code",
   "execution_count": 33,
   "metadata": {},
   "outputs": [
    {
     "name": "stdout",
     "output_type": "stream",
     "text": [
      "214\n"
     ]
    }
   ],
   "source": [
    "N1 = 0.99\n",
    "N2 = 0.8\n",
    "masks_t = (data_t['preds']['n1'] >= N1) & (data_t['preds']['n4'] >= N2)\n",
    "masks_m = (data_m['preds']['n1'] >= N1) & (data_m['preds']['n4'] >= N2)\n",
    "masks_e = (data_e['preds']['n1'] >= N1) & (data_e['preds']['n4'] >= N2)\n",
    "masks_c = (data_c['preds']['n1'] >= N1) & (data_c['preds']['n4'] >= N2)\n",
    "print(sum(masks_c))"
   ]
  },
  {
   "cell_type": "code",
   "execution_count": 34,
   "metadata": {},
   "outputs": [
    {
     "name": "stdout",
     "output_type": "stream",
     "text": [
      "(79858,)\n"
     ]
    }
   ],
   "source": [
    "llh = -0.1\n",
    "maskl_t = data_t['logan_veto']['SPE_rlogl']-data_t['logan_veto']['Cascade_rlogl'] > llh\n",
    "maskl_m = data_m['logan_veto']['SPE_rlogl']-data_m['logan_veto']['Cascade_rlogl'] > llh\n",
    "maskl_e = data_e['logan_veto']['SPE_rlogl']-data_e['logan_veto']['Cascade_rlogl'] > llh\n",
    "maskl_c = data_c['logan_veto']['SPE_rlogl']-data_c['logan_veto']['Cascade_rlogl'] > llh\n",
    "data_t = data_t[maskl_t]\n",
    "data_m = data_m[maskl_m]\n",
    "data_e = data_e[maskl_e]\n",
    "data_c = data_c[maskl_c]\n",
    "print(data_c.shape)"
   ]
  },
  {
   "cell_type": "code",
   "execution_count": 35,
   "metadata": {},
   "outputs": [
    {
     "name": "stdout",
     "output_type": "stream",
     "text": [
      "214\n"
     ]
    }
   ],
   "source": [
    "N1 = 0.99\n",
    "N2 = 0.8\n",
    "masks_t = (data_t['preds']['n1'] >= N1) & (data_t['preds']['n4'] >= N2)\n",
    "masks_m = (data_m['preds']['n1'] >= N1) & (data_m['preds']['n4'] >= N2)\n",
    "masks_e = (data_e['preds']['n1'] >= N1) & (data_e['preds']['n4'] >= N2)\n",
    "masks_c = (data_c['preds']['n1'] >= N1) & (data_c['preds']['n4'] >= N2)\n",
    "print(sum(masks_c))"
   ]
  },
  {
   "cell_type": "code",
   "execution_count": 36,
   "metadata": {},
   "outputs": [
    {
     "name": "stdout",
     "output_type": "stream",
     "text": [
      "(79858,)\n"
     ]
    }
   ],
   "source": [
    "llh = -0.1\n",
    "maskl_t = data_t['logan_veto']['SPE_rlogl']-data_t['logan_veto']['Cascade_rlogl'] > llh\n",
    "maskl_m = data_m['logan_veto']['SPE_rlogl']-data_m['logan_veto']['Cascade_rlogl'] > llh\n",
    "maskl_e = data_e['logan_veto']['SPE_rlogl']-data_e['logan_veto']['Cascade_rlogl'] > llh\n",
    "maskl_c = data_c['logan_veto']['SPE_rlogl']-data_c['logan_veto']['Cascade_rlogl'] > llh\n",
    "data_t = data_t[maskl_t]\n",
    "data_m = data_m[maskl_m]\n",
    "data_e = data_e[maskl_e]\n",
    "data_c = data_c[maskl_c]\n",
    "print(data_c.shape)"
   ]
  },
  {
   "cell_type": "code",
   "execution_count": 52,
   "metadata": {},
   "outputs": [],
   "source": [
    "#Zpos = 425\n",
    "#maskz_c = data_c['logan_veto']['FirstHitZ'] < Zpos\n",
    "contain = 0 #10\n",
    "b = 480 #400\n",
    "m = 1/6 #-1./3.\n",
    "bottomz = -470 #-200\n",
    "bottome = 2 #75\n",
    "maskg_c = (data_c['logan_veto'][\"LeastDistanceToPolygon_Veto\"]>contain) &\\\n",
    "((data_c['logan_veto'][\"LeastDistanceToPolygon_Veto\"]>bottome) | (data_c['logan_veto']['VHESelfVetoVertexPosZ']>bottomz)) &\\\n",
    "((m * data_c['logan_veto'][\"LeastDistanceToPolygon_Veto\"] +data_c['logan_veto']['VHESelfVetoVertexPosZ']) < b)\n",
    "#for i in events[maskg_c]:\n",
    "#    #print(i['image'].shape)"
   ]
  },
  {
   "cell_type": "code",
   "execution_count": 53,
   "metadata": {},
   "outputs": [],
   "source": [
    "s = set()\n",
    "for i in data_c[masks_c & maskg_c]['primary']['energy'][:100]:\n",
    "    s.add(i)"
   ]
  },
  {
   "cell_type": "code",
   "execution_count": 54,
   "metadata": {},
   "outputs": [
    {
     "name": "stdout",
     "output_type": "stream",
     "text": [
      "{24290.219, 18722.006, 273124.78, 10248.092, 505384.7, 16266.161, 23944.84, 121772.2, 80556.08, 6512.234, 12146.273, 12437.589, 17365.086, 21911.896, 247610.38, 145563.95, 146236.72, 312670.22}\n"
     ]
    }
   ],
   "source": [
    "print(s)"
   ]
  },
  {
   "cell_type": "code",
   "execution_count": 55,
   "metadata": {},
   "outputs": [],
   "source": [
    "f1 = glob.glob('/home/dup193/work/double_pulse/data/images_3str/Corsika_11057/*')\n",
    "f2 = glob.glob('/home/dup193/work/double_pulse/data/images_3str/Corsika_11058/*')\n",
    "f3 = glob.glob('/home/dup193/work/double_pulse/data/images_3str/Corsika_10670/*')\n",
    "f4 = glob.glob('/home/dup193/work/double_pulse/data/images_3str/Corsika_11362/*')\n",
    "f5 = glob.glob('/home/dup193/work/double_pulse/data/images_3str/Corsika_11499/*')\n",
    "f6 = glob.glob('/home/dup193/work/double_pulse/data/images_3str/Corsika_11637/*')\n",
    "f7 = glob.glob('/home/dup193/work/double_pulse/data/images_3str/Corsika_11808/*')\n",
    "f8 = glob.glob('/home/dup193/work/double_pulse/data/images_3str/Corsika_11865/*')\n",
    "files_grabbed = f1+f2+f3+f4+f5+f6+f7+f8\n",
    "events = []\n",
    "for file_name in files_grabbed:\n",
    "    x = np.load(file_name, mmap_mode=\"r\")['arr_0']\n",
    "    for i in x:\n",
    "        #if i['primary']['energy'][0] == event['primary']['energy']:\n",
    "        #    print(file_name)\n",
    "        if i['primary']['energy'][0] in s:\n",
    "            events.append(i)"
   ]
  },
  {
   "cell_type": "code",
   "execution_count": 41,
   "metadata": {},
   "outputs": [],
   "source": [
    "events = []\n",
    "for file_name in glob.glob('/home/dup193/work/double_pulse/data/images_3str/tau_causality/*_data.npz'):\n",
    "    x = np.load(file_name, mmap_mode=\"r\")['arr_0']\n",
    "    for i in x:\n",
    "        #if i['primary']['energy'][0] == event['primary']['energy']:\n",
    "        #    print(file_name)\n",
    "        if i['primary']['energy'][0] in s:\n",
    "            events.append(i)"
   ]
  },
  {
   "cell_type": "code",
   "execution_count": 59,
   "metadata": {},
   "outputs": [
    {
     "name": "stdout",
     "output_type": "stream",
     "text": [
      "(4, 1)\n"
     ]
    }
   ],
   "source": [
    "events = np.array(events)\n",
    "print(events.shape)"
   ]
  },
  {
   "cell_type": "code",
   "execution_count": 57,
   "metadata": {},
   "outputs": [],
   "source": [
    "def check(event):\n",
    "    name= \"E{0}Q{1}\".format(event['primary']['energy'],event['qtot'])\n",
    "    data = np.load(file_name, mmap_mode=\"r\")['arr_0']\n",
    "    fig = plt.figure(figsize=(15, 5))\n",
    "    ax1 = fig.add_subplot(131)\n",
    "    #print(event['image'].shape)\n",
    "    ax1.imshow(event['image'][0,:,:,0], aspect='auto', cmap= 'gray')\n",
    "    ax2 = fig.add_subplot(132)\n",
    "    ax2.imshow(event['image'][0,:,:,1], aspect='auto', cmap= 'gray')\n",
    "    ax3 = fig.add_subplot(133)\n",
    "    ax3.imshow(event['image'][0,:,:,2], aspect='auto', cmap= 'gray')\n",
    "    plt.savefig(\"../Corsika_Images_GCut/\"+name+\".png\")"
   ]
  },
  {
   "cell_type": "code",
   "execution_count": 58,
   "metadata": {},
   "outputs": [
    {
     "data": {
      "image/png": "[encoded data removed]",
      "text/plain": [
       "<Figure size 1080x360 with 3 Axes>"
      ]
     },
     "metadata": {
      "needs_background": "light"
     },
     "output_type": "display_data"
    },
    {
     "data": {
      "image/png": "[encoded data removed]",
      "text/plain": [
       "<Figure size 1080x360 with 3 Axes>"
      ]
     },
     "metadata": {
      "needs_background": "light"
     },
     "output_type": "display_data"
    },
    {
     "data": {
      "image/png": "[encoded data removed]",
      "text/plain": [
       "<Figure size 1080x360 with 3 Axes>"
      ]
     },
     "metadata": {
      "needs_background": "light"
     },
     "output_type": "display_data"
    },
    {
     "data": {
      "image/png": "[encoded data removed]",
      "text/plain": [
       "<Figure size 1080x360 with 3 Axes>"
      ]
     },
     "metadata": {
      "needs_background": "light"
     },
     "output_type": "display_data"
    }
   ],
   "source": [
    "for i in events[:100]: check(i)"
   ]
  },
  {
   "cell_type": "code",
   "execution_count": 45,
   "metadata": {},
   "outputs": [],
   "source": [
    "Zpos = 425\n",
    "maskz_c = events['logan_veto']['FirstHitZ'] < Zpos\n",
    "contain = 0 #10\n",
    "b = 400\n",
    "m = -1./3.\n",
    "bottomz = -200\n",
    "bottome = 75\n",
    "maskg_c = (events['logan_veto'][\"LeastDistanceToPolygon_Veto\"]>contain) &\\\n",
    "((events['logan_veto'][\"LeastDistanceToPolygon_Veto\"]>bottome) | (events['logan_veto']['VHESelfVetoVertexPosZ']>bottomz)) &\\\n",
    "((m * events['logan_veto'][\"LeastDistanceToPolygon_Veto\"] +events['logan_veto']['VHESelfVetoVertexPosZ']) < b)\n",
    "#for i in events[maskg_c]:\n",
    "#    #print(i['image'].shape)"
   ]
  },
  {
   "cell_type": "code",
   "execution_count": 82,
   "metadata": {},
   "outputs": [
    {
     "name": "stdout",
     "output_type": "stream",
     "text": [
      "TEST\n",
      "[(0, 4294967295, 1651, 0)]  QTOT=  [1043.625]\n",
      "0.0 0.0 0.0\n",
      "PRIMARY\n",
      "[([1637250593,     939283], 13, 12146.273, [  233.70332, -3033.5022 ,  1949.3539 ], [0.8896165, 4.6929517], -1762.8712, 3878.6235)]\n",
      "[([3973641379,         70], -2000001001, 5340.6455, [ 286.3938 , -323.0734 , -248.17459], [0.8896165, 4.6929517], 9877.679, 0.)]\n",
      "COG=  [[ 268.0567  -298.4507  -250.02457]]\n",
      "MOI=  [31959294.]  LLHCUT=  [0.05494628]  W=  [0.06370654]\n",
      "ST_INFO\n",
      "[[(814.275, 12,     0.   ) ( 43.05 , 20, 15607.295)\n",
      "  ( 31.125, 13, 15664.13 )]]\n",
      "ST_INFO_all\n",
      "[[(814.275    , 12,      0.   ) ( 43.05     , 20,  15607.295)\n",
      "  ( 31.125    , 13,  15664.13 ) ( 26.95     , 19,  18591.361)\n",
      "  ( 23.975    ,  6,  15639.061) ( 13.375    , 11,  15567.956)\n",
      "  (  9.675    ,  5,  15585.587) (  6.85     , 28,  46898.414)\n",
      "  (  5.0750003, 80, 111173.766) (  5.025    , 32, 577986.2  )]]\n",
      "TI\n",
      "[[1.43392705e+04 2.34115839e-01 2.21743906e+04 2.47349512e+04]]\n",
      "MAP\n",
      "[((0, 4294967295, 1651, 0), 147, [19, 15, 12], 147, [19, 15, 12], 147, [19, 15, 12], 87, [17, 13, 10], 67, [3, 3, 3])]\n",
      "LOGAN\n",
      "[(7.7037706, 7.648824, 7.7037706, 7.648824, -233.45, -247.46675, 107.202736)]\n",
      "HESE\n",
      "[(-999.,  True, [-9999., -9999., -9999.], -999., -999.)]\n",
      "[(-999., False, [ 282.18   , -325.74   , -247.46675], 9958., -999.)]\n",
      "WEIGHT\n",
      "[0.06370654]\n",
      "[(0, 4294967295, 1651, 0)] [12146.273]\n"
     ]
    },
    {
     "data": {
      "image/png": "[encoded data removed]",
      "text/plain": [
       "<Figure size 1080x360 with 3 Axes>"
      ]
     },
     "metadata": {
      "needs_background": "light"
     },
     "output_type": "display_data"
    }
   ],
   "source": [
    "event  = events[maskg_c]\n",
    "check(event)\n",
    "\n",
    "print(\"TEST\")\n",
    "print(event['id'],\" QTOT= \", event['qtot'])\n",
    "print(np.sum(event['image'][:,:,0]),np.sum(event['image'][:,:,1]),np.sum(event['image'][:,:,2]))\n",
    "print('PRIMARY')\n",
    "print(event['primary'])\n",
    "print(event['prim_daughter'])\n",
    "print(\"COG= \",event['cog'])\n",
    "print(\"MOI= \",event['moi'],\" LLHCUT= \",event['llhcut'], \" W= \",event['weight_val'])\n",
    "print(\"ST_INFO\")\n",
    "print(event['qst'])\n",
    "print(\"ST_INFO_all\")\n",
    "print(event['qst_all'])\n",
    "print(\"TI\")\n",
    "print(event['ti'])\n",
    "print(\"MAP\")\n",
    "print(event['map'])\n",
    "print(\"LOGAN\")\n",
    "print(event['logan_veto'])\n",
    "print(\"HESE\")\n",
    "print(event['hese_old'])\n",
    "print(event['hese'])\n",
    "print(\"WEIGHT\")\n",
    "print(event['weight_val'])\n",
    "print(event['id'], event['primary']['energy'])"
   ]
  },
  {
   "cell_type": "code",
   "execution_count": null,
   "metadata": {},
   "outputs": [],
   "source": [
    "def Scatter2d_2(data_t1,data_t2,data_e1,data_e2,l1=[0,1],l2=[0,1], label1 =\"label\",label2=\"label\"):\n",
    "    fig, ax = plt.subplots(nrows=1, ncols=2,sharex = True,sharey=True, figsize=(20,10),facecolor ='w')\n",
    "  \n",
    "    plt.subplot(1,2,1)\n",
    "    ax1 = plt.gca()\n",
    "    ax1.set_xlim(l1)\n",
    "    ax1.set_ylim(l2)\n",
    "    ax1.set_title('Pass')\n",
    "    plt.scatter(data_t1,data_t2, c = 'g', s =0.9)\n",
    "    plt.xlabel(label1,  fontdict={'fontsize': 16, 'fontweight': 'medium'})\n",
    "    plt.ylabel(label2,  fontdict={'fontsize': 16, 'fontweight': 'medium'})\n",
    "    ax1.tick_params(axis='both', which='major', labelsize=10)\n",
    "    ax1.tick_params(axis='both', which='minor', labelsize=8)\n",
    "\n",
    "    plt.subplot(1,2,2)\n",
    "    ax2 = plt.gca()\n",
    "    ax2.set_xlim(l1)\n",
    "    ax2.set_ylim(l2)\n",
    "    ax2.set_title('NoPass')\n",
    "    plt.scatter(data_e1,data_e2, c = 'b', s =0.9)\n",
    "    plt.xlabel(label1,  fontdict={'fontsize': 16, 'fontweight': 'medium'})\n",
    "    #plt.ylabel(label2,  fontdict={'fontsize': 16, 'fontweight': 'medium'})\n",
    "    ax2.tick_params(axis='both', which='major', labelsize=10)\n",
    "    ax2.tick_params(axis='both', which='minor', labelsize=8)"
   ]
  }
 ],
 "metadata": {
  "kernelspec": {
   "display_name": "Python 3",
   "language": "python",
   "name": "python3"
  },
  "language_info": {
   "codemirror_mode": {
    "name": "ipython",
    "version": 3
   },
   "file_extension": ".py",
   "mimetype": "text/x-python",
   "name": "python",
   "nbconvert_exporter": "python",
   "pygments_lexer": "ipython3",
   "version": "3.7.7"
  }
 },
 "nbformat": 4,
 "nbformat_minor": 4
}
