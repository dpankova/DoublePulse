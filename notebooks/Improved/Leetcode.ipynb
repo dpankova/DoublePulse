{
 "cells": [
  {
   "cell_type": "code",
   "execution_count": 1,
   "metadata": {},
   "outputs": [],
   "source": [
    "#!/bin/python3\n",
    "\n",
    "import math\n",
    "import os\n",
    "import random\n",
    "import re\n",
    "import sys\n",
    "import profile\n",
    "\n",
    "# Complete the minimumSwaps function below.\n",
    "def minimumSwaps(arr):\n",
    "    n = 0\n",
    "    l =len(arr)\n",
    "    should_swap = [(arr[i] != i+1) for i in range(l)]\n",
    "    \n",
    "    if  not (any(should_swap) == True):\n",
    "        return n\n",
    "    \n",
    "    while (any(should_swap) == True):\n",
    "        for i in range(l):\n",
    "            if should_swap[i] == True:\n",
    "                j = arr[i]-1\n",
    "                if (arr[i] == j+1) and (arr[j] == i+1):\n",
    "                    arr[i], arr[j] = arr[j], arr[i]\n",
    "                    should_swap[i] = False\n",
    "                    should_swap[j] = False\n",
    "                    n +=1\n",
    "        \n",
    "                        \n",
    "        if any(should_swap):\n",
    "            i = should_swap.index(True)\n",
    "            j = arr[i]-1\n",
    "            temp = arr[i]\n",
    "            arr[i] = arr[j]\n",
    "            arr[j] = temp\n",
    "            should_swap[j] = False\n",
    "            n+=1\n",
    "    return n"
   ]
  },
  {
   "cell_type": "code",
   "execution_count": 21,
   "metadata": {},
   "outputs": [],
   "source": [
    "def Fun(arr):\n",
    "    N =10000\n",
    "    for i in range(N):\n",
    "        res = minimumSwaps(arr)"
   ]
  },
  {
   "cell_type": "code",
   "execution_count": 22,
   "metadata": {},
   "outputs": [
    {
     "name": "stdout",
     "output_type": "stream",
     "text": [
      "2\n",
      "         40005 function calls in 0.169 seconds\n",
      "\n",
      "   Ordered by: standard name\n",
      "\n",
      "   ncalls  tottime  percall  cumtime  percall filename:lineno(function)\n",
      "    10000    0.020    0.000    0.020    0.000 :0(any)\n",
      "        1    0.000    0.000    0.169    0.169 :0(exec)\n",
      "    10000    0.021    0.000    0.021    0.000 :0(len)\n",
      "        1    0.000    0.000    0.000    0.000 :0(setprofile)\n",
      "    10000    0.084    0.000    0.144    0.000 <ipython-input-18-6346a215a623>:11(minimumSwaps)\n",
      "    10000    0.019    0.000    0.019    0.000 <ipython-input-18-6346a215a623>:14(<listcomp>)\n",
      "        1    0.025    0.025    0.169    0.169 <ipython-input-21-4b3d23ab6eb3>:1(Fun)\n",
      "        1    0.000    0.000    0.169    0.169 <string>:1(<module>)\n",
      "        1    0.000    0.000    0.169    0.169 profile:0(Fun(arr))\n",
      "        0    0.000             0.000          profile:0(profiler)\n",
      "\n",
      "\n"
     ]
    }
   ],
   "source": [
    "arr = [4,3,2,1]\n",
    "res = minimumSwaps(arr)\n",
    "print(res)\n",
    "profile.run('Fun(arr)')"
   ]
  },
  {
   "cell_type": "code",
   "execution_count": 44,
   "metadata": {},
   "outputs": [
    {
     "name": "stdout",
     "output_type": "stream",
     "text": [
      "['A']\n",
      "['A', 'm']\n",
      "['A', 'm', 'a']\n",
      "['A', 'm', 'a', 'n']\n",
      "['A', 'm', 'a', 'n', 'a']\n",
      "['A', 'm', 'a', 'n', 'a', 'p']\n",
      "['A', 'm', 'a', 'n', 'a', 'p', 'l']\n",
      "['A', 'm', 'a', 'n', 'a', 'p', 'l', 'a']\n",
      "['A', 'm', 'a', 'n', 'a', 'p', 'l', 'a', 'n']\n",
      "['A', 'm', 'a', 'n', 'a', 'p', 'l', 'a', 'n', 'a']\n",
      "['A', 'm', 'a', 'n', 'a', 'p', 'l', 'a', 'n', 'a', 'c']\n",
      "['A', 'm', 'a', 'n', 'a', 'p', 'l', 'a', 'n', 'a', 'c', 'a']\n",
      "['A', 'm', 'a', 'n', 'a', 'p', 'l', 'a', 'n', 'a', 'c', 'a', 'n']\n",
      "['A', 'm', 'a', 'n', 'a', 'p', 'l', 'a', 'n', 'a', 'c', 'a', 'n', 'a']\n",
      "['A', 'm', 'a', 'n', 'a', 'p', 'l', 'a', 'n', 'a', 'c', 'a', 'n', 'a', 'l']\n",
      "['A', 'm', 'a', 'n', 'a', 'p', 'l', 'a', 'n', 'a', 'c', 'a', 'n', 'a', 'l', 'P']\n",
      "['A', 'm', 'a', 'n', 'a', 'p', 'l', 'a', 'n', 'a', 'c', 'a', 'n', 'a', 'l', 'P', 'a']\n",
      "['A', 'm', 'a', 'n', 'a', 'p', 'l', 'a', 'n', 'a', 'c', 'a', 'n', 'a', 'l', 'P', 'a', 'n']\n",
      "['A', 'm', 'a', 'n', 'a', 'p', 'l', 'a', 'n', 'a', 'c', 'a', 'n', 'a', 'l', 'P', 'a', 'n', 'a']\n",
      "['A', 'm', 'a', 'n', 'a', 'p', 'l', 'a', 'n', 'a', 'c', 'a', 'n', 'a', 'l', 'P', 'a', 'n', 'a', 'm']\n",
      "['A', 'm', 'a', 'n', 'a', 'p', 'l', 'a', 'n', 'a', 'c', 'a', 'n', 'a', 'l', 'P', 'a', 'n', 'a', 'm', 'a']\n",
      "A man, a plan, a canal: Panama amanaplanacanalpanama amanaplanacanalpanama\n"
     ]
    }
   ],
   "source": [
    "s =\"A man, a plan, a canal: Panama\"\n",
    "c = [] \n",
    "for i in s:\n",
    "    if i.isdigit() or i.isalpha():\n",
    "        c.append(i)\n",
    "        print(c)\n",
    "cs = \"\"\n",
    "cs = cs.join(c)\n",
    "cs = cs.lower()\n",
    "\n",
    "rc = cs[::-1]\n",
    "\n",
    "print(s,cs,rc)"
   ]
  },
  {
   "cell_type": "code",
   "execution_count": 61,
   "metadata": {},
   "outputs": [],
   "source": [
    "def myAtoi(s):\n",
    "    d = {\"0\":0,\"1\":1,\"2\":2,\"3\":3,\"4\":4,\"5\":5,\"6\":6,\"7\":7,\"8\":8,\"9\":9}\n",
    "    c = []\n",
    "    sign = 1\n",
    "    sign_read = False\n",
    "    dig_read = False\n",
    "    for i in s:\n",
    "        if (dig_read == False) and i.isspace():\n",
    "            print(\"a\")\n",
    "            continue\n",
    "        elif (dig_read == False) and (i == \"+\") and (sign_read == False):\n",
    "            print(\"b\")\n",
    "            sign_read = True\n",
    "            #print(sign_read)\n",
    "        elif (dig_read == False) and (i == \"-\") and (sign_read == False):\n",
    "            print(\"c\")\n",
    "            sign = -1\n",
    "            sign_read = True\n",
    "        elif (dig_read == False) and i.isdigit(): #or (i == \".\" and not i in c):\n",
    "            print(\"d\")\n",
    "            c.append(i)\n",
    "            dig_read = True\n",
    "        elif (dig_read == True) and i.isdigit():\n",
    "            print(\"e\")\n",
    "            c.append(i)\n",
    "        else:\n",
    "            print(\"f\")\n",
    "            break\n",
    "    if len(c) == 0:\n",
    "        return 0\n",
    "            \n",
    "    while c[0] == '0':\n",
    "        c.pop(0)\n",
    "        \n",
    "    if len(c) == 0:\n",
    "        return 0\n",
    "        \n",
    "    for i in range(len(c)):\n",
    "        c[i] = d[c[i]]*pow(10,(len(c)-1-i)) \n",
    "        \n",
    "    res =  sign*sum(c)\n",
    "    if res < -2**31:\n",
    "        res = -2**31\n",
    "    if res > 2**31-1:\n",
    "        res = 2**31-1\n",
    "        \n",
    "    return res"
   ]
  },
  {
   "cell_type": "code",
   "execution_count": 64,
   "metadata": {},
   "outputs": [
    {
     "name": "stdout",
     "output_type": "stream",
     "text": [
      "a\n",
      "a\n",
      "a\n",
      "c\n",
      "d\n",
      "e\n",
      "-42\n"
     ]
    }
   ],
   "source": [
    "print(myAtoi(\"   -42\"))"
   ]
  },
  {
   "cell_type": "code",
   "execution_count": 129,
   "metadata": {},
   "outputs": [],
   "source": [
    "def minimumBribes(q):\n",
    "    n =len(q)\n",
    "    tr = 0\n",
    "    check1 = [0,-2,-1]\n",
    "    bribed = any([q[i]-1 != i for i in range(n)])\n",
    "    if not bribed:\n",
    "        print(tr)\n",
    "        return\n",
    "    \n",
    "    for i in range(n):\n",
    "        oi = q[i]-1\n",
    "        if oi-i > 2:\n",
    "            print(\"Too chaotic\")\n",
    "            return\n",
    "        \n",
    "    while bribed:\n",
    "        print(q)\n",
    "        for i in range(n-1):\n",
    "            oi = q[i]-1\n",
    "            if oi-i == 1 and q[oi] == q[i]-1:\n",
    "                q[oi], q[i] = q[i], q[oi]\n",
    "                tr+=1\n",
    "        bribed = any([q[i]-1 != i for i in range(n)])\n",
    "        if bribed:\n",
    "            for i in range(n-2):\n",
    "                oi = q[i]-1\n",
    "                if oi-i == 2 and q[oi] == q[i]-1 and q[oi-1] == q[i]-2:\n",
    "                    q[oi], q[oi-1], q[i] = q[i], q[oi], q[oi-1]\n",
    "                    tr+=2\n",
    "                \n",
    "        bribed = any([q[i]-1 != i for i in range(n)])\n",
    "        if bribed:\n",
    "            rr = max([q[i] for i in range(n) if q[i]-1 != i])\n",
    "            i = q.index(rr)\n",
    "            oi = q[i]-1\n",
    "            q[i], q[i+1] = q[i+1], q[i]\n",
    "            tr+=1\n",
    "        print(q)\n",
    "        \n",
    "    print(tr)\n",
    "    return"
   ]
  },
  {
   "cell_type": "code",
   "execution_count": 175,
   "metadata": {},
   "outputs": [],
   "source": [
    "def minimumBribes(q):\n",
    "    n =len(q)\n",
    "    tr = 0\n",
    "\n",
    "    for i in range(n-1,-1,-1):\n",
    "        s = sum([q[i]> j for j in q[i:]])\n",
    "        if s > 2:\n",
    "            print(\"Too chaotic\")\n",
    "            return\n",
    "        tr+=s\n",
    "        \n",
    "    print(tr)\n",
    "    return"
   ]
  },
  {
   "cell_type": "code",
   "execution_count": 176,
   "metadata": {},
   "outputs": [
    {
     "name": "stdout",
     "output_type": "stream",
     "text": [
      "7\n"
     ]
    }
   ],
   "source": [
    "minimumBribes([1, 2, 5, 3, 7, 8, 6, 4])"
   ]
  },
  {
   "cell_type": "code",
   "execution_count": 173,
   "metadata": {},
   "outputs": [],
   "source": [
    "def minimumBribes(q):\n",
    "    tr = 0\n",
    "    \n",
    "    for i in range(n):\n",
    "        oi = q[i]-1\n",
    "        if oi-i > 2:\n",
    "            print(\"Too chaotic\")\n",
    "            return\n",
    "    \n",
    "    swap = True\n",
    "    i = 0\n",
    "    while swap:\n",
    "        i+=1\n",
    "        swap =False\n",
    "        for j in range(n-i):\n",
    "            if q[j] > q[j+1]:\n",
    "                q[j], q[j+1] = q[j+1], q[j]\n",
    "                tr+=1\n",
    "                swap =True\n",
    "    print(tr)\n",
    "    return"
   ]
  },
  {
   "cell_type": "code",
   "execution_count": 174,
   "metadata": {},
   "outputs": [
    {
     "name": "stdout",
     "output_type": "stream",
     "text": [
      "1\n"
     ]
    }
   ],
   "source": [
    "minimumBribes([1, 2, 5, 3, 7, 8, 6, 4])"
   ]
  },
  {
   "cell_type": "code",
   "execution_count": 171,
   "metadata": {},
   "outputs": [],
   "source": [
    "def minimumBribes(q):\n",
    "    n =len(q)\n",
    "    tr = 0\n",
    "    \n",
    "    if not any([q[i]-1 != i for i in range(n)]):\n",
    "        print(tr)\n",
    "        return\n",
    "    \n",
    "    for i in range(n):\n",
    "        oi = q[i]-1\n",
    "        if oi-i > 2:\n",
    "            print(\"Too chaotic\")\n",
    "            return\n",
    "    \n",
    "     \n",
    "    while i>1:\n",
    "        i = n\n",
    "        idx = q.index(i)\n",
    "        print(i, idx)\n",
    "        if not q[idx]-1 == idx:\n",
    "            q[idx], q[idx+1] = q[idx+1], q[idx]\n",
    "            tr+=1\n",
    "        else:\n",
    "            i-=1\n",
    "        print(q)\n",
    "    print(tr)\n",
    "    return"
   ]
  },
  {
   "cell_type": "code",
   "execution_count": 21,
   "metadata": {},
   "outputs": [],
   "source": [
    "def Fun(arr):\n",
    "    N =10000\n",
    "    for i in range(N):\n",
    "        res = minimumBribes([1, 2, 5, 3, 7, 8, 6, 4])"
   ]
  },
  {
   "cell_type": "code",
   "execution_count": 142,
   "metadata": {},
   "outputs": [
    {
     "name": "stdout",
     "output_type": "stream",
     "text": [
      "2\n",
      "         40005 function calls in 0.177 seconds\n",
      "\n",
      "   Ordered by: standard name\n",
      "\n",
      "   ncalls  tottime  percall  cumtime  percall filename:lineno(function)\n",
      "    10000    0.021    0.000    0.021    0.000 :0(any)\n",
      "        1    0.000    0.000    0.177    0.177 :0(exec)\n",
      "    10000    0.022    0.000    0.022    0.000 :0(len)\n",
      "        1    0.000    0.000    0.000    0.000 :0(setprofile)\n",
      "    10000    0.089    0.000    0.151    0.000 <ipython-input-18-6346a215a623>:11(minimumSwaps)\n",
      "    10000    0.019    0.000    0.019    0.000 <ipython-input-18-6346a215a623>:14(<listcomp>)\n",
      "        1    0.026    0.026    0.177    0.177 <ipython-input-21-4b3d23ab6eb3>:1(Fun)\n",
      "        1    0.000    0.000    0.177    0.177 <string>:1(<module>)\n",
      "        1    0.000    0.000    0.177    0.177 profile:0(Fun(arr))\n",
      "        0    0.000             0.000          profile:0(profiler)\n",
      "\n",
      "\n"
     ]
    }
   ],
   "source": [
    "arr = [4,3,2,1]\n",
    "res = minimumSwaps(arr)\n",
    "print(res)\n",
    "profile.run('Fun(arr)')"
   ]
  },
  {
   "cell_type": "code",
   "execution_count": 143,
   "metadata": {},
   "outputs": [
    {
     "ename": "UnboundLocalError",
     "evalue": "local variable 'bribed' referenced before assignment",
     "output_type": "error",
     "traceback": [
      "\u001b[0;31m---------------------------------------------------------------------------\u001b[0m",
      "\u001b[0;31mUnboundLocalError\u001b[0m                         Traceback (most recent call last)",
      "\u001b[0;32m<ipython-input-143-166620430228>\u001b[0m in \u001b[0;36m<module>\u001b[0;34m\u001b[0m\n\u001b[0;32m----> 1\u001b[0;31m \u001b[0mminimumBribes\u001b[0m\u001b[0;34m(\u001b[0m\u001b[0;34m[\u001b[0m\u001b[0;36m1\u001b[0m\u001b[0;34m,\u001b[0m \u001b[0;36m2\u001b[0m\u001b[0;34m,\u001b[0m \u001b[0;36m5\u001b[0m\u001b[0;34m,\u001b[0m \u001b[0;36m3\u001b[0m\u001b[0;34m,\u001b[0m \u001b[0;36m7\u001b[0m\u001b[0;34m,\u001b[0m \u001b[0;36m8\u001b[0m\u001b[0;34m,\u001b[0m \u001b[0;36m6\u001b[0m\u001b[0;34m,\u001b[0m \u001b[0;36m4\u001b[0m\u001b[0;34m]\u001b[0m\u001b[0;34m)\u001b[0m\u001b[0;34m\u001b[0m\u001b[0;34m\u001b[0m\u001b[0m\n\u001b[0m",
      "\u001b[0;32m<ipython-input-141-db146f458d30>\u001b[0m in \u001b[0;36mminimumBribes\u001b[0;34m(q)\u001b[0m\n\u001b[1;32m     13\u001b[0m             \u001b[0;32mreturn\u001b[0m\u001b[0;34m\u001b[0m\u001b[0;34m\u001b[0m\u001b[0m\n\u001b[1;32m     14\u001b[0m \u001b[0;34m\u001b[0m\u001b[0m\n\u001b[0;32m---> 15\u001b[0;31m     \u001b[0;32mwhile\u001b[0m \u001b[0mbribed\u001b[0m\u001b[0;34m:\u001b[0m\u001b[0;34m\u001b[0m\u001b[0;34m\u001b[0m\u001b[0m\n\u001b[0m\u001b[1;32m     16\u001b[0m         \u001b[0mrr\u001b[0m \u001b[0;34m=\u001b[0m \u001b[0mmax\u001b[0m\u001b[0;34m(\u001b[0m\u001b[0;34m[\u001b[0m\u001b[0mq\u001b[0m\u001b[0;34m[\u001b[0m\u001b[0mi\u001b[0m\u001b[0;34m]\u001b[0m \u001b[0;32mfor\u001b[0m \u001b[0mi\u001b[0m \u001b[0;32min\u001b[0m \u001b[0mrange\u001b[0m\u001b[0;34m(\u001b[0m\u001b[0mn\u001b[0m\u001b[0;34m)\u001b[0m \u001b[0;32mif\u001b[0m \u001b[0mq\u001b[0m\u001b[0;34m[\u001b[0m\u001b[0mi\u001b[0m\u001b[0;34m]\u001b[0m\u001b[0;34m-\u001b[0m\u001b[0;36m1\u001b[0m \u001b[0;34m!=\u001b[0m \u001b[0mi\u001b[0m\u001b[0;34m]\u001b[0m\u001b[0;34m)\u001b[0m\u001b[0;34m\u001b[0m\u001b[0;34m\u001b[0m\u001b[0m\n\u001b[1;32m     17\u001b[0m         \u001b[0mi\u001b[0m \u001b[0;34m=\u001b[0m \u001b[0mq\u001b[0m\u001b[0;34m.\u001b[0m\u001b[0mindex\u001b[0m\u001b[0;34m(\u001b[0m\u001b[0mrr\u001b[0m\u001b[0;34m)\u001b[0m\u001b[0;34m\u001b[0m\u001b[0;34m\u001b[0m\u001b[0m\n",
      "\u001b[0;31mUnboundLocalError\u001b[0m: local variable 'bribed' referenced before assignment"
     ]
    }
   ],
   "source": [
    "minimumBribes([1, 2, 5, 3, 7, 8, 6, 4])"
   ]
  },
  {
   "cell_type": "code",
   "execution_count": 140,
   "metadata": {},
   "outputs": [
    {
     "name": "stdout",
     "output_type": "stream",
     "text": [
      "0\n",
      "         43 function calls in 0.001 seconds\n",
      "\n",
      "   Ordered by: standard name\n",
      "\n",
      "   ncalls  tottime  percall  cumtime  percall filename:lineno(function)\n",
      "        3    0.000    0.000    0.000    0.000 :0(acquire)\n",
      "        1    0.000    0.000    0.000    0.000 :0(any)\n",
      "        3    0.000    0.000    0.000    0.000 :0(append)\n",
      "        1    0.000    0.000    0.001    0.001 :0(exec)\n",
      "        2    0.000    0.000    0.000    0.000 :0(getpid)\n",
      "        2    0.000    0.000    0.000    0.000 :0(isinstance)\n",
      "        1    0.000    0.000    0.000    0.000 :0(len)\n",
      "        1    0.000    0.000    0.000    0.000 :0(print)\n",
      "        1    0.000    0.000    0.000    0.000 :0(setprofile)\n",
      "        1    0.000    0.000    0.000    0.000 <ipython-input-138-4b7f1a35304f>:1(minimumBribes)\n",
      "        1    0.000    0.000    0.000    0.000 <ipython-input-138-4b7f1a35304f>:5(<listcomp>)\n",
      "        1    0.000    0.000    0.000    0.000 <string>:1(<module>)\n",
      "        3    0.000    0.000    0.000    0.000 iostream.py:197(schedule)\n",
      "        2    0.000    0.000    0.000    0.000 iostream.py:309(_is_master_process)\n",
      "        2    0.000    0.000    0.000    0.000 iostream.py:322(_schedule_flush)\n",
      "        2    0.000    0.000    0.000    0.000 iostream.py:384(write)\n",
      "        3    0.000    0.000    0.000    0.000 iostream.py:93(_event_pipe)\n",
      "        1    0.000    0.000    0.001    0.001 profile:0(minimumBribes(arr))\n",
      "        0    0.000             0.000          profile:0(profiler)\n",
      "        3    0.000    0.000    0.000    0.000 socket.py:342(send)\n",
      "        3    0.000    0.000    0.000    0.000 threading.py:1050(_wait_for_tstate_lock)\n",
      "        3    0.000    0.000    0.000    0.000 threading.py:1092(is_alive)\n",
      "        3    0.000    0.000    0.000    0.000 threading.py:507(is_set)\n",
      "\n",
      "\n"
     ]
    }
   ],
   "source": [
    "profile.run('minimumBribes(arr)')"
   ]
  },
  {
   "cell_type": "code",
   "execution_count": 210,
   "metadata": {},
   "outputs": [],
   "source": [
    "def arrayManipulation(n, queries):\n",
    "    arr = [0]*n\n",
    "    print(arr)\n",
    "    for i in queries:\n",
    "        inp = [i[2]]*(i[1]-i[0]+1)\n",
    "        if sum(arr[i[0]-1:i[1]]) == 0:\n",
    "            arr[i[0]-1:i[1]] = inp\n",
    "        else:\n",
    "            for j,v in enumerate(inp):\n",
    "                print(arr[i[0]-1:i[1]],j,v)\n",
    "                arr[i[0]-1+j] += v \n",
    "                print(arr)\n",
    "    return arr"
   ]
  },
  {
   "cell_type": "code",
   "execution_count": 211,
   "metadata": {},
   "outputs": [
    {
     "name": "stdout",
     "output_type": "stream",
     "text": [
      "[0, 0, 0, 0, 0]\n",
      "[100, 0, 0, 0] 0 100\n",
      "[100, 200, 0, 0, 0]\n",
      "[200, 0, 0, 0] 1 100\n",
      "[100, 200, 100, 0, 0]\n",
      "[200, 100, 0, 0] 2 100\n",
      "[100, 200, 100, 100, 0]\n",
      "[200, 100, 100, 0] 3 100\n",
      "[100, 200, 100, 100, 100]\n",
      "[100, 100] 0 100\n",
      "[100, 200, 200, 100, 100]\n",
      "[200, 100] 1 100\n",
      "[100, 200, 200, 200, 100]\n",
      "[100, 200, 200, 200, 100]\n"
     ]
    }
   ],
   "source": [
    "i =5\n",
    "q= [[1, 2, 100],[2, 5, 100],[3, 4, 100]]\n",
    "print(arrayManipulation(i,q))"
   ]
  },
  {
   "cell_type": "code",
   "execution_count": 216,
   "metadata": {},
   "outputs": [],
   "source": [
    "def checkMagazine(magazine, note):\n",
    "    d = {}\n",
    "    for i in magazine:\n",
    "        if not i in d:\n",
    "            d[i] =1\n",
    "        else:\n",
    "            d[i] += 1\n",
    "            \n",
    "    yes = True\n",
    "    for i in note:\n",
    "        if not i in d:\n",
    "            yes =False\n",
    "    return yes "
   ]
  },
  {
   "cell_type": "code",
   "execution_count": 217,
   "metadata": {},
   "outputs": [
    {
     "name": "stdout",
     "output_type": "stream",
     "text": [
      "True\n"
     ]
    }
   ],
   "source": [
    "m = ['give', 'me', 'one', 'grand' ,'today', 'night']\n",
    "n = ['give', 'one', 'grand' ,'today']\n",
    "print(checkMagazine(m,n))"
   ]
  },
  {
   "cell_type": "code",
   "execution_count": 254,
   "metadata": {},
   "outputs": [],
   "source": [
    "def strStr(haystack,needle):\n",
    "        l = len(needle)\n",
    "        if l == 0:\n",
    "            return 0\n",
    "        \n",
    "        i = 0\n",
    "        while not haystack[i:i+l] == needle:\n",
    "            if i+l == len(haystack):\n",
    "                i =0\n",
    "                break\n",
    "            i+=1\n",
    "        \n",
    "        pos = -1 if i == 0 else i\n",
    "        return pos"
   ]
  },
  {
   "cell_type": "code",
   "execution_count": 255,
   "metadata": {},
   "outputs": [
    {
     "name": "stdout",
     "output_type": "stream",
     "text": [
      "-1\n"
     ]
    }
   ],
   "source": [
    "h = \"hemmo\"\n",
    "n = \"ll\"\n",
    "print(strStr(h,n))"
   ]
  },
  {
   "cell_type": "code",
   "execution_count": 332,
   "metadata": {},
   "outputs": [],
   "source": [
    "def countAndSay(n):\n",
    "        if n == 1:\n",
    "            s = \"1\"\n",
    "            return s\n",
    "        else:\n",
    "            s = countAndSay(n-1)\n",
    "            \n",
    "            print(s)\n",
    "            temp = []\n",
    "            j = 0\n",
    "            for i in range(0,len(s)):\n",
    "                if s[i] != s[j] or i == len(s)-1:\n",
    "                    print(j,i)\n",
    "                    temp.append(str(i-j+1))\n",
    "                    temp.append(s[j])\n",
    "                    j = i\n",
    "                \n",
    "            news = \"\".join(temp)\n",
    "        \n",
    "            return news"
   ]
  },
  {
   "cell_type": "code",
   "execution_count": 335,
   "metadata": {},
   "outputs": [
    {
     "name": "stdout",
     "output_type": "stream",
     "text": [
      "1\n",
      "0 0\n",
      "11\n",
      "0 1\n",
      "21\n",
      "0 1\n",
      "22\n"
     ]
    }
   ],
   "source": [
    "n = 4\n",
    "print(countAndSay(n))"
   ]
  },
  {
   "cell_type": "code",
   "execution_count": 350,
   "metadata": {},
   "outputs": [],
   "source": [
    "def sherlockAndAnagrams(s):\n",
    "    d = {}\n",
    "    l = len(s)\n",
    "    for i in range(1,l):\n",
    "        for j in range(l-i+1):\n",
    "           # print(i,j)\n",
    "            temp  = \"\".join(sorted(s[j:j+i]))\n",
    "            if not temp in d:\n",
    "                d[temp] = [s[j:j+i]]\n",
    "            else:\n",
    "                d[temp].append(s[j:j+i])\n",
    "    print(d)\n",
    "    pairs = 0 \n",
    "    for k,v in d.items():\n",
    "        if len(v) >1:\n",
    "            pairs += math.factorial(len(v))/(2*math.factorial(len(v)-2))\n",
    "    return pairs"
   ]
  },
  {
   "cell_type": "code",
   "execution_count": 352,
   "metadata": {},
   "outputs": [
    {
     "name": "stdout",
     "output_type": "stream",
     "text": [
      "{'c': ['c', 'c'], 'd': ['d', 'd'], 'cd': ['cd', 'dc', 'cd'], 'ccd': ['cdc'], 'cdd': ['dcd']}\n",
      "5.0\n"
     ]
    }
   ],
   "source": [
    "n = \"cdcd\"\n",
    "print(sherlockAndAnagrams(n))"
   ]
  },
  {
   "cell_type": "code",
   "execution_count": 10,
   "metadata": {},
   "outputs": [],
   "source": [
    "def countTriplets(arr, r):\n",
    "    tr = 0\n",
    "    d = {}\n",
    "    dr = {}\n",
    "    drr  = {}\n",
    "\n",
    "    for i in range(len(arr)-1,-1,-1):\n",
    "        if (not i >= len(arr)-2) and (arr[i]*r*r in drr):\n",
    "            if arr[i]*r in dr:\n",
    "                if not arr[i] in d:\n",
    "                    d[arr[i]] = dr[arr[i]*r]\n",
    "                else:\n",
    "                    d[arr[i]] += dr[arr[i]*r]\n",
    "        \n",
    "        if (not i == len(arr)-1) and (arr[i]*r in drr):\n",
    "            if not arr[i] in dr:\n",
    "                dr[arr[i]] = drr[arr[i]*r]\n",
    "            else:\n",
    "                dr[arr[i]] += drr[arr[i]*r]\n",
    "              \n",
    "        if not arr[i] in drr:\n",
    "            drr[arr[i]] = 1\n",
    "        else:\n",
    "            drr[arr[i]] += 1\n",
    "           \n",
    "    \n",
    "    return sum(d.values())"
   ]
  },
  {
   "cell_type": "code",
   "execution_count": 11,
   "metadata": {},
   "outputs": [
    {
     "name": "stdout",
     "output_type": "stream",
     "text": [
      "161700\n"
     ]
    }
   ],
   "source": [
    "n = [1, 1, 1, 1, 1, 1, 1, 1, 1, 1, 1, 1, 1, 1, 1, 1, 1, 1, 1, 1, 1, 1, 1, 1, 1, 1, 1, 1, 1, 1, 1, 1, 1, 1, 1, 1, 1, 1, 1, 1, 1, 1, 1, 1, 1, 1, 1, 1, 1, 1, 1, 1, 1, 1, 1, 1, 1, 1, 1, 1, 1, 1, 1, 1, 1, 1, 1, 1, 1, 1, 1, 1, 1, 1, 1, 1, 1, 1, 1, 1, 1, 1, 1, 1, 1, 1, 1, 1, 1, 1, 1, 1, 1, 1, 1, 1, 1, 1, 1, 1]\n",
    "#n = [1,10,100]*2\n",
    "#n = [1, 2, 2, 4]\n",
    "#n = [1, 3, 9, 9, 27, 81]\n",
    "r = 1\n",
    "print(countTriplets(n,r))"
   ]
  },
  {
   "cell_type": "code",
   "execution_count": null,
   "metadata": {},
   "outputs": [],
   "source": [
    " d = 0\n",
    "    s = set(arr)\n",
    "    for i in range(len(arr)-2):\n",
    "        v = arr[i]*r\n",
    "        if v in s and v*r in s:\n",
    "            for j in range(i+1,len(arr)-1):\n",
    "                if v == arr[j]:\n",
    "                    d += sum([1 for k in range(j+1,len(arr)) if v*r == arr[k]])\n",
    "    return d "
   ]
  },
  {
   "cell_type": "code",
   "execution_count": null,
   "metadata": {},
   "outputs": [],
   "source": [
    "count = 1\n",
    "        maxcounts = []\n",
    "        node = root\n",
    "        rights = []\n",
    "        if not root:\n",
    "            return 0\n",
    "        if not root.left and not root.right:\n",
    "            return 1\n",
    "        while root.left or root.right or len(rights) !=0:\n",
    "            #print(count)\n",
    "            if root.left:\n",
    "                count+=1         \n",
    "                if root.right:\n",
    "                    rights.append([root.right,count])\n",
    "                root = root.left\n",
    "                maxcounts.append(count)\n",
    "            elif root.right:\n",
    "                count+=1         \n",
    "                root = root.right\n",
    "                maxcounts.append(count)\n",
    "            else:\n",
    "                backup = rights.pop()\n",
    "                root = backup[0]\n",
    "                maxcounts.append(count)\n",
    "                count = backup[1]\n",
    "        print(maxcounts)\n",
    "        return(max(maxcounts))"
   ]
  },
  {
   "cell_type": "code",
   "execution_count": null,
   "metadata": {},
   "outputs": [],
   "source": [
    "def checknodel(node,val, first = False):\n",
    "    flag1 = True\n",
    "    flag2 = True\n",
    "    \n",
    "    if node.left:\n",
    "        flag1 = False\n",
    "        if node.left.val < node.val:\n",
    "            flag1 = True\n",
    "    \n",
    "    if node.right:\n",
    "        flag2 = False\n",
    "        if first:\n",
    "            if node.right.val > node.val:\n",
    "                flag2 = True\n",
    "        else:\n",
    "            if node.right.val > node.val and node.right.val < val:\n",
    "                flag2 = True\n",
    "    \n",
    "    if flag1 and flag2:\n",
    "        return True\n",
    "    else:\n",
    "        return False\n",
    "\n",
    "def checknoder(node,val, first = False):\n",
    "    flag1 = True\n",
    "    flag2 = True\n",
    "    \n",
    "    if node.left:\n",
    "        flag1 = False\n",
    "        if first:\n",
    "            if node.left.val < node.val:\n",
    "                flag1 = True\n",
    "        else:\n",
    "            if node.left.val < node.val and node.left.val > val:\n",
    "                flag1 = True\n",
    "        \n",
    "    if node.right:\n",
    "        flag2 = False\n",
    "        if node.right.val > node.val:\n",
    "            flag2 = True\n",
    "    \n",
    "    if flag1 and flag2:\n",
    "        return True\n",
    "    else:\n",
    "        return False\n",
    "\n",
    "class Solution:\n",
    "    def isValidBST(self, root: TreeNode) -> bool:\n",
    "        rights = []\n",
    "        if not root:\n",
    "            return True\n",
    "        if not root.left and not root.right:\n",
    "            return True\n",
    "        val = root.val\n",
    "        flag1 = checknodel(root,val,first = True)\n",
    "        flag2 = checknoder(root,val,first = True)\n",
    "        if not flag1 or not flag2:\n",
    "            return False\n",
    "        left = False\n",
    "        if root.left:\n",
    "            if root.right:\n",
    "                rights.append([root.right,val,left])\n",
    "            root = root.left\n",
    "            left = True\n",
    "        elif root.right:\n",
    "            root = root.right\n",
    "            \n",
    "        print(root,rights)\n",
    "        while root.left or root.right or len(rights):\n",
    "            node = root\n",
    "            print(root,val,left)\n",
    "            if left:\n",
    "                flag = checknodel(root,val)\n",
    "            else:\n",
    "                flag = checknoder(root,val)\n",
    "            print(flag)\n",
    "            if not flag:\n",
    "                return False           \n",
    "            if root.left:\n",
    "                if root.right:\n",
    "                    rights.append([root.right,val,left])\n",
    "                root = root.left\n",
    "                left = True\n",
    "                val = node.val\n",
    "            elif root.right:\n",
    "                root = root.right\n",
    "                left = False\n",
    "                val = node.val\n",
    "            else:\n",
    "                backup = rights.pop()\n",
    "                root = backup[0]\n",
    "                val = backup[1]\n",
    "                left = backup[2]\n",
    "            \n",
    "        return True"
   ]
  },
  {
   "cell_type": "code",
   "execution_count": 12,
   "metadata": {},
   "outputs": [],
   "source": [
    "import re"
   ]
  },
  {
   "cell_type": "code",
   "execution_count": 18,
   "metadata": {},
   "outputs": [
    {
     "name": "stdout",
     "output_type": "stream",
     "text": [
      "['', 'data', 'sim', 'IceCube', '2012', 'filtered', 'level2', 'CORSIKA-in-ice', '11057', '00000-00999', 'Level2_IC86', '2012_corsika', '011057', '000019', 'i3', 'bz2']\n"
     ]
    }
   ],
   "source": [
    "file = '/data/sim/IceCube/2012/filtered/level2/CORSIKA-in-ice/11057/00000-00999/Level2_IC86.2012_corsika.011057.000019.i3.bz2'\n",
    "print(re.split('\\.|/',file))"
   ]
  },
  {
   "cell_type": "code",
   "execution_count": 19,
   "metadata": {},
   "outputs": [
    {
     "ename": "SyntaxError",
     "evalue": "invalid syntax (<ipython-input-19-ff2b88b56117>, line 1)",
     "output_type": "error",
     "traceback": [
      "\u001b[0;36m  File \u001b[0;32m\"<ipython-input-19-ff2b88b56117>\"\u001b[0;36m, line \u001b[0;32m1\u001b[0m\n\u001b[0;31m    ss Solution:\u001b[0m\n\u001b[0m              ^\u001b[0m\n\u001b[0;31mSyntaxError\u001b[0m\u001b[0;31m:\u001b[0m invalid syntax\n"
     ]
    }
   ],
   "source": [
    "ss Solution:\n",
    "    def rob(self, nums: List[int]) -> int:\n",
    "        l =len(nums)\n",
    "        if l == 0:\n",
    "            return 0\n",
    "        \n",
    "        if l == 1:\n",
    "            return nums[0]\n",
    "        \n",
    "        if l == 2:\n",
    "            if nums[1] > nums[0]:\n",
    "                return nums[1]\n",
    "            else:\n",
    "                return nums[0]\n",
    "    \n",
    "        if l ==3:\n",
    "            if nums[1] > nums[0]+nums[2]:\n",
    "                return nums[1]\n",
    "            else:\n",
    "                return nums[0]+nums[2]\n",
    "         \n",
    "        \n",
    "        sums = {0:[nums[0]],1:[nums[1]]}\n",
    "        for i in range(2,l):\n",
    "            if i-2 in sums:\n",
    "                if not i in sums:\n",
    "                    sums[i] = []\n",
    "                    for j in sums[i-2]:\n",
    "                        sums[i].append(j+nums[i])\n",
    "                else:\n",
    "                    for j in sums[i-2]:\n",
    "                        sums[i].append(j+nums[i])\n",
    "                        \n",
    "            if i-3 in sums:\n",
    "                if not i in sums:\n",
    "                    sums[i] = []\n",
    "                    for j in sums[i-3]:\n",
    "                        sums[i].append(j+nums[i])\n",
    "                else:\n",
    "                    for j in sums[i-3]:\n",
    "                        sums[i].append(j+nums[i])\n",
    "                    \n",
    "        print(sums)\n",
    "        nsum = 0\n",
    "        for i in sums.values():\n",
    "            for j in i:\n",
    "                if j > nsum:\n",
    "                    nsum = j\n",
    "            \n",
    "        return nsum\n",
    "    "
   ]
  },
  {
   "cell_type": "code",
   "execution_count": null,
   "metadata": {},
   "outputs": [],
   "source": []
  }
 ],
 "metadata": {
  "kernelspec": {
   "display_name": "Python 3",
   "language": "python",
   "name": "python3"
  },
  "language_info": {
   "codemirror_mode": {
    "name": "ipython",
    "version": 3
   },
   "file_extension": ".py",
   "mimetype": "text/x-python",
   "name": "python",
   "nbconvert_exporter": "python",
   "pygments_lexer": "ipython3",
   "version": "3.7.7"
  }
 },
 "nbformat": 4,
 "nbformat_minor": 4
}
