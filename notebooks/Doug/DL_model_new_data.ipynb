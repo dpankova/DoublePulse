{
 "cells": [
  {
   "cell_type": "markdown",
   "metadata": {},
   "source": [
    "This code runs Deep Learning on nutau and nue samples created by Dasha. \n",
    "\n",
    "This code runs in a python 3.7 conda environment constructed as follows:\n",
    "- conda create --name tf-gpu tensorflow-gpu keras scikit-learn matplotlib ipykernel nb_conda_kernels [Pillow]\n",
    "- conda activate tf-gpu\n",
    "(Pillow is for image manipulation for making heat maps, but I haven't got it to work yet.  Can remove from environment.)\n",
    "\n",
    "To run with multiple GPUs on CyberLAMP you must specify the \"nodes\" and \"gpus\" qualifiers in the same chunk.  For example:\n",
    "- qsub -I -A cyberlamp -l qos=cl_higpu -l nodes=1:ppn=1:gpus=4:shared -l mem=24gb -l walltime=4:00:00"
   ]
  },
  {
   "cell_type": "code",
   "execution_count": 1,
   "metadata": {},
   "outputs": [],
   "source": [
    "import os\n",
    "\n",
    "# Set which GPU to use.  This probably needs to be done before any other CUDA vars get defined.\n",
    "# Use the command \"nvidia-smi\" to get association of a particular GPU with a particular number.\n",
    "os.environ[\"CUDA_DEVICE_ORDER\"] = \"PCI_BUS_ID\"\n",
    "os.environ[\"CUDA_VISIBLE_DEVICES\"]= \"0\""
   ]
  },
  {
   "cell_type": "code",
   "execution_count": 2,
   "metadata": {},
   "outputs": [],
   "source": [
    "from __future__ import division\n",
    "import matplotlib as mpl\n",
    "import matplotlib.pyplot as plt\n",
    "import numpy as np\n",
    "import pickle\n",
    "from sklearn.utils import shuffle"
   ]
  },
  {
   "cell_type": "code",
   "execution_count": 3,
   "metadata": {},
   "outputs": [
    {
     "name": "stdout",
     "output_type": "stream",
     "text": [
      "0.2272015596816976\n"
     ]
    }
   ],
   "source": [
    "c =0.299792458\n",
    "n =1.3195\n",
    "v=c/n \n",
    "print(v)"
   ]
  },
  {
   "cell_type": "code",
   "execution_count": null,
   "metadata": {},
   "outputs": [],
   "source": []
  },
  {
   "cell_type": "code",
   "execution_count": 4,
   "metadata": {},
   "outputs": [
    {
     "data": {
      "text/plain": [
       "<matplotlib.image.AxesImage at 0x7ffa5417f320>"
      ]
     },
     "execution_count": 4,
     "metadata": {},
     "output_type": "execute_result"
    },
    {
     "data": {
      "image/png": "[encoded data removed]",
      "text/plain": [
       "<Figure size 360x360 with 1 Axes>"
      ]
     },
     "metadata": {
      "needs_background": "light"
     },
     "output_type": "display_data"
    }
   ],
   "source": [
    "nu_size = 7737578\n",
    "nu_data = np.memmap('/fastio2/dasha/double_pulse/nu_data.npy', mode = 'r', dtype ='float32', shape = (nu_size,300,60))\n",
    "fig = plt.figure(figsize=(5, 5))\n",
    "ax = fig.add_subplot(111)\n",
    "ax.imshow(nu_data[0], interpolation='nearest', aspect='auto', cmap= 'gray')"
   ]
  },
  {
   "cell_type": "code",
   "execution_count": 7,
   "metadata": {},
   "outputs": [
    {
     "name": "stdout",
     "output_type": "stream",
     "text": [
      "7.63065e-09\n",
      "-4.75539e-10\n"
     ]
    }
   ],
   "source": [
    "print(np.amax(nu_data))\n",
    "print(np.amin(nu_data))"
   ]
  },
  {
   "cell_type": "code",
   "execution_count": 5,
   "metadata": {},
   "outputs": [
    {
     "name": "stdout",
     "output_type": "stream",
     "text": [
      "(7737578, 3)\n",
      "[[1 0 0]\n",
      " [1 0 0]\n",
      " [1 0 0]\n",
      " [1 0 0]\n",
      " [1 0 0]\n",
      " [1 0 0]\n",
      " [1 0 0]\n",
      " [1 0 0]\n",
      " [1 0 0]\n",
      " [1 0 0]]\n"
     ]
    }
   ],
   "source": [
    "nu_labels = np.memmap('/fastio2/dasha/double_pulse/nu_label.npy', mode = 'r', dtype ='float32', shape = (nu_size))\n",
    "labels = []\n",
    "for i in nu_labels:\n",
    "    if i == 4:\n",
    "        labels.append([0,0,1])\n",
    "    elif i == 2:\n",
    "        labels.append([0,1,0])\n",
    "    else:\n",
    "        labels.append([1,0,0])\n",
    "labels = np.array(labels)\n",
    "print(labels.shape)\n",
    "print(labels[0:10])\n"
   ]
  },
  {
   "cell_type": "code",
   "execution_count": 6,
   "metadata": {},
   "outputs": [
    {
     "name": "stdout",
     "output_type": "stream",
     "text": [
      "[[1 0 0]\n",
      " [1 0 0]\n",
      " [1 0 0]\n",
      " [1 0 0]\n",
      " [1 0 0]\n",
      " [1 0 0]\n",
      " [1 0 0]\n",
      " [1 0 0]\n",
      " [1 0 0]\n",
      " [1 0 0]]\n"
     ]
    }
   ],
   "source": [
    "print(labels[6600000:6600010])"
   ]
  },
  {
   "cell_type": "code",
   "execution_count": 7,
   "metadata": {},
   "outputs": [
    {
     "name": "stdout",
     "output_type": "stream",
     "text": [
      "[3867925 2960557  909096]\n"
     ]
    }
   ],
   "source": [
    "print(sum(labels))"
   ]
  },
  {
   "cell_type": "code",
   "execution_count": 8,
   "metadata": {},
   "outputs": [
    {
     "name": "stdout",
     "output_type": "stream",
     "text": [
      "[4724180 7180687 3282754 4863643 2737586 2539956 3705152 7169900 3710465\n",
      " 2584293]\n"
     ]
    }
   ],
   "source": [
    "idx = np.arange(nu_size)\n",
    "np.random.shuffle(idx)\n",
    "print(idx[:10])"
   ]
  },
  {
   "cell_type": "code",
   "execution_count": 9,
   "metadata": {},
   "outputs": [],
   "source": [
    "train_idx = idx[:100000] \n",
    "test_idx = idx[100000:130000] \n",
    "valid_idx = idx[130000:160000]"
   ]
  },
  {
   "cell_type": "code",
   "execution_count": 10,
   "metadata": {},
   "outputs": [],
   "source": [
    "train_data = []\n",
    "train_labels = []\n",
    "test_data = []\n",
    "test_labels = []\n",
    "valid_data = []\n",
    "valid_labels = []\n",
    "\n",
    "for i in train_idx:\n",
    "    train_data.append(nu_data[i])\n",
    "    train_labels.append(labels[i])\n",
    "for i in test_idx:\n",
    "    test_data.append(nu_data[i])\n",
    "    test_labels.append(labels[i])\n",
    "for i in valid_idx:\n",
    "    valid_data.append(nu_data[i])\n",
    "    valid_labels.append(labels[i])\n",
    "\n",
    "train_data = np.array(train_data)\n",
    "train_labels = np.array(train_labels)\n",
    "test_data = np.array(test_data)\n",
    "test_labels = np.array(test_labels)\n",
    "valid_data = np.array(valid_data)\n",
    "valid_labels = np.array(valid_labels)\n",
    "    "
   ]
  },
  {
   "cell_type": "code",
   "execution_count": 11,
   "metadata": {},
   "outputs": [
    {
     "name": "stdout",
     "output_type": "stream",
     "text": [
      "(100000, 300, 60) (100000, 3)\n",
      "(30000, 300, 60) (30000, 3)\n",
      "(30000, 300, 60) (30000, 3)\n"
     ]
    }
   ],
   "source": [
    "print(train_data.shape, train_labels.shape)\n",
    "print(test_data.shape, test_labels.shape)\n",
    "print(valid_data.shape, valid_labels.shape)"
   ]
  },
  {
   "cell_type": "code",
   "execution_count": 12,
   "metadata": {},
   "outputs": [
    {
     "name": "stdout",
     "output_type": "stream",
     "text": [
      "[49937 38398 11665]\n",
      "[15001 11489  3510]\n",
      "[15052 11457  3491]\n"
     ]
    }
   ],
   "source": [
    "print(sum(train_labels))\n",
    "print(sum(test_labels))\n",
    "print(sum(valid_labels))"
   ]
  },
  {
   "cell_type": "code",
   "execution_count": 13,
   "metadata": {},
   "outputs": [
    {
     "name": "stdout",
     "output_type": "stream",
     "text": [
      "0.0010935264 0.013415054\n"
     ]
    }
   ],
   "source": [
    "train_data = train_data.reshape((len(train_data),300,60,1))\n",
    "train_data = train_data.astype('float32')/10**-8\n",
    "mean = np.mean(train_data)\n",
    "std = np.std(train_data)\n",
    "print(mean,std)\n",
    "train_data = train_data - mean\n",
    "train_data = train_data/std\n",
    "\n",
    "valid_data = valid_data.reshape((len(valid_data),300,60,1))\n",
    "valid_data = valid_data.astype('float32')/10**-8\n",
    "valid_data = valid_data - mean\n",
    "valid_data = valid_data/std\n",
    "\n",
    "test_data = test_data.reshape((len(test_data),300,60,1))\n",
    "test_data = test_data.astype('float32')/10**-8\n",
    "test_data = test_data - mean\n",
    "test_data = test_data/std"
   ]
  },
  {
   "cell_type": "code",
   "execution_count": 81,
   "metadata": {},
   "outputs": [
    {
     "name": "stdout",
     "output_type": "stream",
     "text": [
      "51.049015\n",
      "-0.9255073\n"
     ]
    }
   ],
   "source": [
    "print(np.amax(train_data))\n",
    "print(np.amin(train_data))"
   ]
  },
  {
   "cell_type": "code",
   "execution_count": 14,
   "metadata": {},
   "outputs": [
    {
     "name": "stderr",
     "output_type": "stream",
     "text": [
      "Using TensorFlow backend.\n"
     ]
    }
   ],
   "source": [
    "from keras import layers\n",
    "from keras import models"
   ]
  },
  {
   "cell_type": "code",
   "execution_count": 39,
   "metadata": {},
   "outputs": [],
   "source": [
    "#for im in data_d[:100]:\n",
    "#    print(im.shape)\n",
    "#    fig = plt.figure(figsize=(12, 12))\n",
    "#    ax = fig.add_subplot(111)\n",
    "#    ax.imshow(im, interpolation='nearest', aspect='auto', cmap= 'gray')\n",
    "    #ax.plot(im[14,:])\n",
    "    #print(im[:,46])"
   ]
  },
  {
   "cell_type": "code",
   "execution_count": 15,
   "metadata": {},
   "outputs": [
    {
     "name": "stderr",
     "output_type": "stream",
     "text": [
      "WARNING: Logging before flag parsing goes to stderr.\n",
      "W0823 18:55:17.106038 140713723979520 deprecation_wrapper.py:119] From /home/dup193/anaconda3/lib/python3.7/site-packages/keras/backend/tensorflow_backend.py:74: The name tf.get_default_graph is deprecated. Please use tf.compat.v1.get_default_graph instead.\n",
      "\n",
      "W0823 18:55:17.125954 140713723979520 deprecation_wrapper.py:119] From /home/dup193/anaconda3/lib/python3.7/site-packages/keras/backend/tensorflow_backend.py:517: The name tf.placeholder is deprecated. Please use tf.compat.v1.placeholder instead.\n",
      "\n",
      "W0823 18:55:17.132312 140713723979520 deprecation_wrapper.py:119] From /home/dup193/anaconda3/lib/python3.7/site-packages/keras/backend/tensorflow_backend.py:4138: The name tf.random_uniform is deprecated. Please use tf.random.uniform instead.\n",
      "\n",
      "W0823 18:55:17.301606 140713723979520 deprecation_wrapper.py:119] From /home/dup193/anaconda3/lib/python3.7/site-packages/keras/backend/tensorflow_backend.py:3976: The name tf.nn.max_pool is deprecated. Please use tf.nn.max_pool2d instead.\n",
      "\n",
      "W0823 18:55:17.370588 140713723979520 deprecation_wrapper.py:119] From /home/dup193/anaconda3/lib/python3.7/site-packages/keras/backend/tensorflow_backend.py:133: The name tf.placeholder_with_default is deprecated. Please use tf.compat.v1.placeholder_with_default instead.\n",
      "\n",
      "W0823 18:55:17.379355 140713723979520 deprecation.py:506] From /home/dup193/anaconda3/lib/python3.7/site-packages/keras/backend/tensorflow_backend.py:3445: calling dropout (from tensorflow.python.ops.nn_ops) with keep_prob is deprecated and will be removed in a future version.\n",
      "Instructions for updating:\n",
      "Please use `rate` instead of `keep_prob`. Rate should be set to `rate = 1 - keep_prob`.\n"
     ]
    },
    {
     "name": "stdout",
     "output_type": "stream",
     "text": [
      "_________________________________________________________________\n",
      "Layer (type)                 Output Shape              Param #   \n",
      "=================================================================\n",
      "conv2d_1 (Conv2D)            (None, 298, 58, 32)       320       \n",
      "_________________________________________________________________\n",
      "max_pooling2d_1 (MaxPooling2 (None, 149, 29, 32)       0         \n",
      "_________________________________________________________________\n",
      "conv2d_2 (Conv2D)            (None, 147, 27, 64)       18496     \n",
      "_________________________________________________________________\n",
      "max_pooling2d_2 (MaxPooling2 (None, 73, 13, 64)        0         \n",
      "_________________________________________________________________\n",
      "conv2d_3 (Conv2D)            (None, 71, 11, 128)       73856     \n",
      "_________________________________________________________________\n",
      "max_pooling2d_3 (MaxPooling2 (None, 35, 5, 128)        0         \n",
      "_________________________________________________________________\n",
      "conv2d_4 (Conv2D)            (None, 33, 3, 128)        147584    \n",
      "_________________________________________________________________\n",
      "max_pooling2d_4 (MaxPooling2 (None, 16, 1, 128)        0         \n",
      "_________________________________________________________________\n",
      "flatten_1 (Flatten)          (None, 2048)              0         \n",
      "_________________________________________________________________\n",
      "dropout_1 (Dropout)          (None, 2048)              0         \n",
      "_________________________________________________________________\n",
      "dense_1 (Dense)              (None, 512)               1049088   \n",
      "_________________________________________________________________\n",
      "dense_2 (Dense)              (None, 64)                32832     \n",
      "_________________________________________________________________\n",
      "dense_3 (Dense)              (None, 3)                 195       \n",
      "=================================================================\n",
      "Total params: 1,322,371\n",
      "Trainable params: 1,322,371\n",
      "Non-trainable params: 0\n",
      "_________________________________________________________________\n"
     ]
    }
   ],
   "source": [
    "model = models.Sequential()\n",
    "model.add(layers.Conv2D(32, (3, 3), activation='relu', input_shape=(300, 60, 1)))\n",
    "model.add(layers.MaxPooling2D((2, 2)))\n",
    "model.add(layers.Conv2D(64, (3, 3), activation='relu'))\n",
    "model.add(layers.MaxPooling2D((2, 2)))\n",
    "model.add(layers.Conv2D(128, (3, 3), activation='relu'))\n",
    "model.add(layers.MaxPooling2D((2, 2)))\n",
    "model.add(layers.Conv2D(128, (3, 3), activation='relu'))\n",
    "model.add(layers.MaxPooling2D((2, 2)))\n",
    "model.add(layers.Flatten())\n",
    "model.add(layers.Dropout(0.5))\n",
    "model.add(layers.Dense(512, activation='relu'))\n",
    "model.add(layers.Dense(64, activation='relu'))\n",
    "model.add(layers.Dense(3, activation='softmax'))\n",
    "model.summary()"
   ]
  },
  {
   "cell_type": "code",
   "execution_count": 16,
   "metadata": {},
   "outputs": [
    {
     "name": "stderr",
     "output_type": "stream",
     "text": [
      "W0823 18:55:20.968106 140713723979520 deprecation_wrapper.py:119] From /home/dup193/anaconda3/lib/python3.7/site-packages/keras/optimizers.py:790: The name tf.train.Optimizer is deprecated. Please use tf.compat.v1.train.Optimizer instead.\n",
      "\n",
      "W0823 18:55:20.977681 140713723979520 deprecation_wrapper.py:119] From /home/dup193/anaconda3/lib/python3.7/site-packages/keras/backend/tensorflow_backend.py:3295: The name tf.log is deprecated. Please use tf.math.log instead.\n",
      "\n"
     ]
    }
   ],
   "source": [
    "from keras import optimizers\n",
    "import tensorflow as tf\n",
    "\n",
    "run_opts = tf.RunOptions(report_tensor_allocations_upon_oom = True)\n",
    "\n",
    "sgd = optimizers.SGD(lr=0.01)\n",
    "model.compile(loss='categorical_crossentropy',\n",
    "              optimizer=sgd,\n",
    "              metrics=['accuracy'])\n",
    "#              options = run_opts)"
   ]
  },
  {
   "cell_type": "code",
   "execution_count": 17,
   "metadata": {},
   "outputs": [
    {
     "name": "stderr",
     "output_type": "stream",
     "text": [
      "W0823 18:55:28.403977 140713723979520 deprecation.py:323] From /home/dup193/anaconda3/lib/python3.7/site-packages/tensorflow/python/ops/math_grad.py:1250: add_dispatch_support.<locals>.wrapper (from tensorflow.python.ops.array_ops) is deprecated and will be removed in a future version.\n",
      "Instructions for updating:\n",
      "Use tf.where in 2.0, which has the same broadcast rule as np.where\n"
     ]
    },
    {
     "name": "stdout",
     "output_type": "stream",
     "text": [
      "Train on 100000 samples, validate on 30000 samples\n",
      "Epoch 1/30\n",
      "100000/100000 [==============================] - 562s 6ms/step - loss: 0.9716 - acc: 0.5022 - val_loss: 0.9582 - val_acc: 0.5070\n",
      "Epoch 2/30\n",
      "100000/100000 [==============================] - 551s 6ms/step - loss: 0.9571 - acc: 0.5114 - val_loss: 0.9519 - val_acc: 0.5157\n",
      "Epoch 3/30\n",
      "100000/100000 [==============================] - 535s 5ms/step - loss: 0.9511 - acc: 0.5225 - val_loss: 0.9477 - val_acc: 0.5272\n",
      "Epoch 4/30\n",
      "100000/100000 [==============================] - 545s 5ms/step - loss: 0.9444 - acc: 0.5344 - val_loss: 0.9429 - val_acc: 0.5332\n",
      "Epoch 5/30\n",
      "100000/100000 [==============================] - 552s 6ms/step - loss: 0.9360 - acc: 0.5478 - val_loss: 0.9354 - val_acc: 0.5536\n",
      "Epoch 6/30\n",
      "100000/100000 [==============================] - 549s 5ms/step - loss: 0.9268 - acc: 0.5599 - val_loss: 0.9227 - val_acc: 0.5547\n",
      "Epoch 7/30\n",
      "100000/100000 [==============================] - 553s 6ms/step - loss: 0.9177 - acc: 0.5699 - val_loss: 0.9089 - val_acc: 0.5693\n",
      "Epoch 8/30\n",
      "100000/100000 [==============================] - 537s 5ms/step - loss: 0.9096 - acc: 0.5773 - val_loss: 0.8982 - val_acc: 0.5829\n",
      "Epoch 9/30\n",
      "100000/100000 [==============================] - 541s 5ms/step - loss: 0.9015 - acc: 0.5836 - val_loss: 0.8932 - val_acc: 0.5909\n",
      "Epoch 10/30\n",
      "100000/100000 [==============================] - 547s 5ms/step - loss: 0.8944 - acc: 0.5902 - val_loss: 0.8998 - val_acc: 0.5282\n",
      "Epoch 11/30\n",
      "100000/100000 [==============================] - 545s 5ms/step - loss: 0.8902 - acc: 0.5924 - val_loss: 0.8925 - val_acc: 0.5893\n",
      "Epoch 12/30\n",
      "100000/100000 [==============================] - 536s 5ms/step - loss: 0.8847 - acc: 0.5981 - val_loss: 0.8786 - val_acc: 0.6017\n",
      "Epoch 13/30\n",
      "100000/100000 [==============================] - 535s 5ms/step - loss: 0.8789 - acc: 0.6007 - val_loss: 0.8728 - val_acc: 0.6096\n",
      "Epoch 14/30\n",
      "100000/100000 [==============================] - 551s 6ms/step - loss: 0.8753 - acc: 0.6027 - val_loss: 0.8784 - val_acc: 0.5971\n",
      "Epoch 15/30\n",
      "100000/100000 [==============================] - 547s 5ms/step - loss: 0.8725 - acc: 0.6059 - val_loss: 0.8691 - val_acc: 0.6053\n",
      "Epoch 16/30\n",
      "100000/100000 [==============================] - 560s 6ms/step - loss: 0.8685 - acc: 0.6084 - val_loss: 0.8755 - val_acc: 0.6014\n",
      "Epoch 17/30\n",
      "100000/100000 [==============================] - 552s 6ms/step - loss: 0.8656 - acc: 0.6117 - val_loss: 0.8673 - val_acc: 0.6066\n",
      "Epoch 18/30\n",
      "100000/100000 [==============================] - 548s 5ms/step - loss: 0.8615 - acc: 0.6151 - val_loss: 0.8608 - val_acc: 0.6130\n",
      "Epoch 19/30\n",
      "100000/100000 [==============================] - 556s 6ms/step - loss: 0.8582 - acc: 0.6159 - val_loss: 0.9022 - val_acc: 0.5925\n",
      "Epoch 20/30\n",
      "100000/100000 [==============================] - 551s 6ms/step - loss: 0.8550 - acc: 0.6190 - val_loss: 0.8473 - val_acc: 0.6294\n",
      "Epoch 21/30\n",
      "100000/100000 [==============================] - 550s 5ms/step - loss: 0.8525 - acc: 0.6215 - val_loss: 0.8880 - val_acc: 0.5975\n",
      "Epoch 22/30\n",
      "100000/100000 [==============================] - 529s 5ms/step - loss: 0.8498 - acc: 0.6232 - val_loss: 0.8552 - val_acc: 0.6173\n",
      "Epoch 23/30\n",
      "100000/100000 [==============================] - 544s 5ms/step - loss: 0.8460 - acc: 0.6263 - val_loss: 0.8407 - val_acc: 0.6300\n",
      "Epoch 24/30\n",
      "100000/100000 [==============================] - 550s 5ms/step - loss: 0.8435 - acc: 0.6277 - val_loss: 0.8452 - val_acc: 0.6255\n",
      "Epoch 25/30\n",
      "100000/100000 [==============================] - 556s 6ms/step - loss: 0.8406 - acc: 0.6288 - val_loss: 0.8424 - val_acc: 0.6256\n",
      "Epoch 26/30\n",
      "100000/100000 [==============================] - 555s 6ms/step - loss: 0.8394 - acc: 0.6306 - val_loss: 0.8388 - val_acc: 0.6311\n",
      "Epoch 27/30\n",
      "100000/100000 [==============================] - 546s 5ms/step - loss: 0.8356 - acc: 0.6317 - val_loss: 0.8847 - val_acc: 0.5441\n",
      "Epoch 28/30\n",
      "100000/100000 [==============================] - 552s 6ms/step - loss: 0.8345 - acc: 0.6337 - val_loss: 0.8500 - val_acc: 0.5724\n",
      "Epoch 29/30\n",
      "100000/100000 [==============================] - 550s 6ms/step - loss: 0.8317 - acc: 0.6351 - val_loss: 0.8250 - val_acc: 0.6408\n",
      "Epoch 30/30\n",
      "100000/100000 [==============================] - 551s 6ms/step - loss: 0.8305 - acc: 0.6357 - val_loss: 0.8259 - val_acc: 0.6393\n"
     ]
    }
   ],
   "source": [
    "history = model.fit(train_data,train_labels, epochs=30, validation_data=(valid_data,valid_labels), batch_size =128)"
   ]
  },
  {
   "cell_type": "code",
   "execution_count": 18,
   "metadata": {},
   "outputs": [],
   "source": [
    "import json\n",
    "history_dict = history.history # Get the dictionary containing each metric and the loss for each epoch\n",
    "json.dump(history_dict, open('/data/dfc13/DoublePulse/Models/DP_model_New_1.json', 'w')) # Save it under the form of a json file\n",
    "#\n",
    "model.save('/data/dfc13/DoublePulse/Models/DP_model_New_1.h5') # Save the model\n",
    "#\n",
    "ResultsFile = open('/data/dfc13/DoublePulse/Models/DP_model_New_1.txt','w') # File for saving the results of the fit.\n",
    "#\n",
    "# 8: multiple conv2d layers a la textbook (32 (3,3) then 64, 128, 128, dropout 0.3, dense 256(relu), 64(relu), 2(softmax)\n",
    "# 8b: same as 8 but with 50 trials\n",
    "# 8b[not c didn't update the line above]: same as 8b but with dropout 0.5.\n",
    "# 8c: changed SGC \"lr\" from 0.01->0.001.  This smoothed things out a lot.  Sort of.  But had 0% accuracy for nutaus.\n",
    "# 8d: changed SGC \"lr\" from 0.001->0.005.\n",
    "# 8e: decreased size of training set to 24k, increased size of validation set to 4k (24k:28k) and increased test set (28k:)\n",
    "# 8f: changed SGC \"lr\" from 0.005->0.01.  200 epochs. 97%/37%.\n",
    "# 8g: lr=0.02, 50 epochs: 98%/29%.\n",
    "\n",
    "# 9a: changed dense 256 -> 512.  50 epochs. 100%/22%\n",
    "# 9b: same as above, 200 epochs. 97%/39%.\n",
    "# 9c: same as above, lr = 0.01.  200 epochs. 97%/36%.\n",
    "# 9d: same as above, 500 epochs batch_size = 64. 96%/40%.\n",
    "# 10a: Testing selection of particular GPU.  20 epochs, batch_size = 128.\n",
    "# 10b: Testing parallelization.  50 epochs, batch_size = 128, one GPU. 98%/22%.\n",
    "# 10g: \n",
    "# New_1: New data (160000 ims)"
   ]
  },
  {
   "cell_type": "code",
   "execution_count": 19,
   "metadata": {},
   "outputs": [
    {
     "data": {
      "image/png": "[encoded data removed]",
      "text/plain": [
       "<Figure size 432x288 with 1 Axes>"
      ]
     },
     "metadata": {
      "needs_background": "light"
     },
     "output_type": "display_data"
    },
    {
     "data": {
      "image/png": "[encoded data removed]",
      "text/plain": [
       "<Figure size 432x288 with 1 Axes>"
      ]
     },
     "metadata": {
      "needs_background": "light"
     },
     "output_type": "display_data"
    }
   ],
   "source": [
    "acc = history.history['acc']\n",
    "val_acc = history.history['val_acc']\n",
    "loss = history.history['loss']\n",
    "val_loss = history.history['val_loss']\n",
    "\n",
    "epochs = range(len(acc))\n",
    "\n",
    "plt.plot(epochs, acc, 'bo', label='Training acc')\n",
    "plt.plot(epochs, val_acc, 'b', label='Validation acc')\n",
    "plt.title('Training and validation accuracy')\n",
    "plt.legend()\n",
    "\n",
    "plt.figure()\n",
    "\n",
    "plt.plot(epochs, loss, 'bo', label='Training loss')\n",
    "plt.plot(epochs, val_loss, 'b', label='Validation loss')\n",
    "plt.title('Training and validation loss')\n",
    "plt.legend()\n",
    "\n",
    "plt.show()"
   ]
  },
  {
   "cell_type": "code",
   "execution_count": 20,
   "metadata": {},
   "outputs": [
    {
     "name": "stdout",
     "output_type": "stream",
     "text": [
      "30000/30000 [==============================] - 35s 1ms/step\n",
      "[0.8315296581586202, 0.6374666666666666]\n"
     ]
    }
   ],
   "source": [
    "result = model.evaluate(test_data,test_labels)\n",
    "print(result)"
   ]
  },
  {
   "cell_type": "code",
   "execution_count": 21,
   "metadata": {},
   "outputs": [],
   "source": [
    "from sklearn.metrics import classification_report, confusion_matrix"
   ]
  },
  {
   "cell_type": "code",
   "execution_count": 22,
   "metadata": {},
   "outputs": [],
   "source": [
    "test_pred = model.predict(test_data)"
   ]
  },
  {
   "cell_type": "code",
   "execution_count": 23,
   "metadata": {},
   "outputs": [
    {
     "name": "stdout",
     "output_type": "stream",
     "text": [
      "[[6.59401953e-01 1.99468121e-01 1.41129896e-01]\n",
      " [7.97021389e-01 9.72451121e-02 1.05733477e-01]\n",
      " [6.65813386e-01 2.17168331e-01 1.17018260e-01]\n",
      " [5.85838914e-01 2.94897556e-01 1.19263545e-01]\n",
      " [3.57772082e-01 4.95628238e-01 1.46599740e-01]\n",
      " [4.90046948e-01 3.88970405e-01 1.20982684e-01]\n",
      " [1.26650244e-01 8.30923498e-01 4.24262471e-02]\n",
      " [7.51939535e-01 1.25163049e-01 1.22897446e-01]\n",
      " [6.08531296e-01 2.73686409e-01 1.17782339e-01]\n",
      " [5.93282223e-01 2.84480572e-01 1.22237213e-01]\n",
      " [5.80975056e-01 2.99479097e-01 1.19545862e-01]\n",
      " [4.09056097e-01 4.45143193e-01 1.45800680e-01]\n",
      " [5.80975056e-01 2.99479097e-01 1.19545862e-01]\n",
      " [5.02609849e-01 3.39346319e-01 1.58043772e-01]\n",
      " [5.80975056e-01 2.99479097e-01 1.19545862e-01]\n",
      " [5.20149231e-01 3.59521508e-01 1.20329328e-01]\n",
      " [6.26159549e-01 2.50833482e-01 1.23006970e-01]\n",
      " [6.80711687e-01 1.98657736e-01 1.20630585e-01]\n",
      " [6.21437490e-01 2.60685503e-01 1.17876992e-01]\n",
      " [7.76586473e-01 1.09801166e-01 1.13612331e-01]\n",
      " [4.76133734e-01 4.03257817e-01 1.20608352e-01]\n",
      " [3.51358205e-01 5.32181144e-01 1.16460644e-01]\n",
      " [1.33168725e-02 9.81647491e-01 5.03549539e-03]\n",
      " [6.11391664e-01 2.71049678e-01 1.17558643e-01]\n",
      " [1.57516852e-01 5.76368213e-01 2.66114950e-01]\n",
      " [4.87763137e-01 3.28603625e-01 1.83633238e-01]\n",
      " [6.60469890e-01 1.98867679e-01 1.40662462e-01]\n",
      " [7.68697262e-01 1.38369098e-01 9.29336324e-02]\n",
      " [5.78097761e-01 2.71886647e-01 1.50015622e-01]\n",
      " [3.72283608e-02 9.25514698e-01 3.72569300e-02]\n",
      " [5.82134545e-01 2.98379660e-01 1.19485810e-01]\n",
      " [8.29731405e-01 8.40031952e-02 8.62653106e-02]\n",
      " [5.80975056e-01 2.99479097e-01 1.19545862e-01]\n",
      " [3.32681388e-01 5.57636499e-01 1.09682202e-01]\n",
      " [3.30267638e-01 4.53299403e-01 2.16432989e-01]\n",
      " [5.26349306e-01 3.54869992e-01 1.18780650e-01]\n",
      " [5.80975056e-01 2.99479097e-01 1.19545862e-01]\n",
      " [6.01575315e-01 2.01993749e-01 1.96430936e-01]\n",
      " [5.80975056e-01 2.99479097e-01 1.19545862e-01]\n",
      " [4.25993577e-02 9.15332854e-01 4.20677364e-02]\n",
      " [5.80975056e-01 2.99479097e-01 1.19545862e-01]\n",
      " [6.14963830e-01 2.41840750e-01 1.43195406e-01]\n",
      " [2.85328105e-02 9.21361864e-01 5.01053743e-02]\n",
      " [6.71822727e-01 2.08539993e-01 1.19637176e-01]\n",
      " [4.26169366e-01 4.56819087e-01 1.17011614e-01]\n",
      " [6.76147819e-01 2.24985927e-01 9.88663360e-02]\n",
      " [3.23387265e-01 5.71236968e-01 1.05375797e-01]\n",
      " [8.20144355e-01 9.26817656e-02 8.71738717e-02]\n",
      " [5.28670549e-01 3.28251243e-01 1.43078238e-01]\n",
      " [5.81523657e-01 2.98961282e-01 1.19515106e-01]\n",
      " [6.22980833e-01 2.60215104e-01 1.16804004e-01]\n",
      " [2.82809883e-01 5.84623456e-01 1.32566616e-01]\n",
      " [5.80975056e-01 2.99479097e-01 1.19545862e-01]\n",
      " [2.85756737e-01 6.24084115e-01 9.01591331e-02]\n",
      " [5.68433523e-01 3.21976215e-01 1.09590240e-01]\n",
      " [5.38853109e-01 3.41130167e-01 1.20016746e-01]\n",
      " [6.30830050e-01 2.50599891e-01 1.18570015e-01]\n",
      " [3.80570829e-01 4.46433842e-01 1.72995344e-01]\n",
      " [3.46248925e-01 5.44269860e-01 1.09481208e-01]\n",
      " [5.99107862e-01 2.82712847e-01 1.18179247e-01]\n",
      " [6.26265228e-01 2.77128458e-01 9.66063365e-02]\n",
      " [5.84991455e-01 2.95737207e-01 1.19271375e-01]\n",
      " [5.44117391e-01 3.34942132e-01 1.20940536e-01]\n",
      " [5.02215922e-01 3.20746928e-01 1.77037194e-01]\n",
      " [3.88748437e-01 2.69608736e-01 3.41642857e-01]\n",
      " [2.04660743e-01 4.50537235e-01 3.44801992e-01]\n",
      " [5.38735427e-02 8.79221201e-01 6.69052303e-02]\n",
      " [4.06010523e-02 9.35416579e-01 2.39823833e-02]\n",
      " [7.08030283e-01 2.15852931e-01 7.61168301e-02]\n",
      " [5.09050548e-01 3.17305326e-01 1.73644200e-01]\n",
      " [1.87712654e-01 7.33506143e-01 7.87812546e-02]\n",
      " [5.80975056e-01 2.99479097e-01 1.19545862e-01]\n",
      " [3.59388769e-01 5.61916888e-01 7.86942542e-02]\n",
      " [4.50921386e-01 3.24762493e-01 2.24316090e-01]\n",
      " [6.53436661e-01 2.10174128e-01 1.36389285e-01]\n",
      " [7.29559124e-01 1.54313743e-01 1.16127126e-01]\n",
      " [5.13954520e-01 3.48623633e-01 1.37421846e-01]\n",
      " [3.86705101e-01 3.81699026e-01 2.31595844e-01]\n",
      " [5.80868900e-01 2.99611777e-01 1.19519338e-01]\n",
      " [5.80975056e-01 2.99479097e-01 1.19545862e-01]\n",
      " [5.29150188e-01 2.89635152e-01 1.81214675e-01]\n",
      " [5.81558466e-01 2.98950136e-01 1.19491406e-01]\n",
      " [6.20657690e-02 8.15444946e-01 1.22489266e-01]\n",
      " [6.62571430e-01 1.92358628e-01 1.45069957e-01]\n",
      " [4.68274623e-01 3.51515055e-01 1.80210352e-01]\n",
      " [6.39771640e-01 2.46141464e-01 1.14086837e-01]\n",
      " [6.33973777e-01 2.42344022e-01 1.23682223e-01]\n",
      " [8.38086426e-01 1.29913762e-01 3.19998525e-02]\n",
      " [2.63685901e-02 9.29165483e-01 4.44659479e-02]\n",
      " [4.53545570e-01 4.56653059e-01 8.98013785e-02]\n",
      " [5.85203111e-01 2.95294344e-01 1.19502522e-01]\n",
      " [7.32565105e-01 1.51391193e-01 1.16043702e-01]\n",
      " [3.66778404e-01 5.20188868e-01 1.13032825e-01]\n",
      " [5.58604121e-01 3.20915282e-01 1.20480523e-01]\n",
      " [5.44018447e-01 3.39493334e-01 1.16488151e-01]\n",
      " [5.93805909e-01 2.92833179e-01 1.13360867e-01]\n",
      " [5.80975056e-01 2.99479097e-01 1.19545862e-01]\n",
      " [4.27073181e-01 4.54655975e-01 1.18270829e-01]\n",
      " [7.74200482e-04 9.93923008e-01 5.30277751e-03]\n",
      " [7.16052294e-01 1.56632870e-01 1.27314806e-01]]\n",
      "[0 0 0 0 1 0 1 0 0 0 0 1 0 0 0 0 0 0 0 0 0 1 1 0 1 0 0 0 0 1 0 0 0 1 1 0 0\n",
      " 0 0 1 0 0 1 0 1 0 1 0 0 0 0 1 0 1 0 0 0 1 1 0 0 0 0 0 0 1 1 1 0 0 1 0 1 0\n",
      " 0 0 0 0 0 0 0 0 1 0 0 0 0 0 1 1 0 0 1 0 0 0 0 1 1 0]\n"
     ]
    }
   ],
   "source": [
    "print(test_pred[0:100])\n",
    "print(test_pred.argmax(axis=1)[0:100])"
   ]
  },
  {
   "cell_type": "code",
   "execution_count": 24,
   "metadata": {},
   "outputs": [],
   "source": [
    "matrix = confusion_matrix(test_labels.argmax(axis=1), test_pred.argmax(axis=1))\n",
    "report = classification_report(test_labels.argmax(axis=1), test_pred.argmax(axis=1))"
   ]
  },
  {
   "cell_type": "code",
   "execution_count": 25,
   "metadata": {},
   "outputs": [
    {
     "name": "stdout",
     "output_type": "stream",
     "text": [
      "[[14073   926     2]\n",
      " [ 6434  5035    20]\n",
      " [ 3001   493    16]]\n",
      "              precision    recall  f1-score   support\n",
      "\n",
      "           0       0.60      0.94      0.73     15001\n",
      "           1       0.78      0.44      0.56     11489\n",
      "           2       0.42      0.00      0.01      3510\n",
      "\n",
      "    accuracy                           0.64     30000\n",
      "   macro avg       0.60      0.46      0.43     30000\n",
      "weighted avg       0.65      0.64      0.58     30000\n",
      "\n"
     ]
    }
   ],
   "source": [
    "#print(\"True Positive\",tp)\n",
    "#print(\"True Negative\",tn)\n",
    "#print(\"False Positive\",fp)\n",
    "#print(\"False Negative\",fn)\n",
    "print(matrix)\n",
    "print(report)\n",
    "\n",
    "#ResultsFile.write(repr(matrix))\n",
    "#ResultsFile.write('\\n')\n",
    "#ResultsFile.write(report)\n",
    "#ResultsFile.close()"
   ]
  },
  {
   "cell_type": "code",
   "execution_count": null,
   "metadata": {},
   "outputs": [],
   "source": []
  },
  {
   "cell_type": "code",
   "execution_count": null,
   "metadata": {},
   "outputs": [],
   "source": []
  }
 ],
 "metadata": {
  "kernelspec": {
   "display_name": "Python 3",
   "language": "python",
   "name": "python3"
  },
  "language_info": {
   "codemirror_mode": {
    "name": "ipython",
    "version": 3
   },
   "file_extension": ".py",
   "mimetype": "text/x-python",
   "name": "python",
   "nbconvert_exporter": "python",
   "pygments_lexer": "ipython3",
   "version": "3.7.3"
  }
 },
 "nbformat": 4,
 "nbformat_minor": 4
}
