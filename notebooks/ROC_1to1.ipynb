{
 "cells": [
  {
   "cell_type": "code",
   "execution_count": 1,
   "metadata": {},
   "outputs": [],
   "source": [
    "from __future__ import division\n",
    "import matplotlib as mpl\n",
    "import matplotlib.pyplot as plt\n",
    "import numpy as np\n",
    "import pickle"
   ]
  },
  {
   "cell_type": "code",
   "execution_count": 2,
   "metadata": {},
   "outputs": [
    {
     "name": "stdout",
     "output_type": "stream",
     "text": [
      "{'ArchitectureNumber': 1, 'DataDir': '/storage/work/dfc13/DoublePulse/data/', 'OutDirFilename': '/storage/work/dfc13/DoublePulse/Models/DP_model_6010', 'HyperparameterIndex': 0, 'lr': 0.01, 'epochs': 50, 'BatchSize': 32, 'ExecutionTime': 3550.7, 'NutauAsNutau': 7297, 'NueAsNutau': 4666, 'NutauAsNue': 3313, 'NueAsNue': 8724, 'NutauRecall': 0.6099640558388364, 'NueRecall': 0.7247653069701753, 'Predictions': array([[0.47470978, 0.5252902 ],\n",
      "       [0.31755534, 0.6824447 ],\n",
      "       [0.44315135, 0.55684865],\n",
      "       ...,\n",
      "       [0.74731857, 0.2526815 ],\n",
      "       [0.28328985, 0.71671015],\n",
      "       [0.65786666, 0.34213337]], dtype=float32), 'Labels': array([[0, 1],\n",
      "       [0, 1],\n",
      "       [1, 0],\n",
      "       ...,\n",
      "       [1, 0],\n",
      "       [0, 1],\n",
      "       [1, 0]])}\n"
     ]
    }
   ],
   "source": [
    "name = \"/data/dfc13/DoublePulse/Models/Arch01/pkls/DP_model_6010.pkl\"\n",
    "file = pickle.load(open(name, \"rb\"))\n",
    "print(file)"
   ]
  },
  {
   "cell_type": "code",
   "execution_count": 3,
   "metadata": {},
   "outputs": [
    {
     "name": "stdout",
     "output_type": "stream",
     "text": [
      "{'ArchitectureNumber': 1, 'DataDir': '/storage/work/dfc13/DoublePulse/data/', 'OutDirFilename': '/storage/work/dfc13/DoublePulse/Models/DP_model_7000', 'HyperparameterIndex': 0, 'lr': 0.01, 'epochs': 50, 'BatchSize': 32, 'ExecutionTime': 880.3, 'NutauAsNutau': 358, 'NueAsNutau': 1441, 'NutauAsNue': 231, 'NueAsNue': 3970, 'NutauRecall': 0.1989994441356309, 'NueRecall': 0.9450130921209235, 'Predictions': array([[0.6893454 , 0.31065455],\n",
      "       [0.695942  , 0.30405802],\n",
      "       [0.7740601 , 0.2259399 ],\n",
      "       ...,\n",
      "       [0.5310543 , 0.4689457 ],\n",
      "       [0.9647574 , 0.03524259],\n",
      "       [0.81992126, 0.18007874]], dtype=float32), 'Labels': array([[1, 0],\n",
      "       [1, 0],\n",
      "       [0, 1],\n",
      "       ...,\n",
      "       [1, 0],\n",
      "       [0, 1],\n",
      "       [0, 1]]), 'Info': array([[ 930606.44 ,    3302.025,    1502.65 ],\n",
      "       [ 654088.56 ,   49931.75 ,   31902.85 ],\n",
      "       [1336287.8  ,   16746.975,   14543.35 ],\n",
      "       ...,\n",
      "       [1044074.5  ,   76708.98 ,   46796.125],\n",
      "       [ 884246.94 ,   47798.426,   31891.375],\n",
      "       [ 542785.6  ,   12610.075,    4509.225]], dtype=float32)}\n"
     ]
    }
   ],
   "source": [
    "name2 = \"/data/dfc13/DoublePulse/Models/Arch01/pkls/DP_model_7000.pkl\"\n",
    "file2 = pickle.load(open(name2, \"rb\"))\n",
    "print(file2)"
   ]
  },
  {
   "cell_type": "code",
   "execution_count": 4,
   "metadata": {},
   "outputs": [
    {
     "name": "stdout",
     "output_type": "stream",
     "text": [
      "[0 1] [0.47470978 0.5252902 ]\n",
      "[1 0] [0.6893454  0.31065455]\n"
     ]
    }
   ],
   "source": [
    "labels = file[\"Labels\"]\n",
    "preds = file[\"Predictions\"]\n",
    "print(labels[0], preds[0])\n",
    "\n",
    "labels2 = file2[\"Labels\"]\n",
    "preds2 = file2[\"Predictions\"]\n",
    "print(labels2[0], preds2[0])"
   ]
  },
  {
   "cell_type": "code",
   "execution_count": 5,
   "metadata": {},
   "outputs": [
    {
     "name": "stdout",
     "output_type": "stream",
     "text": [
      "[0.         1.         0.47470978 0.52529019]\n",
      "12037 11963\n",
      "[1.         0.         0.68934542 0.31065455]\n",
      "4201 1799\n"
     ]
    }
   ],
   "source": [
    "data = np.column_stack((labels, preds))\n",
    "print(data[0])\n",
    "tot_e = len([i for i in data if i[0] == 1])\n",
    "tot_t = len([i for i in data if i[1] == 1])\n",
    "print(tot_e,tot_t)\n",
    "\n",
    "data2 = np.column_stack((labels2, preds2))\n",
    "print(data2[0])\n",
    "tot_e2 = len([i for i in data2 if i[0] == 1])\n",
    "tot_t2 = len([i for i in data2 if i[1] == 1])\n",
    "print(tot_e2,tot_t2)"
   ]
  },
  {
   "cell_type": "code",
   "execution_count": 6,
   "metadata": {},
   "outputs": [
    {
     "data": {
      "text/plain": [
       "4201"
      ]
     },
     "execution_count": 6,
     "metadata": {},
     "output_type": "execute_result"
    }
   ],
   "source": [
    "len([i for i in data if ((i[0] == 1) and (i[3] >= 0))])\n",
    "len([i for i in data2 if ((i[0] == 1) and (i[3] >= 0))])"
   ]
  },
  {
   "cell_type": "code",
   "execution_count": 7,
   "metadata": {},
   "outputs": [
    {
     "name": "stdout",
     "output_type": "stream",
     "text": [
      "[0.   0.01 0.02 0.03 0.04 0.05 0.06 0.07 0.08 0.09 0.1  0.11 0.12 0.13\n",
      " 0.14 0.15 0.16 0.17 0.18 0.19 0.2  0.21 0.22 0.23 0.24 0.25 0.26 0.27\n",
      " 0.28 0.29 0.3  0.31 0.32 0.33 0.34 0.35 0.36 0.37 0.38 0.39 0.4  0.41\n",
      " 0.42 0.43 0.44 0.45 0.46 0.47 0.48 0.49 0.5  0.51 0.52 0.53 0.54 0.55\n",
      " 0.56 0.57 0.58 0.59 0.6  0.61 0.62 0.63 0.64 0.65 0.66 0.67 0.68 0.69\n",
      " 0.7  0.71 0.72 0.73 0.74 0.75 0.76 0.77 0.78 0.79 0.8  0.81 0.82 0.83\n",
      " 0.84 0.85 0.86 0.87 0.88 0.89 0.9  0.91 0.92 0.93 0.94 0.95 0.96 0.97\n",
      " 0.98 0.99]\n"
     ]
    }
   ],
   "source": [
    "cuts = np.arange(0,1,0.01)\n",
    "print(cuts)"
   ]
  },
  {
   "cell_type": "code",
   "execution_count": 8,
   "metadata": {},
   "outputs": [],
   "source": [
    "plot_data = []\n",
    "for cut in cuts:\n",
    "    tp = len([i for i in data if (i[1] == 1) and (i[3] >= cut)])/tot_t*100\n",
    "    fp = len([i for i in data if (i[0] == 1) and (i[3] >= cut)])/tot_e*100\n",
    "    plot_data.append([cut,tp,fp])\n",
    "plot_data = np.stack(plot_data)\n",
    "\n",
    "plot_data2 = []\n",
    "for cut in cuts:\n",
    "    tp = len([i for i in data2 if (i[1] == 1) and (i[3] >= cut)])/tot_t2*100\n",
    "    fp = len([i for i in data2 if (i[0] == 1) and (i[3] >= cut)])/tot_e2*100\n",
    "    plot_data2.append([cut,tp,fp])\n",
    "plot_data2 = np.stack(plot_data2)"
   ]
  },
  {
   "cell_type": "code",
   "execution_count": 9,
   "metadata": {},
   "outputs": [
    {
     "name": "stdout",
     "output_type": "stream",
     "text": [
      "Cut = 0.00, Nutau = 100.0%, Nue = 0.0%\n",
      "Cut = 0.01, Nutau = 100.0%, Nue = 0.1%\n",
      "Cut = 0.02, Nutau = 99.9%, Nue = 0.1%\n",
      "Cut = 0.03, Nutau = 99.9%, Nue = 0.2%\n",
      "Cut = 0.04, Nutau = 99.9%, Nue = 0.3%\n",
      "Cut = 0.05, Nutau = 99.9%, Nue = 0.3%\n",
      "Cut = 0.06, Nutau = 99.8%, Nue = 0.5%\n",
      "Cut = 0.07, Nutau = 99.8%, Nue = 0.7%\n",
      "Cut = 0.08, Nutau = 99.8%, Nue = 1.0%\n",
      "Cut = 0.09, Nutau = 99.7%, Nue = 1.2%\n",
      "Cut = 0.10, Nutau = 99.6%, Nue = 1.5%\n",
      "Cut = 0.11, Nutau = 99.5%, Nue = 1.9%\n",
      "Cut = 0.12, Nutau = 99.4%, Nue = 2.4%\n",
      "Cut = 0.13, Nutau = 99.3%, Nue = 3.0%\n",
      "Cut = 0.14, Nutau = 99.1%, Nue = 3.7%\n",
      "Cut = 0.15, Nutau = 98.9%, Nue = 4.7%\n",
      "Cut = 0.16, Nutau = 98.6%, Nue = 5.7%\n",
      "Cut = 0.17, Nutau = 98.3%, Nue = 7.0%\n",
      "Cut = 0.18, Nutau = 97.9%, Nue = 8.5%\n",
      "Cut = 0.19, Nutau = 97.3%, Nue = 10.2%\n",
      "Cut = 0.20, Nutau = 96.7%, Nue = 12.2%\n",
      "Cut = 0.21, Nutau = 96.1%, Nue = 14.4%\n",
      "Cut = 0.22, Nutau = 95.3%, Nue = 16.6%\n",
      "Cut = 0.23, Nutau = 94.5%, Nue = 19.2%\n",
      "Cut = 0.24, Nutau = 93.5%, Nue = 21.6%\n",
      "Cut = 0.25, Nutau = 92.4%, Nue = 24.2%\n",
      "Cut = 0.26, Nutau = 91.1%, Nue = 26.5%\n",
      "Cut = 0.27, Nutau = 90.0%, Nue = 29.1%\n",
      "Cut = 0.28, Nutau = 88.9%, Nue = 31.5%\n",
      "Cut = 0.29, Nutau = 87.8%, Nue = 34.0%\n",
      "Cut = 0.30, Nutau = 86.9%, Nue = 36.1%\n",
      "Cut = 0.31, Nutau = 85.7%, Nue = 38.4%\n",
      "Cut = 0.32, Nutau = 84.6%, Nue = 40.5%\n",
      "Cut = 0.33, Nutau = 83.6%, Nue = 42.5%\n",
      "Cut = 0.34, Nutau = 82.6%, Nue = 44.7%\n",
      "Cut = 0.35, Nutau = 81.5%, Nue = 46.6%\n",
      "Cut = 0.36, Nutau = 80.3%, Nue = 48.4%\n",
      "Cut = 0.37, Nutau = 79.4%, Nue = 50.5%\n",
      "Cut = 0.38, Nutau = 78.4%, Nue = 52.5%\n",
      "Cut = 0.39, Nutau = 77.1%, Nue = 54.3%\n",
      "Cut = 0.40, Nutau = 75.9%, Nue = 56.1%\n",
      "Cut = 0.41, Nutau = 74.7%, Nue = 57.9%\n",
      "Cut = 0.42, Nutau = 73.3%, Nue = 59.6%\n",
      "Cut = 0.43, Nutau = 72.0%, Nue = 61.3%\n",
      "Cut = 0.44, Nutau = 70.6%, Nue = 62.9%\n",
      "Cut = 0.45, Nutau = 69.1%, Nue = 64.6%\n",
      "Cut = 0.46, Nutau = 67.7%, Nue = 66.2%\n",
      "Cut = 0.47, Nutau = 66.2%, Nue = 67.7%\n",
      "Cut = 0.48, Nutau = 64.3%, Nue = 69.1%\n",
      "Cut = 0.49, Nutau = 62.8%, Nue = 70.8%\n",
      "Cut = 0.50, Nutau = 61.0%, Nue = 72.5%\n",
      "Cut = 0.51, Nutau = 59.1%, Nue = 73.9%\n",
      "Cut = 0.52, Nutau = 57.3%, Nue = 75.8%\n",
      "Cut = 0.53, Nutau = 55.5%, Nue = 77.5%\n",
      "Cut = 0.54, Nutau = 53.4%, Nue = 79.3%\n",
      "Cut = 0.55, Nutau = 51.1%, Nue = 81.2%\n",
      "Cut = 0.56, Nutau = 48.3%, Nue = 83.2%\n",
      "Cut = 0.57, Nutau = 46.1%, Nue = 84.7%\n",
      "Cut = 0.58, Nutau = 44.2%, Nue = 86.0%\n",
      "Cut = 0.59, Nutau = 42.3%, Nue = 87.1%\n",
      "Cut = 0.60, Nutau = 40.5%, Nue = 88.4%\n",
      "Cut = 0.61, Nutau = 39.0%, Nue = 89.4%\n",
      "Cut = 0.62, Nutau = 37.4%, Nue = 90.4%\n",
      "Cut = 0.63, Nutau = 36.0%, Nue = 91.3%\n",
      "Cut = 0.64, Nutau = 34.7%, Nue = 92.1%\n",
      "Cut = 0.65, Nutau = 33.3%, Nue = 92.8%\n",
      "Cut = 0.66, Nutau = 32.0%, Nue = 93.5%\n",
      "Cut = 0.67, Nutau = 30.7%, Nue = 94.1%\n",
      "Cut = 0.68, Nutau = 29.4%, Nue = 94.7%\n",
      "Cut = 0.69, Nutau = 28.5%, Nue = 95.3%\n",
      "Cut = 0.70, Nutau = 27.5%, Nue = 95.8%\n",
      "Cut = 0.71, Nutau = 26.5%, Nue = 96.2%\n",
      "Cut = 0.72, Nutau = 25.4%, Nue = 96.6%\n",
      "Cut = 0.73, Nutau = 24.6%, Nue = 96.9%\n",
      "Cut = 0.74, Nutau = 23.6%, Nue = 97.2%\n",
      "Cut = 0.75, Nutau = 22.9%, Nue = 97.6%\n",
      "Cut = 0.76, Nutau = 22.2%, Nue = 97.8%\n",
      "Cut = 0.77, Nutau = 21.4%, Nue = 98.1%\n",
      "Cut = 0.78, Nutau = 20.7%, Nue = 98.3%\n",
      "Cut = 0.79, Nutau = 20.1%, Nue = 98.5%\n",
      "Cut = 0.80, Nutau = 19.6%, Nue = 98.6%\n",
      "Cut = 0.81, Nutau = 19.0%, Nue = 98.8%\n",
      "Cut = 0.82, Nutau = 18.4%, Nue = 98.9%\n",
      "Cut = 0.83, Nutau = 17.9%, Nue = 99.0%\n",
      "Cut = 0.84, Nutau = 17.4%, Nue = 99.2%\n",
      "Cut = 0.85, Nutau = 17.0%, Nue = 99.3%\n",
      "Cut = 0.86, Nutau = 16.4%, Nue = 99.4%\n",
      "Cut = 0.87, Nutau = 15.9%, Nue = 99.5%\n",
      "Cut = 0.88, Nutau = 15.5%, Nue = 99.5%\n",
      "Cut = 0.89, Nutau = 15.1%, Nue = 99.6%\n",
      "Cut = 0.90, Nutau = 14.6%, Nue = 99.7%\n",
      "Cut = 0.91, Nutau = 14.2%, Nue = 99.7%\n",
      "Cut = 0.92, Nutau = 13.7%, Nue = 99.8%\n",
      "Cut = 0.93, Nutau = 13.4%, Nue = 99.8%\n",
      "Cut = 0.94, Nutau = 12.8%, Nue = 99.8%\n",
      "Cut = 0.95, Nutau = 12.3%, Nue = 99.9%\n",
      "Cut = 0.96, Nutau = 11.7%, Nue = 99.9%\n",
      "Cut = 0.97, Nutau = 11.1%, Nue = 99.9%\n",
      "Cut = 0.98, Nutau = 10.5%, Nue = 99.9%\n",
      "Cut = 0.99, Nutau = 9.4%, Nue = 99.9%\n"
     ]
    }
   ],
   "source": [
    "for i in plot_data: \n",
    "    wrt = \"Cut = {0:.2f}, Nutau = {1:.1f}%, Nue = {2:.1f}%\".format(i[0],i[1],100-i[2])\n",
    "    print(wrt)"
   ]
  },
  {
   "cell_type": "code",
   "execution_count": 10,
   "metadata": {},
   "outputs": [
    {
     "name": "stdout",
     "output_type": "stream",
     "text": [
      "Cut = 0.00, Nutau = 100.0%, Nue = 0.0%\n",
      "Cut = 0.01, Nutau = 99.7%, Nue = 1.2%\n",
      "Cut = 0.02, Nutau = 99.4%, Nue = 2.1%\n",
      "Cut = 0.03, Nutau = 98.9%, Nue = 3.3%\n",
      "Cut = 0.04, Nutau = 98.0%, Nue = 4.4%\n",
      "Cut = 0.05, Nutau = 97.6%, Nue = 5.9%\n",
      "Cut = 0.06, Nutau = 96.9%, Nue = 7.8%\n",
      "Cut = 0.07, Nutau = 96.1%, Nue = 10.2%\n",
      "Cut = 0.08, Nutau = 95.8%, Nue = 12.7%\n",
      "Cut = 0.09, Nutau = 94.5%, Nue = 15.8%\n",
      "Cut = 0.10, Nutau = 93.6%, Nue = 19.4%\n",
      "Cut = 0.11, Nutau = 92.3%, Nue = 23.0%\n",
      "Cut = 0.12, Nutau = 91.0%, Nue = 26.2%\n",
      "Cut = 0.13, Nutau = 89.4%, Nue = 29.4%\n",
      "Cut = 0.14, Nutau = 87.7%, Nue = 31.9%\n",
      "Cut = 0.15, Nutau = 86.5%, Nue = 34.4%\n",
      "Cut = 0.16, Nutau = 84.8%, Nue = 36.7%\n",
      "Cut = 0.17, Nutau = 83.0%, Nue = 38.7%\n",
      "Cut = 0.18, Nutau = 81.8%, Nue = 41.3%\n",
      "Cut = 0.19, Nutau = 80.0%, Nue = 43.7%\n",
      "Cut = 0.20, Nutau = 78.6%, Nue = 46.0%\n",
      "Cut = 0.21, Nutau = 77.2%, Nue = 47.5%\n",
      "Cut = 0.22, Nutau = 75.9%, Nue = 49.3%\n",
      "Cut = 0.23, Nutau = 73.9%, Nue = 51.5%\n",
      "Cut = 0.24, Nutau = 72.7%, Nue = 53.4%\n",
      "Cut = 0.25, Nutau = 71.7%, Nue = 55.4%\n",
      "Cut = 0.26, Nutau = 70.3%, Nue = 57.4%\n",
      "Cut = 0.27, Nutau = 68.7%, Nue = 59.1%\n",
      "Cut = 0.28, Nutau = 67.0%, Nue = 60.7%\n",
      "Cut = 0.29, Nutau = 65.3%, Nue = 62.2%\n",
      "Cut = 0.30, Nutau = 62.7%, Nue = 63.9%\n",
      "Cut = 0.31, Nutau = 60.6%, Nue = 66.0%\n",
      "Cut = 0.32, Nutau = 58.3%, Nue = 68.7%\n",
      "Cut = 0.33, Nutau = 56.3%, Nue = 71.1%\n",
      "Cut = 0.34, Nutau = 52.9%, Nue = 73.8%\n",
      "Cut = 0.35, Nutau = 49.6%, Nue = 76.5%\n",
      "Cut = 0.36, Nutau = 46.4%, Nue = 79.3%\n",
      "Cut = 0.37, Nutau = 39.5%, Nue = 83.0%\n",
      "Cut = 0.38, Nutau = 36.1%, Nue = 85.3%\n",
      "Cut = 0.39, Nutau = 33.7%, Nue = 87.0%\n",
      "Cut = 0.40, Nutau = 32.1%, Nue = 88.3%\n",
      "Cut = 0.41, Nutau = 29.6%, Nue = 89.2%\n",
      "Cut = 0.42, Nutau = 28.7%, Nue = 90.2%\n",
      "Cut = 0.43, Nutau = 26.9%, Nue = 90.9%\n",
      "Cut = 0.44, Nutau = 25.6%, Nue = 91.7%\n",
      "Cut = 0.45, Nutau = 24.5%, Nue = 92.4%\n",
      "Cut = 0.46, Nutau = 23.4%, Nue = 93.0%\n",
      "Cut = 0.47, Nutau = 22.2%, Nue = 93.4%\n",
      "Cut = 0.48, Nutau = 21.3%, Nue = 93.7%\n",
      "Cut = 0.49, Nutau = 20.7%, Nue = 94.1%\n",
      "Cut = 0.50, Nutau = 19.9%, Nue = 94.5%\n",
      "Cut = 0.51, Nutau = 19.1%, Nue = 94.9%\n",
      "Cut = 0.52, Nutau = 17.9%, Nue = 95.3%\n",
      "Cut = 0.53, Nutau = 17.4%, Nue = 95.7%\n",
      "Cut = 0.54, Nutau = 16.7%, Nue = 96.1%\n",
      "Cut = 0.55, Nutau = 15.8%, Nue = 96.4%\n",
      "Cut = 0.56, Nutau = 15.3%, Nue = 96.5%\n",
      "Cut = 0.57, Nutau = 14.8%, Nue = 96.9%\n",
      "Cut = 0.58, Nutau = 14.2%, Nue = 97.1%\n",
      "Cut = 0.59, Nutau = 14.0%, Nue = 97.5%\n",
      "Cut = 0.60, Nutau = 13.8%, Nue = 97.8%\n",
      "Cut = 0.61, Nutau = 13.3%, Nue = 98.1%\n",
      "Cut = 0.62, Nutau = 12.9%, Nue = 98.2%\n",
      "Cut = 0.63, Nutau = 12.6%, Nue = 98.3%\n",
      "Cut = 0.64, Nutau = 12.2%, Nue = 98.4%\n",
      "Cut = 0.65, Nutau = 12.0%, Nue = 98.5%\n",
      "Cut = 0.66, Nutau = 12.0%, Nue = 98.5%\n",
      "Cut = 0.67, Nutau = 11.5%, Nue = 98.8%\n",
      "Cut = 0.68, Nutau = 11.5%, Nue = 98.8%\n",
      "Cut = 0.69, Nutau = 11.2%, Nue = 98.9%\n",
      "Cut = 0.70, Nutau = 10.5%, Nue = 99.0%\n",
      "Cut = 0.71, Nutau = 10.2%, Nue = 99.1%\n",
      "Cut = 0.72, Nutau = 9.7%, Nue = 99.2%\n",
      "Cut = 0.73, Nutau = 9.3%, Nue = 99.2%\n",
      "Cut = 0.74, Nutau = 9.1%, Nue = 99.2%\n",
      "Cut = 0.75, Nutau = 9.1%, Nue = 99.2%\n",
      "Cut = 0.76, Nutau = 8.8%, Nue = 99.3%\n",
      "Cut = 0.77, Nutau = 8.6%, Nue = 99.3%\n",
      "Cut = 0.78, Nutau = 8.5%, Nue = 99.3%\n",
      "Cut = 0.79, Nutau = 8.4%, Nue = 99.4%\n",
      "Cut = 0.80, Nutau = 8.0%, Nue = 99.5%\n",
      "Cut = 0.81, Nutau = 7.9%, Nue = 99.5%\n",
      "Cut = 0.82, Nutau = 7.6%, Nue = 99.5%\n",
      "Cut = 0.83, Nutau = 7.4%, Nue = 99.5%\n",
      "Cut = 0.84, Nutau = 7.2%, Nue = 99.5%\n",
      "Cut = 0.85, Nutau = 6.9%, Nue = 99.5%\n",
      "Cut = 0.86, Nutau = 6.8%, Nue = 99.6%\n",
      "Cut = 0.87, Nutau = 6.5%, Nue = 99.6%\n",
      "Cut = 0.88, Nutau = 6.4%, Nue = 99.6%\n",
      "Cut = 0.89, Nutau = 5.9%, Nue = 99.6%\n",
      "Cut = 0.90, Nutau = 5.8%, Nue = 99.6%\n",
      "Cut = 0.91, Nutau = 5.7%, Nue = 99.6%\n",
      "Cut = 0.92, Nutau = 5.6%, Nue = 99.7%\n",
      "Cut = 0.93, Nutau = 5.4%, Nue = 99.7%\n",
      "Cut = 0.94, Nutau = 5.3%, Nue = 99.7%\n",
      "Cut = 0.95, Nutau = 5.1%, Nue = 99.8%\n",
      "Cut = 0.96, Nutau = 4.9%, Nue = 99.8%\n",
      "Cut = 0.97, Nutau = 4.6%, Nue = 99.9%\n",
      "Cut = 0.98, Nutau = 4.3%, Nue = 99.9%\n",
      "Cut = 0.99, Nutau = 3.9%, Nue = 99.9%\n"
     ]
    }
   ],
   "source": [
    "for i in plot_data2: \n",
    "    wrt = \"Cut = {0:.2f}, Nutau = {1:.1f}%, Nue = {2:.1f}%\".format(i[0],i[1],100-i[2])\n",
    "    print(wrt)"
   ]
  },
  {
   "cell_type": "code",
   "execution_count": 18,
   "metadata": {},
   "outputs": [],
   "source": [
    "def Plot(arr1, arr2, name, bs =100):\n",
    "    fig = plt.figure(figsize=(7, 7),facecolor = \"w\")\n",
    "    ax = fig.add_subplot(111)\n",
    "    ax.set_title(name, fontsize = 14)\n",
    "    ax.set_ylabel(\"True positive, NuTau as NuTau\", fontsize = 14)                                                                                                                           \n",
    "    ax.set_xlabel(\"False positive, NuE as NuTau\", fontsize = 14)                                                   \n",
    "    ax.set_xlim(0,100)\n",
    "    ax.set_ylim(0,100)\n",
    "    plt.plot(arr1[:,2], arr1[:,1], label =\"1:1 ratio of NuTau to NuE events intraing set\")\n",
    "    plt.plot(arr2[:,2], arr2[:,1], label =\"1:2.5 ratio\")\n",
    "    plt.legend()"
   ]
  },
  {
   "cell_type": "code",
   "execution_count": 19,
   "metadata": {},
   "outputs": [
    {
     "data": {
      "image/png": "[encoded data removed]",
      "text/plain": [
       "<Figure size 504x504 with 1 Axes>"
      ]
     },
     "metadata": {},
     "output_type": "display_data"
    }
   ],
   "source": [
    "Plot(plot_data,plot_data2, \"Receiver operating characteristic for Tau Neutrino identification\")"
   ]
  },
  {
   "cell_type": "code",
   "execution_count": null,
   "metadata": {},
   "outputs": [],
   "source": []
  },
  {
   "cell_type": "code",
   "execution_count": 13,
   "metadata": {},
   "outputs": [
    {
     "name": "stdout",
     "output_type": "stream",
     "text": [
      "[[ 0.73       24.57577531  3.05724018]\n",
      " [ 0.74       23.6479144   2.75816233]\n",
      " [ 0.75       22.88723564  2.42585362]\n",
      " [ 0.76       22.15999331  2.1849298 ]\n",
      " [ 0.77       21.42439187  1.88585196]\n",
      " [ 0.78       20.74730419  1.71138988]\n",
      " [ 0.79       20.12037114  1.4870815 ]]\n"
     ]
    }
   ],
   "source": [
    "arr = [i for i in plot_data if (20 <= i[1] <= 25) ]\n",
    "arr = np.stack(arr)\n",
    "print(arr)"
   ]
  },
  {
   "cell_type": "code",
   "execution_count": 79,
   "metadata": {},
   "outputs": [
    {
     "name": "stdout",
     "output_type": "stream",
     "text": [
      "[[ 0.5        60.99640558 27.5234693 ]]\n"
     ]
    }
   ],
   "source": [
    "arr = [i for i in plot_data if (i[0] == 0.5) ]\n",
    "arr = np.stack(arr)\n",
    "print(arr)"
   ]
  },
  {
   "cell_type": "code",
   "execution_count": null,
   "metadata": {},
   "outputs": [],
   "source": []
  }
 ],
 "metadata": {
  "kernelspec": {
   "display_name": "Python 3",
   "language": "python",
   "name": "python3"
  },
  "language_info": {
   "codemirror_mode": {
    "name": "ipython",
    "version": 3
   },
   "file_extension": ".py",
   "mimetype": "text/x-python",
   "name": "python",
   "nbconvert_exporter": "python",
   "pygments_lexer": "ipython3",
   "version": "3.7.4"
  }
 },
 "nbformat": 4,
 "nbformat_minor": 4
}
