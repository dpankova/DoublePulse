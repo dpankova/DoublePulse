{
 "cells": [
  {
   "cell_type": "code",
   "execution_count": 1,
   "metadata": {},
   "outputs": [
    {
     "name": "stderr",
     "output_type": "stream",
     "text": [
      "Using TensorFlow backend.\n"
     ]
    }
   ],
   "source": [
    "import keras\n",
    "from keras.datasets import imdb\n",
    "import numpy as np"
   ]
  },
  {
   "cell_type": "code",
   "execution_count": 2,
   "metadata": {},
   "outputs": [],
   "source": [
    "np_load_old = np.load\n",
    "np.load = lambda *a,**k: np_load_old(*a, allow_pickle=True, **k)\n",
    "(train_data, train_labels), (test_data, test_labels) = imdb.load_data(num_words=10000)\n",
    "np.load = np_load_old"
   ]
  },
  {
   "cell_type": "code",
   "execution_count": 16,
   "metadata": {},
   "outputs": [
    {
     "name": "stdout",
     "output_type": "stream",
     "text": [
      "25000\n"
     ]
    },
    {
     "data": {
      "text/plain": [
       "9999"
      ]
     },
     "execution_count": 16,
     "metadata": {},
     "output_type": "execute_result"
    }
   ],
   "source": [
    "print(len(train_data))\n",
    "max([max(seq) for seq in train_data])"
   ]
  },
  {
   "cell_type": "code",
   "execution_count": 4,
   "metadata": {},
   "outputs": [],
   "source": [
    "word_index = imdb.get_word_index()\n",
    "reverse_word_index = dict([(value,key) for (key,value) in word_index.items()])"
   ]
  },
  {
   "cell_type": "code",
   "execution_count": 5,
   "metadata": {},
   "outputs": [
    {
     "name": "stdout",
     "output_type": "stream",
     "text": [
      "? this film was just brilliant casting location scenery story direction everyone's really suited the part they played and you could just imagine being there robert ? is an amazing actor and now the same being director ? father came from the same scottish island as myself so i loved the fact there was a real connection with this film the witty remarks throughout the film were great it was just brilliant so much that i bought the film as soon as it was released for ? and would recommend it to everyone to watch and the fly fishing was amazing really cried at the end it was so sad and you know what they say if you cry at a film it must have been good and this definitely was also ? to the two little boy's that played the ? of norman and paul they were just brilliant children are often left out of the ? list i think because the stars that play them all grown up are such a big profile for the whole film but these children are amazing and should be praised for what they have done don't you think the whole story was so lovely because it was true and was someone's life after all that was shared with us all\n"
     ]
    }
   ],
   "source": [
    "decoded_review_0 = ' '.join([reverse_word_index.get(i-3,\"?\") for i in train_data[0]])\n",
    "print(decoded_review_0)"
   ]
  },
  {
   "cell_type": "code",
   "execution_count": 6,
   "metadata": {},
   "outputs": [],
   "source": [
    "def vectorize_seqs(seqs, dimension=10000):\n",
    "    results = np.zeros((len(seqs),dimension))\n",
    "    for i,seq in enumerate(seqs):\n",
    "        results[i,seq] = 1\n",
    "    return results"
   ]
  },
  {
   "cell_type": "code",
   "execution_count": 7,
   "metadata": {},
   "outputs": [],
   "source": [
    "x_train = vectorize_seqs(train_data)\n",
    "x_test = vectorize_seqs(test_data)"
   ]
  },
  {
   "cell_type": "code",
   "execution_count": 8,
   "metadata": {},
   "outputs": [
    {
     "data": {
      "text/plain": [
       "array([0., 1., 1., ..., 0., 0., 0.])"
      ]
     },
     "execution_count": 8,
     "metadata": {},
     "output_type": "execute_result"
    }
   ],
   "source": [
    "x_train[0]"
   ]
  },
  {
   "cell_type": "code",
   "execution_count": 12,
   "metadata": {},
   "outputs": [],
   "source": [
    "y_train = np.asarray(train_labels).astype('float32')\n",
    "y_test = np.asarray(test_labels).astype('float32')"
   ]
  },
  {
   "cell_type": "code",
   "execution_count": 9,
   "metadata": {},
   "outputs": [],
   "source": [
    "from keras import models\n",
    "from keras import layers"
   ]
  },
  {
   "cell_type": "code",
   "execution_count": 71,
   "metadata": {},
   "outputs": [],
   "source": [
    "network = models.Sequential()\n",
    "network.add(layers.Dense(16, activation = 'relu', input_shape = (10000,)))\n",
    "network.add(layers.Dense(16, activation = 'relu'))\n",
    "network.add(layers.Dense(1, activation = 'sigmoid'))\n",
    "network.compile(optimizer='rmsprop', loss='binary_crossentropy', metrics=['accuracy'])"
   ]
  },
  {
   "cell_type": "code",
   "execution_count": 57,
   "metadata": {},
   "outputs": [],
   "source": [
    "x_val = x_train[:10000]\n",
    "part_x_train = x_train[10000:]"
   ]
  },
  {
   "cell_type": "code",
   "execution_count": 15,
   "metadata": {},
   "outputs": [],
   "source": [
    "y_val = y_train[:10000]\n",
    "part_y_train = y_train[10000:]"
   ]
  },
  {
   "cell_type": "code",
   "execution_count": 72,
   "metadata": {},
   "outputs": [
    {
     "name": "stdout",
     "output_type": "stream",
     "text": [
      "Train on 15000 samples, validate on 10000 samples\n",
      "Epoch 1/20\n",
      "15000/15000 [==============================] - 2s 102us/step - loss: 0.9311 - acc: 0.6667 - val_loss: 0.4307 - val_acc: 0.8139\n",
      "Epoch 2/20\n",
      "15000/15000 [==============================] - 1s 84us/step - loss: 0.3486 - acc: 0.8445 - val_loss: 0.4165 - val_acc: 0.7929\n",
      "Epoch 3/20\n",
      "15000/15000 [==============================] - 1s 80us/step - loss: 0.2602 - acc: 0.8161 - val_loss: 0.4073 - val_acc: 0.7540\n",
      "Epoch 4/20\n",
      "15000/15000 [==============================] - 1s 77us/step - loss: 0.2112 - acc: 0.7621 - val_loss: 0.3679 - val_acc: 0.7314\n",
      "Epoch 5/20\n",
      "15000/15000 [==============================] - 1s 82us/step - loss: 0.1713 - acc: 0.7339 - val_loss: 0.4313 - val_acc: 0.6765\n",
      "Epoch 6/20\n",
      "15000/15000 [==============================] - 1s 80us/step - loss: 0.1492 - acc: 0.7060 - val_loss: 0.5772 - val_acc: 0.6211\n",
      "Epoch 7/20\n",
      "15000/15000 [==============================] - 1s 81us/step - loss: 0.1226 - acc: 0.6852 - val_loss: 0.4466 - val_acc: 0.6397\n",
      "Epoch 8/20\n",
      "15000/15000 [==============================] - 1s 77us/step - loss: 0.1054 - acc: 0.6729 - val_loss: 0.5560 - val_acc: 0.5993\n",
      "Epoch 9/20\n",
      "15000/15000 [==============================] - 1s 78us/step - loss: 0.0957 - acc: 0.6611 - val_loss: 0.4905 - val_acc: 0.6255\n",
      "Epoch 10/20\n",
      "15000/15000 [==============================] - 1s 81us/step - loss: 0.0700 - acc: 0.6438 - val_loss: 0.5414 - val_acc: 0.6068\n",
      "Epoch 11/20\n",
      "15000/15000 [==============================] - 1s 83us/step - loss: 0.0721 - acc: 0.6266 - val_loss: 0.5809 - val_acc: 0.5920\n",
      "Epoch 12/20\n",
      "15000/15000 [==============================] - 1s 76us/step - loss: 0.0527 - acc: 0.6178 - val_loss: 0.6319 - val_acc: 0.5751\n",
      "Epoch 13/20\n",
      "15000/15000 [==============================] - 1s 76us/step - loss: 0.0543 - acc: 0.6077 - val_loss: 0.7276 - val_acc: 0.5452\n",
      "Epoch 14/20\n",
      "15000/15000 [==============================] - 1s 81us/step - loss: 0.0459 - acc: 0.5941 - val_loss: 0.7164 - val_acc: 0.5559\n",
      "Epoch 15/20\n",
      "15000/15000 [==============================] - 1s 80us/step - loss: 0.0480 - acc: 0.5849 - val_loss: 0.7723 - val_acc: 0.5409\n",
      "Epoch 16/20\n",
      "15000/15000 [==============================] - 1s 85us/step - loss: 0.0511 - acc: 0.5679 - val_loss: 0.7595 - val_acc: 0.5457\n",
      "Epoch 17/20\n",
      "15000/15000 [==============================] - 1s 80us/step - loss: 0.0373 - acc: 0.5613 - val_loss: 1.1124 - val_acc: 0.4818\n",
      "Epoch 18/20\n",
      "15000/15000 [==============================] - 1s 76us/step - loss: 0.0434 - acc: 0.5541 - val_loss: 0.8342 - val_acc: 0.5349\n",
      "Epoch 19/20\n",
      "15000/15000 [==============================] - 1s 79us/step - loss: 0.0375 - acc: 0.5518 - val_loss: 0.8743 - val_acc: 0.5299\n",
      "Epoch 20/20\n",
      "15000/15000 [==============================] - 1s 80us/step - loss: 0.0385 - acc: 0.5472 - val_loss: 0.9780 - val_acc: 0.5057\n"
     ]
    }
   ],
   "source": [
    "history = network.fit(part_x_train, part_y_train, epochs = 20, batch_size = 512, validation_data=(x_val,y_val))"
   ]
  },
  {
   "cell_type": "code",
   "execution_count": 73,
   "metadata": {},
   "outputs": [
    {
     "data": {
      "text/plain": [
       "dict_keys(['val_loss', 'val_acc', 'loss', 'acc'])"
      ]
     },
     "execution_count": 73,
     "metadata": {},
     "output_type": "execute_result"
    }
   ],
   "source": [
    "history_dict = history.history\n",
    "history_dict.keys()"
   ]
  },
  {
   "cell_type": "code",
   "execution_count": 74,
   "metadata": {},
   "outputs": [],
   "source": [
    "from matplotlib import pyplot as plt"
   ]
  },
  {
   "cell_type": "code",
   "execution_count": 75,
   "metadata": {},
   "outputs": [
    {
     "data": {
      "image/png": "[encoded data removed]",
      "text/plain": [
       "<Figure size 432x288 with 1 Axes>"
      ]
     },
     "metadata": {
      "needs_background": "light"
     },
     "output_type": "display_data"
    }
   ],
   "source": [
    "loss_values = history_dict['loss']\n",
    "val_loss_values = history_dict['val_loss']\n",
    "epochs = range(1,20+1)\n",
    "plt.plot(epochs,loss_values, \"bo\", label = \"training_loss\")\n",
    "plt.plot(epochs,val_loss_values, \"b\", label = \"validation_loss\")\n",
    "plt.title('Training and validation loss')\n",
    "plt.xlabel(\"Epochs\")\n",
    "plt.ylabel(\"Loss\")\n",
    "plt.legend()\n",
    "plt.show()"
   ]
  },
  {
   "cell_type": "code",
   "execution_count": 76,
   "metadata": {},
   "outputs": [
    {
     "data": {
      "image/png": "[encoded data removed]",
      "text/plain": [
       "<Figure size 432x288 with 1 Axes>"
      ]
     },
     "metadata": {
      "needs_background": "light"
     },
     "output_type": "display_data"
    }
   ],
   "source": [
    "plt.clf()\n",
    "acc_values = history_dict['acc']\n",
    "val_acc_values = history_dict['val_acc']\n",
    "plt.plot(epochs,acc_values, \"bo\", label = \"training_acc\")\n",
    "plt.plot(epochs,val_acc_values, \"b\", label = \"validation_acc\")\n",
    "plt.title('Training and validation accuracy')\n",
    "plt.xlabel(\"Epochs\")\n",
    "plt.ylabel(\"acc\")\n",
    "plt.legend()\n",
    "plt.show()"
   ]
  },
  {
   "cell_type": "code",
   "execution_count": 69,
   "metadata": {},
   "outputs": [
    {
     "name": "stdout",
     "output_type": "stream",
     "text": [
      "Epoch 1/2\n",
      "25000/25000 [==============================] - 1s 54us/step - loss: 0.0450 - acc: 0.9470\n",
      "Epoch 2/2\n",
      "25000/25000 [==============================] - 1s 51us/step - loss: 0.0333 - acc: 0.9620\n"
     ]
    },
    {
     "data": {
      "text/plain": [
       "<keras.callbacks.History at 0x7f219db5fcf8>"
      ]
     },
     "execution_count": 69,
     "metadata": {},
     "output_type": "execute_result"
    }
   ],
   "source": [
    "network.fit(x_train, y_train, epochs = 2, batch_size = 512)"
   ]
  },
  {
   "cell_type": "code",
   "execution_count": 54,
   "metadata": {},
   "outputs": [
    {
     "name": "stdout",
     "output_type": "stream",
     "text": [
      "25000/25000 [==============================] - 1s 59us/step\n"
     ]
    }
   ],
   "source": [
    "results = network.evaluate(x_test,y_test)"
   ]
  },
  {
   "cell_type": "code",
   "execution_count": 55,
   "metadata": {},
   "outputs": [
    {
     "data": {
      "text/plain": [
       "[0.41621094836711886, 0.86068]"
      ]
     },
     "execution_count": 55,
     "metadata": {},
     "output_type": "execute_result"
    }
   ],
   "source": [
    "results"
   ]
  },
  {
   "cell_type": "code",
   "execution_count": 30,
   "metadata": {},
   "outputs": [],
   "source": [
    "y_test_pred = network.predict(x_test)"
   ]
  },
  {
   "cell_type": "code",
   "execution_count": 37,
   "metadata": {},
   "outputs": [
    {
     "name": "stdout",
     "output_type": "stream",
     "text": [
      "? please give this one a miss br br ? ? and the rest of the cast rendered terrible performances the show is flat flat flat br br i don't know how michael madison could have allowed this one on his plate he almost seemed to know this wasn't going to work out and his performance was quite ? so all you madison fans give this a miss\n",
      "[0.01991177]\n"
     ]
    }
   ],
   "source": [
    "decoded_review_1 = ' '.join([reverse_word_index.get(i-3,\"?\") for i in test_data[0]])\n",
    "print(decoded_review_1)\n",
    "print(y_test_pred[0])"
   ]
  },
  {
   "cell_type": "code",
   "execution_count": null,
   "metadata": {},
   "outputs": [],
   "source": []
  }
 ],
 "metadata": {
  "kernelspec": {
   "display_name": "Python 3",
   "language": "python",
   "name": "python3"
  },
  "language_info": {
   "codemirror_mode": {
    "name": "ipython",
    "version": 3
   },
   "file_extension": ".py",
   "mimetype": "text/x-python",
   "name": "python",
   "nbconvert_exporter": "python",
   "pygments_lexer": "ipython3",
   "version": "3.7.3"
  }
 },
 "nbformat": 4,
 "nbformat_minor": 2
}
