{
 "cells": [
  {
   "cell_type": "code",
   "execution_count": 2,
   "metadata": {},
   "outputs": [],
   "source": [
    "import keras\n",
    "from keras.datasets import reuters\n",
    "import numpy as np"
   ]
  },
  {
   "cell_type": "code",
   "execution_count": 3,
   "metadata": {},
   "outputs": [
    {
     "name": "stdout",
     "output_type": "stream",
     "text": [
      "Downloading data from https://s3.amazonaws.com/text-datasets/reuters.npz\n",
      "2113536/2110848 [==============================] - 2s 1us/step\n"
     ]
    }
   ],
   "source": [
    "np_load_old = np.load\n",
    "np.load = lambda *a,**k: np_load_old(*a, allow_pickle=True, **k)\n",
    "(train_data, train_labels), (test_data, test_labels) = reuters.load_data(num_words=10000)\n",
    "np.load = np_load_old"
   ]
  },
  {
   "cell_type": "code",
   "execution_count": 5,
   "metadata": {},
   "outputs": [
    {
     "name": "stdout",
     "output_type": "stream",
     "text": [
      "8982 2246\n"
     ]
    },
    {
     "data": {
      "text/plain": [
       "9999"
      ]
     },
     "execution_count": 5,
     "metadata": {},
     "output_type": "execute_result"
    }
   ],
   "source": [
    "print(len(train_data), len(test_data))\n",
    "max([max(seq) for seq in train_data])"
   ]
  },
  {
   "cell_type": "code",
   "execution_count": 8,
   "metadata": {},
   "outputs": [
    {
     "name": "stdout",
     "output_type": "stream",
     "text": [
      "[1, 2, 2, 8, 43, 10, 447, 5, 25, 207, 270, 5, 3095, 111, 16, 369, 186, 90, 67, 7, 89, 5, 19, 102, 6, 19, 124, 15, 90, 67, 84, 22, 482, 26, 7, 48, 4, 49, 8, 864, 39, 209, 154, 6, 151, 6, 83, 11, 15, 22, 155, 11, 15, 7, 48, 9, 4579, 1005, 504, 6, 258, 6, 272, 11, 15, 22, 134, 44, 11, 15, 16, 8, 197, 1245, 90, 67, 52, 29, 209, 30, 32, 132, 6, 109, 15, 17, 12] 3\n"
     ]
    }
   ],
   "source": [
    "print(train_data[0], train_labels[0])"
   ]
  },
  {
   "cell_type": "code",
   "execution_count": 6,
   "metadata": {},
   "outputs": [
    {
     "name": "stdout",
     "output_type": "stream",
     "text": [
      "Downloading data from https://s3.amazonaws.com/text-datasets/reuters_word_index.json\n",
      "557056/550378 [==============================] - 0s 0us/step\n"
     ]
    }
   ],
   "source": [
    "word_index = reuters.get_word_index()\n",
    "reverse_word_index = dict([(value,key) for (key,value) in word_index.items()])"
   ]
  },
  {
   "cell_type": "code",
   "execution_count": 7,
   "metadata": {},
   "outputs": [
    {
     "name": "stdout",
     "output_type": "stream",
     "text": [
      "? ? ? said as a result of its december acquisition of space co it expects earnings per share in 1987 of 1 15 to 1 30 dlrs per share up from 70 cts in 1986 the company said pretax net should rise to nine to 10 mln dlrs from six mln dlrs in 1986 and rental operation revenues to 19 to 22 mln dlrs from 12 5 mln dlrs it said cash flow per share this year should be 2 50 to three dlrs reuter 3\n"
     ]
    }
   ],
   "source": [
    "decoded_review_0 = ' '.join([reverse_word_index.get(i-3,\"?\") for i in train_data[0]])\n",
    "print(decoded_review_0)"
   ]
  },
  {
   "cell_type": "code",
   "execution_count": 9,
   "metadata": {},
   "outputs": [],
   "source": [
    "def vectorize_seqs(seqs, dimension=10000):\n",
    "    results = np.zeros((len(seqs),dimension))\n",
    "    for i,seq in enumerate(seqs):\n",
    "        results[i,seq] = 1\n",
    "    return results"
   ]
  },
  {
   "cell_type": "code",
   "execution_count": 10,
   "metadata": {},
   "outputs": [],
   "source": [
    "x_train = vectorize_seqs(train_data)\n",
    "x_test = vectorize_seqs(test_data)"
   ]
  },
  {
   "cell_type": "code",
   "execution_count": 26,
   "metadata": {},
   "outputs": [
    {
     "data": {
      "text/plain": [
       "8982"
      ]
     },
     "execution_count": 26,
     "metadata": {},
     "output_type": "execute_result"
    }
   ],
   "source": [
    "len(x_train)"
   ]
  },
  {
   "cell_type": "code",
   "execution_count": 27,
   "metadata": {},
   "outputs": [],
   "source": [
    "def to_one_hot(labels, dimension=46):\n",
    "    results = np.zeros((len(labels),dimension))\n",
    "    for i,labels in enumerate(labels):\n",
    "        results[i,labels] = 1\n",
    "    return results"
   ]
  },
  {
   "cell_type": "code",
   "execution_count": 28,
   "metadata": {},
   "outputs": [],
   "source": [
    "y_one_hot_train = to_one_hot(train_labels)\n",
    "y_one_hot_test = to_one_hot(test_labels)"
   ]
  },
  {
   "cell_type": "code",
   "execution_count": 29,
   "metadata": {},
   "outputs": [],
   "source": [
    "from keras import models\n",
    "from keras import layers"
   ]
  },
  {
   "cell_type": "code",
   "execution_count": 30,
   "metadata": {},
   "outputs": [],
   "source": [
    "network = models.Sequential()\n",
    "network.add(layers.Dense(64, activation = 'relu', input_shape = (10000,)))\n",
    "network.add(layers.Dense(64, activation = 'relu'))\n",
    "network.add(layers.Dense(46, activation = 'softmax'))\n",
    "network.compile(optimizer='rmsprop', loss='binary_crossentropy', metrics=['accuracy'])"
   ]
  },
  {
   "cell_type": "code",
   "execution_count": 37,
   "metadata": {},
   "outputs": [
    {
     "name": "stdout",
     "output_type": "stream",
     "text": [
      "1000 7982\n"
     ]
    }
   ],
   "source": [
    "x_val = x_train[:1000]\n",
    "part_x_train = x_train[1000:]\n",
    "print(len(x_val),len(part_x_train))"
   ]
  },
  {
   "cell_type": "code",
   "execution_count": 36,
   "metadata": {},
   "outputs": [
    {
     "name": "stdout",
     "output_type": "stream",
     "text": [
      "1000 7982\n"
     ]
    }
   ],
   "source": [
    "y_val = y_one_hot_train[:1000]\n",
    "part_y_train = y_one_hot_train[1000:]\n",
    "print(len(y_val),len(part_y_train))"
   ]
  },
  {
   "cell_type": "code",
   "execution_count": 38,
   "metadata": {},
   "outputs": [
    {
     "name": "stdout",
     "output_type": "stream",
     "text": [
      "Train on 7982 samples, validate on 1000 samples\n",
      "Epoch 1/20\n",
      "7982/7982 [==============================] - 2s 262us/step - loss: 0.0724 - acc: 0.9807 - val_loss: 0.0502 - val_acc: 0.9857\n",
      "Epoch 2/20\n",
      "7982/7982 [==============================] - 1s 82us/step - loss: 0.0425 - acc: 0.9888 - val_loss: 0.0394 - val_acc: 0.9898\n",
      "Epoch 3/20\n",
      "7982/7982 [==============================] - 1s 81us/step - loss: 0.0333 - acc: 0.9911 - val_loss: 0.0355 - val_acc: 0.9905\n",
      "Epoch 4/20\n",
      "7982/7982 [==============================] - 1s 85us/step - loss: 0.0271 - acc: 0.9925 - val_loss: 0.0332 - val_acc: 0.9911\n",
      "Epoch 5/20\n",
      "7982/7982 [==============================] - 1s 86us/step - loss: 0.0225 - acc: 0.9936 - val_loss: 0.0322 - val_acc: 0.9909\n",
      "Epoch 6/20\n",
      "7982/7982 [==============================] - 1s 87us/step - loss: 0.0186 - acc: 0.9945 - val_loss: 0.0305 - val_acc: 0.9913\n",
      "Epoch 7/20\n",
      "7982/7982 [==============================] - 1s 88us/step - loss: 0.0157 - acc: 0.9954 - val_loss: 0.0302 - val_acc: 0.9915\n",
      "Epoch 8/20\n",
      "7982/7982 [==============================] - 1s 87us/step - loss: 0.0132 - acc: 0.9960 - val_loss: 0.0300 - val_acc: 0.9919\n",
      "Epoch 9/20\n",
      "7982/7982 [==============================] - 1s 87us/step - loss: 0.0112 - acc: 0.9964 - val_loss: 0.0304 - val_acc: 0.9921\n",
      "Epoch 10/20\n",
      "7982/7982 [==============================] - 1s 88us/step - loss: 0.0097 - acc: 0.9970 - val_loss: 0.0307 - val_acc: 0.9922\n",
      "Epoch 11/20\n",
      "7982/7982 [==============================] - 1s 87us/step - loss: 0.0083 - acc: 0.9973 - val_loss: 0.0316 - val_acc: 0.9921\n",
      "Epoch 12/20\n",
      "7982/7982 [==============================] - 1s 87us/step - loss: 0.0076 - acc: 0.9976 - val_loss: 0.0322 - val_acc: 0.9921\n",
      "Epoch 13/20\n",
      "7982/7982 [==============================] - 1s 96us/step - loss: 0.0068 - acc: 0.9977 - val_loss: 0.0331 - val_acc: 0.9921\n",
      "Epoch 14/20\n",
      "7982/7982 [==============================] - 1s 94us/step - loss: 0.0063 - acc: 0.9979 - val_loss: 0.0326 - val_acc: 0.9920\n",
      "Epoch 15/20\n",
      "7982/7982 [==============================] - 1s 89us/step - loss: 0.0059 - acc: 0.9979 - val_loss: 0.0356 - val_acc: 0.9915\n",
      "Epoch 16/20\n",
      "7982/7982 [==============================] - 1s 87us/step - loss: 0.0055 - acc: 0.9980 - val_loss: 0.0349 - val_acc: 0.9921\n",
      "Epoch 17/20\n",
      "7982/7982 [==============================] - 1s 87us/step - loss: 0.0051 - acc: 0.9980 - val_loss: 0.0347 - val_acc: 0.9920\n",
      "Epoch 18/20\n",
      "7982/7982 [==============================] - 1s 86us/step - loss: 0.0049 - acc: 0.9980 - val_loss: 0.0355 - val_acc: 0.9921\n",
      "Epoch 19/20\n",
      "7982/7982 [==============================] - 1s 86us/step - loss: 0.0048 - acc: 0.9981 - val_loss: 0.0348 - val_acc: 0.9922\n",
      "Epoch 20/20\n",
      "7982/7982 [==============================] - 1s 86us/step - loss: 0.0046 - acc: 0.9981 - val_loss: 0.0348 - val_acc: 0.9920\n"
     ]
    }
   ],
   "source": [
    "history = network.fit(part_x_train, part_y_train, epochs = 20, batch_size = 512, validation_data=(x_val,y_val))"
   ]
  },
  {
   "cell_type": "code",
   "execution_count": 39,
   "metadata": {},
   "outputs": [
    {
     "data": {
      "text/plain": [
       "dict_keys(['val_loss', 'val_acc', 'loss', 'acc'])"
      ]
     },
     "execution_count": 39,
     "metadata": {},
     "output_type": "execute_result"
    }
   ],
   "source": [
    "history_dict = history.history\n",
    "history_dict.keys()"
   ]
  },
  {
   "cell_type": "code",
   "execution_count": 40,
   "metadata": {},
   "outputs": [],
   "source": [
    "from matplotlib import pyplot as plt"
   ]
  },
  {
   "cell_type": "code",
   "execution_count": 41,
   "metadata": {},
   "outputs": [
    {
     "data": {
      "image/png": "[encoded data removed]",
      "text/plain": [
       "<Figure size 432x288 with 1 Axes>"
      ]
     },
     "metadata": {
      "needs_background": "light"
     },
     "output_type": "display_data"
    }
   ],
   "source": [
    "loss_values = history_dict['loss']\n",
    "val_loss_values = history_dict['val_loss']\n",
    "epochs = range(1,20+1)\n",
    "plt.plot(epochs,loss_values, \"bo\", label = \"training_loss\")\n",
    "plt.plot(epochs,val_loss_values, \"b\", label = \"validation_loss\")\n",
    "plt.title('Training and validation loss')\n",
    "plt.xlabel(\"Epochs\")\n",
    "plt.ylabel(\"Loss\")\n",
    "plt.legend()\n",
    "plt.show()"
   ]
  },
  {
   "cell_type": "code",
   "execution_count": 42,
   "metadata": {},
   "outputs": [
    {
     "data": {
      "image/png": "[encoded data removed]",
      "text/plain": [
       "<Figure size 432x288 with 1 Axes>"
      ]
     },
     "metadata": {
      "needs_background": "light"
     },
     "output_type": "display_data"
    }
   ],
   "source": [
    "plt.clf()\n",
    "acc_values = history_dict['acc']\n",
    "val_acc_values = history_dict['val_acc']\n",
    "plt.plot(epochs,acc_values, \"bo\", label = \"training_acc\")\n",
    "plt.plot(epochs,val_acc_values, \"b\", label = \"validation_acc\")\n",
    "plt.title('Training and validation accuracy')\n",
    "plt.xlabel(\"Epochs\")\n",
    "plt.ylabel(\"acc\")\n",
    "plt.legend()\n",
    "plt.show()"
   ]
  },
  {
   "cell_type": "code",
   "execution_count": 44,
   "metadata": {},
   "outputs": [
    {
     "name": "stdout",
     "output_type": "stream",
     "text": [
      "Epoch 1/9\n",
      "8982/8982 [==============================] - 1s 80us/step - loss: 0.0078 - acc: 0.9975\n",
      "Epoch 2/9\n",
      "8982/8982 [==============================] - 1s 96us/step - loss: 0.0066 - acc: 0.9977\n",
      "Epoch 3/9\n",
      "8982/8982 [==============================] - 1s 92us/step - loss: 0.0059 - acc: 0.9978\n",
      "Epoch 4/9\n",
      "8982/8982 [==============================] - 1s 93us/step - loss: 0.0053 - acc: 0.9979\n",
      "Epoch 5/9\n",
      "8982/8982 [==============================] - 1s 89us/step - loss: 0.0051 - acc: 0.9980\n",
      "Epoch 6/9\n",
      "8982/8982 [==============================] - 1s 93us/step - loss: 0.0049 - acc: 0.9980\n",
      "Epoch 7/9\n",
      "8982/8982 [==============================] - 1s 92us/step - loss: 0.0046 - acc: 0.9981\n",
      "Epoch 8/9\n",
      "8982/8982 [==============================] - 1s 87us/step - loss: 0.0045 - acc: 0.9980\n",
      "Epoch 9/9\n",
      "8982/8982 [==============================] - 1s 91us/step - loss: 0.0045 - acc: 0.9981\n"
     ]
    },
    {
     "data": {
      "text/plain": [
       "<keras.callbacks.History at 0x7f45b2f974a8>"
      ]
     },
     "execution_count": 44,
     "metadata": {},
     "output_type": "execute_result"
    }
   ],
   "source": [
    "network.fit(x_train, y_one_hot_train, epochs = 9, batch_size = 512)"
   ]
  },
  {
   "cell_type": "code",
   "execution_count": 45,
   "metadata": {},
   "outputs": [
    {
     "name": "stdout",
     "output_type": "stream",
     "text": [
      "2246/2246 [==============================] - 0s 91us/step\n"
     ]
    }
   ],
   "source": [
    "results = network.evaluate(x_test,y_one_hot_test)"
   ]
  },
  {
   "cell_type": "code",
   "execution_count": 46,
   "metadata": {},
   "outputs": [
    {
     "data": {
      "text/plain": [
       "[0.04138668897899261, 0.9913469452148872]"
      ]
     },
     "execution_count": 46,
     "metadata": {},
     "output_type": "execute_result"
    }
   ],
   "source": [
    "results"
   ]
  },
  {
   "cell_type": "code",
   "execution_count": 30,
   "metadata": {},
   "outputs": [],
   "source": [
    "y_test_pred = network.predict(x_test)"
   ]
  },
  {
   "cell_type": "code",
   "execution_count": 37,
   "metadata": {},
   "outputs": [
    {
     "name": "stdout",
     "output_type": "stream",
     "text": [
      "? please give this one a miss br br ? ? and the rest of the cast rendered terrible performances the show is flat flat flat br br i don't know how michael madison could have allowed this one on his plate he almost seemed to know this wasn't going to work out and his performance was quite ? so all you madison fans give this a miss\n",
      "[0.01991177]\n"
     ]
    }
   ],
   "source": [
    "decoded_review_1 = ' '.join([reverse_word_index.get(i-3,\"?\") for i in test_data[0]])\n",
    "print(decoded_review_1)\n",
    "print(y_test_pred[0])"
   ]
  },
  {
   "cell_type": "code",
   "execution_count": null,
   "metadata": {},
   "outputs": [],
   "source": []
  }
 ],
 "metadata": {
  "kernelspec": {
   "display_name": "Python 3",
   "language": "python",
   "name": "python3"
  },
  "language_info": {
   "codemirror_mode": {
    "name": "ipython",
    "version": 3
   },
   "file_extension": ".py",
   "mimetype": "text/x-python",
   "name": "python",
   "nbconvert_exporter": "python",
   "pygments_lexer": "ipython3",
   "version": "3.7.3"
  }
 },
 "nbformat": 4,
 "nbformat_minor": 2
}
