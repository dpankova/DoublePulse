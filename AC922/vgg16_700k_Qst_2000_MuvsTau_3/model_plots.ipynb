{
 "cells": [
  {
   "cell_type": "markdown",
   "metadata": {},
   "source": [
    "### Look in a little more detail at an already trained model"
   ]
  },
  {
   "cell_type": "code",
   "execution_count": 1,
   "metadata": {},
   "outputs": [],
   "source": [
    "import sys\n",
    "sys.path.append('..')\n",
    "from cnn_common.util import *\n",
    "from tensorflow.keras import models\n",
    "from glob import glob\n",
    "from cnn_common.taucnn_models import three_chan_adapter\n",
    "from matplotlib import pyplot as plt"
   ]
  },
  {
   "cell_type": "code",
   "execution_count": 2,
   "metadata": {},
   "outputs": [],
   "source": [
    "import os\n",
    "os.environ['CUDA_VISIBLE_DEVICES'] = '1'"
   ]
  },
  {
   "cell_type": "code",
   "execution_count": 3,
   "metadata": {},
   "outputs": [],
   "source": [
    "input_adapter = three_chan_adapter"
   ]
  },
  {
   "cell_type": "code",
   "execution_count": 4,
   "metadata": {},
   "outputs": [],
   "source": [
    "norm_mode = 'whole_dataset'"
   ]
  },
  {
   "cell_type": "code",
   "execution_count": 5,
   "metadata": {},
   "outputs": [],
   "source": [
    "model_file_name = glob('*.h5')[0]"
   ]
  },
  {
   "cell_type": "code",
   "execution_count": 6,
   "metadata": {},
   "outputs": [
    {
     "name": "stdout",
     "output_type": "stream",
     "text": [
      "fan_in_200k_QSt2000_dataset_norm.h5\n"
     ]
    }
   ],
   "source": [
    "print(model_file_name)"
   ]
  },
  {
   "cell_type": "code",
   "execution_count": 7,
   "metadata": {},
   "outputs": [],
   "source": [
    "model = models.load_model(model_file_name)"
   ]
  },
  {
   "cell_type": "code",
   "execution_count": 8,
   "metadata": {},
   "outputs": [
    {
     "name": "stdout",
     "output_type": "stream",
     "text": [
      "Model: \"model\"\n",
      "__________________________________________________________________________________________________\n",
      "Layer (type)                    Output Shape         Param #     Connected to                     \n",
      "==================================================================================================\n",
      "input_1 (InputLayer)            [(None, 500, 60, 1)] 0                                            \n",
      "__________________________________________________________________________________________________\n",
      "input_2 (InputLayer)            [(None, 500, 60, 1)] 0                                            \n",
      "__________________________________________________________________________________________________\n",
      "input_3 (InputLayer)            [(None, 500, 60, 1)] 0                                            \n",
      "__________________________________________________________________________________________________\n",
      "convolutional_layers (Sequentia (None, 672)          318192      input_1[0][0]                    \n",
      "                                                                 input_2[0][0]                    \n",
      "                                                                 input_3[0][0]                    \n",
      "__________________________________________________________________________________________________\n",
      "concatenate (Concatenate)       (None, 2016)         0           convolutional_layers[1][0]       \n",
      "                                                                 convolutional_layers[2][0]       \n",
      "                                                                 convolutional_layers[3][0]       \n",
      "__________________________________________________________________________________________________\n",
      "dense_layers (Sequential)       (None, 1)            266881      concatenate[0][0]                \n",
      "==================================================================================================\n",
      "Total params: 585,073\n",
      "Trainable params: 584,689\n",
      "Non-trainable params: 384\n",
      "__________________________________________________________________________________________________\n"
     ]
    }
   ],
   "source": [
    "model.summary()"
   ]
  },
  {
   "cell_type": "code",
   "execution_count": 19,
   "metadata": {},
   "outputs": [],
   "source": [
    "e_files = glob('/gpfs/summit/home/abf5460/tauCNN/threeStringsQSt2000/NuE*')\n",
    "tau_files = glob('/gpfs/summit/home/abf5460/tauCNN/threeStringsQSt2000/NuTau*')"
   ]
  },
  {
   "cell_type": "code",
   "execution_count": 21,
   "metadata": {},
   "outputs": [
    {
     "name": "stdout",
     "output_type": "stream",
     "text": [
      "60 60\n"
     ]
    }
   ],
   "source": [
    "print(len(e_files),len(tau_files))"
   ]
  },
  {
   "cell_type": "code",
   "execution_count": 22,
   "metadata": {},
   "outputs": [],
   "source": [
    "n_files = [3, 3]"
   ]
  },
  {
   "cell_type": "code",
   "execution_count": 23,
   "metadata": {},
   "outputs": [
    {
     "name": "stdout",
     "output_type": "stream",
     "text": [
      "0.0012322452384978533\n",
      "0.009694634936749935\n"
     ]
    }
   ],
   "source": [
    "try:\n",
    "    with open('dataset_norm_stats.txt') as f:\n",
    "        mean = float(next(f).split()[-1])\n",
    "        std = float(next(f).split()[-1])\n",
    "except IOError:\n",
    "    mean = None\n",
    "    std = None\n",
    "        \n",
    "print(mean)\n",
    "print(std)"
   ]
  },
  {
   "cell_type": "code",
   "execution_count": 24,
   "metadata": {},
   "outputs": [
    {
     "name": "stdout",
     "output_type": "stream",
     "text": [
      "test_model_on_file: reading /gpfs/summit/home/abf5460/tauCNN/threeStringsQSt2000/NuEThreeStrings_Qtot1000_Qst400_8_6_data.npz\n",
      "test_model_on_file: reading /gpfs/summit/home/abf5460/tauCNN/threeStringsQSt2000/NuEThreeStrings_Qtot1000_Qst400_5_0_data.npz\n",
      "test_model_on_file: reading /gpfs/summit/home/abf5460/tauCNN/threeStringsQSt2000/NuEThreeStrings_Qtot1000_Qst400_6_5_data.npz\n",
      "test_model_on_file: reading /gpfs/summit/home/abf5460/tauCNN/threeStringsQSt2000/NuTauThreeStrings_Qtot1000_Qst400_8_6_data.npz\n",
      "test_model_on_file: reading /gpfs/summit/home/abf5460/tauCNN/threeStringsQSt2000/NuTauThreeStrings_Qtot1000_Qst400_4_7_data.npz\n",
      "test_model_on_file: reading /gpfs/summit/home/abf5460/tauCNN/threeStringsQSt2000/NuTauThreeStrings_Qtot1000_Qst400_4_0_data.npz\n",
      "CPU times: user 3min 52s, sys: 50.7 s, total: 4min 43s\n",
      "Wall time: 3min 55s\n"
     ]
    }
   ],
   "source": [
    "%%time\n",
    "tables = []\n",
    "for file_list in [e_files[-n_files[0]:], tau_files[-n_files[1]:]]:\n",
    "        tables.append(np.vstack([test_model_on_file(model, file, \n",
    "                                                    input_adapter=input_adapter,\n",
    "                                                    norm_mode=norm_mode, \n",
    "                                                    mean=mean, \n",
    "                                                    std=std,\n",
    "                                                    verbose=True) \n",
    "                                 for file in file_list]))"
   ]
  },
  {
   "cell_type": "code",
   "execution_count": 28,
   "metadata": {},
   "outputs": [
    {
     "name": "stdout",
     "output_type": "stream",
     "text": [
      "[[4.04946834e-01 7.18962164e+11 2.64615078e+04]\n",
      " [8.90689194e-02 2.05468467e+13 1.32546125e+05]\n",
      " [2.57892400e-01 3.52304786e+15 1.18826462e+06]\n",
      " ...\n",
      " [3.75569254e-01 6.55497363e+11 1.07349131e+04]\n",
      " [3.28498781e-01 1.11457430e+14 2.86315125e+05]\n",
      " [4.07290071e-01 5.05184551e+11 2.05704141e+04]]\n"
     ]
    }
   ],
   "source": [
    "print(tables[0])"
   ]
  },
  {
   "cell_type": "code",
   "execution_count": 25,
   "metadata": {},
   "outputs": [
    {
     "name": "stdout",
     "output_type": "stream",
     "text": [
      "38.016489954619836\n",
      "23.851005660222867\n"
     ]
    }
   ],
   "source": [
    "for table, n in zip(tables, n_files):\n",
    "    print(per_year_past_cut(table, 0, n))"
   ]
  },
  {
   "cell_type": "code",
   "execution_count": 29,
   "metadata": {},
   "outputs": [],
   "source": [
    "cuts = np.linspace(0.9, 1, 1001)\n",
    "n_over = []\n",
    "for cut in cuts:\n",
    "    n_over.append([per_year_past_cut(table, cut, n) for table, n in zip(tables, n_files)])\n",
    "n_e_over, n_tau_over = (np.array(l) for l in list(zip(*n_over)))"
   ]
  },
  {
   "cell_type": "code",
   "execution_count": 31,
   "metadata": {},
   "outputs": [
    {
     "name": "stdout",
     "output_type": "stream",
     "text": [
      "0.9688219817361508\n",
      "0.07280831077630551\n"
     ]
    }
   ],
   "source": [
    "pt_99 = np.argwhere(cuts>=0.90)[0][0]\n",
    "print(n_tau_over[pt_99])\n",
    "print(n_e_over[pt_99])"
   ]
  },
  {
   "cell_type": "code",
   "execution_count": 16,
   "metadata": {},
   "outputs": [
    {
     "name": "stdout",
     "output_type": "stream",
     "text": [
      "0.5358455832830338\n",
      "0.0011948868007143896\n",
      "0.989\n"
     ]
    }
   ],
   "source": [
    "ind = np.argwhere(n_tau_over < 0.536)[0][0]\n",
    "print(n_tau_over[ind])\n",
    "print(n_e_over[ind])\n",
    "print(cuts[ind])"
   ]
  },
  {
   "cell_type": "code",
   "execution_count": 17,
   "metadata": {},
   "outputs": [
    {
     "name": "stdout",
     "output_type": "stream",
     "text": [
      "0.778814873275708\n",
      "0.005113418505958002\n",
      "0.9732000000000001\n"
     ]
    }
   ],
   "source": [
    "ind = np.argwhere(n_e_over < 0.006)[0][0]\n",
    "print(n_tau_over[ind])\n",
    "print(n_e_over[ind])\n",
    "print(cuts[ind])"
   ]
  },
  {
   "cell_type": "code",
   "execution_count": 32,
   "metadata": {},
   "outputs": [
    {
     "data": {
      "text/plain": [
       "[<matplotlib.lines.Line2D at 0x7fff66f6ed50>]"
      ]
     },
     "execution_count": 32,
     "metadata": {},
     "output_type": "execute_result"
    },
    {
     "data": {
      "image/png": "[encoded data removed]",
      "text/plain": [
       "<Figure size 432x288 with 1 Axes>"
      ]
     },
     "metadata": {
      "needs_background": "light"
     },
     "output_type": "display_data"
    }
   ],
   "source": [
    "plt.plot(cuts, n_tau_over)\n",
    "plt.plot(cuts, n_e_over)"
   ]
  },
  {
   "cell_type": "code",
   "execution_count": 19,
   "metadata": {},
   "outputs": [
    {
     "name": "stdout",
     "output_type": "stream",
     "text": [
      "0.14971858413432915\n",
      "0.0\n"
     ]
    }
   ],
   "source": [
    "pt_999 = np.argwhere(cuts>0.999)[0][0]\n",
    "print(n_tau_over[pt_999])\n",
    "print(n_e_over[pt_999])"
   ]
  },
  {
   "cell_type": "code",
   "execution_count": 33,
   "metadata": {},
   "outputs": [
    {
     "data": {
      "text/plain": [
       "166.66666666666669"
      ]
     },
     "execution_count": 33,
     "metadata": {},
     "output_type": "execute_result"
    }
   ],
   "source": [
    "0.05/0.0003"
   ]
  },
  {
   "cell_type": "code",
   "execution_count": 34,
   "metadata": {},
   "outputs": [
    {
     "data": {
      "text/plain": [
       "600.0"
      ]
     },
     "execution_count": 34,
     "metadata": {},
     "output_type": "execute_result"
    }
   ],
   "source": [
    "0.3/0.0005"
   ]
  },
  {
   "cell_type": "code",
   "execution_count": 35,
   "metadata": {},
   "outputs": [],
   "source": [
    "ratio = n_tau_over / np.where(n_e_over > 0 , n_e_over, 1)"
   ]
  },
  {
   "cell_type": "code",
   "execution_count": 36,
   "metadata": {},
   "outputs": [
    {
     "data": {
      "text/plain": [
       "[<matplotlib.lines.Line2D at 0x7fff66edd790>]"
      ]
     },
     "execution_count": 36,
     "metadata": {},
     "output_type": "execute_result"
    },
    {
     "data": {
      "image/png": "[encoded data removed]",
      "text/plain": [
       "<Figure size 432x288 with 1 Axes>"
      ]
     },
     "metadata": {
      "needs_background": "light"
     },
     "output_type": "display_data"
    }
   ],
   "source": [
    "plt.plot(cuts, ratio)"
   ]
  },
  {
   "cell_type": "code",
   "execution_count": 24,
   "metadata": {},
   "outputs": [
    {
     "name": "stdout",
     "output_type": "stream",
     "text": [
      "0.44270963028373794\n",
      "8.019386486868522e-05\n",
      "0.9931\n"
     ]
    }
   ],
   "source": [
    "ind=np.argmax(ratio)\n",
    "print(n_tau_over[ind])\n",
    "print(n_e_over[ind])\n",
    "print(cuts[ind])"
   ]
  },
  {
   "cell_type": "code",
   "execution_count": null,
   "metadata": {},
   "outputs": [],
   "source": []
  }
 ],
 "metadata": {
  "kernelspec": {
   "display_name": "Python 3",
   "language": "python",
   "name": "python3"
  },
  "language_info": {
   "codemirror_mode": {
    "name": "ipython",
    "version": 3
   },
   "file_extension": ".py",
   "mimetype": "text/x-python",
   "name": "python",
   "nbconvert_exporter": "python",
   "pygments_lexer": "ipython3",
   "version": "3.7.7"
  }
 },
 "nbformat": 4,
 "nbformat_minor": 4
}
